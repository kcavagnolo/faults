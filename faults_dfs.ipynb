{
 "cells": [
  {
   "cell_type": "markdown",
   "metadata": {
    "toc": true
   },
   "source": [
    "<h1>Table of Contents<span class=\"tocSkip\"></span></h1>\n",
    "<div class=\"toc\"><ul class=\"toc-item\"><li><span><a href=\"#Notes\" data-toc-modified-id=\"Notes-1\"><span class=\"toc-item-num\">1&nbsp;&nbsp;</span>Notes</a></span></li><li><span><a href=\"#Setup\" data-toc-modified-id=\"Setup-2\"><span class=\"toc-item-num\">2&nbsp;&nbsp;</span>Setup</a></span><ul class=\"toc-item\"><li><span><a href=\"#Imports\" data-toc-modified-id=\"Imports-2.1\"><span class=\"toc-item-num\">2.1&nbsp;&nbsp;</span>Imports</a></span></li><li><span><a href=\"#Functions\" data-toc-modified-id=\"Functions-2.2\"><span class=\"toc-item-num\">2.2&nbsp;&nbsp;</span>Functions</a></span></li></ul></li><li><span><a href=\"#Data-Ingest\" data-toc-modified-id=\"Data-Ingest-3\"><span class=\"toc-item-num\">3&nbsp;&nbsp;</span>Data Ingest</a></span></li><li><span><a href=\"#EDA\" data-toc-modified-id=\"EDA-4\"><span class=\"toc-item-num\">4&nbsp;&nbsp;</span>EDA</a></span><ul class=\"toc-item\"><li><span><a href=\"#QA/QC\" data-toc-modified-id=\"QA/QC-4.1\"><span class=\"toc-item-num\">4.1&nbsp;&nbsp;</span>QA/QC</a></span></li><li><span><a href=\"#Classes\" data-toc-modified-id=\"Classes-4.2\"><span class=\"toc-item-num\">4.2&nbsp;&nbsp;</span>Classes</a></span></li><li><span><a href=\"#Date\" data-toc-modified-id=\"Date-4.3\"><span class=\"toc-item-num\">4.3&nbsp;&nbsp;</span>Date</a></span></li><li><span><a href=\"#Device\" data-toc-modified-id=\"Device-4.4\"><span class=\"toc-item-num\">4.4&nbsp;&nbsp;</span>Device</a></span></li><li><span><a href=\"#Trends\" data-toc-modified-id=\"Trends-4.5\"><span class=\"toc-item-num\">4.5&nbsp;&nbsp;</span>Trends</a></span></li><li><span><a href=\"#Correlations\" data-toc-modified-id=\"Correlations-4.6\"><span class=\"toc-item-num\">4.6&nbsp;&nbsp;</span>Correlations</a></span></li><li><span><a href=\"#Save\" data-toc-modified-id=\"Save-4.7\"><span class=\"toc-item-num\">4.7&nbsp;&nbsp;</span>Save</a></span></li></ul></li><li><span><a href=\"#Feature-Engineering\" data-toc-modified-id=\"Feature-Engineering-5\"><span class=\"toc-item-num\">5&nbsp;&nbsp;</span>Feature Engineering</a></span><ul class=\"toc-item\"><li><span><a href=\"#Cut-off-Times\" data-toc-modified-id=\"Cut-off-Times-5.1\"><span class=\"toc-item-num\">5.1&nbsp;&nbsp;</span>Cut-off Times</a></span></li><li><span><a href=\"#Entity-Creation\" data-toc-modified-id=\"Entity-Creation-5.2\"><span class=\"toc-item-num\">5.2&nbsp;&nbsp;</span>Entity Creation</a></span></li><li><span><a href=\"#Deep-Feature-Synthesis\" data-toc-modified-id=\"Deep-Feature-Synthesis-5.3\"><span class=\"toc-item-num\">5.3&nbsp;&nbsp;</span>Deep Feature Synthesis</a></span></li><li><span><a href=\"#QA\" data-toc-modified-id=\"QA-5.4\"><span class=\"toc-item-num\">5.4&nbsp;&nbsp;</span>QA</a></span></li></ul></li><li><span><a href=\"#Training-Data\" data-toc-modified-id=\"Training-Data-6\"><span class=\"toc-item-num\">6&nbsp;&nbsp;</span>Training Data</a></span></li><li><span><a href=\"#Modeling\" data-toc-modified-id=\"Modeling-7\"><span class=\"toc-item-num\">7&nbsp;&nbsp;</span>Modeling</a></span><ul class=\"toc-item\"><li><span><a href=\"#Data-Prep\" data-toc-modified-id=\"Data-Prep-7.1\"><span class=\"toc-item-num\">7.1&nbsp;&nbsp;</span>Data Prep</a></span></li><li><span><a href=\"#xgboost\" data-toc-modified-id=\"xgboost-7.2\"><span class=\"toc-item-num\">7.2&nbsp;&nbsp;</span>xgboost</a></span><ul class=\"toc-item\"><li><span><a href=\"#Naive-Model\" data-toc-modified-id=\"Naive-Model-7.2.1\"><span class=\"toc-item-num\">7.2.1&nbsp;&nbsp;</span>Naive Model</a></span></li><li><span><a href=\"#Tuned-Model\" data-toc-modified-id=\"Tuned-Model-7.2.2\"><span class=\"toc-item-num\">7.2.2&nbsp;&nbsp;</span>Tuned Model</a></span></li></ul></li><li><span><a href=\"#AutoML\" data-toc-modified-id=\"AutoML-7.3\"><span class=\"toc-item-num\">7.3&nbsp;&nbsp;</span>AutoML</a></span></li><li><span><a href=\"#Vanilla-FFNN\" data-toc-modified-id=\"Vanilla-FFNN-7.4\"><span class=\"toc-item-num\">7.4&nbsp;&nbsp;</span>Vanilla FFNN</a></span></li></ul></li><li><span><a href=\"#Scratch\" data-toc-modified-id=\"Scratch-8\"><span class=\"toc-item-num\">8&nbsp;&nbsp;</span>Scratch</a></span></li></ul></div>"
   ]
  },
  {
   "cell_type": "markdown",
   "metadata": {
    "heading_collapsed": true
   },
   "source": [
    "# Notes"
   ]
  },
  {
   "cell_type": "markdown",
   "metadata": {
    "hidden": true
   },
   "source": [
    "* Problem statment does not suggest device independence: these could be networked or interdependent systems, e.g. ordering.\n",
    "* Failure class is HEAVILY imbalanced; modeling is prone to finding local optima that explain the majority class.\n",
    "* [During failure, attributes 2, 4, 7, and 8 report much higher values than normal. This is not true of 1, 3, 5, 6, and 9](#failhard)\n",
    "* [a1 and a6 are very unique](#uniqueness)\n",
    "* [No duplicate data and no missing values](#missing)\n",
    "* [Events may have natural ordering that needs to be preserved](#ordered)\n",
    "* [Devices appear to come in types/classes](#deviceclasses)\n",
    "* Attributes look to be aggregates except for a1\n",
    "* [a2 & a4 ramp-up before failure, and looks like a7 spikes quickly too](#correlation)\n",
    "* Some devices go through \"servicing\" where aggregate value drops\n",
    "* [a3 & a9 are weakly positively correlated](#correlation)\n",
    "* [a7 & a8 are perfectly positively correlated... because they are identical](#a7a8)\n",
    "* [a7 appears to be critical in predicting failure in a naive model](#naivemodel)"
   ]
  },
  {
   "cell_type": "markdown",
   "metadata": {},
   "source": [
    "# Setup"
   ]
  },
  {
   "cell_type": "markdown",
   "metadata": {
    "heading_collapsed": true
   },
   "source": [
    "## Imports"
   ]
  },
  {
   "cell_type": "code",
   "execution_count": 152,
   "metadata": {
    "ExecuteTime": {
     "end_time": "2018-08-01T12:53:38.425584Z",
     "start_time": "2018-08-01T12:53:37.704781Z"
    },
    "hidden": true
   },
   "outputs": [
    {
     "name": "stdout",
     "output_type": "stream",
     "text": [
      "The autoreload extension is already loaded. To reload it, use:\n",
      "  %reload_ext autoreload\n"
     ]
    }
   ],
   "source": [
    "# mute warnings\n",
    "import warnings\n",
    "warnings.filterwarnings('ignore')\n",
    "\n",
    "# science\n",
    "import scipy as sp\n",
    "import numpy as np\n",
    "import pandas as pd\n",
    "import featuretools as ft\n",
    "import xgboost as xgb\n",
    "from sklearn import model_selection\n",
    "from sklearn import preprocessing\n",
    "from sklearn import metrics\n",
    "from sklearn.model_selection import StratifiedKFold\n",
    "import h2o\n",
    "from h2o.automl import H2OAutoML\n",
    "\n",
    "# system\n",
    "import random\n",
    "import hashlib\n",
    "import pickle\n",
    "import tempfile\n",
    "import time\n",
    "\n",
    "# visuals\n",
    "import seaborn as sns\n",
    "import matplotlib as mpl\n",
    "import matplotlib.pyplot as plt\n",
    "from matplotlib.pylab import rcParams\n",
    "from IPython import display\n",
    "\n",
    "# options\n",
    "%matplotlib inline\n",
    "rcParams['figure.figsize'] = 15, 6\n",
    "sns.set_style('whitegrid')\n",
    "sns.set_context('notebook')\n",
    "sns_cmap = sns.diverging_palette(10, 220, sep=80, n=5)\n",
    "pd.set_option('display.max_colwidth', -1)\n",
    "\n",
    "# in case nb needs to be re-run\n",
    "try:\n",
    "    %load_ext autoreload\n",
    "except:\n",
    "    %reload_ext autoreload\n",
    "%autoreload 2"
   ]
  },
  {
   "cell_type": "markdown",
   "metadata": {
    "heading_collapsed": true
   },
   "source": [
    "## Functions"
   ]
  },
  {
   "cell_type": "code",
   "execution_count": 2,
   "metadata": {
    "ExecuteTime": {
     "end_time": "2018-08-01T12:53:38.440834Z",
     "start_time": "2018-08-01T12:53:38.426995Z"
    },
    "hidden": true
   },
   "outputs": [],
   "source": [
    "def load_data(filename):\n",
    "    '''\n",
    "    Load a generic CSV file into a pandas dataframe\n",
    "    '''\n",
    "    df = pd.read_csv(filename, escapechar='\\\\', encoding='utf-8')\n",
    "    df['uuid'] = df.apply(lambda x: hashlib.md5(str(x.values).encode('utf-8')).hexdigest(), axis=1)\n",
    "    assert sum(df.set_index('uuid').index.duplicated()) == 0, 'Error loading data: Hash collision; duplicate data'\n",
    "    return df"
   ]
  },
  {
   "cell_type": "code",
   "execution_count": 3,
   "metadata": {
    "ExecuteTime": {
     "end_time": "2018-08-01T12:53:38.455353Z",
     "start_time": "2018-08-01T12:53:38.442127Z"
    },
    "hidden": true
   },
   "outputs": [],
   "source": [
    "def calculate_nan_values(orig_df):\n",
    "    '''\n",
    "    Parse a dataframe and report nan summary by column\n",
    "    '''\n",
    "    df = orig_df.copy()\n",
    "    df = df.isna().sum(axis=0).reset_index()\n",
    "    df.columns = ['column_name', 'na_count']\n",
    "    df['na_ratio'] = df['na_count'] / orig_df.shape[0]\n",
    "    df = df.loc[df['na_ratio'] > 0]\n",
    "    df = df.sort_values(by='na_ratio')\n",
    "    return df"
   ]
  },
  {
   "cell_type": "code",
   "execution_count": 4,
   "metadata": {
    "ExecuteTime": {
     "end_time": "2018-08-01T12:53:38.470310Z",
     "start_time": "2018-08-01T12:53:38.456666Z"
    },
    "hidden": true
   },
   "outputs": [],
   "source": [
    "def calculate_null_values(orig_df):\n",
    "    '''\n",
    "    Parse a dataframe and report null summary by column\n",
    "    '''\n",
    "    df = orig_df.copy()\n",
    "    df = df.isnull().sum(axis=0).reset_index()\n",
    "    df.columns = ['column_name', 'null_count']\n",
    "    df['null_ratio'] = df['null_count'] / orig_df.shape[0]\n",
    "    df = df.loc[df['null_ratio'] > 0]\n",
    "    df = df.sort_values(by='null_ratio')\n",
    "    return df"
   ]
  },
  {
   "cell_type": "code",
   "execution_count": 5,
   "metadata": {
    "ExecuteTime": {
     "end_time": "2018-08-01T12:53:38.827354Z",
     "start_time": "2018-08-01T12:53:38.809930Z"
    },
    "hidden": true
   },
   "outputs": [],
   "source": [
    "def value_limits(df, field, upper_bound=99, lower_bound=1):\n",
    "    '''\n",
    "    Find upper and lower percentile limits for a dataframe and field\n",
    "    '''\n",
    "    upper_limit = np.percentile(df[field].values, upper_bound)\n",
    "    lower_limit = np.percentile(df[field].values, lower_bound)\n",
    "    return upper_limit, lower_limit"
   ]
  },
  {
   "cell_type": "code",
   "execution_count": 6,
   "metadata": {
    "ExecuteTime": {
     "end_time": "2018-08-01T12:53:39.000747Z",
     "start_time": "2018-08-01T12:53:38.982048Z"
    },
    "hidden": true
   },
   "outputs": [],
   "source": [
    "def visualize_correlations(df, fields):\n",
    "    '''\n",
    "    Simplify the process of looking at a simple all-v-all correlation\n",
    "    '''\n",
    "\n",
    "    # keep a copy\n",
    "    df = df.copy()\n",
    "\n",
    "    # correlation coefficient of each column\n",
    "    for field in fields:\n",
    "        x_cols = [col for col in df.columns\n",
    "                  if col != field and (df[col].dtype=='float64' or df[col].dtype=='int64')]\n",
    "        labels = []\n",
    "        values = []\n",
    "        for col in x_cols:\n",
    "            labels.append(col)\n",
    "            values.append(\n",
    "                np.corrcoef(df[col].values, df[field].values)[0, 1])\n",
    "\n",
    "        # create dataframe for corr coeffs\n",
    "        corr_df = pd.DataFrame({'col_labels': labels, 'corr_values': values})\n",
    "        corr_df = corr_df.sort_values(by='corr_values')\n",
    "\n",
    "        ind = np.arange(len(labels))\n",
    "        fig, ax = plt.subplots(figsize=(12, 4))\n",
    "        rects = ax.barh(ind, np.array(corr_df.corr_values.values), color='y')\n",
    "        ax.set_yticks(ind)\n",
    "        ax.set_yticklabels(corr_df.col_labels.values, rotation='horizontal')\n",
    "        ax.set_xlabel('correlation coefficient')\n",
    "        ax.set_title('Correlations with {}'.format(field))\n",
    "        ax.set_xlim(-1, 1)\n",
    "        plt.show()"
   ]
  },
  {
   "cell_type": "code",
   "execution_count": 7,
   "metadata": {
    "ExecuteTime": {
     "end_time": "2018-08-01T12:53:39.156967Z",
     "start_time": "2018-08-01T12:53:39.139348Z"
    },
    "hidden": true
   },
   "outputs": [],
   "source": [
    "def visualize_values(df, fields):\n",
    "    '''\n",
    "    Simplify the process of looking at a fields values\n",
    "    '''\n",
    "    \n",
    "    # keep a copy\n",
    "    df = df.copy()\n",
    "\n",
    "    # iterate over fields\n",
    "    for field in fields:\n",
    "\n",
    "        # get limits of data\n",
    "        ulimit, llimit = value_limits(df, field)\n",
    "        print('###################')\n",
    "        print('Working on field {}'.format(field))\n",
    "        print('Upper limit: {:.3f}'.format(ulimit))\n",
    "        print('Lower limit: {:.3f}'.format(llimit))\n",
    "\n",
    "        # plot the ordered values for field\n",
    "        plt.figure(figsize=(12, 8))\n",
    "        plt.scatter(range(df.shape[0]), np.sort(df[field].values))\n",
    "        plt.xlabel('index', fontsize=12)\n",
    "        plt.ylabel(field, fontsize=12)\n",
    "        plt.show()\n",
    "\n",
    "        # plot histo of values\n",
    "        sns.distplot(df[field].values, bins=50, kde=True, norm_hist=True)\n",
    "        plt.xlabel(field, fontsize=12)\n",
    "        plt.show()"
   ]
  },
  {
   "cell_type": "code",
   "execution_count": 8,
   "metadata": {
    "ExecuteTime": {
     "end_time": "2018-08-01T12:53:39.305286Z",
     "start_time": "2018-08-01T12:53:39.291837Z"
    },
    "hidden": true
   },
   "outputs": [],
   "source": [
    "def save_hdf5(df, hdf_file, table_name, format=None):\n",
    "    '''\n",
    "    Save a pandas dataframe as compressed HDF5\n",
    "    '''\n",
    "    if format is not None:\n",
    "        df.to_hdf(\n",
    "            hdf_file,\n",
    "            table_name,\n",
    "            mode='w',\n",
    "            format=format,\n",
    "            data_columns=True,\n",
    "            complevel=9,\n",
    "            complib='blosc:lz4')\n",
    "    else:\n",
    "        df.to_hdf(\n",
    "            hdf_file,\n",
    "            table_name,\n",
    "            mode='w',\n",
    "            data_columns=True,\n",
    "            complevel=9,\n",
    "            complib='blosc:lz4')"
   ]
  },
  {
   "cell_type": "code",
   "execution_count": 9,
   "metadata": {
    "ExecuteTime": {
     "end_time": "2018-08-01T13:53:27.005967Z",
     "start_time": "2018-08-01T13:53:26.990080Z"
    },
    "hidden": true
   },
   "outputs": [],
   "source": [
    "def train_xgb_model(X_train, y_train, params, kfolds=10, random_seed=7):\n",
    "    '''\n",
    "    Wrapper for fitting an xgb model with k-fold cv\n",
    "    '''\n",
    "\n",
    "    # setup\n",
    "    random.seed(random_seed)\n",
    "    np.random.seed(random_seed)\n",
    "\n",
    "    # isolate train features\n",
    "    X_train = X_train.values\n",
    "    y_train = y_train.astype(int).values\n",
    "    \n",
    "    # stratified k-fold\n",
    "    skf = StratifiedKFold(n_splits=kfolds, random_state=42, shuffle=False)\n",
    "    best_score = 0\n",
    "    best_model = None\n",
    "    for i, (train_index, cv_index) in enumerate(skf.split(X_train, y_train)):\n",
    "        print('Working on k-fold {}...'.format(i))\n",
    "        \n",
    "        # split data\n",
    "        print('Splitting data')\n",
    "        X_ktrain, X_kcv = X_train[train_index], X_train[cv_index]\n",
    "        y_ktrain, y_kcv = y_train[train_index], y_train[cv_index]\n",
    "        \n",
    "        # Convert our data into XGBoost format\n",
    "        print('Converting data to xgb format')        \n",
    "        d_train = xgb.DMatrix(X_ktrain, label=y_ktrain, feature_names=feature_names)\n",
    "        d_cv    = xgb.DMatrix(X_kcv, label=y_kcv, feature_names=feature_names)\n",
    "        watchlist = [(d_train, 'train'), (d_cv, 'cv')]\n",
    "\n",
    "        # train the model\n",
    "        print('Modeling')\n",
    "        model = xgb.train(params, d_train, num_boost_round=3000,\n",
    "                          evals=watchlist, #feval=cohen_kappa_scorer,\n",
    "                          early_stopping_rounds=300, verbose_eval=200)\n",
    "        if model.best_score > best_score:\n",
    "            best_score = model.best_score\n",
    "            best_model = model\n",
    "            model.save_model('xgboost_tuned.model')\n",
    "        print('Done.')\n",
    "    \n",
    "    # testing\n",
    "    return best_model"
   ]
  },
  {
   "cell_type": "code",
   "execution_count": 10,
   "metadata": {
    "hidden": true
   },
   "outputs": [],
   "source": [
    "def cohen_kappa_scorer(preds, dmatrix):\n",
    "    '''\n",
    "    Stub for Cohen's Kappa as scoring metric for xgb\n",
    "    '''\n",
    "    y = dmatrix.get_label()\n",
    "    cohen_kappa_score(preds, y)\n",
    "    return 'kappa', score"
   ]
  },
  {
   "cell_type": "code",
   "execution_count": 11,
   "metadata": {
    "ExecuteTime": {
     "end_time": "2018-08-01T12:53:40.739426Z",
     "start_time": "2018-08-01T12:53:40.722111Z"
    },
    "hidden": true
   },
   "outputs": [],
   "source": [
    "def sensitivity(y_test, y_pred):\n",
    "    '''\n",
    "    Stub for a recall scorer for Keras\n",
    "    Inspired by: http://www.deepideas.net/unbalanced-classes-machine-learning/ \n",
    "    '''\n",
    "    true_positives = K.sum(K.round(K.clip(y_test * y_pred, 0, 1)))\n",
    "    possible_positives = K.sum(K.round(K.clip(y_test, 0, 1)))\n",
    "    return true_positives / (possible_positives + K.epsilon())"
   ]
  },
  {
   "cell_type": "code",
   "execution_count": 12,
   "metadata": {
    "ExecuteTime": {
     "end_time": "2018-08-01T12:53:40.907194Z",
     "start_time": "2018-08-01T12:53:40.893183Z"
    },
    "hidden": true
   },
   "outputs": [],
   "source": [
    "def specificity(y_test, y_pred):\n",
    "    '''\n",
    "    Stub for a precision scorer for Keras\n",
    "    Inspired by: http://www.deepideas.net/unbalanced-classes-machine-learning/\n",
    "    '''\n",
    "    true_negatives = K.sum(K.round(K.clip((1-y_test) * (1-y_pred), 0, 1)))\n",
    "    possible_negatives = K.sum(K.round(K.clip(1-y_test, 0, 1)))\n",
    "    return true_negatives / (possible_negatives + K.epsilon())"
   ]
  },
  {
   "cell_type": "markdown",
   "metadata": {
    "heading_collapsed": true
   },
   "source": [
    "# Data Ingest"
   ]
  },
  {
   "cell_type": "code",
   "execution_count": 19,
   "metadata": {
    "ExecuteTime": {
     "end_time": "2018-08-01T11:27:50.545295Z",
     "start_time": "2018-08-01T11:27:45.836775Z"
    },
    "hidden": true
   },
   "outputs": [],
   "source": [
    "# load data\n",
    "faults_df = load_data(\"device_failure.csv\")"
   ]
  },
  {
   "cell_type": "code",
   "execution_count": 20,
   "metadata": {
    "ExecuteTime": {
     "end_time": "2018-08-01T11:27:50.571847Z",
     "start_time": "2018-08-01T11:27:50.546862Z"
    },
    "hidden": true,
    "scrolled": true
   },
   "outputs": [
    {
     "data": {
      "text/html": [
       "<div>\n",
       "<style scoped>\n",
       "    .dataframe tbody tr th:only-of-type {\n",
       "        vertical-align: middle;\n",
       "    }\n",
       "\n",
       "    .dataframe tbody tr th {\n",
       "        vertical-align: top;\n",
       "    }\n",
       "\n",
       "    .dataframe thead th {\n",
       "        text-align: right;\n",
       "    }\n",
       "</style>\n",
       "<table border=\"1\" class=\"dataframe\">\n",
       "  <thead>\n",
       "    <tr style=\"text-align: right;\">\n",
       "      <th></th>\n",
       "      <th>date</th>\n",
       "      <th>device</th>\n",
       "      <th>attribute1</th>\n",
       "      <th>attribute2</th>\n",
       "      <th>attribute3</th>\n",
       "      <th>attribute4</th>\n",
       "      <th>attribute5</th>\n",
       "      <th>attribute6</th>\n",
       "      <th>attribute7</th>\n",
       "      <th>attribute8</th>\n",
       "      <th>attribute9</th>\n",
       "      <th>failure</th>\n",
       "      <th>uuid</th>\n",
       "    </tr>\n",
       "  </thead>\n",
       "  <tbody>\n",
       "    <tr>\n",
       "      <th>0</th>\n",
       "      <td>15001</td>\n",
       "      <td>S1F01085</td>\n",
       "      <td>215630672</td>\n",
       "      <td>56</td>\n",
       "      <td>0</td>\n",
       "      <td>52</td>\n",
       "      <td>6</td>\n",
       "      <td>407438</td>\n",
       "      <td>0</td>\n",
       "      <td>0</td>\n",
       "      <td>7</td>\n",
       "      <td>0</td>\n",
       "      <td>5646eb712abba53b99fd8b8152c8f503</td>\n",
       "    </tr>\n",
       "    <tr>\n",
       "      <th>1</th>\n",
       "      <td>15001</td>\n",
       "      <td>S1F0166B</td>\n",
       "      <td>61370680</td>\n",
       "      <td>0</td>\n",
       "      <td>3</td>\n",
       "      <td>0</td>\n",
       "      <td>6</td>\n",
       "      <td>403174</td>\n",
       "      <td>0</td>\n",
       "      <td>0</td>\n",
       "      <td>0</td>\n",
       "      <td>0</td>\n",
       "      <td>4eff5953a2d3610d43197ada2ea8002d</td>\n",
       "    </tr>\n",
       "    <tr>\n",
       "      <th>2</th>\n",
       "      <td>15001</td>\n",
       "      <td>S1F01E6Y</td>\n",
       "      <td>173295968</td>\n",
       "      <td>0</td>\n",
       "      <td>0</td>\n",
       "      <td>0</td>\n",
       "      <td>12</td>\n",
       "      <td>237394</td>\n",
       "      <td>0</td>\n",
       "      <td>0</td>\n",
       "      <td>0</td>\n",
       "      <td>0</td>\n",
       "      <td>f9b3e1204591b513e0f1aa53abd65dd9</td>\n",
       "    </tr>\n",
       "    <tr>\n",
       "      <th>3</th>\n",
       "      <td>15001</td>\n",
       "      <td>S1F01JE0</td>\n",
       "      <td>79694024</td>\n",
       "      <td>0</td>\n",
       "      <td>0</td>\n",
       "      <td>0</td>\n",
       "      <td>6</td>\n",
       "      <td>410186</td>\n",
       "      <td>0</td>\n",
       "      <td>0</td>\n",
       "      <td>0</td>\n",
       "      <td>0</td>\n",
       "      <td>4c5c11b2f5e33fc3626c669b3ecb45d3</td>\n",
       "    </tr>\n",
       "    <tr>\n",
       "      <th>4</th>\n",
       "      <td>15001</td>\n",
       "      <td>S1F01R2B</td>\n",
       "      <td>135970480</td>\n",
       "      <td>0</td>\n",
       "      <td>0</td>\n",
       "      <td>0</td>\n",
       "      <td>15</td>\n",
       "      <td>313173</td>\n",
       "      <td>0</td>\n",
       "      <td>0</td>\n",
       "      <td>3</td>\n",
       "      <td>0</td>\n",
       "      <td>a742b325beb173c3827e77ade95c157d</td>\n",
       "    </tr>\n",
       "  </tbody>\n",
       "</table>\n",
       "</div>"
      ],
      "text/plain": [
       "    date    device  attribute1  attribute2  attribute3  attribute4  \\\n",
       "0  15001  S1F01085  215630672   56          0           52           \n",
       "1  15001  S1F0166B  61370680    0           3           0            \n",
       "2  15001  S1F01E6Y  173295968   0           0           0            \n",
       "3  15001  S1F01JE0  79694024    0           0           0            \n",
       "4  15001  S1F01R2B  135970480   0           0           0            \n",
       "\n",
       "   attribute5  attribute6  attribute7  attribute8  attribute9  failure  \\\n",
       "0  6           407438      0           0           7           0         \n",
       "1  6           403174      0           0           0           0         \n",
       "2  12          237394      0           0           0           0         \n",
       "3  6           410186      0           0           0           0         \n",
       "4  15          313173      0           0           3           0         \n",
       "\n",
       "                               uuid  \n",
       "0  5646eb712abba53b99fd8b8152c8f503  \n",
       "1  4eff5953a2d3610d43197ada2ea8002d  \n",
       "2  f9b3e1204591b513e0f1aa53abd65dd9  \n",
       "3  4c5c11b2f5e33fc3626c669b3ecb45d3  \n",
       "4  a742b325beb173c3827e77ade95c157d  "
      ]
     },
     "execution_count": 20,
     "metadata": {},
     "output_type": "execute_result"
    }
   ],
   "source": [
    "# see a sample\n",
    "faults_df.head()"
   ]
  },
  {
   "cell_type": "code",
   "execution_count": 21,
   "metadata": {
    "ExecuteTime": {
     "end_time": "2018-08-01T11:27:50.586059Z",
     "start_time": "2018-08-01T11:27:50.573185Z"
    },
    "hidden": true
   },
   "outputs": [],
   "source": [
    "# rename columns for less typing\n",
    "faults_df.columns = faults_df.columns.str.replace(\"attribute\", \"a\")"
   ]
  },
  {
   "cell_type": "code",
   "execution_count": 22,
   "metadata": {
    "ExecuteTime": {
     "end_time": "2018-08-01T11:27:50.711940Z",
     "start_time": "2018-08-01T11:27:50.587375Z"
    },
    "hidden": true
   },
   "outputs": [
    {
     "name": "stdout",
     "output_type": "stream",
     "text": [
      "date,device,attribute1,attribute2,attribute3,attribute4,attribute5,attribute6,attribute7,attribute8,attribute9,failure\r",
      "\r\n",
      "15001,S1F01085,215630672,56,0,52,6,407438,0,0,7,0\r",
      "\r\n",
      "15001,S1F0166B,61370680,0,3,0,6,403174,0,0,0,0\r",
      "\r\n",
      "15001,S1F01E6Y,173295968,0,0,0,12,237394,0,0,0,0\r",
      "\r\n",
      "15001,S1F01JE0,79694024,0,0,0,6,410186,0,0,0,0\r",
      "\r\n",
      "15001,S1F01R2B,135970480,0,0,0,15,313173,0,0,3,0\r",
      "\r\n",
      "15001,S1F01TD5,68837488,0,0,41,6,413535,0,0,1,0\r",
      "\r\n",
      "15001,S1F01XDJ,227721632,0,0,0,8,402525,0,0,0,0\r",
      "\r\n",
      "15001,S1F023H2,141503600,0,0,1,19,494462,16,16,3,0\r",
      "\r\n",
      "15001,S1F02A0J,8217840,0,1,0,14,311869,0,0,0,0\r",
      "\r\n"
     ]
    }
   ],
   "source": [
    "# odd date format, did load reformat?\n",
    "!head device_failure.csv"
   ]
  },
  {
   "cell_type": "code",
   "execution_count": 23,
   "metadata": {
    "ExecuteTime": {
     "end_time": "2018-08-01T11:27:50.833451Z",
     "start_time": "2018-08-01T11:27:50.713517Z"
    },
    "hidden": true
   },
   "outputs": [
    {
     "data": {
      "text/html": [
       "<div>\n",
       "<style scoped>\n",
       "    .dataframe tbody tr th:only-of-type {\n",
       "        vertical-align: middle;\n",
       "    }\n",
       "\n",
       "    .dataframe tbody tr th {\n",
       "        vertical-align: top;\n",
       "    }\n",
       "\n",
       "    .dataframe thead th {\n",
       "        text-align: right;\n",
       "    }\n",
       "</style>\n",
       "<table border=\"1\" class=\"dataframe\">\n",
       "  <thead>\n",
       "    <tr style=\"text-align: right;\">\n",
       "      <th></th>\n",
       "      <th>date</th>\n",
       "      <th>a1</th>\n",
       "      <th>a2</th>\n",
       "      <th>a3</th>\n",
       "      <th>a4</th>\n",
       "      <th>a5</th>\n",
       "      <th>a6</th>\n",
       "      <th>a7</th>\n",
       "      <th>a8</th>\n",
       "      <th>a9</th>\n",
       "      <th>failure</th>\n",
       "    </tr>\n",
       "  </thead>\n",
       "  <tbody>\n",
       "    <tr>\n",
       "      <th>count</th>\n",
       "      <td>124494.000000</td>\n",
       "      <td>1.244940e+05</td>\n",
       "      <td>124494.000000</td>\n",
       "      <td>124494.000000</td>\n",
       "      <td>124494.000000</td>\n",
       "      <td>124494.000000</td>\n",
       "      <td>124494.000000</td>\n",
       "      <td>124494.000000</td>\n",
       "      <td>124494.000000</td>\n",
       "      <td>124494.000000</td>\n",
       "      <td>124494.000000</td>\n",
       "    </tr>\n",
       "    <tr>\n",
       "      <th>mean</th>\n",
       "      <td>15106.222798</td>\n",
       "      <td>1.223868e+08</td>\n",
       "      <td>159.484762</td>\n",
       "      <td>9.940455</td>\n",
       "      <td>1.741120</td>\n",
       "      <td>14.222693</td>\n",
       "      <td>260172.858025</td>\n",
       "      <td>0.292528</td>\n",
       "      <td>0.292528</td>\n",
       "      <td>12.451524</td>\n",
       "      <td>0.000851</td>\n",
       "    </tr>\n",
       "    <tr>\n",
       "      <th>std</th>\n",
       "      <td>78.412061</td>\n",
       "      <td>7.045960e+07</td>\n",
       "      <td>2179.657730</td>\n",
       "      <td>185.747321</td>\n",
       "      <td>22.908507</td>\n",
       "      <td>15.943021</td>\n",
       "      <td>99151.009852</td>\n",
       "      <td>7.436924</td>\n",
       "      <td>7.436924</td>\n",
       "      <td>191.425623</td>\n",
       "      <td>0.029167</td>\n",
       "    </tr>\n",
       "    <tr>\n",
       "      <th>min</th>\n",
       "      <td>15001.000000</td>\n",
       "      <td>0.000000e+00</td>\n",
       "      <td>0.000000</td>\n",
       "      <td>0.000000</td>\n",
       "      <td>0.000000</td>\n",
       "      <td>1.000000</td>\n",
       "      <td>8.000000</td>\n",
       "      <td>0.000000</td>\n",
       "      <td>0.000000</td>\n",
       "      <td>0.000000</td>\n",
       "      <td>0.000000</td>\n",
       "    </tr>\n",
       "    <tr>\n",
       "      <th>25%</th>\n",
       "      <td>15040.000000</td>\n",
       "      <td>6.127675e+07</td>\n",
       "      <td>0.000000</td>\n",
       "      <td>0.000000</td>\n",
       "      <td>0.000000</td>\n",
       "      <td>8.000000</td>\n",
       "      <td>221452.000000</td>\n",
       "      <td>0.000000</td>\n",
       "      <td>0.000000</td>\n",
       "      <td>0.000000</td>\n",
       "      <td>0.000000</td>\n",
       "    </tr>\n",
       "    <tr>\n",
       "      <th>50%</th>\n",
       "      <td>15086.000000</td>\n",
       "      <td>1.227957e+08</td>\n",
       "      <td>0.000000</td>\n",
       "      <td>0.000000</td>\n",
       "      <td>0.000000</td>\n",
       "      <td>10.000000</td>\n",
       "      <td>249799.500000</td>\n",
       "      <td>0.000000</td>\n",
       "      <td>0.000000</td>\n",
       "      <td>0.000000</td>\n",
       "      <td>0.000000</td>\n",
       "    </tr>\n",
       "    <tr>\n",
       "      <th>75%</th>\n",
       "      <td>15168.000000</td>\n",
       "      <td>1.833084e+08</td>\n",
       "      <td>0.000000</td>\n",
       "      <td>0.000000</td>\n",
       "      <td>0.000000</td>\n",
       "      <td>12.000000</td>\n",
       "      <td>310266.000000</td>\n",
       "      <td>0.000000</td>\n",
       "      <td>0.000000</td>\n",
       "      <td>0.000000</td>\n",
       "      <td>0.000000</td>\n",
       "    </tr>\n",
       "    <tr>\n",
       "      <th>max</th>\n",
       "      <td>15306.000000</td>\n",
       "      <td>2.441405e+08</td>\n",
       "      <td>64968.000000</td>\n",
       "      <td>24929.000000</td>\n",
       "      <td>1666.000000</td>\n",
       "      <td>98.000000</td>\n",
       "      <td>689161.000000</td>\n",
       "      <td>832.000000</td>\n",
       "      <td>832.000000</td>\n",
       "      <td>18701.000000</td>\n",
       "      <td>1.000000</td>\n",
       "    </tr>\n",
       "  </tbody>\n",
       "</table>\n",
       "</div>"
      ],
      "text/plain": [
       "                date            a1             a2             a3  \\\n",
       "count  124494.000000  1.244940e+05  124494.000000  124494.000000   \n",
       "mean   15106.222798   1.223868e+08  159.484762     9.940455        \n",
       "std    78.412061      7.045960e+07  2179.657730    185.747321      \n",
       "min    15001.000000   0.000000e+00  0.000000       0.000000        \n",
       "25%    15040.000000   6.127675e+07  0.000000       0.000000        \n",
       "50%    15086.000000   1.227957e+08  0.000000       0.000000        \n",
       "75%    15168.000000   1.833084e+08  0.000000       0.000000        \n",
       "max    15306.000000   2.441405e+08  64968.000000   24929.000000    \n",
       "\n",
       "                  a4             a5             a6             a7  \\\n",
       "count  124494.000000  124494.000000  124494.000000  124494.000000   \n",
       "mean   1.741120       14.222693      260172.858025  0.292528        \n",
       "std    22.908507      15.943021      99151.009852   7.436924        \n",
       "min    0.000000       1.000000       8.000000       0.000000        \n",
       "25%    0.000000       8.000000       221452.000000  0.000000        \n",
       "50%    0.000000       10.000000      249799.500000  0.000000        \n",
       "75%    0.000000       12.000000      310266.000000  0.000000        \n",
       "max    1666.000000    98.000000      689161.000000  832.000000      \n",
       "\n",
       "                  a8             a9        failure  \n",
       "count  124494.000000  124494.000000  124494.000000  \n",
       "mean   0.292528       12.451524      0.000851       \n",
       "std    7.436924       191.425623     0.029167       \n",
       "min    0.000000       0.000000       0.000000       \n",
       "25%    0.000000       0.000000       0.000000       \n",
       "50%    0.000000       0.000000       0.000000       \n",
       "75%    0.000000       0.000000       0.000000       \n",
       "max    832.000000     18701.000000   1.000000       "
      ]
     },
     "execution_count": 23,
     "metadata": {},
     "output_type": "execute_result"
    }
   ],
   "source": [
    "# basic summary for any obvious weirdness\n",
    "faults_df.describe()"
   ]
  },
  {
   "cell_type": "markdown",
   "metadata": {
    "hidden": true
   },
   "source": [
    "This data set appears to have attributes that are either \"codes\" or aggregates. The min/max and stddev for each is large, so there's a spread. If these are codes, one-hot encoding will be... tough."
   ]
  },
  {
   "cell_type": "markdown",
   "metadata": {
    "heading_collapsed": true
   },
   "source": [
    "# EDA"
   ]
  },
  {
   "cell_type": "markdown",
   "metadata": {
    "heading_collapsed": true,
    "hidden": true
   },
   "source": [
    "## QA/QC"
   ]
  },
  {
   "cell_type": "code",
   "execution_count": null,
   "metadata": {
    "ExecuteTime": {
     "end_time": "2018-08-01T11:27:53.478725Z",
     "start_time": "2018-08-01T11:27:53.363224Z"
    },
    "hidden": true
   },
   "outputs": [],
   "source": [
    "# double-check problem statement, one device per day?\n",
    "check = faults_df.date.astype(str) + faults_df.device.astype(str)\n",
    "assert len(check) == len(check.drop_duplicates()), 'More than one device per day'"
   ]
  },
  {
   "cell_type": "code",
   "execution_count": null,
   "metadata": {
    "ExecuteTime": {
     "end_time": "2018-08-01T11:27:53.597371Z",
     "start_time": "2018-08-01T11:27:53.574542Z"
    },
    "hidden": true,
    "scrolled": false
   },
   "outputs": [],
   "source": [
    "# inspect data types\n",
    "dtype_df = faults_df.dtypes.reset_index()\n",
    "dtype_df.columns = [\"Count\", \"Column Type\"]\n",
    "dtype_df"
   ]
  },
  {
   "cell_type": "code",
   "execution_count": null,
   "metadata": {
    "ExecuteTime": {
     "end_time": "2018-08-01T11:27:55.220643Z",
     "start_time": "2018-08-01T11:27:55.012770Z"
    },
    "hidden": true
   },
   "outputs": [],
   "source": [
    "# inspect uniqueness\n",
    "uniqueness_df = pd.DataFrame(faults_df.nunique()).reset_index()\n",
    "uniqueness_df.columns = [\"column\", \"num_unique\"]\n",
    "uniqueness_df['perc_unique'] = uniqueness_df.num_unique.apply(lambda x: x/len(faults_df))\n",
    "uniqueness_df"
   ]
  },
  {
   "cell_type": "markdown",
   "metadata": {
    "hidden": true
   },
   "source": [
    "A1 is very unique: device identifier? Can't be. Must be a daily value. <a id=\"uniqueness\"></a>"
   ]
  },
  {
   "cell_type": "code",
   "execution_count": null,
   "metadata": {
    "ExecuteTime": {
     "end_time": "2018-08-01T11:27:57.210065Z",
     "start_time": "2018-08-01T11:27:57.150793Z"
    },
    "hidden": true
   },
   "outputs": [],
   "source": [
    "# nulls\n",
    "calculate_null_values(faults_df)"
   ]
  },
  {
   "cell_type": "code",
   "execution_count": null,
   "metadata": {
    "ExecuteTime": {
     "end_time": "2018-08-01T11:27:57.410792Z",
     "start_time": "2018-08-01T11:27:57.358558Z"
    },
    "hidden": true
   },
   "outputs": [],
   "source": [
    "# nan's (just to be sure)\n",
    "calculate_nan_values(faults_df)"
   ]
  },
  {
   "cell_type": "code",
   "execution_count": null,
   "metadata": {
    "ExecuteTime": {
     "end_time": "2018-08-01T11:28:12.181446Z",
     "start_time": "2018-08-01T11:27:57.526823Z"
    },
    "hidden": true,
    "scrolled": true
   },
   "outputs": [],
   "source": [
    "# visualize column values\n",
    "fields = [c for c in faults_df.columns if faults_df[c].dtype == 'int64']\n",
    "visualize_values(faults_df, fields)"
   ]
  },
  {
   "cell_type": "markdown",
   "metadata": {
    "hidden": true
   },
   "source": [
    "Some attributes have orders of magnitude higher values than others within same category. Must have units of measure."
   ]
  },
  {
   "cell_type": "code",
   "execution_count": null,
   "metadata": {
    "ExecuteTime": {
     "end_time": "2018-07-31T11:23:03.774106Z",
     "start_time": "2018-07-31T11:23:03.751407Z"
    },
    "hidden": true
   },
   "outputs": [],
   "source": [
    "cols = faults_df.filter(regex='^a').columns.tolist()\n",
    "temp = faults_df[cols]"
   ]
  },
  {
   "cell_type": "code",
   "execution_count": null,
   "metadata": {
    "ExecuteTime": {
     "end_time": "2018-07-31T11:10:06.052630Z",
     "start_time": "2018-07-31T11:08:56.299516Z"
    },
    "hidden": true
   },
   "outputs": [],
   "source": [
    "sns.pairplot(temp);"
   ]
  },
  {
   "cell_type": "code",
   "execution_count": null,
   "metadata": {
    "ExecuteTime": {
     "end_time": "2018-07-31T11:10:06.151005Z",
     "start_time": "2018-07-31T11:10:06.054084Z"
    },
    "hidden": true
   },
   "outputs": [],
   "source": [
    "sns.countplot(x=\"failure\", data=faults_df)"
   ]
  },
  {
   "cell_type": "markdown",
   "metadata": {
    "hidden": true
   },
   "source": [
    "Yikes, this is an extreme example of imbalanced classes."
   ]
  },
  {
   "cell_type": "markdown",
   "metadata": {
    "heading_collapsed": true,
    "hidden": true
   },
   "source": [
    "## Classes"
   ]
  },
  {
   "cell_type": "code",
   "execution_count": null,
   "metadata": {
    "ExecuteTime": {
     "end_time": "2018-08-01T11:28:51.423562Z",
     "start_time": "2018-08-01T11:28:51.401473Z"
    },
    "hidden": true
   },
   "outputs": [],
   "source": [
    "# summary count of classes\n",
    "100.*faults_df.groupby('failure').failure.count()/len(faults_df)"
   ]
  },
  {
   "cell_type": "markdown",
   "metadata": {
    "hidden": true
   },
   "source": [
    "\"Extreme\" is putting it lightly: 99.91% of the time, the data indicates non-failure. **Model #1**: Always predict 'non-failure', you'll be right most of the time :)"
   ]
  },
  {
   "cell_type": "code",
   "execution_count": null,
   "metadata": {
    "ExecuteTime": {
     "end_time": "2018-08-01T10:35:01.332016Z",
     "start_time": "2018-08-01T10:35:01.144795Z"
    },
    "hidden": true
   },
   "outputs": [],
   "source": [
    "# summarize by class\n",
    "temp = faults_df.filter(regex='^a|failure')\n",
    "scaler = preprocessing.MinMaxScaler()\n",
    "scaled_values = scaler.fit_transform(temp) \n",
    "temp.loc[:,:] = scaled_values\n",
    "temp_melt = pd.melt(temp, \"failure\", var_name=\"measurement\")"
   ]
  },
  {
   "cell_type": "code",
   "execution_count": null,
   "metadata": {
    "ExecuteTime": {
     "end_time": "2018-08-01T10:35:11.506280Z",
     "start_time": "2018-08-01T10:35:01.894561Z"
    },
    "hidden": true
   },
   "outputs": [],
   "source": [
    "sns.catplot(x=\"measurement\", y=\"value\", hue=\"failure\", kind=\"bar\", data=temp_melt);"
   ]
  },
  {
   "cell_type": "markdown",
   "metadata": {
    "hidden": true
   },
   "source": [
    "Do some attributes have values ONLY when a failure occurs: a2, a4, a7, a8?"
   ]
  },
  {
   "cell_type": "code",
   "execution_count": null,
   "metadata": {
    "ExecuteTime": {
     "end_time": "2018-08-01T10:35:11.600091Z",
     "start_time": "2018-08-01T10:35:11.507727Z"
    },
    "hidden": true
   },
   "outputs": [],
   "source": [
    "# check this^^^ question\n",
    "subtemp = temp.filter(regex='a2|a3|a9|a4|a7|a8|failure')\n",
    "for c in subtemp.columns:\n",
    "    subtemp.loc[subtemp[c] > 0, c] = 1\n",
    "subtemp_melt = pd.melt(subtemp, \"failure\", var_name=\"measurement\")\n",
    "grouped = subtemp_melt.groupby(['measurement', 'failure']).sum()\n",
    "grouped"
   ]
  },
  {
   "cell_type": "markdown",
   "metadata": {
    "hidden": true
   },
   "source": [
    "Far more values present when not failing, so there must be a slant toward large values when there is a failure?"
   ]
  },
  {
   "cell_type": "code",
   "execution_count": null,
   "metadata": {
    "ExecuteTime": {
     "end_time": "2018-08-01T10:35:22.974369Z",
     "start_time": "2018-08-01T10:35:16.558993Z"
    },
    "hidden": true
   },
   "outputs": [],
   "source": [
    "sns.catplot(x=\"measurement\", y=\"value\", hue=\"failure\", kind=\"bar\", data=subtemp_melt);"
   ]
  },
  {
   "cell_type": "markdown",
   "metadata": {
    "hidden": true
   },
   "source": [
    "<a id=\"failhard\"></a>\n",
    "Looks to be true. When there is a failure, attributes 2, 4, 7, and 8 report much higher values than normal. This is not true of 1, 3, 5, 6, and 9. They should be correlated with failure then..."
   ]
  },
  {
   "cell_type": "code",
   "execution_count": null,
   "metadata": {
    "ExecuteTime": {
     "end_time": "2018-08-01T10:36:02.929141Z",
     "start_time": "2018-08-01T10:36:02.647923Z"
    },
    "hidden": true
   },
   "outputs": [],
   "source": [
    "# Draw the heatmap with the mask and correct aspect ratio\n",
    "corr = temp.corr()\n",
    "\n",
    "# Generate a mask for the upper triangle\n",
    "mask = np.zeros_like(corr, dtype=np.bool)\n",
    "mask[np.triu_indices_from(mask)] = True\n",
    "\n",
    "# Generate a custom diverging colormap\n",
    "cmap = sns.diverging_palette(220, 10, as_cmap=True)\n",
    "\n",
    "# heatmap\n",
    "sns.heatmap(corr, mask=mask, cmap=cmap, center=0,\n",
    "            square=True, linewidths=.5, cbar_kws={\"shrink\": .5})"
   ]
  },
  {
   "cell_type": "markdown",
   "metadata": {
    "hidden": true
   },
   "source": [
    "That is confidence building: a2, a4, a7, and a8 are weakly correlated with failure. Dig on A7==A8 in EDA."
   ]
  },
  {
   "cell_type": "markdown",
   "metadata": {
    "heading_collapsed": true,
    "hidden": true
   },
   "source": [
    "## Date"
   ]
  },
  {
   "cell_type": "code",
   "execution_count": null,
   "metadata": {
    "ExecuteTime": {
     "end_time": "2018-08-01T11:29:07.692701Z",
     "start_time": "2018-08-01T11:29:07.673307Z"
    },
    "hidden": true,
    "scrolled": true
   },
   "outputs": [],
   "source": [
    "# what are the dates representing?\n",
    "dates = faults_df.date\n",
    "dates.unique()"
   ]
  },
  {
   "cell_type": "markdown",
   "metadata": {
    "hidden": true
   },
   "source": [
    "Dates look like an arbitrary sequence <a id=\"ordered\"></a>"
   ]
  },
  {
   "cell_type": "code",
   "execution_count": null,
   "metadata": {
    "ExecuteTime": {
     "end_time": "2018-08-01T11:29:10.599172Z",
     "start_time": "2018-08-01T11:29:08.891356Z"
    },
    "hidden": true
   },
   "outputs": [],
   "source": [
    "# is it sorted?\n",
    "all(dates[i] <= dates[i+1] for i in range(len(dates)-1))"
   ]
  },
  {
   "cell_type": "code",
   "execution_count": null,
   "metadata": {
    "ExecuteTime": {
     "end_time": "2018-08-01T11:29:10.619328Z",
     "start_time": "2018-08-01T11:29:10.600593Z"
    },
    "hidden": true
   },
   "outputs": [],
   "source": [
    "# so these are ordered, arbitrarily assigned date representations spaced by...\n",
    "pd.Series(dates.unique()).diff().unique()"
   ]
  },
  {
   "cell_type": "markdown",
   "metadata": {
    "ExecuteTime": {
     "end_time": "2018-07-23T21:13:21.452630Z",
     "start_time": "2018-07-23T21:12:10.360788Z"
    },
    "hidden": true
   },
   "source": [
    " Can't create datetime augmentations: the day of week, time of month, etc. may be important, but I don't know the baseline date, so cannot hardcode unknown information."
   ]
  },
  {
   "cell_type": "code",
   "execution_count": 24,
   "metadata": {
    "ExecuteTime": {
     "end_time": "2018-08-01T11:29:13.326960Z",
     "start_time": "2018-08-01T11:29:13.305241Z"
    },
    "hidden": true
   },
   "outputs": [],
   "source": [
    "# add order val in case its useful\n",
    "faults_df.insert(0, 'order', range(0, len(faults_df)))"
   ]
  },
  {
   "cell_type": "markdown",
   "metadata": {
    "hidden": true
   },
   "source": [
    "As long as a date transformation is applied uniformly such that relative information is preserved, creating a datetime object with an arbitrary reference is okay."
   ]
  },
  {
   "cell_type": "code",
   "execution_count": 25,
   "metadata": {
    "ExecuteTime": {
     "end_time": "2018-08-01T11:29:21.415260Z",
     "start_time": "2018-08-01T11:29:14.097285Z"
    },
    "hidden": true
   },
   "outputs": [],
   "source": [
    "faults_df['datetime'] = faults_df['date'].apply(lambda x: pd.to_datetime(x, unit='d'))"
   ]
  },
  {
   "cell_type": "markdown",
   "metadata": {
    "heading_collapsed": true,
    "hidden": true
   },
   "source": [
    "## Device"
   ]
  },
  {
   "cell_type": "code",
   "execution_count": null,
   "metadata": {
    "ExecuteTime": {
     "end_time": "2018-08-01T11:29:23.649375Z",
     "start_time": "2018-08-01T11:29:23.627489Z"
    },
    "hidden": true
   },
   "outputs": [],
   "source": [
    "# isolate devices\n",
    "devices = faults_df.device\n",
    "devices.unique()"
   ]
  },
  {
   "cell_type": "code",
   "execution_count": null,
   "metadata": {
    "ExecuteTime": {
     "end_time": "2018-08-01T11:29:24.200968Z",
     "start_time": "2018-08-01T11:29:24.179634Z"
    },
    "hidden": true
   },
   "outputs": [],
   "source": [
    "# num of devices\n",
    "len(devices.unique())"
   ]
  },
  {
   "cell_type": "code",
   "execution_count": null,
   "metadata": {
    "ExecuteTime": {
     "end_time": "2018-08-01T11:29:24.561333Z",
     "start_time": "2018-08-01T11:29:24.365080Z"
    },
    "hidden": true
   },
   "outputs": [],
   "source": [
    "# how many unique chars in each field of device name?\n",
    "maxchars = max(devices.apply(lambda x: len(x)))\n",
    "for nchar in range(0, maxchars):\n",
    "    print('Char position {} :: num unique {}'.format(nchar,\n",
    "                                                     len(devices.apply(lambda x: x[nchar]).unique())))"
   ]
  },
  {
   "cell_type": "markdown",
   "metadata": {
    "hidden": true
   },
   "source": [
    "First four chars don't vary much; are there flavors of naming conventions, e.g. device classes?"
   ]
  },
  {
   "cell_type": "code",
   "execution_count": null,
   "metadata": {
    "ExecuteTime": {
     "end_time": "2018-08-01T11:29:24.925600Z",
     "start_time": "2018-08-01T11:29:24.693165Z"
    },
    "hidden": true
   },
   "outputs": [],
   "source": [
    "# group chars and calc uniqueness\n",
    "maxchars = max(devices.apply(lambda x: len(x)))\n",
    "for nchars in range(1, maxchars):\n",
    "    print('num chars {} :: num unique {}'.format(nchars,\n",
    "                                              len(devices.apply(lambda x: x[:nchars]).unique())))"
   ]
  },
  {
   "cell_type": "markdown",
   "metadata": {
    "hidden": true
   },
   "source": [
    "There appear to be types of devices <a id=\"deviceclasses\"></a>"
   ]
  },
  {
   "cell_type": "code",
   "execution_count": 26,
   "metadata": {
    "ExecuteTime": {
     "end_time": "2018-08-01T11:29:25.416662Z",
     "start_time": "2018-08-01T11:29:25.377732Z"
    },
    "hidden": true
   },
   "outputs": [],
   "source": [
    "# save the class1\n",
    "faults_df['device_class1'] = faults_df.device.apply(lambda x: x[:3])"
   ]
  },
  {
   "cell_type": "code",
   "execution_count": null,
   "metadata": {
    "ExecuteTime": {
     "end_time": "2018-08-01T11:29:26.136353Z",
     "start_time": "2018-08-01T11:29:26.114739Z"
    },
    "hidden": true
   },
   "outputs": [],
   "source": [
    "faults_df.device_class1.unique()"
   ]
  },
  {
   "cell_type": "code",
   "execution_count": null,
   "metadata": {
    "ExecuteTime": {
     "end_time": "2018-08-01T11:29:26.478495Z",
     "start_time": "2018-08-01T11:29:26.287278Z"
    },
    "hidden": true
   },
   "outputs": [],
   "source": [
    "# remove class1 and look for more\n",
    "sub_devices = devices.apply(lambda x: x[3:])\n",
    "maxchars = max(sub_devices.apply(lambda x: len(x)))\n",
    "for nchars in range(1, maxchars):\n",
    "    print('num chars {} :: num unique {}'.format(nchars,\n",
    "                                              len(sub_devices.apply(lambda x: x[:nchars]).unique())))"
   ]
  },
  {
   "cell_type": "code",
   "execution_count": 27,
   "metadata": {
    "ExecuteTime": {
     "end_time": "2018-08-01T11:29:26.521457Z",
     "start_time": "2018-08-01T11:29:26.489161Z"
    },
    "hidden": true
   },
   "outputs": [],
   "source": [
    "# maybe 4th char is a submodel, generation...? small enough to encode\n",
    "faults_df['device_class2'] = faults_df.device.apply(lambda x: x[3])"
   ]
  },
  {
   "cell_type": "code",
   "execution_count": null,
   "metadata": {
    "ExecuteTime": {
     "end_time": "2018-08-01T11:29:26.894037Z",
     "start_time": "2018-08-01T11:29:26.873556Z"
    },
    "hidden": true
   },
   "outputs": [],
   "source": [
    "faults_df.device_class2.unique()"
   ]
  },
  {
   "cell_type": "code",
   "execution_count": null,
   "metadata": {
    "ExecuteTime": {
     "end_time": "2018-08-01T11:29:27.591455Z",
     "start_time": "2018-08-01T11:29:27.436026Z"
    },
    "hidden": true
   },
   "outputs": [],
   "source": [
    "# remove class1 and class2 and look for more\n",
    "sub_devices = devices.apply(lambda x: x[4:])\n",
    "maxchars = max(sub_devices.apply(lambda x: len(x)))\n",
    "for nchars in range(1, maxchars):\n",
    "    print('num chars {} :: num unique {}'.format(nchars,\n",
    "                                              len(sub_devices.apply(lambda x: x[:nchars]).unique())))"
   ]
  },
  {
   "cell_type": "code",
   "execution_count": 28,
   "metadata": {
    "ExecuteTime": {
     "end_time": "2018-08-01T11:29:28.090282Z",
     "start_time": "2018-08-01T11:29:28.049348Z"
    },
    "hidden": true
   },
   "outputs": [],
   "source": [
    "# lump remainder together\n",
    "faults_df['device_class3'] = faults_df.device.apply(lambda x: x[4:])"
   ]
  },
  {
   "cell_type": "code",
   "execution_count": null,
   "metadata": {
    "ExecuteTime": {
     "end_time": "2018-08-01T11:29:28.861835Z",
     "start_time": "2018-08-01T11:29:28.839602Z"
    },
    "hidden": true
   },
   "outputs": [],
   "source": [
    "faults_df.device_class3.unique()"
   ]
  },
  {
   "cell_type": "code",
   "execution_count": null,
   "metadata": {
    "ExecuteTime": {
     "end_time": "2018-08-01T11:29:29.343372Z",
     "start_time": "2018-08-01T11:29:29.297264Z"
    },
    "hidden": true
   },
   "outputs": [],
   "source": [
    "# check that original device == device clases\n",
    "assert sum(faults_df.device != faults_df.device_class1 + faults_df.device_class2 + faults_df.device_class3) == 0, \"Device classification failed\""
   ]
  },
  {
   "cell_type": "markdown",
   "metadata": {
    "heading_collapsed": true,
    "hidden": true
   },
   "source": [
    "## Trends"
   ]
  },
  {
   "cell_type": "code",
   "execution_count": null,
   "metadata": {
    "ExecuteTime": {
     "end_time": "2018-08-01T11:02:29.348096Z",
     "start_time": "2018-08-01T11:00:49.219853Z"
    },
    "hidden": true
   },
   "outputs": [],
   "source": [
    "# Rohrshach approach: \"interactively\" pick random device that had a failure and look at attribute trends in time\n",
    "while True:\n",
    "    try:\n",
    "        temp = faults_df[(faults_df.failure == 1)]\n",
    "        rand_device = temp.sample(1).device.values[0]\n",
    "        temp = faults_df[(faults_df.device == rand_device)]\n",
    "        temp = temp.filter(regex='^a|date$')\n",
    "        temp['a1cs'] = temp.a1.cumsum()\n",
    "        scaler = preprocessing.MinMaxScaler()\n",
    "        scaled_values = scaler.fit_transform(temp)\n",
    "        temp.loc[:,:] = scaled_values\n",
    "        temp.plot(x='date', style='.-')\n",
    "        display.display(plt.gcf())\n",
    "        display.clear_output(wait=True)\n",
    "        time.sleep(3)\n",
    "    except KeyboardInterrupt:\n",
    "        break"
   ]
  },
  {
   "cell_type": "markdown",
   "metadata": {
    "hidden": true
   },
   "source": [
    "+ a1 looks unaggregated, a daily value possibly -- need to add a1 cumulative sum feature\n",
    "+ All other attributes **_appear_** to be aggregates -- verify below\n",
    "+ a2 and a4 stand-out as ramping up before failure -- need to add linear trend feature at each time step\n",
    "+ A few attributes appear to be correlated -- verify below <a id=\"correlation\"></a>\n",
    "\n",
    "Problem statement doesn't clearly specify if these are:\n",
    "+ daily aggregates\n",
    "+ aggregates of daily"
   ]
  },
  {
   "cell_type": "code",
   "execution_count": 31,
   "metadata": {
    "ExecuteTime": {
     "end_time": "2018-08-01T11:29:40.797308Z",
     "start_time": "2018-08-01T11:29:40.687436Z"
    },
    "hidden": true
   },
   "outputs": [],
   "source": [
    "# add cumulative sum feature just for a1\n",
    "#faults_df['a1_cumsum'] = faults_df.sort_values(by=['device','order']).groupby('device').a1.cumsum()\n",
    "\n",
    "# add for all\n",
    "cols = faults_df.filter(regex='^a.$')\n",
    "for col in cols:\n",
    "    newcol = col+'_cumsum'\n",
    "    faults_df[newcol] = faults_df.sort_values(by=['device','order']).groupby('device')[col].cumsum()"
   ]
  },
  {
   "cell_type": "markdown",
   "metadata": {
    "ExecuteTime": {
     "end_time": "2018-08-01T11:25:54.008439Z",
     "start_time": "2018-08-01T11:25:53.990440Z"
    },
    "hidden": true
   },
   "source": [
    "Do any values besides a1 go down?"
   ]
  },
  {
   "cell_type": "code",
   "execution_count": null,
   "metadata": {
    "ExecuteTime": {
     "end_time": "2018-08-01T11:29:42.463537Z",
     "start_time": "2018-08-01T11:29:42.015891Z"
    },
    "hidden": true
   },
   "outputs": [],
   "source": [
    "# sort, diff, and count\n",
    "cols = ['a2', 'a3', 'a4', 'a5', 'a6', 'a7', 'a8', 'a9', 'failure']\n",
    "temp = faults_df.sort_values(by=['device','order']).groupby('device')[cols].diff()\n",
    "temp.lt(0).sum()"
   ]
  },
  {
   "cell_type": "markdown",
   "metadata": {
    "hidden": true
   },
   "source": [
    "There are a choice few: a2, a5, a7, a8, failure. The failures in particular mean they've been cleared/reset. If these are aggregate attributes as they appear, then values that drop, even if rarely, are experiencing some kind of remediation/service."
   ]
  },
  {
   "cell_type": "code",
   "execution_count": null,
   "metadata": {
    "ExecuteTime": {
     "end_time": "2018-08-01T11:31:00.054271Z",
     "start_time": "2018-08-01T11:30:59.997954Z"
    },
    "hidden": true,
    "scrolled": false
   },
   "outputs": [],
   "source": [
    "# look at random example\n",
    "a = random.choice(temp[(temp < 0).any(1)].index.tolist())\n",
    "print(temp.loc[a])\n",
    "print('\\n*********************\\n')\n",
    "print('Look at index {}'.format(a))\n",
    "b = faults_df[(faults_df.order == a)].device.values[0]\n",
    "faults_df[(faults_df.device == b)]"
   ]
  },
  {
   "cell_type": "markdown",
   "metadata": {
    "hidden": true
   },
   "source": [
    "Need to manually add feature to capture service history:\n",
    "+ Cumulative sum of a* service count\n",
    "+ Cumulative sum of a* service magnitude"
   ]
  },
  {
   "cell_type": "code",
   "execution_count": 33,
   "metadata": {
    "ExecuteTime": {
     "end_time": "2018-08-01T12:09:51.841356Z",
     "start_time": "2018-08-01T12:09:50.362300Z"
    },
    "hidden": true
   },
   "outputs": [],
   "source": [
    "# service features\n",
    "cols = ['a2', 'a5', 'a7', 'a8']\n",
    "for col in cols:\n",
    "    \n",
    "    # create columns and init\n",
    "    service_mag = col+'_service_mag'\n",
    "    service_count = col+'_service_count'\n",
    "    faults_df[service_mag] = 0\n",
    "    faults_df[service_count] = 0\n",
    "    \n",
    "    # fill with diff and remove natural agg\n",
    "    faults_df[service_mag] = faults_df.sort_values(by=['device', 'order']).groupby('device')[col].diff().fillna(0)\n",
    "    faults_df.loc[faults_df[service_mag] > 0, service_mag] = 0\n",
    "    \n",
    "    # denote service count and cumsum\n",
    "    faults_df.loc[faults_df[service_mag] < 0, service_count] = 1\n",
    "    faults_df[service_count] = faults_df.sort_values(by=['device','order']).groupby('device')[service_count].cumsum()\n",
    "    faults_df[service_mag] = faults_df.sort_values(by=['device','order']).groupby('device')[service_mag].cumsum()"
   ]
  },
  {
   "cell_type": "code",
   "execution_count": 34,
   "metadata": {
    "ExecuteTime": {
     "end_time": "2018-08-01T12:13:42.384880Z",
     "start_time": "2018-08-01T12:13:41.994748Z"
    },
    "hidden": true
   },
   "outputs": [],
   "source": [
    "# handle failure manually to deal with naming convention change   \n",
    "col = 'failure'\n",
    "service_mag = 'f_clear_mag'\n",
    "service_count = 'f_clear_count'\n",
    "faults_df[service_mag] = 0\n",
    "faults_df[service_count] = 0\n",
    "\n",
    "# fill with diff and remove natural agg\n",
    "faults_df[service_mag] = faults_df.sort_values(by=['device', 'order']).groupby('device')[col].diff().fillna(0)\n",
    "faults_df.loc[faults_df[service_mag] > 0, service_mag] = 0\n",
    "\n",
    "# denote service count and cumsum\n",
    "faults_df.loc[faults_df[service_mag] < 0, service_count] = 1\n",
    "faults_df[service_count] = faults_df.sort_values(by=['device','order']).groupby('device')[service_count].cumsum()\n",
    "faults_df[service_mag] = faults_df.sort_values(by=['device','order']).groupby('device')[service_mag].cumsum()"
   ]
  },
  {
   "cell_type": "markdown",
   "metadata": {
    "heading_collapsed": true,
    "hidden": true
   },
   "source": [
    "## Correlations"
   ]
  },
  {
   "cell_type": "code",
   "execution_count": null,
   "metadata": {
    "ExecuteTime": {
     "end_time": "2018-08-01T12:17:52.243531Z",
     "start_time": "2018-08-01T12:17:48.709503Z"
    },
    "hidden": true,
    "scrolled": true
   },
   "outputs": [],
   "source": [
    "# look for correlations in numerical values\n",
    "fields = [c for c in faults_df.columns if faults_df[c].dtype == 'int64']\n",
    "visualize_correlations(faults_df, fields)"
   ]
  },
  {
   "cell_type": "markdown",
   "metadata": {
    "hidden": true
   },
   "source": [
    "Indeed, some attributes are correlated, but A7 and A8 identical? <a id=\"a7a8\"></a>"
   ]
  },
  {
   "cell_type": "code",
   "execution_count": null,
   "metadata": {
    "ExecuteTime": {
     "end_time": "2018-08-01T12:18:47.153990Z",
     "start_time": "2018-08-01T12:18:47.020218Z"
    },
    "hidden": true
   },
   "outputs": [],
   "source": [
    "# are attribute 7 and 8 identical?\n",
    "a7_str = ''.join(faults_df.a7.astype(str).values)\n",
    "a7_hash = hashlib.md5(a7_str.encode('utf-8')).hexdigest()\n",
    "a8_str = ''.join(faults_df.a8.astype(str).values)\n",
    "a8_hash = hashlib.md5(a8_str.encode('utf-8')).hexdigest()\n",
    "a7_hash == a8_hash"
   ]
  },
  {
   "cell_type": "markdown",
   "metadata": {
    "hidden": true
   },
   "source": [
    "This is telemetry data, so maybe A7 and A8 are the same measurement with different units, e.g. imperial and metric"
   ]
  },
  {
   "cell_type": "code",
   "execution_count": 35,
   "metadata": {
    "ExecuteTime": {
     "end_time": "2018-08-01T12:19:44.445802Z",
     "start_time": "2018-08-01T12:19:44.416950Z"
    },
    "hidden": true
   },
   "outputs": [],
   "source": [
    "# 7 was my fav num as a kid (Boomer Esiason wore it for the Bengals)\n",
    "# drop attr8\n",
    "drop_cols = faults_df.filter(regex='^a8').columns.tolist()\n",
    "faults_df.drop(drop_cols, inplace=True, axis=1)"
   ]
  },
  {
   "cell_type": "code",
   "execution_count": null,
   "metadata": {
    "ExecuteTime": {
     "end_time": "2018-08-01T12:20:55.524346Z",
     "start_time": "2018-08-01T12:20:51.280545Z"
    },
    "hidden": true,
    "scrolled": false
   },
   "outputs": [],
   "source": [
    "# correlation matrix\n",
    "corrmat = faults_df.corr(method='spearman')\n",
    "\n",
    "# Draw the heatmap using seaborn\n",
    "sns.clustermap(corrmat, vmax=0.6, vmin=-0.6, square=True, cmap=sns_cmap);"
   ]
  },
  {
   "cell_type": "markdown",
   "metadata": {
    "hidden": true
   },
   "source": [
    "Weak similarities, but nothing so glaring we should break attributes apart."
   ]
  },
  {
   "cell_type": "markdown",
   "metadata": {
    "heading_collapsed": true,
    "hidden": true
   },
   "source": [
    "## Save"
   ]
  },
  {
   "cell_type": "code",
   "execution_count": 36,
   "metadata": {
    "ExecuteTime": {
     "end_time": "2018-08-01T12:21:39.460407Z",
     "start_time": "2018-08-01T12:21:39.269936Z"
    },
    "hidden": true
   },
   "outputs": [],
   "source": [
    "faults_df.to_pickle('faults_df.pkl')"
   ]
  },
  {
   "cell_type": "markdown",
   "metadata": {
    "heading_collapsed": true
   },
   "source": [
    "# Feature Engineering"
   ]
  },
  {
   "cell_type": "markdown",
   "metadata": {
    "hidden": true
   },
   "source": [
    "Normally, we would put in a great deal of effort and time with SME's to build even more features. For example, cumulative sums of aggregated values over time should be important, and we can engineer such a set of features with:\n",
    "```python\n",
    "for col in ['a'+str(i) for i in range(1,10)]:\n",
    "    newcol = col+'_cumsum'\n",
    "    try:\n",
    "        faults_df.drop([newcol], axis=1, inplace=True)\n",
    "    except:\n",
    "        pass\n",
    "    try:\n",
    "        faults_df[newcol] = faults_df.groupby(['device'])[col].cumsum()\n",
    "    except:\n",
    "        continue\n",
    "```\n",
    "\n",
    "However, what about all the other stats terms that may have embeded info (count, max, min, mean, stddev, etc.). This is laborious to construct all those features. Alternatively, we could use a carefully tuned NN architecture to find those features via the model. This is also laborious. Another option: create an ensemble of models that extract predictive information from features it creates.\n",
    "\n",
    "As a start, let's instead try deep feature synthesis and drive the problem to the left (data) rather than to the right (model). This can be accomplished with time series using [tensor deep feature synthesis][tdfs].\n",
    "\n",
    "[tdfs]: https://docs.featuretools.com/automated_feature_engineering/handling_time.html#creating-a-3-dimensional-feature-tensor-using-multiple-cutoff-times-from-make-temporal-cutoffs"
   ]
  },
  {
   "cell_type": "markdown",
   "metadata": {
    "heading_collapsed": true,
    "hidden": true
   },
   "source": [
    "## Cut-off Times"
   ]
  },
  {
   "cell_type": "code",
   "execution_count": 37,
   "metadata": {
    "ExecuteTime": {
     "end_time": "2018-08-01T12:23:32.252141Z",
     "start_time": "2018-08-01T12:23:32.003413Z"
    },
    "hidden": true,
    "scrolled": true
   },
   "outputs": [],
   "source": [
    "# list of unique devices\n",
    "unique_devices = faults_df.filter(regex='device').drop_duplicates()\n",
    "instance_ids = sorted(unique_devices.device.tolist())\n",
    "\n",
    "# capture start dates per device -- ORDER MATTERS\n",
    "device_start_dates = faults_df.sort_values(by=['device']).groupby('device')['datetime'].min().tolist()\n",
    "\n",
    "# capture end dates per device -- ORDER MATTERS\n",
    "device_end_dates = faults_df.sort_values(by=['device']).groupby('device')['datetime'].max().tolist()\n",
    "\n",
    "# create reference data frame\n",
    "cutoffs = pd.DataFrame(\n",
    "    {\n",
    "        'device': instance_ids,\n",
    "        'start': device_start_dates,\n",
    "        'end': device_end_dates,\n",
    "    }\n",
    ")"
   ]
  },
  {
   "cell_type": "code",
   "execution_count": 38,
   "metadata": {
    "ExecuteTime": {
     "end_time": "2018-08-01T12:23:36.395874Z",
     "start_time": "2018-08-01T12:23:34.577087Z"
    },
    "hidden": true
   },
   "outputs": [],
   "source": [
    "# gut check on 100 random entries that reassembly of dates and devices match\n",
    "for n in range(0, 100):\n",
    "    \n",
    "    # pick random device\n",
    "    rand_device = faults_df.sample(1).device.values[0]\n",
    "    \n",
    "    # get original min/max dates in np datetime\n",
    "    min_test = faults_df[(faults_df.device == rand_device)]['datetime'].min().to_datetime64()\n",
    "    max_test = faults_df[(faults_df.device == rand_device)]['datetime'].max().to_datetime64()\n",
    "    \n",
    "    # get cutoff values\n",
    "    rand_min = cutoffs[(cutoffs.device == rand_device)].start.values[0]\n",
    "    rand_max = cutoffs[(cutoffs.device == rand_device)].end.values[0]\n",
    "    \n",
    "    # compare\n",
    "    assert rand_min == min_test, 'Date mismatch'\n",
    "    assert rand_max == max_test, 'Date mismatch'"
   ]
  },
  {
   "cell_type": "code",
   "execution_count": 39,
   "metadata": {
    "ExecuteTime": {
     "end_time": "2018-08-01T12:23:38.604935Z",
     "start_time": "2018-08-01T12:23:36.968531Z"
    },
    "hidden": true
   },
   "outputs": [],
   "source": [
    "# for each device, begin at start and increment by 1-day until the end\n",
    "temporal_cutoffs = ft.make_temporal_cutoffs(\n",
    "    instance_ids=cutoffs['device'],\n",
    "    start=cutoffs['start'],\n",
    "    cutoffs=cutoffs['end'],\n",
    "    window_size='1d')"
   ]
  },
  {
   "cell_type": "code",
   "execution_count": 40,
   "metadata": {
    "ExecuteTime": {
     "end_time": "2018-08-01T12:23:39.524144Z",
     "start_time": "2018-08-01T12:23:39.500884Z"
    },
    "hidden": true
   },
   "outputs": [],
   "source": [
    "# save\n",
    "temporal_cutoffs.to_pickle('temporal_cutoffs.pkl')"
   ]
  },
  {
   "cell_type": "markdown",
   "metadata": {
    "heading_collapsed": true,
    "hidden": true
   },
   "source": [
    "## Entity Creation"
   ]
  },
  {
   "cell_type": "code",
   "execution_count": 41,
   "metadata": {
    "ExecuteTime": {
     "end_time": "2018-08-01T12:33:20.561155Z",
     "start_time": "2018-08-01T12:33:20.548153Z"
    },
    "hidden": true
   },
   "outputs": [],
   "source": [
    "# Create new entityset\n",
    "es = ft.EntitySet(id='timeseries')"
   ]
  },
  {
   "cell_type": "code",
   "execution_count": 42,
   "metadata": {
    "ExecuteTime": {
     "end_time": "2018-08-01T12:33:21.141240Z",
     "start_time": "2018-08-01T12:33:20.747775Z"
    },
    "hidden": true
   },
   "outputs": [],
   "source": [
    "# create entity for faults\n",
    "es = es.entity_from_dataframe(\n",
    "    entity_id='faults',\n",
    "    dataframe=faults_df,\n",
    "    index='uuid',\n",
    "    time_index='datetime')"
   ]
  },
  {
   "cell_type": "code",
   "execution_count": 43,
   "metadata": {
    "ExecuteTime": {
     "end_time": "2018-08-01T12:33:28.069555Z",
     "start_time": "2018-08-01T12:33:27.778424Z"
    },
    "hidden": true
   },
   "outputs": [
    {
     "data": {
      "text/plain": [
       "Entityset: timeseries\n",
       "  Entities:\n",
       "    faults [Rows: 124494, Columns: 30]\n",
       "    unique_devices [Rows: 1168, Columns: 5]\n",
       "  Relationships:\n",
       "    faults.device -> unique_devices.device"
      ]
     },
     "execution_count": 43,
     "metadata": {},
     "output_type": "execute_result"
    }
   ],
   "source": [
    "es.normalize_entity(base_entity_id='faults',\n",
    "                    new_entity_id='unique_devices',\n",
    "                    index='device',\n",
    "                    make_time_index=True,\n",
    "                    additional_variables=[\"device_class1\", \"device_class2\", \"device_class3\"])"
   ]
  },
  {
   "cell_type": "code",
   "execution_count": 44,
   "metadata": {
    "ExecuteTime": {
     "end_time": "2018-08-01T12:33:42.229636Z",
     "start_time": "2018-08-01T12:33:42.214459Z"
    },
    "hidden": true
   },
   "outputs": [
    {
     "data": {
      "text/plain": [
       "[Entity: faults\n",
       "   Variables:\n",
       "     uuid (dtype: index)\n",
       "     order (dtype: numeric)\n",
       "     date (dtype: numeric)\n",
       "     device (dtype: id)\n",
       "     a1 (dtype: numeric)\n",
       "     a2 (dtype: numeric)\n",
       "     a3 (dtype: numeric)\n",
       "     a4 (dtype: numeric)\n",
       "     a5 (dtype: numeric)\n",
       "     a6 (dtype: numeric)\n",
       "     a7 (dtype: numeric)\n",
       "     a9 (dtype: numeric)\n",
       "     failure (dtype: numeric)\n",
       "     datetime (dtype: datetime_time_index)\n",
       "     a1_cumsum (dtype: numeric)\n",
       "     a2_cumsum (dtype: numeric)\n",
       "     a3_cumsum (dtype: numeric)\n",
       "     a4_cumsum (dtype: numeric)\n",
       "     a5_cumsum (dtype: numeric)\n",
       "     a6_cumsum (dtype: numeric)\n",
       "     a7_cumsum (dtype: numeric)\n",
       "     a9_cumsum (dtype: numeric)\n",
       "     a2_service_mag (dtype: numeric)\n",
       "     a2_service_count (dtype: numeric)\n",
       "     a5_service_mag (dtype: numeric)\n",
       "     a5_service_count (dtype: numeric)\n",
       "     a7_service_mag (dtype: numeric)\n",
       "     a7_service_count (dtype: numeric)\n",
       "     f_clear_mag (dtype: numeric)\n",
       "     f_clear_count (dtype: numeric)\n",
       "   Shape:\n",
       "     (Rows: 124494, Columns: 30), Entity: unique_devices\n",
       "   Variables:\n",
       "     device (dtype: index)\n",
       "     device_class1 (dtype: categorical)\n",
       "     device_class2 (dtype: categorical)\n",
       "     device_class3 (dtype: categorical)\n",
       "     first_faults_time (dtype: datetime_time_index)\n",
       "   Shape:\n",
       "     (Rows: 1168, Columns: 5)]"
      ]
     },
     "execution_count": 44,
     "metadata": {},
     "output_type": "execute_result"
    }
   ],
   "source": [
    "es.entities"
   ]
  },
  {
   "cell_type": "code",
   "execution_count": 45,
   "metadata": {
    "ExecuteTime": {
     "end_time": "2018-08-01T12:33:46.316289Z",
     "start_time": "2018-08-01T12:33:43.082807Z"
    },
    "hidden": true
   },
   "outputs": [
    {
     "data": {
      "text/plain": [
       "Entityset: timeseries\n",
       "  Entities:\n",
       "    faults [Rows: 124494, Columns: 30]\n",
       "    unique_devices [Rows: 1168, Columns: 5]\n",
       "  Relationships:\n",
       "    faults.device -> unique_devices.device"
      ]
     },
     "execution_count": 45,
     "metadata": {},
     "output_type": "execute_result"
    }
   ],
   "source": [
    "# save results\n",
    "es.to_parquet('device_faults_entity_set')"
   ]
  },
  {
   "cell_type": "markdown",
   "metadata": {
    "heading_collapsed": true,
    "hidden": true
   },
   "source": [
    "## Deep Feature Synthesis"
   ]
  },
  {
   "cell_type": "code",
   "execution_count": 46,
   "metadata": {
    "ExecuteTime": {
     "end_time": "2018-08-01T12:53:51.982351Z",
     "start_time": "2018-08-01T12:53:51.399990Z"
    },
    "hidden": true
   },
   "outputs": [],
   "source": [
    "# reload data\n",
    "es = ft.read_parquet('device_faults_entity_set')\n",
    "temporal_cutoffs = pd.read_pickle('temporal_cutoffs.pkl')\n",
    "faults_df = pd.read_pickle('faults_df.pkl')"
   ]
  },
  {
   "cell_type": "markdown",
   "metadata": {
    "hidden": true
   },
   "source": [
    "The below step can be parallelized using Dask (`n_jobs=-1`) since it's an embarassingly parallel problem due to independence:\n",
    "\n",
    "$device_i \\perp cutoff_j \\perp feature matrix_j$"
   ]
  },
  {
   "cell_type": "code",
   "execution_count": 47,
   "metadata": {
    "ExecuteTime": {
     "end_time": "2018-08-01T12:53:54.184967Z",
     "start_time": "2018-08-01T12:53:54.151396Z"
    },
    "hidden": true,
    "scrolled": true
   },
   "outputs": [
    {
     "data": {
      "text/html": [
       "<div>\n",
       "<style scoped>\n",
       "    .dataframe tbody tr th:only-of-type {\n",
       "        vertical-align: middle;\n",
       "    }\n",
       "\n",
       "    .dataframe tbody tr th {\n",
       "        vertical-align: top;\n",
       "    }\n",
       "\n",
       "    .dataframe thead th {\n",
       "        text-align: right;\n",
       "    }\n",
       "</style>\n",
       "<table border=\"1\" class=\"dataframe\">\n",
       "  <thead>\n",
       "    <tr style=\"text-align: right;\">\n",
       "      <th></th>\n",
       "      <th>name</th>\n",
       "      <th>type</th>\n",
       "      <th>description</th>\n",
       "    </tr>\n",
       "  </thead>\n",
       "  <tbody>\n",
       "    <tr>\n",
       "      <th>0</th>\n",
       "      <td>max</td>\n",
       "      <td>aggregation</td>\n",
       "      <td>Finds the maximum non-null value of a numeric feature.</td>\n",
       "    </tr>\n",
       "    <tr>\n",
       "      <th>1</th>\n",
       "      <td>std</td>\n",
       "      <td>aggregation</td>\n",
       "      <td>Finds the standard deviation of a numeric feature ignoring null values.</td>\n",
       "    </tr>\n",
       "    <tr>\n",
       "      <th>2</th>\n",
       "      <td>skew</td>\n",
       "      <td>aggregation</td>\n",
       "      <td>Computes the skewness of a data set.</td>\n",
       "    </tr>\n",
       "    <tr>\n",
       "      <th>3</th>\n",
       "      <td>sum</td>\n",
       "      <td>aggregation</td>\n",
       "      <td>Counts the number of elements of a numeric or boolean feature.</td>\n",
       "    </tr>\n",
       "    <tr>\n",
       "      <th>4</th>\n",
       "      <td>trend</td>\n",
       "      <td>aggregation</td>\n",
       "      <td>Calculates the slope of the linear trend of variable overtime.</td>\n",
       "    </tr>\n",
       "    <tr>\n",
       "      <th>5</th>\n",
       "      <td>count</td>\n",
       "      <td>aggregation</td>\n",
       "      <td>Counts the number of non null values.</td>\n",
       "    </tr>\n",
       "    <tr>\n",
       "      <th>6</th>\n",
       "      <td>median</td>\n",
       "      <td>aggregation</td>\n",
       "      <td>Finds the median value of any feature with well-ordered values.</td>\n",
       "    </tr>\n",
       "    <tr>\n",
       "      <th>7</th>\n",
       "      <td>time_since_last</td>\n",
       "      <td>aggregation</td>\n",
       "      <td>Time since last related instance.</td>\n",
       "    </tr>\n",
       "    <tr>\n",
       "      <th>8</th>\n",
       "      <td>avg_time_between</td>\n",
       "      <td>aggregation</td>\n",
       "      <td>Computes the average time between consecutive events.</td>\n",
       "    </tr>\n",
       "    <tr>\n",
       "      <th>9</th>\n",
       "      <td>percent_true</td>\n",
       "      <td>aggregation</td>\n",
       "      <td>Finds the percent of 'True' values in a boolean feature.</td>\n",
       "    </tr>\n",
       "    <tr>\n",
       "      <th>10</th>\n",
       "      <td>all</td>\n",
       "      <td>aggregation</td>\n",
       "      <td>Test if all values are 'True'.</td>\n",
       "    </tr>\n",
       "    <tr>\n",
       "      <th>11</th>\n",
       "      <td>n_most_common</td>\n",
       "      <td>aggregation</td>\n",
       "      <td>Finds the N most common elements in a categorical feature.</td>\n",
       "    </tr>\n",
       "    <tr>\n",
       "      <th>12</th>\n",
       "      <td>num_true</td>\n",
       "      <td>aggregation</td>\n",
       "      <td>Finds the number of 'True' values in a boolean.</td>\n",
       "    </tr>\n",
       "    <tr>\n",
       "      <th>13</th>\n",
       "      <td>any</td>\n",
       "      <td>aggregation</td>\n",
       "      <td>Test if any value is 'True'.</td>\n",
       "    </tr>\n",
       "    <tr>\n",
       "      <th>14</th>\n",
       "      <td>mode</td>\n",
       "      <td>aggregation</td>\n",
       "      <td>Finds the most common element in a categorical feature.</td>\n",
       "    </tr>\n",
       "    <tr>\n",
       "      <th>15</th>\n",
       "      <td>num_unique</td>\n",
       "      <td>aggregation</td>\n",
       "      <td>Returns the number of unique categorical variables.</td>\n",
       "    </tr>\n",
       "    <tr>\n",
       "      <th>16</th>\n",
       "      <td>last</td>\n",
       "      <td>aggregation</td>\n",
       "      <td>Returns the last value.</td>\n",
       "    </tr>\n",
       "    <tr>\n",
       "      <th>17</th>\n",
       "      <td>min</td>\n",
       "      <td>aggregation</td>\n",
       "      <td>Finds the minimum non-null value of a numeric feature.</td>\n",
       "    </tr>\n",
       "    <tr>\n",
       "      <th>18</th>\n",
       "      <td>mean</td>\n",
       "      <td>aggregation</td>\n",
       "      <td>Computes the average value of a numeric feature.</td>\n",
       "    </tr>\n",
       "    <tr>\n",
       "      <th>19</th>\n",
       "      <td>day</td>\n",
       "      <td>transform</td>\n",
       "      <td>Transform a Datetime feature into the day.</td>\n",
       "    </tr>\n",
       "    <tr>\n",
       "      <th>20</th>\n",
       "      <td>characters</td>\n",
       "      <td>transform</td>\n",
       "      <td>Return the characters in a given string.</td>\n",
       "    </tr>\n",
       "    <tr>\n",
       "      <th>21</th>\n",
       "      <td>weekend</td>\n",
       "      <td>transform</td>\n",
       "      <td>Transform Datetime feature into the boolean of Weekend.</td>\n",
       "    </tr>\n",
       "    <tr>\n",
       "      <th>22</th>\n",
       "      <td>isin</td>\n",
       "      <td>transform</td>\n",
       "      <td>For each value of the base feature, checks whether it is in a provided list.</td>\n",
       "    </tr>\n",
       "    <tr>\n",
       "      <th>23</th>\n",
       "      <td>absolute</td>\n",
       "      <td>transform</td>\n",
       "      <td>Absolute value of base feature.</td>\n",
       "    </tr>\n",
       "    <tr>\n",
       "      <th>24</th>\n",
       "      <td>year</td>\n",
       "      <td>transform</td>\n",
       "      <td>Transform a Datetime feature into the year.</td>\n",
       "    </tr>\n",
       "    <tr>\n",
       "      <th>25</th>\n",
       "      <td>haversine</td>\n",
       "      <td>transform</td>\n",
       "      <td>Calculate the approximate haversine distance in miles between two LatLong variable types.</td>\n",
       "    </tr>\n",
       "    <tr>\n",
       "      <th>26</th>\n",
       "      <td>time_since</td>\n",
       "      <td>transform</td>\n",
       "      <td>Calculates time since the cutoff time.</td>\n",
       "    </tr>\n",
       "    <tr>\n",
       "      <th>27</th>\n",
       "      <td>month</td>\n",
       "      <td>transform</td>\n",
       "      <td>Transform a Datetime feature into the month.</td>\n",
       "    </tr>\n",
       "    <tr>\n",
       "      <th>28</th>\n",
       "      <td>negate</td>\n",
       "      <td>transform</td>\n",
       "      <td>Creates a transform feature that negates a feature.</td>\n",
       "    </tr>\n",
       "    <tr>\n",
       "      <th>29</th>\n",
       "      <td>cum_min</td>\n",
       "      <td>transform</td>\n",
       "      <td>Calculates the min of previous values of an instance for each value in a time-dependent entity.</td>\n",
       "    </tr>\n",
       "    <tr>\n",
       "      <th>...</th>\n",
       "      <td>...</td>\n",
       "      <td>...</td>\n",
       "      <td>...</td>\n",
       "    </tr>\n",
       "    <tr>\n",
       "      <th>32</th>\n",
       "      <td>week</td>\n",
       "      <td>transform</td>\n",
       "      <td>Transform a Datetime feature into the week.</td>\n",
       "    </tr>\n",
       "    <tr>\n",
       "      <th>33</th>\n",
       "      <td>cum_count</td>\n",
       "      <td>transform</td>\n",
       "      <td>Calculates the number of previous values of an instance for each value in a time-dependent entity.</td>\n",
       "    </tr>\n",
       "    <tr>\n",
       "      <th>34</th>\n",
       "      <td>not</td>\n",
       "      <td>transform</td>\n",
       "      <td>For each value of the base feature, negates the boolean value.</td>\n",
       "    </tr>\n",
       "    <tr>\n",
       "      <th>35</th>\n",
       "      <td>hours</td>\n",
       "      <td>transform</td>\n",
       "      <td>Transform a Timedelta feature into the number of hours.</td>\n",
       "    </tr>\n",
       "    <tr>\n",
       "      <th>36</th>\n",
       "      <td>minute</td>\n",
       "      <td>transform</td>\n",
       "      <td>Transform a Datetime feature into the minute.</td>\n",
       "    </tr>\n",
       "    <tr>\n",
       "      <th>37</th>\n",
       "      <td>seconds</td>\n",
       "      <td>transform</td>\n",
       "      <td>Transform a Timedelta feature into the number of seconds.</td>\n",
       "    </tr>\n",
       "    <tr>\n",
       "      <th>38</th>\n",
       "      <td>cum_sum</td>\n",
       "      <td>transform</td>\n",
       "      <td>Calculates the sum of previous values of an instance for each value in a time-dependent entity.</td>\n",
       "    </tr>\n",
       "    <tr>\n",
       "      <th>39</th>\n",
       "      <td>subtract</td>\n",
       "      <td>transform</td>\n",
       "      <td>Creates a transform feature that subtracts two features.</td>\n",
       "    </tr>\n",
       "    <tr>\n",
       "      <th>40</th>\n",
       "      <td>days</td>\n",
       "      <td>transform</td>\n",
       "      <td>Transform a Timedelta feature into the number of days.</td>\n",
       "    </tr>\n",
       "    <tr>\n",
       "      <th>41</th>\n",
       "      <td>numwords</td>\n",
       "      <td>transform</td>\n",
       "      <td>Returns the words in a given string by counting the spaces.</td>\n",
       "    </tr>\n",
       "    <tr>\n",
       "      <th>42</th>\n",
       "      <td>and</td>\n",
       "      <td>transform</td>\n",
       "      <td>For two boolean values, determine if both values are 'True'.</td>\n",
       "    </tr>\n",
       "    <tr>\n",
       "      <th>43</th>\n",
       "      <td>weekday</td>\n",
       "      <td>transform</td>\n",
       "      <td>Transform Datetime feature into the boolean of Weekday.</td>\n",
       "    </tr>\n",
       "    <tr>\n",
       "      <th>44</th>\n",
       "      <td>time_since_previous</td>\n",
       "      <td>transform</td>\n",
       "      <td>Compute the time since the previous instance.</td>\n",
       "    </tr>\n",
       "    <tr>\n",
       "      <th>45</th>\n",
       "      <td>years</td>\n",
       "      <td>transform</td>\n",
       "      <td>Transform a Timedelta feature into the number of years.</td>\n",
       "    </tr>\n",
       "    <tr>\n",
       "      <th>46</th>\n",
       "      <td>days_since</td>\n",
       "      <td>transform</td>\n",
       "      <td>For each value of the base feature, compute the number of days between it</td>\n",
       "    </tr>\n",
       "    <tr>\n",
       "      <th>47</th>\n",
       "      <td>is_null</td>\n",
       "      <td>transform</td>\n",
       "      <td>For each value of base feature, return 'True' if value is null.</td>\n",
       "    </tr>\n",
       "    <tr>\n",
       "      <th>48</th>\n",
       "      <td>months</td>\n",
       "      <td>transform</td>\n",
       "      <td>Transform a Timedelta feature into the number of months.</td>\n",
       "    </tr>\n",
       "    <tr>\n",
       "      <th>49</th>\n",
       "      <td>longitude</td>\n",
       "      <td>transform</td>\n",
       "      <td>Returns the second value on the tuple base feature.</td>\n",
       "    </tr>\n",
       "    <tr>\n",
       "      <th>50</th>\n",
       "      <td>mod</td>\n",
       "      <td>transform</td>\n",
       "      <td>Creates a transform feature that divides two features.</td>\n",
       "    </tr>\n",
       "    <tr>\n",
       "      <th>51</th>\n",
       "      <td>weeks</td>\n",
       "      <td>transform</td>\n",
       "      <td>Transform a Timedelta feature into the number of weeks.</td>\n",
       "    </tr>\n",
       "    <tr>\n",
       "      <th>52</th>\n",
       "      <td>cum_max</td>\n",
       "      <td>transform</td>\n",
       "      <td>Calculates the max of previous values of an instance for each value in a time-dependent entity.</td>\n",
       "    </tr>\n",
       "    <tr>\n",
       "      <th>53</th>\n",
       "      <td>percentile</td>\n",
       "      <td>transform</td>\n",
       "      <td>For each value of the base feature, determines the percentile in relation</td>\n",
       "    </tr>\n",
       "    <tr>\n",
       "      <th>54</th>\n",
       "      <td>second</td>\n",
       "      <td>transform</td>\n",
       "      <td>Transform a Datetime feature into the second.</td>\n",
       "    </tr>\n",
       "    <tr>\n",
       "      <th>55</th>\n",
       "      <td>minutes</td>\n",
       "      <td>transform</td>\n",
       "      <td>Transform a Timedelta feature into the number of minutes.</td>\n",
       "    </tr>\n",
       "    <tr>\n",
       "      <th>56</th>\n",
       "      <td>multiply</td>\n",
       "      <td>transform</td>\n",
       "      <td>Creates a transform feature that multplies two features.</td>\n",
       "    </tr>\n",
       "    <tr>\n",
       "      <th>57</th>\n",
       "      <td>cum_mean</td>\n",
       "      <td>transform</td>\n",
       "      <td>Calculates the mean of previous values of an instance for each value in a time-dependent entity.</td>\n",
       "    </tr>\n",
       "    <tr>\n",
       "      <th>58</th>\n",
       "      <td>diff</td>\n",
       "      <td>transform</td>\n",
       "      <td>Compute the difference between the value of a base feature and the previous value.</td>\n",
       "    </tr>\n",
       "    <tr>\n",
       "      <th>59</th>\n",
       "      <td>hour</td>\n",
       "      <td>transform</td>\n",
       "      <td>Transform a Datetime feature into the hour.</td>\n",
       "    </tr>\n",
       "    <tr>\n",
       "      <th>60</th>\n",
       "      <td>add</td>\n",
       "      <td>transform</td>\n",
       "      <td>Creates a transform feature that adds two features.</td>\n",
       "    </tr>\n",
       "    <tr>\n",
       "      <th>61</th>\n",
       "      <td>or</td>\n",
       "      <td>transform</td>\n",
       "      <td>For two boolean values, determine if one value is 'True'.</td>\n",
       "    </tr>\n",
       "  </tbody>\n",
       "</table>\n",
       "<p>62 rows × 3 columns</p>\n",
       "</div>"
      ],
      "text/plain": [
       "                   name         type  \\\n",
       "0   max                  aggregation   \n",
       "1   std                  aggregation   \n",
       "2   skew                 aggregation   \n",
       "3   sum                  aggregation   \n",
       "4   trend                aggregation   \n",
       "5   count                aggregation   \n",
       "6   median               aggregation   \n",
       "7   time_since_last      aggregation   \n",
       "8   avg_time_between     aggregation   \n",
       "9   percent_true         aggregation   \n",
       "10  all                  aggregation   \n",
       "11  n_most_common        aggregation   \n",
       "12  num_true             aggregation   \n",
       "13  any                  aggregation   \n",
       "14  mode                 aggregation   \n",
       "15  num_unique           aggregation   \n",
       "16  last                 aggregation   \n",
       "17  min                  aggregation   \n",
       "18  mean                 aggregation   \n",
       "19  day                  transform     \n",
       "20  characters           transform     \n",
       "21  weekend              transform     \n",
       "22  isin                 transform     \n",
       "23  absolute             transform     \n",
       "24  year                 transform     \n",
       "25  haversine            transform     \n",
       "26  time_since           transform     \n",
       "27  month                transform     \n",
       "28  negate               transform     \n",
       "29  cum_min              transform     \n",
       "..      ...                    ...     \n",
       "32  week                 transform     \n",
       "33  cum_count            transform     \n",
       "34  not                  transform     \n",
       "35  hours                transform     \n",
       "36  minute               transform     \n",
       "37  seconds              transform     \n",
       "38  cum_sum              transform     \n",
       "39  subtract             transform     \n",
       "40  days                 transform     \n",
       "41  numwords             transform     \n",
       "42  and                  transform     \n",
       "43  weekday              transform     \n",
       "44  time_since_previous  transform     \n",
       "45  years                transform     \n",
       "46  days_since           transform     \n",
       "47  is_null              transform     \n",
       "48  months               transform     \n",
       "49  longitude            transform     \n",
       "50  mod                  transform     \n",
       "51  weeks                transform     \n",
       "52  cum_max              transform     \n",
       "53  percentile           transform     \n",
       "54  second               transform     \n",
       "55  minutes              transform     \n",
       "56  multiply             transform     \n",
       "57  cum_mean             transform     \n",
       "58  diff                 transform     \n",
       "59  hour                 transform     \n",
       "60  add                  transform     \n",
       "61  or                   transform     \n",
       "\n",
       "                                                                                           description  \n",
       "0   Finds the maximum non-null value of a numeric feature.                                              \n",
       "1   Finds the standard deviation of a numeric feature ignoring null values.                             \n",
       "2   Computes the skewness of a data set.                                                                \n",
       "3   Counts the number of elements of a numeric or boolean feature.                                      \n",
       "4   Calculates the slope of the linear trend of variable overtime.                                      \n",
       "5   Counts the number of non null values.                                                               \n",
       "6   Finds the median value of any feature with well-ordered values.                                     \n",
       "7   Time since last related instance.                                                                   \n",
       "8   Computes the average time between consecutive events.                                               \n",
       "9   Finds the percent of 'True' values in a boolean feature.                                            \n",
       "10  Test if all values are 'True'.                                                                      \n",
       "11  Finds the N most common elements in a categorical feature.                                          \n",
       "12  Finds the number of 'True' values in a boolean.                                                     \n",
       "13  Test if any value is 'True'.                                                                        \n",
       "14  Finds the most common element in a categorical feature.                                             \n",
       "15  Returns the number of unique categorical variables.                                                 \n",
       "16  Returns the last value.                                                                             \n",
       "17  Finds the minimum non-null value of a numeric feature.                                              \n",
       "18  Computes the average value of a numeric feature.                                                    \n",
       "19  Transform a Datetime feature into the day.                                                          \n",
       "20  Return the characters in a given string.                                                            \n",
       "21  Transform Datetime feature into the boolean of Weekend.                                             \n",
       "22  For each value of the base feature, checks whether it is in a provided list.                        \n",
       "23  Absolute value of base feature.                                                                     \n",
       "24  Transform a Datetime feature into the year.                                                         \n",
       "25  Calculate the approximate haversine distance in miles between two LatLong variable types.           \n",
       "26  Calculates time since the cutoff time.                                                              \n",
       "27  Transform a Datetime feature into the month.                                                        \n",
       "28  Creates a transform feature that negates a feature.                                                 \n",
       "29  Calculates the min of previous values of an instance for each value in a time-dependent entity.     \n",
       "..                                                                                              ...     \n",
       "32  Transform a Datetime feature into the week.                                                         \n",
       "33  Calculates the number of previous values of an instance for each value in a time-dependent entity.  \n",
       "34  For each value of the base feature, negates the boolean value.                                      \n",
       "35  Transform a Timedelta feature into the number of hours.                                             \n",
       "36  Transform a Datetime feature into the minute.                                                       \n",
       "37  Transform a Timedelta feature into the number of seconds.                                           \n",
       "38  Calculates the sum of previous values of an instance for each value in a time-dependent entity.     \n",
       "39  Creates a transform feature that subtracts two features.                                            \n",
       "40  Transform a Timedelta feature into the number of days.                                              \n",
       "41  Returns the words in a given string by counting the spaces.                                         \n",
       "42  For two boolean values, determine if both values are 'True'.                                        \n",
       "43  Transform Datetime feature into the boolean of Weekday.                                             \n",
       "44  Compute the time since the previous instance.                                                       \n",
       "45  Transform a Timedelta feature into the number of years.                                             \n",
       "46  For each value of the base feature, compute the number of days between it                           \n",
       "47  For each value of base feature, return 'True' if value is null.                                     \n",
       "48  Transform a Timedelta feature into the number of months.                                            \n",
       "49  Returns the second value on the tuple base feature.                                                 \n",
       "50  Creates a transform feature that divides two features.                                              \n",
       "51  Transform a Timedelta feature into the number of weeks.                                             \n",
       "52  Calculates the max of previous values of an instance for each value in a time-dependent entity.     \n",
       "53  For each value of the base feature, determines the percentile in relation                           \n",
       "54  Transform a Datetime feature into the second.                                                       \n",
       "55  Transform a Timedelta feature into the number of minutes.                                           \n",
       "56  Creates a transform feature that multplies two features.                                            \n",
       "57  Calculates the mean of previous values of an instance for each value in a time-dependent entity.    \n",
       "58  Compute the difference between the value of a base feature and the previous value.                  \n",
       "59  Transform a Datetime feature into the hour.                                                         \n",
       "60  Creates a transform feature that adds two features.                                                 \n",
       "61  For two boolean values, determine if one value is 'True'.                                           \n",
       "\n",
       "[62 rows x 3 columns]"
      ]
     },
     "execution_count": 47,
     "metadata": {},
     "output_type": "execute_result"
    }
   ],
   "source": [
    "# reminder of the dfs primitives\n",
    "ft.primitives.list_primitives()"
   ]
  },
  {
   "cell_type": "code",
   "execution_count": 48,
   "metadata": {
    "ExecuteTime": {
     "end_time": "2018-08-01T12:54:19.839228Z",
     "start_time": "2018-08-01T12:54:19.824302Z"
    },
    "hidden": true
   },
   "outputs": [],
   "source": [
    "# primitive selections\n",
    "agg_primitives=[\"mean\", \"median\", \"mode\",\n",
    "                \"max\", \"min\", \"std\", \"skew\",\n",
    "                \"count\", \"trend\",\n",
    "                \"last\", \"time_since_last\", \"avg_time_between\"]\n",
    "\n",
    "# not obvious that transforms needed\n",
    "# options, if so: \"percentile\", \"time_since_previous\", \"multiply\", \"mod\", \"add\", \"subtract\", \"diff\", \"divide\"\n",
    "trans_primitives=[]"
   ]
  },
  {
   "cell_type": "code",
   "execution_count": 49,
   "metadata": {
    "ExecuteTime": {
     "end_time": "2018-08-01T12:54:33.966668Z",
     "start_time": "2018-08-01T12:54:33.949988Z"
    },
    "hidden": true
   },
   "outputs": [],
   "source": [
    "# don't waste time on data that isn't relevant\n",
    "ignore_variables = {'faults': ['uuid',\n",
    "                               'order',\n",
    "                               'date',\n",
    "                               'device_class1',\n",
    "                               'device_class2',\n",
    "                               'device_class3',\n",
    "                               'failure']\n",
    "                   }"
   ]
  },
  {
   "cell_type": "markdown",
   "metadata": {
    "hidden": true
   },
   "source": [
    "I'm not going \"deep\" with stacking of feature primitives because tests suggest there is no additional information gained at the expense of time-consuming computation."
   ]
  },
  {
   "cell_type": "code",
   "execution_count": 51,
   "metadata": {
    "ExecuteTime": {
     "end_time": "2018-08-01T13:04:27.351889Z",
     "start_time": "2018-08-01T12:55:18.622434Z"
    },
    "hidden": true,
    "scrolled": true
   },
   "outputs": [
    {
     "name": "stdout",
     "output_type": "stream",
     "text": [
      "Built 197 features\n",
      "EntitySet scattered to workers in 5.659 seconds\n",
      "Elapsed: 05:54 | Remaining: 00:00 | Progress: 100%|██████████| Calculated: 306/306 chunks\n"
     ]
    },
    {
     "name": "stderr",
     "output_type": "stream",
     "text": [
      "distributed.nanny - WARNING - Worker process 6342 was killed by unknown signal\n",
      "distributed.nanny - WARNING - Worker process 6349 was killed by unknown signal\n",
      "distributed.nanny - WARNING - Worker process 6345 was killed by unknown signal\n",
      "distributed.nanny - WARNING - Worker process 6339 was killed by unknown signal\n",
      "distributed.nanny - WARNING - Worker process 6375 was killed by unknown signal\n",
      "distributed.nanny - WARNING - Worker process 6364 was killed by unknown signal\n",
      "distributed.nanny - WARNING - Worker process 6354 was killed by unknown signal\n",
      "distributed.nanny - WARNING - Worker process 6432 was killed by unknown signal\n",
      "distributed.nanny - WARNING - Worker process 6357 was killed by unknown signal\n",
      "distributed.nanny - WARNING - Worker process 6401 was killed by unknown signal\n",
      "distributed.nanny - WARNING - Worker process 6539 was killed by unknown signal\n",
      "distributed.nanny - WARNING - Worker process 6369 was killed by unknown signal\n",
      "distributed.nanny - WARNING - Worker process 6443 was killed by unknown signal\n",
      "distributed.nanny - WARNING - Worker process 6385 was killed by unknown signal\n",
      "distributed.nanny - WARNING - Worker process 6437 was killed by unknown signal\n",
      "distributed.nanny - WARNING - Worker process 6379 was killed by unknown signal\n",
      "distributed.nanny - WARNING - Worker process 6465 was killed by unknown signal\n",
      "distributed.nanny - WARNING - Worker process 6396 was killed by unknown signal\n",
      "distributed.nanny - WARNING - Worker process 6451 was killed by unknown signal\n",
      "distributed.nanny - WARNING - Worker process 6412 was killed by unknown signal\n",
      "distributed.nanny - WARNING - Worker process 6485 was killed by unknown signal\n",
      "distributed.nanny - WARNING - Worker process 6416 was killed by unknown signal\n",
      "distributed.nanny - WARNING - Worker process 6521 was killed by unknown signal\n",
      "distributed.nanny - WARNING - Worker process 6479 was killed by unknown signal\n",
      "distributed.nanny - WARNING - Worker process 6427 was killed by unknown signal\n",
      "distributed.nanny - WARNING - Worker process 6470 was killed by unknown signal\n",
      "distributed.nanny - WARNING - Worker process 6527 was killed by unknown signal\n",
      "distributed.nanny - WARNING - Worker process 6509 was killed by unknown signal\n",
      "distributed.nanny - WARNING - Worker process 6502 was killed by unknown signal\n",
      "distributed.nanny - WARNING - Worker process 6515 was killed by unknown signal\n",
      "distributed.nanny - WARNING - Worker process 6496 was killed by unknown signal\n",
      "distributed.nanny - WARNING - Worker process 6491 was killed by unknown signal\n",
      "distributed.nanny - WARNING - Worker process 6533 was killed by unknown signal\n",
      "distributed.nanny - WARNING - Worker process 6421 was killed by unknown signal\n",
      "distributed.nanny - WARNING - Worker process 6474 was killed by unknown signal\n",
      "distributed.nanny - WARNING - Worker process 6457 was killed by unknown signal\n",
      "ERROR:asyncio:Future exception was never retrieved\n",
      "future: <Future finished exception=StreamClosedError('Stream is closed',)>\n",
      "Traceback (most recent call last):\n",
      "  File \"/home/ubuntu/anaconda3/envs/tensorflow_p36/lib/python3.6/site-packages/tornado/tcpclient.py\", line 112, in on_connect_done\n",
      "    stream = future.result()\n",
      "tornado.iostream.StreamClosedError: Stream is closed\n",
      "ERROR:asyncio:Future exception was never retrieved\n",
      "future: <Future finished exception=CommClosedError('in <closed TCP>: ConnectionResetError: [Errno 104] Connection reset by peer',)>\n",
      "Traceback (most recent call last):\n",
      "  File \"/home/ubuntu/anaconda3/envs/tensorflow_p36/lib/python3.6/site-packages/distributed/comm/tcp.py\", line 177, in read\n",
      "    n_frames = yield stream.read_bytes(8)\n",
      "  File \"/home/ubuntu/anaconda3/envs/tensorflow_p36/lib/python3.6/site-packages/tornado/gen.py\", line 1133, in run\n",
      "    value = future.result()\n",
      "tornado.iostream.StreamClosedError: Stream is closed\n",
      "\n",
      "During handling of the above exception, another exception occurred:\n",
      "\n",
      "Traceback (most recent call last):\n",
      "  File \"/home/ubuntu/anaconda3/envs/tensorflow_p36/lib/python3.6/site-packages/tornado/gen.py\", line 1141, in run\n",
      "    yielded = self.gen.throw(*exc_info)\n",
      "  File \"/home/ubuntu/anaconda3/envs/tensorflow_p36/lib/python3.6/site-packages/distributed/comm/tcp.py\", line 198, in read\n",
      "    convert_stream_closed_error(self, e)\n",
      "  File \"/home/ubuntu/anaconda3/envs/tensorflow_p36/lib/python3.6/site-packages/distributed/comm/tcp.py\", line 124, in convert_stream_closed_error\n",
      "    raise CommClosedError(\"in %s: %s: %s\" % (obj, exc.__class__.__name__, exc))\n",
      "distributed.comm.core.CommClosedError: in <closed TCP>: ConnectionResetError: [Errno 104] Connection reset by peer\n",
      "ERROR:asyncio:Future exception was never retrieved\n",
      "future: <Future finished exception=CommClosedError('in <closed TCP>: ConnectionResetError: [Errno 104] Connection reset by peer',)>\n",
      "Traceback (most recent call last):\n",
      "  File \"/home/ubuntu/anaconda3/envs/tensorflow_p36/lib/python3.6/site-packages/distributed/comm/tcp.py\", line 177, in read\n",
      "    n_frames = yield stream.read_bytes(8)\n",
      "  File \"/home/ubuntu/anaconda3/envs/tensorflow_p36/lib/python3.6/site-packages/tornado/gen.py\", line 1133, in run\n",
      "    value = future.result()\n",
      "tornado.iostream.StreamClosedError: Stream is closed\n",
      "\n",
      "During handling of the above exception, another exception occurred:\n",
      "\n",
      "Traceback (most recent call last):\n",
      "  File \"/home/ubuntu/anaconda3/envs/tensorflow_p36/lib/python3.6/site-packages/tornado/gen.py\", line 1141, in run\n",
      "    yielded = self.gen.throw(*exc_info)\n",
      "  File \"/home/ubuntu/anaconda3/envs/tensorflow_p36/lib/python3.6/site-packages/distributed/comm/tcp.py\", line 198, in read\n",
      "    convert_stream_closed_error(self, e)\n",
      "  File \"/home/ubuntu/anaconda3/envs/tensorflow_p36/lib/python3.6/site-packages/distributed/comm/tcp.py\", line 124, in convert_stream_closed_error\n",
      "    raise CommClosedError(\"in %s: %s: %s\" % (obj, exc.__class__.__name__, exc))\n",
      "distributed.comm.core.CommClosedError: in <closed TCP>: ConnectionResetError: [Errno 104] Connection reset by peer\n",
      "ERROR:asyncio:Future exception was never retrieved\n",
      "future: <Future finished exception=CommClosedError('in <closed TCP>: ConnectionResetError: [Errno 104] Connection reset by peer',)>\n",
      "Traceback (most recent call last):\n",
      "  File \"/home/ubuntu/anaconda3/envs/tensorflow_p36/lib/python3.6/site-packages/distributed/comm/tcp.py\", line 177, in read\n",
      "    n_frames = yield stream.read_bytes(8)\n",
      "  File \"/home/ubuntu/anaconda3/envs/tensorflow_p36/lib/python3.6/site-packages/tornado/gen.py\", line 1133, in run\n",
      "    value = future.result()\n",
      "tornado.iostream.StreamClosedError: Stream is closed\n",
      "\n",
      "During handling of the above exception, another exception occurred:\n",
      "\n",
      "Traceback (most recent call last):\n",
      "  File \"/home/ubuntu/anaconda3/envs/tensorflow_p36/lib/python3.6/site-packages/tornado/gen.py\", line 1141, in run\n",
      "    yielded = self.gen.throw(*exc_info)\n",
      "  File \"/home/ubuntu/anaconda3/envs/tensorflow_p36/lib/python3.6/site-packages/distributed/comm/tcp.py\", line 198, in read\n",
      "    convert_stream_closed_error(self, e)\n",
      "  File \"/home/ubuntu/anaconda3/envs/tensorflow_p36/lib/python3.6/site-packages/distributed/comm/tcp.py\", line 124, in convert_stream_closed_error\n",
      "    raise CommClosedError(\"in %s: %s: %s\" % (obj, exc.__class__.__name__, exc))\n",
      "distributed.comm.core.CommClosedError: in <closed TCP>: ConnectionResetError: [Errno 104] Connection reset by peer\n",
      "ERROR:asyncio:Future exception was never retrieved\n",
      "future: <Future finished exception=CommClosedError('in <closed TCP>: ConnectionResetError: [Errno 104] Connection reset by peer',)>\n",
      "Traceback (most recent call last):\n",
      "  File \"/home/ubuntu/anaconda3/envs/tensorflow_p36/lib/python3.6/site-packages/distributed/comm/tcp.py\", line 177, in read\n",
      "    n_frames = yield stream.read_bytes(8)\n",
      "  File \"/home/ubuntu/anaconda3/envs/tensorflow_p36/lib/python3.6/site-packages/tornado/gen.py\", line 1133, in run\n",
      "    value = future.result()\n",
      "tornado.iostream.StreamClosedError: Stream is closed\n",
      "\n",
      "During handling of the above exception, another exception occurred:\n",
      "\n",
      "Traceback (most recent call last):\n",
      "  File \"/home/ubuntu/anaconda3/envs/tensorflow_p36/lib/python3.6/site-packages/tornado/gen.py\", line 1141, in run\n",
      "    yielded = self.gen.throw(*exc_info)\n",
      "  File \"/home/ubuntu/anaconda3/envs/tensorflow_p36/lib/python3.6/site-packages/distributed/comm/tcp.py\", line 198, in read\n",
      "    convert_stream_closed_error(self, e)\n",
      "  File \"/home/ubuntu/anaconda3/envs/tensorflow_p36/lib/python3.6/site-packages/distributed/comm/tcp.py\", line 124, in convert_stream_closed_error\n",
      "    raise CommClosedError(\"in %s: %s: %s\" % (obj, exc.__class__.__name__, exc))\n"
     ]
    },
    {
     "name": "stderr",
     "output_type": "stream",
     "text": [
      "distributed.comm.core.CommClosedError: in <closed TCP>: ConnectionResetError: [Errno 104] Connection reset by peer\n",
      "ERROR:asyncio:Future exception was never retrieved\n",
      "future: <Future finished exception=CommClosedError('in <closed TCP>: ConnectionResetError: [Errno 104] Connection reset by peer',)>\n",
      "Traceback (most recent call last):\n",
      "  File \"/home/ubuntu/anaconda3/envs/tensorflow_p36/lib/python3.6/site-packages/distributed/comm/tcp.py\", line 177, in read\n",
      "    n_frames = yield stream.read_bytes(8)\n",
      "  File \"/home/ubuntu/anaconda3/envs/tensorflow_p36/lib/python3.6/site-packages/tornado/gen.py\", line 1133, in run\n",
      "    value = future.result()\n",
      "tornado.iostream.StreamClosedError: Stream is closed\n",
      "\n",
      "During handling of the above exception, another exception occurred:\n",
      "\n",
      "Traceback (most recent call last):\n",
      "  File \"/home/ubuntu/anaconda3/envs/tensorflow_p36/lib/python3.6/site-packages/tornado/gen.py\", line 1141, in run\n",
      "    yielded = self.gen.throw(*exc_info)\n",
      "  File \"/home/ubuntu/anaconda3/envs/tensorflow_p36/lib/python3.6/site-packages/distributed/comm/tcp.py\", line 198, in read\n",
      "    convert_stream_closed_error(self, e)\n",
      "  File \"/home/ubuntu/anaconda3/envs/tensorflow_p36/lib/python3.6/site-packages/distributed/comm/tcp.py\", line 124, in convert_stream_closed_error\n",
      "    raise CommClosedError(\"in %s: %s: %s\" % (obj, exc.__class__.__name__, exc))\n",
      "distributed.comm.core.CommClosedError: in <closed TCP>: ConnectionResetError: [Errno 104] Connection reset by peer\n",
      "ERROR:asyncio:Future exception was never retrieved\n",
      "future: <Future finished exception=CommClosedError('in <closed TCP>: ConnectionResetError: [Errno 104] Connection reset by peer',)>\n",
      "Traceback (most recent call last):\n",
      "  File \"/home/ubuntu/anaconda3/envs/tensorflow_p36/lib/python3.6/site-packages/distributed/comm/tcp.py\", line 177, in read\n",
      "    n_frames = yield stream.read_bytes(8)\n",
      "  File \"/home/ubuntu/anaconda3/envs/tensorflow_p36/lib/python3.6/site-packages/tornado/gen.py\", line 1133, in run\n",
      "    value = future.result()\n",
      "tornado.iostream.StreamClosedError: Stream is closed\n",
      "\n",
      "During handling of the above exception, another exception occurred:\n",
      "\n",
      "Traceback (most recent call last):\n",
      "  File \"/home/ubuntu/anaconda3/envs/tensorflow_p36/lib/python3.6/site-packages/tornado/gen.py\", line 1141, in run\n",
      "    yielded = self.gen.throw(*exc_info)\n",
      "  File \"/home/ubuntu/anaconda3/envs/tensorflow_p36/lib/python3.6/site-packages/distributed/comm/tcp.py\", line 198, in read\n",
      "    convert_stream_closed_error(self, e)\n",
      "  File \"/home/ubuntu/anaconda3/envs/tensorflow_p36/lib/python3.6/site-packages/distributed/comm/tcp.py\", line 124, in convert_stream_closed_error\n",
      "    raise CommClosedError(\"in %s: %s: %s\" % (obj, exc.__class__.__name__, exc))\n",
      "distributed.comm.core.CommClosedError: in <closed TCP>: ConnectionResetError: [Errno 104] Connection reset by peer\n",
      "ERROR:asyncio:Future exception was never retrieved\n",
      "future: <Future finished exception=CommClosedError('in <closed TCP>: ConnectionResetError: [Errno 104] Connection reset by peer',)>\n",
      "Traceback (most recent call last):\n",
      "  File \"/home/ubuntu/anaconda3/envs/tensorflow_p36/lib/python3.6/site-packages/distributed/comm/tcp.py\", line 177, in read\n",
      "    n_frames = yield stream.read_bytes(8)\n",
      "  File \"/home/ubuntu/anaconda3/envs/tensorflow_p36/lib/python3.6/site-packages/tornado/gen.py\", line 1133, in run\n",
      "    value = future.result()\n",
      "tornado.iostream.StreamClosedError: Stream is closed\n",
      "\n",
      "During handling of the above exception, another exception occurred:\n",
      "\n",
      "Traceback (most recent call last):\n",
      "  File \"/home/ubuntu/anaconda3/envs/tensorflow_p36/lib/python3.6/site-packages/tornado/gen.py\", line 1141, in run\n",
      "    yielded = self.gen.throw(*exc_info)\n",
      "  File \"/home/ubuntu/anaconda3/envs/tensorflow_p36/lib/python3.6/site-packages/distributed/comm/tcp.py\", line 198, in read\n",
      "    convert_stream_closed_error(self, e)\n",
      "  File \"/home/ubuntu/anaconda3/envs/tensorflow_p36/lib/python3.6/site-packages/distributed/comm/tcp.py\", line 124, in convert_stream_closed_error\n",
      "    raise CommClosedError(\"in %s: %s: %s\" % (obj, exc.__class__.__name__, exc))\n",
      "distributed.comm.core.CommClosedError: in <closed TCP>: ConnectionResetError: [Errno 104] Connection reset by peer\n",
      "ERROR:asyncio:Future exception was never retrieved\n",
      "future: <Future finished exception=CommClosedError('in <closed TCP>: ConnectionResetError: [Errno 104] Connection reset by peer',)>\n",
      "Traceback (most recent call last):\n",
      "  File \"/home/ubuntu/anaconda3/envs/tensorflow_p36/lib/python3.6/site-packages/distributed/comm/tcp.py\", line 177, in read\n",
      "    n_frames = yield stream.read_bytes(8)\n",
      "  File \"/home/ubuntu/anaconda3/envs/tensorflow_p36/lib/python3.6/site-packages/tornado/gen.py\", line 1133, in run\n",
      "    value = future.result()\n",
      "tornado.iostream.StreamClosedError: Stream is closed\n",
      "\n",
      "During handling of the above exception, another exception occurred:\n",
      "\n",
      "Traceback (most recent call last):\n",
      "  File \"/home/ubuntu/anaconda3/envs/tensorflow_p36/lib/python3.6/site-packages/tornado/gen.py\", line 1141, in run\n",
      "    yielded = self.gen.throw(*exc_info)\n",
      "  File \"/home/ubuntu/anaconda3/envs/tensorflow_p36/lib/python3.6/site-packages/distributed/comm/tcp.py\", line 198, in read\n",
      "    convert_stream_closed_error(self, e)\n",
      "  File \"/home/ubuntu/anaconda3/envs/tensorflow_p36/lib/python3.6/site-packages/distributed/comm/tcp.py\", line 124, in convert_stream_closed_error\n",
      "    raise CommClosedError(\"in %s: %s: %s\" % (obj, exc.__class__.__name__, exc))\n",
      "distributed.comm.core.CommClosedError: in <closed TCP>: ConnectionResetError: [Errno 104] Connection reset by peer\n",
      "ERROR:asyncio:Future exception was never retrieved\n",
      "future: <Future finished exception=CommClosedError('in <closed TCP>: ConnectionResetError: [Errno 104] Connection reset by peer',)>\n",
      "Traceback (most recent call last):\n",
      "  File \"/home/ubuntu/anaconda3/envs/tensorflow_p36/lib/python3.6/site-packages/distributed/comm/tcp.py\", line 177, in read\n",
      "    n_frames = yield stream.read_bytes(8)\n",
      "  File \"/home/ubuntu/anaconda3/envs/tensorflow_p36/lib/python3.6/site-packages/tornado/gen.py\", line 1133, in run\n",
      "    value = future.result()\n",
      "tornado.iostream.StreamClosedError: Stream is closed\n",
      "\n",
      "During handling of the above exception, another exception occurred:\n",
      "\n",
      "Traceback (most recent call last):\n",
      "  File \"/home/ubuntu/anaconda3/envs/tensorflow_p36/lib/python3.6/site-packages/tornado/gen.py\", line 1141, in run\n",
      "    yielded = self.gen.throw(*exc_info)\n",
      "  File \"/home/ubuntu/anaconda3/envs/tensorflow_p36/lib/python3.6/site-packages/distributed/comm/tcp.py\", line 198, in read\n",
      "    convert_stream_closed_error(self, e)\n",
      "  File \"/home/ubuntu/anaconda3/envs/tensorflow_p36/lib/python3.6/site-packages/distributed/comm/tcp.py\", line 124, in convert_stream_closed_error\n",
      "    raise CommClosedError(\"in %s: %s: %s\" % (obj, exc.__class__.__name__, exc))\n",
      "distributed.comm.core.CommClosedError: in <closed TCP>: ConnectionResetError: [Errno 104] Connection reset by peer\n",
      "ERROR:asyncio:Future exception was never retrieved\n",
      "future: <Future finished exception=CommClosedError('in <closed TCP>: ConnectionResetError: [Errno 104] Connection reset by peer',)>\n",
      "Traceback (most recent call last):\n",
      "  File \"/home/ubuntu/anaconda3/envs/tensorflow_p36/lib/python3.6/site-packages/distributed/comm/tcp.py\", line 177, in read\n",
      "    n_frames = yield stream.read_bytes(8)\n",
      "  File \"/home/ubuntu/anaconda3/envs/tensorflow_p36/lib/python3.6/site-packages/tornado/gen.py\", line 1133, in run\n",
      "    value = future.result()\n",
      "tornado.iostream.StreamClosedError: Stream is closed\n",
      "\n",
      "During handling of the above exception, another exception occurred:\n",
      "\n",
      "Traceback (most recent call last):\n",
      "  File \"/home/ubuntu/anaconda3/envs/tensorflow_p36/lib/python3.6/site-packages/tornado/gen.py\", line 1141, in run\n",
      "    yielded = self.gen.throw(*exc_info)\n",
      "  File \"/home/ubuntu/anaconda3/envs/tensorflow_p36/lib/python3.6/site-packages/distributed/comm/tcp.py\", line 198, in read\n",
      "    convert_stream_closed_error(self, e)\n",
      "  File \"/home/ubuntu/anaconda3/envs/tensorflow_p36/lib/python3.6/site-packages/distributed/comm/tcp.py\", line 124, in convert_stream_closed_error\n",
      "    raise CommClosedError(\"in %s: %s: %s\" % (obj, exc.__class__.__name__, exc))\n",
      "distributed.comm.core.CommClosedError: in <closed TCP>: ConnectionResetError: [Errno 104] Connection reset by peer\n",
      "ERROR:asyncio:Future exception was never retrieved\n",
      "future: <Future finished exception=CommClosedError('in <closed TCP>: ConnectionResetError: [Errno 104] Connection reset by peer',)>\n",
      "Traceback (most recent call last):\n",
      "  File \"/home/ubuntu/anaconda3/envs/tensorflow_p36/lib/python3.6/site-packages/distributed/comm/tcp.py\", line 177, in read\n",
      "    n_frames = yield stream.read_bytes(8)\n",
      "  File \"/home/ubuntu/anaconda3/envs/tensorflow_p36/lib/python3.6/site-packages/tornado/gen.py\", line 1133, in run\n",
      "    value = future.result()\n",
      "tornado.iostream.StreamClosedError: Stream is closed\n",
      "\n",
      "During handling of the above exception, another exception occurred:\n",
      "\n",
      "Traceback (most recent call last):\n",
      "  File \"/home/ubuntu/anaconda3/envs/tensorflow_p36/lib/python3.6/site-packages/tornado/gen.py\", line 1141, in run\n",
      "    yielded = self.gen.throw(*exc_info)\n",
      "  File \"/home/ubuntu/anaconda3/envs/tensorflow_p36/lib/python3.6/site-packages/distributed/comm/tcp.py\", line 198, in read\n",
      "    convert_stream_closed_error(self, e)\n",
      "  File \"/home/ubuntu/anaconda3/envs/tensorflow_p36/lib/python3.6/site-packages/distributed/comm/tcp.py\", line 124, in convert_stream_closed_error\n",
      "    raise CommClosedError(\"in %s: %s: %s\" % (obj, exc.__class__.__name__, exc))\n"
     ]
    },
    {
     "name": "stderr",
     "output_type": "stream",
     "text": [
      "distributed.comm.core.CommClosedError: in <closed TCP>: ConnectionResetError: [Errno 104] Connection reset by peer\n",
      "ERROR:asyncio:Future exception was never retrieved\n",
      "future: <Future finished exception=CommClosedError('in <closed TCP>: ConnectionResetError: [Errno 104] Connection reset by peer',)>\n",
      "Traceback (most recent call last):\n",
      "  File \"/home/ubuntu/anaconda3/envs/tensorflow_p36/lib/python3.6/site-packages/distributed/comm/tcp.py\", line 177, in read\n",
      "    n_frames = yield stream.read_bytes(8)\n",
      "  File \"/home/ubuntu/anaconda3/envs/tensorflow_p36/lib/python3.6/site-packages/tornado/gen.py\", line 1133, in run\n",
      "    value = future.result()\n",
      "tornado.iostream.StreamClosedError: Stream is closed\n",
      "\n",
      "During handling of the above exception, another exception occurred:\n",
      "\n",
      "Traceback (most recent call last):\n",
      "  File \"/home/ubuntu/anaconda3/envs/tensorflow_p36/lib/python3.6/site-packages/tornado/gen.py\", line 1141, in run\n",
      "    yielded = self.gen.throw(*exc_info)\n",
      "  File \"/home/ubuntu/anaconda3/envs/tensorflow_p36/lib/python3.6/site-packages/distributed/comm/tcp.py\", line 198, in read\n",
      "    convert_stream_closed_error(self, e)\n",
      "  File \"/home/ubuntu/anaconda3/envs/tensorflow_p36/lib/python3.6/site-packages/distributed/comm/tcp.py\", line 124, in convert_stream_closed_error\n",
      "    raise CommClosedError(\"in %s: %s: %s\" % (obj, exc.__class__.__name__, exc))\n",
      "distributed.comm.core.CommClosedError: in <closed TCP>: ConnectionResetError: [Errno 104] Connection reset by peer\n",
      "ERROR:asyncio:Future exception was never retrieved\n",
      "future: <Future finished exception=CommClosedError('in <closed TCP>: ConnectionResetError: [Errno 104] Connection reset by peer',)>\n",
      "Traceback (most recent call last):\n",
      "  File \"/home/ubuntu/anaconda3/envs/tensorflow_p36/lib/python3.6/site-packages/distributed/comm/tcp.py\", line 177, in read\n",
      "    n_frames = yield stream.read_bytes(8)\n",
      "  File \"/home/ubuntu/anaconda3/envs/tensorflow_p36/lib/python3.6/site-packages/tornado/gen.py\", line 1133, in run\n",
      "    value = future.result()\n",
      "tornado.iostream.StreamClosedError: Stream is closed\n",
      "\n",
      "During handling of the above exception, another exception occurred:\n",
      "\n",
      "Traceback (most recent call last):\n",
      "  File \"/home/ubuntu/anaconda3/envs/tensorflow_p36/lib/python3.6/site-packages/tornado/gen.py\", line 1141, in run\n",
      "    yielded = self.gen.throw(*exc_info)\n",
      "  File \"/home/ubuntu/anaconda3/envs/tensorflow_p36/lib/python3.6/site-packages/distributed/comm/tcp.py\", line 198, in read\n",
      "    convert_stream_closed_error(self, e)\n",
      "  File \"/home/ubuntu/anaconda3/envs/tensorflow_p36/lib/python3.6/site-packages/distributed/comm/tcp.py\", line 124, in convert_stream_closed_error\n",
      "    raise CommClosedError(\"in %s: %s: %s\" % (obj, exc.__class__.__name__, exc))\n",
      "distributed.comm.core.CommClosedError: in <closed TCP>: ConnectionResetError: [Errno 104] Connection reset by peer\n",
      "ERROR:asyncio:Future exception was never retrieved\n",
      "future: <Future finished exception=CommClosedError('in <closed TCP>: ConnectionResetError: [Errno 104] Connection reset by peer',)>\n",
      "Traceback (most recent call last):\n",
      "  File \"/home/ubuntu/anaconda3/envs/tensorflow_p36/lib/python3.6/site-packages/distributed/comm/tcp.py\", line 177, in read\n",
      "    n_frames = yield stream.read_bytes(8)\n",
      "  File \"/home/ubuntu/anaconda3/envs/tensorflow_p36/lib/python3.6/site-packages/tornado/gen.py\", line 1133, in run\n",
      "    value = future.result()\n",
      "tornado.iostream.StreamClosedError: Stream is closed\n",
      "\n",
      "During handling of the above exception, another exception occurred:\n",
      "\n",
      "Traceback (most recent call last):\n",
      "  File \"/home/ubuntu/anaconda3/envs/tensorflow_p36/lib/python3.6/site-packages/tornado/gen.py\", line 1141, in run\n",
      "    yielded = self.gen.throw(*exc_info)\n",
      "  File \"/home/ubuntu/anaconda3/envs/tensorflow_p36/lib/python3.6/site-packages/distributed/comm/tcp.py\", line 198, in read\n",
      "    convert_stream_closed_error(self, e)\n",
      "  File \"/home/ubuntu/anaconda3/envs/tensorflow_p36/lib/python3.6/site-packages/distributed/comm/tcp.py\", line 124, in convert_stream_closed_error\n",
      "    raise CommClosedError(\"in %s: %s: %s\" % (obj, exc.__class__.__name__, exc))\n",
      "distributed.comm.core.CommClosedError: in <closed TCP>: ConnectionResetError: [Errno 104] Connection reset by peer\n",
      "Exception ignored in: <generator object add_client at 0x7fa984d5c518>\n",
      "RuntimeError: generator ignored GeneratorExit\n",
      "ERROR:asyncio:Future exception was never retrieved\n",
      "future: <Future finished exception=CommClosedError('in <closed TCP>: ConnectionResetError: [Errno 104] Connection reset by peer',)>\n",
      "Traceback (most recent call last):\n",
      "  File \"/home/ubuntu/anaconda3/envs/tensorflow_p36/lib/python3.6/site-packages/distributed/comm/tcp.py\", line 177, in read\n",
      "    n_frames = yield stream.read_bytes(8)\n",
      "  File \"/home/ubuntu/anaconda3/envs/tensorflow_p36/lib/python3.6/site-packages/tornado/gen.py\", line 1133, in run\n",
      "    value = future.result()\n",
      "tornado.iostream.StreamClosedError: Stream is closed\n",
      "\n",
      "During handling of the above exception, another exception occurred:\n",
      "\n",
      "Traceback (most recent call last):\n",
      "  File \"/home/ubuntu/anaconda3/envs/tensorflow_p36/lib/python3.6/site-packages/tornado/gen.py\", line 1141, in run\n",
      "    yielded = self.gen.throw(*exc_info)\n",
      "  File \"/home/ubuntu/anaconda3/envs/tensorflow_p36/lib/python3.6/site-packages/distributed/comm/tcp.py\", line 198, in read\n",
      "    convert_stream_closed_error(self, e)\n",
      "  File \"/home/ubuntu/anaconda3/envs/tensorflow_p36/lib/python3.6/site-packages/distributed/comm/tcp.py\", line 124, in convert_stream_closed_error\n",
      "    raise CommClosedError(\"in %s: %s: %s\" % (obj, exc.__class__.__name__, exc))\n",
      "distributed.comm.core.CommClosedError: in <closed TCP>: ConnectionResetError: [Errno 104] Connection reset by peer\n",
      "ERROR:asyncio:Future exception was never retrieved\n",
      "future: <Future finished exception=CommClosedError('in <closed TCP>: ConnectionResetError: [Errno 104] Connection reset by peer',)>\n",
      "Traceback (most recent call last):\n",
      "  File \"/home/ubuntu/anaconda3/envs/tensorflow_p36/lib/python3.6/site-packages/distributed/comm/tcp.py\", line 177, in read\n",
      "    n_frames = yield stream.read_bytes(8)\n",
      "  File \"/home/ubuntu/anaconda3/envs/tensorflow_p36/lib/python3.6/site-packages/tornado/gen.py\", line 1133, in run\n",
      "    value = future.result()\n",
      "tornado.iostream.StreamClosedError: Stream is closed\n",
      "\n",
      "During handling of the above exception, another exception occurred:\n",
      "\n",
      "Traceback (most recent call last):\n",
      "  File \"/home/ubuntu/anaconda3/envs/tensorflow_p36/lib/python3.6/site-packages/tornado/gen.py\", line 1141, in run\n",
      "    yielded = self.gen.throw(*exc_info)\n",
      "  File \"/home/ubuntu/anaconda3/envs/tensorflow_p36/lib/python3.6/site-packages/distributed/comm/tcp.py\", line 198, in read\n",
      "    convert_stream_closed_error(self, e)\n",
      "  File \"/home/ubuntu/anaconda3/envs/tensorflow_p36/lib/python3.6/site-packages/distributed/comm/tcp.py\", line 124, in convert_stream_closed_error\n",
      "    raise CommClosedError(\"in %s: %s: %s\" % (obj, exc.__class__.__name__, exc))\n",
      "distributed.comm.core.CommClosedError: in <closed TCP>: ConnectionResetError: [Errno 104] Connection reset by peer\n",
      "ERROR:asyncio:Future exception was never retrieved\n",
      "future: <Future finished exception=CommClosedError('in <closed TCP>: ConnectionResetError: [Errno 104] Connection reset by peer',)>\n",
      "Traceback (most recent call last):\n",
      "  File \"/home/ubuntu/anaconda3/envs/tensorflow_p36/lib/python3.6/site-packages/distributed/comm/tcp.py\", line 177, in read\n",
      "    n_frames = yield stream.read_bytes(8)\n",
      "  File \"/home/ubuntu/anaconda3/envs/tensorflow_p36/lib/python3.6/site-packages/tornado/gen.py\", line 1133, in run\n",
      "    value = future.result()\n",
      "tornado.iostream.StreamClosedError: Stream is closed\n",
      "\n",
      "During handling of the above exception, another exception occurred:\n",
      "\n",
      "Traceback (most recent call last):\n",
      "  File \"/home/ubuntu/anaconda3/envs/tensorflow_p36/lib/python3.6/site-packages/tornado/gen.py\", line 1141, in run\n",
      "    yielded = self.gen.throw(*exc_info)\n",
      "  File \"/home/ubuntu/anaconda3/envs/tensorflow_p36/lib/python3.6/site-packages/distributed/comm/tcp.py\", line 198, in read\n",
      "    convert_stream_closed_error(self, e)\n",
      "  File \"/home/ubuntu/anaconda3/envs/tensorflow_p36/lib/python3.6/site-packages/distributed/comm/tcp.py\", line 124, in convert_stream_closed_error\n",
      "    raise CommClosedError(\"in %s: %s: %s\" % (obj, exc.__class__.__name__, exc))\n"
     ]
    },
    {
     "name": "stderr",
     "output_type": "stream",
     "text": [
      "distributed.comm.core.CommClosedError: in <closed TCP>: ConnectionResetError: [Errno 104] Connection reset by peer\n",
      "ERROR:asyncio:Future exception was never retrieved\n",
      "future: <Future finished exception=CommClosedError('in <closed TCP>: ConnectionResetError: [Errno 104] Connection reset by peer',)>\n",
      "Traceback (most recent call last):\n",
      "  File \"/home/ubuntu/anaconda3/envs/tensorflow_p36/lib/python3.6/site-packages/distributed/comm/tcp.py\", line 177, in read\n",
      "    n_frames = yield stream.read_bytes(8)\n",
      "  File \"/home/ubuntu/anaconda3/envs/tensorflow_p36/lib/python3.6/site-packages/tornado/gen.py\", line 1133, in run\n",
      "    value = future.result()\n",
      "tornado.iostream.StreamClosedError: Stream is closed\n",
      "\n",
      "During handling of the above exception, another exception occurred:\n",
      "\n",
      "Traceback (most recent call last):\n",
      "  File \"/home/ubuntu/anaconda3/envs/tensorflow_p36/lib/python3.6/site-packages/tornado/gen.py\", line 1141, in run\n",
      "    yielded = self.gen.throw(*exc_info)\n",
      "  File \"/home/ubuntu/anaconda3/envs/tensorflow_p36/lib/python3.6/site-packages/distributed/comm/tcp.py\", line 198, in read\n",
      "    convert_stream_closed_error(self, e)\n",
      "  File \"/home/ubuntu/anaconda3/envs/tensorflow_p36/lib/python3.6/site-packages/distributed/comm/tcp.py\", line 124, in convert_stream_closed_error\n",
      "    raise CommClosedError(\"in %s: %s: %s\" % (obj, exc.__class__.__name__, exc))\n",
      "distributed.comm.core.CommClosedError: in <closed TCP>: ConnectionResetError: [Errno 104] Connection reset by peer\n",
      "ERROR:asyncio:Future exception was never retrieved\n",
      "future: <Future finished exception=TimeoutError('Timeout',)>\n",
      "tornado.util.TimeoutError: Timeout\n"
     ]
    }
   ],
   "source": [
    "# create the feature tensor\n",
    "feature_tensor, feature_defs = ft.dfs(\n",
    "    entityset=es,\n",
    "    target_entity='unique_devices',\n",
    "    cutoff_time=temporal_cutoffs,\n",
    "    cutoff_time_in_index=True,\n",
    "    agg_primitives=agg_primitives,\n",
    "    trans_primitives=trans_primitives,\n",
    "    ignore_variables=ignore_variables,\n",
    "    max_depth=1,\n",
    "    max_features=-1,\n",
    "    chunk_size=\"cutoff time\",\n",
    "    n_jobs=-1,\n",
    "    verbose=True)"
   ]
  },
  {
   "cell_type": "code",
   "execution_count": 53,
   "metadata": {
    "ExecuteTime": {
     "end_time": "2018-08-01T13:13:17.801055Z",
     "start_time": "2018-08-01T13:13:17.159390Z"
    },
    "hidden": true
   },
   "outputs": [],
   "source": [
    "# save intermediate output\n",
    "hdf_file = 'raw_dfs_feature_tensor.h5'\n",
    "table_name = 'feature_tensor'\n",
    "save_hdf5(feature_tensor, hdf_file, table_name)"
   ]
  },
  {
   "cell_type": "markdown",
   "metadata": {
    "heading_collapsed": true,
    "hidden": true
   },
   "source": [
    "## QA"
   ]
  },
  {
   "cell_type": "code",
   "execution_count": 54,
   "metadata": {
    "ExecuteTime": {
     "end_time": "2018-08-01T13:13:23.286008Z",
     "start_time": "2018-08-01T13:13:23.023537Z"
    },
    "hidden": true
   },
   "outputs": [],
   "source": [
    "# clean-up data and don't disturb original\n",
    "dfs_qa = feature_tensor.copy().reset_index()\n",
    "dfs_qa.rename(columns={'time':'datetime'}, inplace=True)"
   ]
  },
  {
   "cell_type": "code",
   "execution_count": 55,
   "metadata": {
    "ExecuteTime": {
     "end_time": "2018-08-01T13:13:24.147061Z",
     "start_time": "2018-08-01T13:13:24.129031Z"
    },
    "hidden": true
   },
   "outputs": [],
   "source": [
    "# data in == data out\n",
    "orig_len = len(dfs_qa)\n",
    "new_len = len(feature_tensor)\n",
    "assert orig_len == new_len, 'There is new or missing data'"
   ]
  },
  {
   "cell_type": "markdown",
   "metadata": {
    "hidden": true
   },
   "source": [
    "The '1d' time windows in DFS automatically create steps in time where there may not be data, e.g.:\n",
    "* original: [1 2 3 4 8 9]\n",
    "* dfs: [1 2 3 4 **_5 6 7_** 8 9]\n",
    "\n",
    "There are added values. Simply joing back against original dataframe (need to do anyways) fixes this."
   ]
  },
  {
   "cell_type": "code",
   "execution_count": 56,
   "metadata": {
    "ExecuteTime": {
     "end_time": "2018-08-01T13:13:28.666766Z",
     "start_time": "2018-08-01T13:13:28.229096Z"
    },
    "hidden": true
   },
   "outputs": [],
   "source": [
    "# per problem statement, one device per day?\n",
    "check = dfs_qa.datetime.astype(str) + dfs_qa.device.astype(str)\n",
    "assert len(check) == len(check.drop_duplicates()), 'More than one device per day'"
   ]
  },
  {
   "cell_type": "code",
   "execution_count": 57,
   "metadata": {
    "ExecuteTime": {
     "end_time": "2018-08-01T13:13:32.053171Z",
     "start_time": "2018-08-01T13:13:29.737484Z"
    },
    "hidden": true
   },
   "outputs": [
    {
     "data": {
      "text/plain": [
       "['MIN(faults.a7_service_count)',\n",
       " 'MEDIAN(faults.f_clear_count)',\n",
       " 'MAX(faults.f_clear_mag)',\n",
       " 'MIN(faults.a2_service_count)',\n",
       " 'MIN(faults.f_clear_count)',\n",
       " 'MIN(faults.a5_service_count)',\n",
       " 'MAX(faults.a5_service_mag)',\n",
       " 'MAX(faults.a2_service_mag)',\n",
       " 'MEDIAN(faults.f_clear_mag)',\n",
       " 'MAX(faults.a7_service_mag)']"
      ]
     },
     "execution_count": 57,
     "metadata": {},
     "output_type": "execute_result"
    }
   ],
   "source": [
    "# rid ourselves of the junk datetime features due to arbitrary date assignment\n",
    "dropcols = dfs_qa.filter(regex='DAY|MONTH|WEEKDAY|YEAR').columns.tolist()\n",
    "nunique = dfs_qa.apply(pd.Series.nunique)\n",
    "dropcols.extend(nunique[nunique == 1].index.tolist())\n",
    "list(set(dropcols))"
   ]
  },
  {
   "cell_type": "code",
   "execution_count": 58,
   "metadata": {
    "ExecuteTime": {
     "end_time": "2018-08-01T13:13:51.283047Z",
     "start_time": "2018-08-01T13:13:51.215422Z"
    },
    "hidden": true
   },
   "outputs": [],
   "source": [
    "# drop them\n",
    "dfs_qa.drop(dropcols, axis=1, inplace=True)"
   ]
  },
  {
   "cell_type": "code",
   "execution_count": 59,
   "metadata": {
    "ExecuteTime": {
     "end_time": "2018-08-01T13:14:00.301799Z",
     "start_time": "2018-08-01T13:13:59.592896Z"
    },
    "hidden": true
   },
   "outputs": [],
   "source": [
    "# merge dfs with original faults\n",
    "faults_dfs_df = pd.merge(faults_df, dfs_qa, on=['device','datetime'], suffixes=('', '_y'))\n",
    "assert len(faults_dfs_df) == len(faults_df), 'Something went wrong in merge'"
   ]
  },
  {
   "cell_type": "code",
   "execution_count": 60,
   "metadata": {
    "ExecuteTime": {
     "end_time": "2018-08-01T13:14:01.805749Z",
     "start_time": "2018-08-01T13:14:01.583863Z"
    },
    "hidden": true
   },
   "outputs": [],
   "source": [
    "# some duplicate columns in join\n",
    "dropcols = faults_dfs_df.filter(regex='_y')\n",
    "faults_dfs_df.drop(dropcols, axis=1, inplace=True)"
   ]
  },
  {
   "cell_type": "code",
   "execution_count": 61,
   "metadata": {
    "ExecuteTime": {
     "end_time": "2018-08-01T13:14:22.359482Z",
     "start_time": "2018-08-01T13:14:03.294914Z"
    },
    "hidden": true
   },
   "outputs": [],
   "source": [
    "# 10 min runtime for above on laptop, save output just in case\n",
    "hdf_file = 'qa_dfs_feature_tensor.h5'\n",
    "table_name = 'feature_tensor'\n",
    "save_hdf5(faults_dfs_df, hdf_file, table_name, format='table')"
   ]
  },
  {
   "cell_type": "markdown",
   "metadata": {
    "heading_collapsed": true
   },
   "source": [
    "# Training Data"
   ]
  },
  {
   "cell_type": "code",
   "execution_count": 62,
   "metadata": {
    "ExecuteTime": {
     "end_time": "2018-08-01T13:14:59.648572Z",
     "start_time": "2018-08-01T13:14:58.618964Z"
    },
    "hidden": true
   },
   "outputs": [],
   "source": [
    "# reload data\n",
    "hdf_file = 'qa_dfs_feature_tensor.h5'\n",
    "table_name = 'feature_tensor'\n",
    "Xy = pd.read_hdf(hdf_file, table_name)\n",
    "feature_names = Xy.columns.tolist()"
   ]
  },
  {
   "cell_type": "code",
   "execution_count": 63,
   "metadata": {
    "ExecuteTime": {
     "end_time": "2018-08-01T13:15:03.532326Z",
     "start_time": "2018-08-01T13:15:00.850664Z"
    },
    "hidden": true
   },
   "outputs": [
    {
     "data": {
      "text/plain": [
       "[]"
      ]
     },
     "execution_count": 63,
     "metadata": {},
     "output_type": "execute_result"
    }
   ],
   "source": [
    "# some dfs are uniform\n",
    "nunique = Xy.apply(pd.Series.nunique)\n",
    "dropcols = nunique[nunique == 1].index.tolist()\n",
    "sorted(dropcols)"
   ]
  },
  {
   "cell_type": "code",
   "execution_count": 64,
   "metadata": {
    "ExecuteTime": {
     "end_time": "2018-08-01T13:15:04.267059Z",
     "start_time": "2018-08-01T13:15:04.251497Z"
    },
    "hidden": true
   },
   "outputs": [],
   "source": [
    "# remove uniform cols\n",
    "if len(dropcols) > 0:\n",
    "    Xy.drop(dropcols, axis=1, inplace=True)"
   ]
  },
  {
   "cell_type": "code",
   "execution_count": 65,
   "metadata": {
    "ExecuteTime": {
     "end_time": "2018-08-01T13:15:05.659364Z",
     "start_time": "2018-08-01T13:15:05.626792Z"
    },
    "hidden": true
   },
   "outputs": [
    {
     "data": {
      "text/html": [
       "<div>\n",
       "<style scoped>\n",
       "    .dataframe tbody tr th:only-of-type {\n",
       "        vertical-align: middle;\n",
       "    }\n",
       "\n",
       "    .dataframe tbody tr th {\n",
       "        vertical-align: top;\n",
       "    }\n",
       "\n",
       "    .dataframe thead th {\n",
       "        text-align: right;\n",
       "    }\n",
       "</style>\n",
       "<table border=\"1\" class=\"dataframe\">\n",
       "  <thead>\n",
       "    <tr style=\"text-align: right;\">\n",
       "      <th></th>\n",
       "      <th>order</th>\n",
       "      <th>date</th>\n",
       "      <th>device</th>\n",
       "      <th>a1</th>\n",
       "      <th>a2</th>\n",
       "      <th>a3</th>\n",
       "      <th>a4</th>\n",
       "      <th>a5</th>\n",
       "      <th>a6</th>\n",
       "      <th>a7</th>\n",
       "      <th>...</th>\n",
       "      <th>LAST(faults.a2_service_mag)</th>\n",
       "      <th>LAST(faults.a2_service_count)</th>\n",
       "      <th>LAST(faults.a5_service_mag)</th>\n",
       "      <th>LAST(faults.a5_service_count)</th>\n",
       "      <th>LAST(faults.a7_service_mag)</th>\n",
       "      <th>LAST(faults.a7_service_count)</th>\n",
       "      <th>LAST(faults.f_clear_mag)</th>\n",
       "      <th>LAST(faults.f_clear_count)</th>\n",
       "      <th>TIME_SINCE_LAST(faults.datetime)</th>\n",
       "      <th>AVG_TIME_BETWEEN(faults.datetime)</th>\n",
       "    </tr>\n",
       "  </thead>\n",
       "  <tbody>\n",
       "    <tr>\n",
       "      <th>0</th>\n",
       "      <td>0</td>\n",
       "      <td>15001</td>\n",
       "      <td>S1F01085</td>\n",
       "      <td>215630672</td>\n",
       "      <td>56</td>\n",
       "      <td>0</td>\n",
       "      <td>52</td>\n",
       "      <td>6</td>\n",
       "      <td>407438</td>\n",
       "      <td>0</td>\n",
       "      <td>...</td>\n",
       "      <td>0.0</td>\n",
       "      <td>0</td>\n",
       "      <td>0.0</td>\n",
       "      <td>0</td>\n",
       "      <td>0.0</td>\n",
       "      <td>0</td>\n",
       "      <td>0.0</td>\n",
       "      <td>0</td>\n",
       "      <td>0.0</td>\n",
       "      <td>NaN</td>\n",
       "    </tr>\n",
       "    <tr>\n",
       "      <th>1</th>\n",
       "      <td>1</td>\n",
       "      <td>15001</td>\n",
       "      <td>S1F0166B</td>\n",
       "      <td>61370680</td>\n",
       "      <td>0</td>\n",
       "      <td>3</td>\n",
       "      <td>0</td>\n",
       "      <td>6</td>\n",
       "      <td>403174</td>\n",
       "      <td>0</td>\n",
       "      <td>...</td>\n",
       "      <td>0.0</td>\n",
       "      <td>0</td>\n",
       "      <td>0.0</td>\n",
       "      <td>0</td>\n",
       "      <td>0.0</td>\n",
       "      <td>0</td>\n",
       "      <td>0.0</td>\n",
       "      <td>0</td>\n",
       "      <td>0.0</td>\n",
       "      <td>NaN</td>\n",
       "    </tr>\n",
       "    <tr>\n",
       "      <th>2</th>\n",
       "      <td>2</td>\n",
       "      <td>15001</td>\n",
       "      <td>S1F01E6Y</td>\n",
       "      <td>173295968</td>\n",
       "      <td>0</td>\n",
       "      <td>0</td>\n",
       "      <td>0</td>\n",
       "      <td>12</td>\n",
       "      <td>237394</td>\n",
       "      <td>0</td>\n",
       "      <td>...</td>\n",
       "      <td>0.0</td>\n",
       "      <td>0</td>\n",
       "      <td>0.0</td>\n",
       "      <td>0</td>\n",
       "      <td>0.0</td>\n",
       "      <td>0</td>\n",
       "      <td>0.0</td>\n",
       "      <td>0</td>\n",
       "      <td>0.0</td>\n",
       "      <td>NaN</td>\n",
       "    </tr>\n",
       "    <tr>\n",
       "      <th>3</th>\n",
       "      <td>3</td>\n",
       "      <td>15001</td>\n",
       "      <td>S1F01JE0</td>\n",
       "      <td>79694024</td>\n",
       "      <td>0</td>\n",
       "      <td>0</td>\n",
       "      <td>0</td>\n",
       "      <td>6</td>\n",
       "      <td>410186</td>\n",
       "      <td>0</td>\n",
       "      <td>...</td>\n",
       "      <td>0.0</td>\n",
       "      <td>0</td>\n",
       "      <td>0.0</td>\n",
       "      <td>0</td>\n",
       "      <td>0.0</td>\n",
       "      <td>0</td>\n",
       "      <td>0.0</td>\n",
       "      <td>0</td>\n",
       "      <td>0.0</td>\n",
       "      <td>NaN</td>\n",
       "    </tr>\n",
       "    <tr>\n",
       "      <th>4</th>\n",
       "      <td>4</td>\n",
       "      <td>15001</td>\n",
       "      <td>S1F01R2B</td>\n",
       "      <td>135970480</td>\n",
       "      <td>0</td>\n",
       "      <td>0</td>\n",
       "      <td>0</td>\n",
       "      <td>15</td>\n",
       "      <td>313173</td>\n",
       "      <td>0</td>\n",
       "      <td>...</td>\n",
       "      <td>0.0</td>\n",
       "      <td>0</td>\n",
       "      <td>0.0</td>\n",
       "      <td>0</td>\n",
       "      <td>0.0</td>\n",
       "      <td>0</td>\n",
       "      <td>0.0</td>\n",
       "      <td>0</td>\n",
       "      <td>0.0</td>\n",
       "      <td>NaN</td>\n",
       "    </tr>\n",
       "  </tbody>\n",
       "</table>\n",
       "<p>5 rows × 217 columns</p>\n",
       "</div>"
      ],
      "text/plain": [
       "   order   date    device         a1  a2  a3  a4  a5      a6  a7  \\\n",
       "0  0      15001  S1F01085  215630672  56  0   52  6   407438  0    \n",
       "1  1      15001  S1F0166B  61370680   0   3   0   6   403174  0    \n",
       "2  2      15001  S1F01E6Y  173295968  0   0   0   12  237394  0    \n",
       "3  3      15001  S1F01JE0  79694024   0   0   0   6   410186  0    \n",
       "4  4      15001  S1F01R2B  135970480  0   0   0   15  313173  0    \n",
       "\n",
       "                 ...                  LAST(faults.a2_service_mag)  \\\n",
       "0                ...                  0.0                           \n",
       "1                ...                  0.0                           \n",
       "2                ...                  0.0                           \n",
       "3                ...                  0.0                           \n",
       "4                ...                  0.0                           \n",
       "\n",
       "   LAST(faults.a2_service_count) LAST(faults.a5_service_mag)  \\\n",
       "0  0                              0.0                          \n",
       "1  0                              0.0                          \n",
       "2  0                              0.0                          \n",
       "3  0                              0.0                          \n",
       "4  0                              0.0                          \n",
       "\n",
       "  LAST(faults.a5_service_count) LAST(faults.a7_service_mag)  \\\n",
       "0  0                             0.0                          \n",
       "1  0                             0.0                          \n",
       "2  0                             0.0                          \n",
       "3  0                             0.0                          \n",
       "4  0                             0.0                          \n",
       "\n",
       "  LAST(faults.a7_service_count) LAST(faults.f_clear_mag)  \\\n",
       "0  0                             0.0                       \n",
       "1  0                             0.0                       \n",
       "2  0                             0.0                       \n",
       "3  0                             0.0                       \n",
       "4  0                             0.0                       \n",
       "\n",
       "   LAST(faults.f_clear_count)  TIME_SINCE_LAST(faults.datetime)  \\\n",
       "0  0                           0.0                                \n",
       "1  0                           0.0                                \n",
       "2  0                           0.0                                \n",
       "3  0                           0.0                                \n",
       "4  0                           0.0                                \n",
       "\n",
       "   AVG_TIME_BETWEEN(faults.datetime)  \n",
       "0 NaN                                 \n",
       "1 NaN                                 \n",
       "2 NaN                                 \n",
       "3 NaN                                 \n",
       "4 NaN                                 \n",
       "\n",
       "[5 rows x 217 columns]"
      ]
     },
     "execution_count": 65,
     "metadata": {},
     "output_type": "execute_result"
    }
   ],
   "source": [
    "Xy.head()"
   ]
  },
  {
   "cell_type": "code",
   "execution_count": 66,
   "metadata": {
    "ExecuteTime": {
     "end_time": "2018-08-01T13:15:13.336614Z",
     "start_time": "2018-08-01T13:15:13.316852Z"
    },
    "hidden": true,
    "scrolled": true
   },
   "outputs": [
    {
     "data": {
      "text/plain": [
       "['order',\n",
       " 'date',\n",
       " 'device',\n",
       " 'a1',\n",
       " 'a2',\n",
       " 'a3',\n",
       " 'a4',\n",
       " 'a5',\n",
       " 'a6',\n",
       " 'a7',\n",
       " 'a9',\n",
       " 'failure',\n",
       " 'uuid',\n",
       " 'datetime',\n",
       " 'device_class1',\n",
       " 'device_class2',\n",
       " 'device_class3',\n",
       " 'a1_cumsum',\n",
       " 'a2_cumsum',\n",
       " 'a3_cumsum',\n",
       " 'a4_cumsum',\n",
       " 'a5_cumsum',\n",
       " 'a6_cumsum',\n",
       " 'a7_cumsum',\n",
       " 'a9_cumsum',\n",
       " 'a2_service_mag',\n",
       " 'a2_service_count',\n",
       " 'a5_service_mag',\n",
       " 'a5_service_count',\n",
       " 'a7_service_mag',\n",
       " 'a7_service_count',\n",
       " 'f_clear_mag',\n",
       " 'f_clear_count',\n",
       " 'MEAN(faults.a1)',\n",
       " 'MEAN(faults.a2)',\n",
       " 'MEAN(faults.a3)',\n",
       " 'MEAN(faults.a4)',\n",
       " 'MEAN(faults.a5)',\n",
       " 'MEAN(faults.a6)',\n",
       " 'MEAN(faults.a7)',\n",
       " 'MEAN(faults.a9)',\n",
       " 'MEAN(faults.a1_cumsum)',\n",
       " 'MEAN(faults.a2_cumsum)',\n",
       " 'MEAN(faults.a3_cumsum)',\n",
       " 'MEAN(faults.a4_cumsum)',\n",
       " 'MEAN(faults.a5_cumsum)',\n",
       " 'MEAN(faults.a6_cumsum)',\n",
       " 'MEAN(faults.a7_cumsum)',\n",
       " 'MEAN(faults.a9_cumsum)',\n",
       " 'MEAN(faults.a2_service_mag)',\n",
       " 'MEAN(faults.a2_service_count)',\n",
       " 'MEAN(faults.a5_service_mag)',\n",
       " 'MEAN(faults.a5_service_count)',\n",
       " 'MEAN(faults.a7_service_mag)',\n",
       " 'MEAN(faults.a7_service_count)',\n",
       " 'MEAN(faults.f_clear_mag)',\n",
       " 'MEAN(faults.f_clear_count)',\n",
       " 'MEDIAN(faults.a1)',\n",
       " 'MEDIAN(faults.a2)',\n",
       " 'MEDIAN(faults.a3)',\n",
       " 'MEDIAN(faults.a4)',\n",
       " 'MEDIAN(faults.a5)',\n",
       " 'MEDIAN(faults.a6)',\n",
       " 'MEDIAN(faults.a7)',\n",
       " 'MEDIAN(faults.a9)',\n",
       " 'MEDIAN(faults.a1_cumsum)',\n",
       " 'MEDIAN(faults.a2_cumsum)',\n",
       " 'MEDIAN(faults.a3_cumsum)',\n",
       " 'MEDIAN(faults.a4_cumsum)',\n",
       " 'MEDIAN(faults.a5_cumsum)',\n",
       " 'MEDIAN(faults.a6_cumsum)',\n",
       " 'MEDIAN(faults.a7_cumsum)',\n",
       " 'MEDIAN(faults.a9_cumsum)',\n",
       " 'MEDIAN(faults.a2_service_mag)',\n",
       " 'MEDIAN(faults.a2_service_count)',\n",
       " 'MEDIAN(faults.a5_service_mag)',\n",
       " 'MEDIAN(faults.a5_service_count)',\n",
       " 'MEDIAN(faults.a7_service_mag)',\n",
       " 'MEDIAN(faults.a7_service_count)',\n",
       " 'MAX(faults.a1)',\n",
       " 'MAX(faults.a2)',\n",
       " 'MAX(faults.a3)',\n",
       " 'MAX(faults.a4)',\n",
       " 'MAX(faults.a5)',\n",
       " 'MAX(faults.a6)',\n",
       " 'MAX(faults.a7)',\n",
       " 'MAX(faults.a9)',\n",
       " 'MAX(faults.a1_cumsum)',\n",
       " 'MAX(faults.a2_cumsum)',\n",
       " 'MAX(faults.a3_cumsum)',\n",
       " 'MAX(faults.a4_cumsum)',\n",
       " 'MAX(faults.a5_cumsum)',\n",
       " 'MAX(faults.a6_cumsum)',\n",
       " 'MAX(faults.a7_cumsum)',\n",
       " 'MAX(faults.a9_cumsum)',\n",
       " 'MAX(faults.a2_service_count)',\n",
       " 'MAX(faults.a5_service_count)',\n",
       " 'MAX(faults.a7_service_count)',\n",
       " 'MAX(faults.f_clear_count)',\n",
       " 'MIN(faults.a1)',\n",
       " 'MIN(faults.a2)',\n",
       " 'MIN(faults.a3)',\n",
       " 'MIN(faults.a4)',\n",
       " 'MIN(faults.a5)',\n",
       " 'MIN(faults.a6)',\n",
       " 'MIN(faults.a7)',\n",
       " 'MIN(faults.a9)',\n",
       " 'MIN(faults.a1_cumsum)',\n",
       " 'MIN(faults.a2_cumsum)',\n",
       " 'MIN(faults.a3_cumsum)',\n",
       " 'MIN(faults.a4_cumsum)',\n",
       " 'MIN(faults.a5_cumsum)',\n",
       " 'MIN(faults.a6_cumsum)',\n",
       " 'MIN(faults.a7_cumsum)',\n",
       " 'MIN(faults.a9_cumsum)',\n",
       " 'MIN(faults.a2_service_mag)',\n",
       " 'MIN(faults.a5_service_mag)',\n",
       " 'MIN(faults.a7_service_mag)',\n",
       " 'MIN(faults.f_clear_mag)',\n",
       " 'STD(faults.a1)',\n",
       " 'STD(faults.a2)',\n",
       " 'STD(faults.a3)',\n",
       " 'STD(faults.a4)',\n",
       " 'STD(faults.a5)',\n",
       " 'STD(faults.a6)',\n",
       " 'STD(faults.a7)',\n",
       " 'STD(faults.a9)',\n",
       " 'STD(faults.a1_cumsum)',\n",
       " 'STD(faults.a2_cumsum)',\n",
       " 'STD(faults.a3_cumsum)',\n",
       " 'STD(faults.a4_cumsum)',\n",
       " 'STD(faults.a5_cumsum)',\n",
       " 'STD(faults.a6_cumsum)',\n",
       " 'STD(faults.a7_cumsum)',\n",
       " 'STD(faults.a9_cumsum)',\n",
       " 'STD(faults.a2_service_mag)',\n",
       " 'STD(faults.a2_service_count)',\n",
       " 'STD(faults.a5_service_mag)',\n",
       " 'STD(faults.a5_service_count)',\n",
       " 'STD(faults.a7_service_mag)',\n",
       " 'STD(faults.a7_service_count)',\n",
       " 'STD(faults.f_clear_mag)',\n",
       " 'STD(faults.f_clear_count)',\n",
       " 'SKEW(faults.a1)',\n",
       " 'SKEW(faults.a2)',\n",
       " 'SKEW(faults.a3)',\n",
       " 'SKEW(faults.a4)',\n",
       " 'SKEW(faults.a5)',\n",
       " 'SKEW(faults.a6)',\n",
       " 'SKEW(faults.a7)',\n",
       " 'SKEW(faults.a9)',\n",
       " 'SKEW(faults.a1_cumsum)',\n",
       " 'SKEW(faults.a2_cumsum)',\n",
       " 'SKEW(faults.a3_cumsum)',\n",
       " 'SKEW(faults.a4_cumsum)',\n",
       " 'SKEW(faults.a5_cumsum)',\n",
       " 'SKEW(faults.a6_cumsum)',\n",
       " 'SKEW(faults.a7_cumsum)',\n",
       " 'SKEW(faults.a9_cumsum)',\n",
       " 'SKEW(faults.a2_service_mag)',\n",
       " 'SKEW(faults.a2_service_count)',\n",
       " 'SKEW(faults.a5_service_mag)',\n",
       " 'SKEW(faults.a5_service_count)',\n",
       " 'SKEW(faults.a7_service_mag)',\n",
       " 'SKEW(faults.a7_service_count)',\n",
       " 'SKEW(faults.f_clear_mag)',\n",
       " 'SKEW(faults.f_clear_count)',\n",
       " 'TREND(faults.f_clear_mag, datetime)',\n",
       " 'TREND(faults.a3_cumsum, datetime)',\n",
       " 'TREND(faults.a9_cumsum, datetime)',\n",
       " 'TREND(faults.a2_cumsum, datetime)',\n",
       " 'TREND(faults.a5_cumsum, datetime)',\n",
       " 'TREND(faults.a5, datetime)',\n",
       " 'TREND(faults.a3, datetime)',\n",
       " 'TREND(faults.a1_cumsum, datetime)',\n",
       " 'TREND(faults.a7_service_mag, datetime)',\n",
       " 'TREND(faults.a6_cumsum, datetime)',\n",
       " 'TREND(faults.a4, datetime)',\n",
       " 'TREND(faults.a2_service_mag, datetime)',\n",
       " 'TREND(faults.a1, datetime)',\n",
       " 'TREND(faults.f_clear_count, datetime)',\n",
       " 'TREND(faults.a7_service_count, datetime)',\n",
       " 'TREND(faults.a2_service_count, datetime)',\n",
       " 'TREND(faults.a5_service_count, datetime)',\n",
       " 'TREND(faults.a4_cumsum, datetime)',\n",
       " 'TREND(faults.a7_cumsum, datetime)',\n",
       " 'TREND(faults.a5_service_mag, datetime)',\n",
       " 'TREND(faults.a7, datetime)',\n",
       " 'TREND(faults.a6, datetime)',\n",
       " 'TREND(faults.a9, datetime)',\n",
       " 'TREND(faults.a2, datetime)',\n",
       " 'LAST(faults.a1)',\n",
       " 'LAST(faults.a2)',\n",
       " 'LAST(faults.a3)',\n",
       " 'LAST(faults.a4)',\n",
       " 'LAST(faults.a5)',\n",
       " 'LAST(faults.a6)',\n",
       " 'LAST(faults.a7)',\n",
       " 'LAST(faults.a9)',\n",
       " 'LAST(faults.a1_cumsum)',\n",
       " 'LAST(faults.a2_cumsum)',\n",
       " 'LAST(faults.a3_cumsum)',\n",
       " 'LAST(faults.a4_cumsum)',\n",
       " 'LAST(faults.a5_cumsum)',\n",
       " 'LAST(faults.a6_cumsum)',\n",
       " 'LAST(faults.a7_cumsum)',\n",
       " 'LAST(faults.a9_cumsum)',\n",
       " 'LAST(faults.a2_service_mag)',\n",
       " 'LAST(faults.a2_service_count)',\n",
       " 'LAST(faults.a5_service_mag)',\n",
       " 'LAST(faults.a5_service_count)',\n",
       " 'LAST(faults.a7_service_mag)',\n",
       " 'LAST(faults.a7_service_count)',\n",
       " 'LAST(faults.f_clear_mag)',\n",
       " 'LAST(faults.f_clear_count)',\n",
       " 'TIME_SINCE_LAST(faults.datetime)',\n",
       " 'AVG_TIME_BETWEEN(faults.datetime)']"
      ]
     },
     "execution_count": 66,
     "metadata": {},
     "output_type": "execute_result"
    }
   ],
   "source": [
    "feature_names"
   ]
  },
  {
   "cell_type": "code",
   "execution_count": 67,
   "metadata": {
    "ExecuteTime": {
     "end_time": "2018-08-01T13:15:26.351144Z",
     "start_time": "2018-08-01T13:15:26.332906Z"
    },
    "hidden": true
   },
   "outputs": [],
   "source": [
    "# columns to encode\n",
    "encode_cols = [\n",
    "    'device_class1',\n",
    "    'device_class2',\n",
    "    'device_class3'\n",
    "]"
   ]
  },
  {
   "cell_type": "code",
   "execution_count": 68,
   "metadata": {
    "ExecuteTime": {
     "end_time": "2018-08-01T13:15:28.769830Z",
     "start_time": "2018-08-01T13:15:27.605154Z"
    },
    "hidden": true
   },
   "outputs": [],
   "source": [
    "# one-hot encode the categoricals\n",
    "Xy = pd.concat([Xy, pd.get_dummies(Xy[encode_cols])], axis=1)\n",
    "Xy.drop(encode_cols, axis=1, inplace=True)"
   ]
  },
  {
   "cell_type": "code",
   "execution_count": 69,
   "metadata": {
    "ExecuteTime": {
     "end_time": "2018-08-01T13:15:29.664466Z",
     "start_time": "2018-08-01T13:15:29.492894Z"
    },
    "hidden": true,
    "scrolled": true
   },
   "outputs": [],
   "source": [
    "# junk features\n",
    "dropcols = Xy.filter(regex='MODE\\(faults.device_class')\n",
    "Xy.drop(dropcols, axis=1, inplace=True)"
   ]
  },
  {
   "cell_type": "code",
   "execution_count": 70,
   "metadata": {
    "ExecuteTime": {
     "end_time": "2018-08-01T13:15:33.340007Z",
     "start_time": "2018-08-01T13:15:32.444776Z"
    },
    "hidden": true
   },
   "outputs": [],
   "source": [
    "# save intermediate output\n",
    "hdf_file = 'model_dfs_feature_tensor.h5'\n",
    "table_name = 'feature_tensor'\n",
    "save_hdf5(Xy, hdf_file, table_name)"
   ]
  },
  {
   "cell_type": "markdown",
   "metadata": {},
   "source": [
    "# Modeling"
   ]
  },
  {
   "cell_type": "markdown",
   "metadata": {},
   "source": [
    "This is a gnarly imbalanced class problem. Traditional options:\n",
    "* Under-sample majority class: viable option since time-dependent values are encoded at every time step.\n",
    "* Stratified resampling: viable option via xgboost.\n",
    "* Over-sample minority class: this is time series data, so arbitrarily throwing out samples potentially removes valuable information about aggregations or leading indicators to failure.\n",
    "* Synthesis: No. I intensely dislike manufacturing data unless there are strong underlying laws/principles, e.g. in physics, which constrain the fake data.\n",
    "\n",
    "[imblearn][imb] is a good library to automate many of the methods needed and simplify the modeling exercise. Rather than go the route of \"black box,\" I prefer to focus on the data at-hand and drive the problem toward features and not toward models.\n",
    "\n",
    "[imb]:http://contrib.scikit-learn.org/imbalanced-learn/stable/index.html"
   ]
  },
  {
   "cell_type": "markdown",
   "metadata": {
    "heading_collapsed": true
   },
   "source": [
    "## Data Prep"
   ]
  },
  {
   "cell_type": "code",
   "execution_count": 71,
   "metadata": {
    "ExecuteTime": {
     "end_time": "2018-08-01T13:15:42.007661Z",
     "start_time": "2018-08-01T13:15:41.653536Z"
    },
    "hidden": true
   },
   "outputs": [],
   "source": [
    "# reload data from prior run as a quick start\n",
    "faults_df = pd.read_pickle('faults_df.pkl')\n",
    "hdf_file = 'model_dfs_feature_tensor.h5'\n",
    "table_name = 'feature_tensor'\n",
    "Xy = pd.read_hdf(hdf_file, table_name)"
   ]
  },
  {
   "cell_type": "code",
   "execution_count": 72,
   "metadata": {
    "ExecuteTime": {
     "end_time": "2018-08-01T13:15:44.820587Z",
     "start_time": "2018-08-01T13:15:43.792013Z"
    },
    "hidden": true
   },
   "outputs": [],
   "source": [
    "# ID cols to use in modeling\n",
    "ignore = ['date', 'device', 'datetime']\n",
    "ignore.extend(Xy.filter(regex='failure').columns)  # anything with failure info\n",
    "predicting = 'failure'\n",
    "predictors = [c for c in Xy.columns if (c != predicting and c not in ignore)]\n",
    "\n",
    "# isolate y from X\n",
    "y = Xy[predicting]\n",
    "X = Xy[predictors]\n",
    "\n",
    "# split data into train and test sets\n",
    "X_train, X_test, y_train, y_test = model_selection.train_test_split(X, y, test_size=0.33, random_state=7)\n",
    "\n",
    "# remove uuid and track as index\n",
    "idx_train = X_train.uuid.values\n",
    "idx_test = X_test.uuid.values\n",
    "X_train.drop('uuid', axis=1, inplace=True)\n",
    "X_test.drop('uuid', axis=1, inplace=True)\n",
    "feature_names = X_train.columns.values\n",
    "assert set(feature_names) == set(X_test.columns.values), 'Train/Test feature name mismatch'"
   ]
  },
  {
   "cell_type": "markdown",
   "metadata": {},
   "source": [
    "## xgboost"
   ]
  },
  {
   "cell_type": "code",
   "execution_count": 73,
   "metadata": {
    "ExecuteTime": {
     "end_time": "2018-08-01T13:15:51.571420Z",
     "start_time": "2018-08-01T13:15:48.627667Z"
    }
   },
   "outputs": [],
   "source": [
    "# make the train test vers for xgb\n",
    "dtrain = xgb.DMatrix(X_train, y_train, feature_names=feature_names, nthread=-1)\n",
    "dtest = xgb.DMatrix(X_test, y_test, feature_names=feature_names, nthread=-1)"
   ]
  },
  {
   "cell_type": "markdown",
   "metadata": {
    "heading_collapsed": true
   },
   "source": [
    "### Naive Model"
   ]
  },
  {
   "cell_type": "markdown",
   "metadata": {
    "hidden": true
   },
   "source": [
    "Before tuning, I want to be informed on what a simple model learns, and what an overfit model learns."
   ]
  },
  {
   "cell_type": "code",
   "execution_count": 91,
   "metadata": {
    "ExecuteTime": {
     "end_time": "2018-08-01T13:16:18.165774Z",
     "start_time": "2018-08-01T13:16:14.140053Z"
    },
    "hidden": true
   },
   "outputs": [],
   "source": [
    "# define a naive model\n",
    "xgb_params = {\n",
    "    'objective': 'binary:logistic',\n",
    "    'seed': 0\n",
    "}\n",
    "model = xgb.train(xgb_params, dtrain)"
   ]
  },
  {
   "cell_type": "code",
   "execution_count": 88,
   "metadata": {
    "ExecuteTime": {
     "end_time": "2018-08-01T13:16:25.486719Z",
     "start_time": "2018-08-01T13:16:24.897942Z"
    },
    "hidden": true,
    "scrolled": false
   },
   "outputs": [
    {
     "data": {
      "image/png": "[encoded data removed]",
      "text/plain": [
       "<Figure size 720x1296 with 1 Axes>"
      ]
     },
     "metadata": {},
     "output_type": "display_data"
    }
   ],
   "source": [
    "# plot the important features #\n",
    "fig, ax = plt.subplots(figsize=(10, 18))\n",
    "xgb.plot_importance(model, height=0.6, ax=ax, max_num_features=10)\n",
    "fig.savefig('feature_importance.png', bbox_inches='tight', pad_inches=1)\n",
    "plt.show()"
   ]
  },
  {
   "cell_type": "markdown",
   "metadata": {
    "ExecuteTime": {
     "end_time": "2018-08-01T13:16:30.961174Z",
     "start_time": "2018-08-01T13:16:30.943498Z"
    },
    "hidden": true
   },
   "source": [
    "<a id=\"#naivemodel\"></a>\n",
    "Is a7 really that important?"
   ]
  },
  {
   "cell_type": "code",
   "execution_count": 76,
   "metadata": {
    "ExecuteTime": {
     "end_time": "2018-08-01T13:17:01.758428Z",
     "start_time": "2018-08-01T13:17:01.729946Z"
    },
    "hidden": true
   },
   "outputs": [],
   "source": [
    "# prediction on test set\n",
    "y_pred = model.predict(dtest)"
   ]
  },
  {
   "cell_type": "code",
   "execution_count": 77,
   "metadata": {
    "ExecuteTime": {
     "end_time": "2018-08-01T13:20:01.797362Z",
     "start_time": "2018-08-01T13:20:01.576916Z"
    },
    "hidden": true
   },
   "outputs": [
    {
     "data": {
      "text/html": [
       "<div>\n",
       "<style scoped>\n",
       "    .dataframe tbody tr th:only-of-type {\n",
       "        vertical-align: middle;\n",
       "    }\n",
       "\n",
       "    .dataframe tbody tr th {\n",
       "        vertical-align: top;\n",
       "    }\n",
       "\n",
       "    .dataframe thead th {\n",
       "        text-align: right;\n",
       "    }\n",
       "</style>\n",
       "<table border=\"1\" class=\"dataframe\">\n",
       "  <thead>\n",
       "    <tr style=\"text-align: right;\">\n",
       "      <th></th>\n",
       "      <th></th>\n",
       "      <th>value</th>\n",
       "    </tr>\n",
       "    <tr>\n",
       "      <th>measurement</th>\n",
       "      <th>failure</th>\n",
       "      <th></th>\n",
       "    </tr>\n",
       "  </thead>\n",
       "  <tbody>\n",
       "    <tr>\n",
       "      <th rowspan=\"2\" valign=\"top\">a1</th>\n",
       "      <th>0.0</th>\n",
       "      <td>0.288607</td>\n",
       "    </tr>\n",
       "    <tr>\n",
       "      <th>1.0</th>\n",
       "      <td>0.284269</td>\n",
       "    </tr>\n",
       "    <tr>\n",
       "      <th rowspan=\"2\" valign=\"top\">a2</th>\n",
       "      <th>0.0</th>\n",
       "      <td>0.033024</td>\n",
       "    </tr>\n",
       "    <tr>\n",
       "      <th>1.0</th>\n",
       "      <td>0.197078</td>\n",
       "    </tr>\n",
       "    <tr>\n",
       "      <th rowspan=\"2\" valign=\"top\">a3</th>\n",
       "      <th>0.0</th>\n",
       "      <td>0.007454</td>\n",
       "    </tr>\n",
       "    <tr>\n",
       "      <th>1.0</th>\n",
       "      <td>0.001266</td>\n",
       "    </tr>\n",
       "    <tr>\n",
       "      <th rowspan=\"2\" valign=\"top\">a4</th>\n",
       "      <th>0.0</th>\n",
       "      <td>0.013304</td>\n",
       "    </tr>\n",
       "    <tr>\n",
       "      <th>1.0</th>\n",
       "      <td>0.116142</td>\n",
       "    </tr>\n",
       "    <tr>\n",
       "      <th rowspan=\"2\" valign=\"top\">a5</th>\n",
       "      <th>0.0</th>\n",
       "      <td>0.164365</td>\n",
       "    </tr>\n",
       "    <tr>\n",
       "      <th>1.0</th>\n",
       "      <td>0.160281</td>\n",
       "    </tr>\n",
       "    <tr>\n",
       "      <th rowspan=\"2\" valign=\"top\">a6</th>\n",
       "      <th>0.0</th>\n",
       "      <td>0.143869</td>\n",
       "    </tr>\n",
       "    <tr>\n",
       "      <th>1.0</th>\n",
       "      <td>0.149966</td>\n",
       "    </tr>\n",
       "    <tr>\n",
       "      <th rowspan=\"2\" valign=\"top\">a7</th>\n",
       "      <th>0.0</th>\n",
       "      <td>0.007882</td>\n",
       "    </tr>\n",
       "    <tr>\n",
       "      <th>1.0</th>\n",
       "      <td>0.140665</td>\n",
       "    </tr>\n",
       "    <tr>\n",
       "      <th rowspan=\"2\" valign=\"top\">a9</th>\n",
       "      <th>0.0</th>\n",
       "      <td>0.010238</td>\n",
       "    </tr>\n",
       "    <tr>\n",
       "      <th>1.0</th>\n",
       "      <td>0.008205</td>\n",
       "    </tr>\n",
       "  </tbody>\n",
       "</table>\n",
       "</div>"
      ],
      "text/plain": [
       "                        value\n",
       "measurement failure          \n",
       "a1          0.0      0.288607\n",
       "            1.0      0.284269\n",
       "a2          0.0      0.033024\n",
       "            1.0      0.197078\n",
       "a3          0.0      0.007454\n",
       "            1.0      0.001266\n",
       "a4          0.0      0.013304\n",
       "            1.0      0.116142\n",
       "a5          0.0      0.164365\n",
       "            1.0      0.160281\n",
       "a6          0.0      0.143869\n",
       "            1.0      0.149966\n",
       "a7          0.0      0.007882\n",
       "            1.0      0.140665\n",
       "a9          0.0      0.010238\n",
       "            1.0      0.008205"
      ]
     },
     "execution_count": 77,
     "metadata": {},
     "output_type": "execute_result"
    }
   ],
   "source": [
    "# let's see if this makes sense\n",
    "temp = faults_df.filter(regex='^a.$|failure')\n",
    "scaler = preprocessing.MinMaxScaler()\n",
    "scaled_values = scaler.fit_transform(temp)\n",
    "temp.loc[:,:] = scaled_values\n",
    "temp_melt = pd.melt(temp, \"failure\", var_name=\"measurement\")\n",
    "temp_melt.groupby(['measurement', 'failure']).std()"
   ]
  },
  {
   "cell_type": "markdown",
   "metadata": {
    "hidden": true
   },
   "source": [
    "Standard deviation for a7 is unusually larger when there's a failure."
   ]
  },
  {
   "cell_type": "markdown",
   "metadata": {},
   "source": [
    "### Tuned Model"
   ]
  },
  {
   "cell_type": "code",
   "execution_count": 92,
   "metadata": {
    "ExecuteTime": {
     "end_time": "2018-08-01T14:15:33.801117Z",
     "start_time": "2018-08-01T13:53:44.752019Z"
    },
    "scrolled": true
   },
   "outputs": [
    {
     "name": "stdout",
     "output_type": "stream",
     "text": [
      "Working on k-fold 0...\n",
      "Splitting data\n",
      "Converting data to xgb format\n",
      "Modeling\n",
      "[0]\ttrain-auc:0.963561\tcv-auc:0.731691\n",
      "Multiple eval metrics have been passed: 'cv-auc' will be used for early stopping.\n",
      "\n",
      "Will train until cv-auc hasn't improved in 300 rounds.\n",
      "[200]\ttrain-auc:0.999547\tcv-auc:0.804559\n",
      "[400]\ttrain-auc:0.999801\tcv-auc:0.820979\n",
      "[600]\ttrain-auc:0.999875\tcv-auc:0.819505\n",
      "Stopping. Best iteration:\n",
      "[457]\ttrain-auc:0.999824\tcv-auc:0.837964\n",
      "\n",
      "Done.\n",
      "Working on k-fold 1...\n",
      "Splitting data\n",
      "Converting data to xgb format\n",
      "Modeling\n",
      "[0]\ttrain-auc:0.971985\tcv-auc:0.752361\n",
      "Multiple eval metrics have been passed: 'cv-auc' will be used for early stopping.\n",
      "\n",
      "Will train until cv-auc hasn't improved in 300 rounds.\n",
      "[200]\ttrain-auc:0.999787\tcv-auc:0.877967\n",
      "Stopping. Best iteration:\n",
      "[6]\ttrain-auc:0.997249\tcv-auc:0.923627\n",
      "\n",
      "Done.\n",
      "Working on k-fold 2...\n",
      "Splitting data\n",
      "Converting data to xgb format\n",
      "Modeling\n",
      "[0]\ttrain-auc:0.981801\tcv-auc:0.852459\n",
      "Multiple eval metrics have been passed: 'cv-auc' will be used for early stopping.\n",
      "\n",
      "Will train until cv-auc hasn't improved in 300 rounds.\n",
      "[200]\ttrain-auc:0.99964\tcv-auc:0.888562\n",
      "Stopping. Best iteration:\n",
      "[65]\ttrain-auc:0.999065\tcv-auc:0.945651\n",
      "\n",
      "Done.\n",
      "Working on k-fold 3...\n",
      "Splitting data\n",
      "Converting data to xgb format\n",
      "Modeling\n",
      "[0]\ttrain-auc:0.97107\tcv-auc:0.871866\n",
      "Multiple eval metrics have been passed: 'cv-auc' will be used for early stopping.\n",
      "\n",
      "Will train until cv-auc hasn't improved in 300 rounds.\n",
      "[200]\ttrain-auc:0.999728\tcv-auc:0.908898\n",
      "[400]\ttrain-auc:0.999854\tcv-auc:0.910118\n",
      "Stopping. Best iteration:\n",
      "[115]\ttrain-auc:0.999503\tcv-auc:0.933253\n",
      "\n",
      "Done.\n",
      "Working on k-fold 4...\n",
      "Splitting data\n",
      "Converting data to xgb format\n",
      "Modeling\n",
      "[0]\ttrain-auc:0.971675\tcv-auc:0.737493\n",
      "Multiple eval metrics have been passed: 'cv-auc' will be used for early stopping.\n",
      "\n",
      "Will train until cv-auc hasn't improved in 300 rounds.\n",
      "[200]\ttrain-auc:0.999651\tcv-auc:0.823345\n",
      "Stopping. Best iteration:\n",
      "[2]\ttrain-auc:0.996917\tcv-auc:0.882933\n",
      "\n",
      "Done.\n",
      "Working on k-fold 5...\n",
      "Splitting data\n",
      "Converting data to xgb format\n",
      "Modeling\n",
      "[0]\ttrain-auc:0.978425\tcv-auc:0.468016\n",
      "Multiple eval metrics have been passed: 'cv-auc' will be used for early stopping.\n",
      "\n",
      "Will train until cv-auc hasn't improved in 300 rounds.\n",
      "[200]\ttrain-auc:0.999659\tcv-auc:0.834913\n",
      "[400]\ttrain-auc:0.999851\tcv-auc:0.843611\n",
      "Stopping. Best iteration:\n",
      "[246]\ttrain-auc:0.999721\tcv-auc:0.861888\n",
      "\n",
      "Done.\n",
      "Working on k-fold 6...\n",
      "Splitting data\n",
      "Converting data to xgb format\n",
      "Modeling\n",
      "[0]\ttrain-auc:0.942005\tcv-auc:0.660978\n",
      "Multiple eval metrics have been passed: 'cv-auc' will be used for early stopping.\n",
      "\n",
      "Will train until cv-auc hasn't improved in 300 rounds.\n",
      "[200]\ttrain-auc:0.999601\tcv-auc:0.90086\n",
      "[400]\ttrain-auc:0.99982\tcv-auc:0.924815\n",
      "[600]\ttrain-auc:0.999907\tcv-auc:0.904679\n",
      "Stopping. Best iteration:\n",
      "[400]\ttrain-auc:0.99982\tcv-auc:0.924815\n",
      "\n",
      "Done.\n",
      "Working on k-fold 7...\n",
      "Splitting data\n",
      "Converting data to xgb format\n",
      "Modeling\n",
      "[0]\ttrain-auc:0.964716\tcv-auc:0.542132\n",
      "Multiple eval metrics have been passed: 'cv-auc' will be used for early stopping.\n",
      "\n",
      "Will train until cv-auc hasn't improved in 300 rounds.\n",
      "[200]\ttrain-auc:0.999568\tcv-auc:0.695461\n",
      "[400]\ttrain-auc:0.999801\tcv-auc:0.733113\n",
      "[600]\ttrain-auc:0.999863\tcv-auc:0.660608\n",
      "Stopping. Best iteration:\n",
      "[376]\ttrain-auc:0.999789\tcv-auc:0.74781\n",
      "\n",
      "Done.\n",
      "Working on k-fold 8...\n",
      "Splitting data\n",
      "Converting data to xgb format\n",
      "Modeling\n",
      "[0]\ttrain-auc:0.980364\tcv-auc:0.900638\n",
      "Multiple eval metrics have been passed: 'cv-auc' will be used for early stopping.\n",
      "\n",
      "Will train until cv-auc hasn't improved in 300 rounds.\n",
      "[200]\ttrain-auc:0.999733\tcv-auc:0.934105\n",
      "Stopping. Best iteration:\n",
      "[2]\ttrain-auc:0.996656\tcv-auc:0.964243\n",
      "\n",
      "Done.\n",
      "Working on k-fold 9...\n",
      "Splitting data\n",
      "Converting data to xgb format\n",
      "Modeling\n",
      "[0]\ttrain-auc:0.977209\tcv-auc:0.946364\n",
      "Multiple eval metrics have been passed: 'cv-auc' will be used for early stopping.\n",
      "\n",
      "Will train until cv-auc hasn't improved in 300 rounds.\n",
      "[200]\ttrain-auc:0.999708\tcv-auc:0.836893\n",
      "Stopping. Best iteration:\n",
      "[0]\ttrain-auc:0.977209\tcv-auc:0.946364\n",
      "\n",
      "Done.\n"
     ]
    }
   ],
   "source": [
    "# control for class imbalance\n",
    "ratio = float(np.sum(y == 0)) / np.sum(y == 1)\n",
    "\n",
    "# model params\n",
    "params = {\n",
    "    'max_depth': 9,\n",
    "    'min_child_weight': 100,\n",
    "    'subsample': 0.9,  # random sample %\n",
    "    'colsample_bytree': 0.4,  # random col %\n",
    "    'eta': 0.01,  # learning rate\n",
    "    'reg_alpha': 0.5,  # L1 reg\n",
    "    'lambda': 0.95,  # L2 reg\n",
    "    'gamma': 0.1,  # loss split\n",
    "    'seed': 6,\n",
    "    'n_estimators': 1000,\n",
    "    'scale_pos_weight': ratio,  # VERY IMPORTANT FOR THIS PARTICULAR PROBLEM\n",
    "    'objective': 'binary:logistic',\n",
    "    'eval_metric': 'auc',\n",
    "    'grow_policy': 'depthwise'\n",
    "}\n",
    "\n",
    "# train the model\n",
    "model = train_xgb_model(X_train, y_train, params, kfolds=10)"
   ]
  },
  {
   "cell_type": "code",
   "execution_count": 100,
   "metadata": {
    "ExecuteTime": {
     "end_time": "2018-08-01T14:16:06.201964Z",
     "start_time": "2018-08-01T14:16:05.546140Z"
    }
   },
   "outputs": [
    {
     "data": {
      "image/png": "[encoded data removed]",
      "text/plain": [
       "<Figure size 720x1296 with 1 Axes>"
      ]
     },
     "metadata": {},
     "output_type": "display_data"
    }
   ],
   "source": [
    "# feature importance plot\n",
    "fig, ax = plt.subplots(figsize=(10, 18))\n",
    "xgb.plot_importance(model, height=0.3, ax=ax, max_num_features=50)\n",
    "fig.savefig('feature_importance.png', bbox_inches='tight', pad_inches=1)"
   ]
  },
  {
   "cell_type": "code",
   "execution_count": 101,
   "metadata": {
    "ExecuteTime": {
     "end_time": "2018-08-01T14:16:32.485161Z",
     "start_time": "2018-08-01T14:16:32.453216Z"
    }
   },
   "outputs": [],
   "source": [
    "# predict\n",
    "y_pred = model.predict(dtest, ntree_limit=model.best_ntree_limit)"
   ]
  },
  {
   "cell_type": "code",
   "execution_count": 138,
   "metadata": {
    "ExecuteTime": {
     "end_time": "2018-08-01T14:18:26.075055Z",
     "start_time": "2018-08-01T14:18:10.267872Z"
    },
    "scrolled": true
   },
   "outputs": [
    {
     "name": "stdout",
     "output_type": "stream",
     "text": [
      "0.48\n",
      "             precision    recall  f1-score   support\n",
      "\n",
      "    no fail       0.00      0.00      0.00     41040\n",
      "       fail       0.00      1.00      0.00        44\n",
      "\n",
      "avg / total       0.00      0.00      0.00     41084\n",
      "\n",
      "0.49\n",
      "             precision    recall  f1-score   support\n",
      "\n",
      "    no fail       1.00      0.89      0.94     41040\n",
      "       fail       0.01      0.66      0.01        44\n",
      "\n",
      "avg / total       1.00      0.89      0.94     41084\n",
      "\n",
      "0.5\n",
      "             precision    recall  f1-score   support\n",
      "\n",
      "    no fail       1.00      0.97      0.99     41040\n",
      "       fail       0.02      0.55      0.04        44\n",
      "\n",
      "avg / total       1.00      0.97      0.99     41084\n",
      "\n",
      "0.51\n",
      "             precision    recall  f1-score   support\n",
      "\n",
      "    no fail       1.00      0.99      1.00     41040\n",
      "       fail       0.06      0.32      0.10        44\n",
      "\n",
      "avg / total       1.00      0.99      1.00     41084\n",
      "\n",
      "0.52\n",
      "             precision    recall  f1-score   support\n",
      "\n",
      "    no fail       1.00      1.00      1.00     41040\n",
      "       fail       0.00      0.00      0.00        44\n",
      "\n",
      "avg / total       1.00      1.00      1.00     41084\n",
      "\n"
     ]
    }
   ],
   "source": [
    "# binary predictions\n",
    "target_names = ['no fail', 'fail']\n",
    "for prob_thresh in np.arange(0.48, 0.52, 0.01):\n",
    "    y_pred_binary = [1 if x > prob_thresh else 0 for x in y_pred ]\n",
    "    print(prob_thresh)\n",
    "    print(metrics.classification_report(y_test, y_pred_binary, target_names=target_names))"
   ]
  },
  {
   "cell_type": "code",
   "execution_count": 207,
   "metadata": {},
   "outputs": [],
   "source": [
    "prob_thresh, tn, fn, fp, tp = list(), list(), list(), list(), list()\n",
    "for p in np.arange(0.484, 0.488, 0.0001):\n",
    "    y_pred_binary = [1 if x > p else 0 for x in y_pred ]\n",
    "    prob_thresh.append(p)\n",
    "    cm = metrics.confusion_matrix(y_test, y_pred_binary)\n",
    "    tn.append(cm[0][0])\n",
    "    fp.append(cm[0][1])\n",
    "    fn.append(cm[1][0])\n",
    "    tp.append(cm[1][1])\n",
    "tn = [float(i)/max(tn) for i in tn]\n",
    "fp = [float(i)/max(fp) for i in fp]\n",
    "fn = [float(i)/max(fn) for i in fn]\n",
    "tp = [float(i)/max(tp) for i in tp]"
   ]
  },
  {
   "cell_type": "code",
   "execution_count": 208,
   "metadata": {},
   "outputs": [
    {
     "data": {
      "image/png": "[encoded data removed]",
      "text/plain": [
       "<Figure size 1080x432 with 1 Axes>"
      ]
     },
     "metadata": {},
     "output_type": "display_data"
    }
   ],
   "source": [
    "plt.plot(prob_thresh, tn, 'r', label='TN')\n",
    "plt.plot(prob_thresh, tp, 'g', label='TP')\n",
    "plt.plot(prob_thresh, fp, 'b', label='FP')\n",
    "plt.plot(prob_thresh, fn, 'y', label='FN')\n",
    "plt.legend(loc='upper left')\n",
    "plt.xlabel('Probability Threshold')\n",
    "plt.ylabel('%Total')\n",
    "plt.show()"
   ]
  },
  {
   "cell_type": "code",
   "execution_count": 211,
   "metadata": {
    "ExecuteTime": {
     "end_time": "2018-08-01T14:23:05.823970Z",
     "start_time": "2018-08-01T14:23:05.757406Z"
    }
   },
   "outputs": [
    {
     "data": {
      "image/png": "[encoded data removed]",
      "text/plain": [
       "<Figure size 1080x432 with 2 Axes>"
      ]
     },
     "metadata": {},
     "output_type": "display_data"
    }
   ],
   "source": [
    "# arbitrarily select threshold\n",
    "y_pred_binary = [1 if x >= 0.485372 else 0 for x in y_pred ]\n",
    "\n",
    "# cm\n",
    "ax = sns.heatmap(metrics.confusion_matrix(y_test, y_pred_binary), annot=True, annot_kws={\"size\": 16});\n",
    "ax.set(title='Confusion Matrix', xlabel='Predicted', ylabel='Actual');"
   ]
  },
  {
   "cell_type": "code",
   "execution_count": 209,
   "metadata": {
    "ExecuteTime": {
     "end_time": "2018-08-01T14:23:06.381679Z",
     "start_time": "2018-08-01T14:23:06.257171Z"
    }
   },
   "outputs": [
    {
     "data": {
      "text/plain": [
       "Text(0.5,1,'Binary Precision-Recall: Avg Precision=0.04')"
      ]
     },
     "execution_count": 209,
     "metadata": {},
     "output_type": "execute_result"
    },
    {
     "data": {
      "image/png": "[encoded data removed]",
      "text/plain": [
       "<Figure size 1080x432 with 1 Axes>"
      ]
     },
     "metadata": {},
     "output_type": "display_data"
    }
   ],
   "source": [
    "# visualize prec-recall\n",
    "average_precision = metrics.average_precision_score(y_test, y_pred)\n",
    "precision, recall, _ = metrics.precision_recall_curve(y_test, y_pred)\n",
    "plt.step(recall, precision, color='b', alpha=0.2, where='post')\n",
    "plt.fill_between(recall, precision, step='post', alpha=0.2, color='b')\n",
    "plt.xlabel('Recall')\n",
    "plt.ylabel('Precision')\n",
    "plt.title('Binary Precision-Recall: Avg Precision={0:0.2f}'.format(average_precision))"
   ]
  },
  {
   "cell_type": "markdown",
   "metadata": {},
   "source": [
    "Presumably, we'd have acceptance criteria for the quality of the model and be able to discern if a 27% FN rate is \"good\" or \"bad.\" Regardless, that's not a good rate and this model needs more tuning and we need more data/better features. However, if, for example, these are hyper-expensive machines, then we might lean toward a higher FP rate at the cost of unneeded service."
   ]
  },
  {
   "cell_type": "code",
   "execution_count": 212,
   "metadata": {
    "ExecuteTime": {
     "end_time": "2018-08-01T14:23:08.589051Z",
     "start_time": "2018-08-01T14:23:08.473662Z"
    }
   },
   "outputs": [
    {
     "data": {
      "image/png": "[encoded data removed]",
      "text/plain": [
       "<Figure size 1080x432 with 1 Axes>"
      ]
     },
     "metadata": {},
     "output_type": "display_data"
    }
   ],
   "source": [
    "# roc\n",
    "fpr, tpr, threshold = metrics.roc_curve(y_test, y_pred)\n",
    "roc_auc = metrics.auc(fpr, tpr)\n",
    "plt.title('Receiver Operating Characteristic')\n",
    "plt.plot(fpr, tpr, 'b', label = 'AUC = %0.2f' % roc_auc)\n",
    "plt.legend(loc = 'lower right')\n",
    "plt.plot([0, 1], [0, 1],'r--')\n",
    "plt.xlim([0, 1])\n",
    "plt.ylim([0, 1])\n",
    "plt.ylabel('True Positive Rate')\n",
    "plt.xlabel('False Positive Rate')\n",
    "plt.show()"
   ]
  },
  {
   "cell_type": "markdown",
   "metadata": {
    "heading_collapsed": true
   },
   "source": [
    "## AutoML"
   ]
  },
  {
   "cell_type": "markdown",
   "metadata": {
    "hidden": true
   },
   "source": [
    "I'm curious what features AutoML's stacked ensemble models suggest are important versus the tuned xgboost."
   ]
  },
  {
   "cell_type": "code",
   "execution_count": null,
   "metadata": {
    "ExecuteTime": {
     "end_time": "2018-08-01T22:21:16.501581Z",
     "start_time": "2018-08-01T22:21:13.759046Z"
    },
    "hidden": true,
    "scrolled": true
   },
   "outputs": [],
   "source": [
    "# init the machine\n",
    "h2o.init(min_mem_size_GB=16)\n",
    "h2o.cluster().show_status()"
   ]
  },
  {
   "cell_type": "code",
   "execution_count": null,
   "metadata": {
    "ExecuteTime": {
     "end_time": "2018-08-01T22:25:35.558554Z",
     "start_time": "2018-08-01T22:24:43.023497Z"
    },
    "hidden": true
   },
   "outputs": [],
   "source": [
    "# create H2O's special df format\n",
    "train_df_h2o = h2o.H2OFrame(Xy)"
   ]
  },
  {
   "cell_type": "code",
   "execution_count": null,
   "metadata": {
    "ExecuteTime": {
     "end_time": "2018-08-01T22:25:47.174627Z",
     "start_time": "2018-08-01T22:25:47.038149Z"
    },
    "hidden": true
   },
   "outputs": [],
   "source": [
    "# split data\n",
    "train, test, valid = train_df_h2o.split_frame(ratios=[0.7, 0.15])"
   ]
  },
  {
   "cell_type": "code",
   "execution_count": null,
   "metadata": {
    "ExecuteTime": {
     "end_time": "2018-08-01T22:25:53.914044Z",
     "start_time": "2018-08-01T22:25:51.684005Z"
    },
    "hidden": true
   },
   "outputs": [],
   "source": [
    "# isolate predictors and predicting\n",
    "x = train[predictors].columns\n",
    "y = predicting\n",
    "\n",
    "# make sure we have factors\n",
    "train[y] = train[y].asfactor()\n",
    "valid[y] = valid[y].asfactor()\n",
    "test[y] = test[y].asfactor()"
   ]
  },
  {
   "cell_type": "code",
   "execution_count": null,
   "metadata": {
    "ExecuteTime": {
     "end_time": "2018-08-01T20:25:39.368179Z",
     "start_time": "2018-08-01T15:39:50.260366Z"
    },
    "hidden": true
   },
   "outputs": [],
   "source": [
    "# build a model (4h run time on p2.xlarge; use saved version)\n",
    "#aml = H2OAutoML(max_runtime_secs=3600, balance_classes=True)\n",
    "#aml.train(x=x,\n",
    "#          y=y,\n",
    "#          training_frame=train,\n",
    "#          validation_frame=valid,\n",
    "#          leaderboard_frame=test,\n",
    "#          nfolds=10)"
   ]
  },
  {
   "cell_type": "code",
   "execution_count": null,
   "metadata": {
    "hidden": true
   },
   "outputs": [],
   "source": [
    "# check leaderboard\n",
    "aml.leaderboard"
   ]
  },
  {
   "cell_type": "markdown",
   "metadata": {
    "hidden": true
   },
   "source": [
    "AutoML \"likes\" SKEW(a4) and STD(a7) like an earlier version of the tuned xgboost model harness did."
   ]
  },
  {
   "cell_type": "code",
   "execution_count": null,
   "metadata": {
    "ExecuteTime": {
     "end_time": "2018-08-01T22:04:51.444847Z",
     "start_time": "2018-08-01T22:04:45.120379Z"
    },
    "hidden": true
   },
   "outputs": [],
   "source": [
    "# save the model\n",
    "h2o.save_model(aml.leader, path=\"automl_leader_untuned.model\", force=True)"
   ]
  },
  {
   "cell_type": "code",
   "execution_count": null,
   "metadata": {
    "ExecuteTime": {
     "end_time": "2018-08-01T22:21:29.560415Z",
     "start_time": "2018-08-01T22:21:25.417947Z"
    },
    "hidden": true
   },
   "outputs": [],
   "source": [
    "# reload the model\n",
    "h2o_model = h2o.load_model('automl_leader_untuned_model/StackedEnsemble_AllModels_0_AutoML_20180801_153954')"
   ]
  },
  {
   "cell_type": "code",
   "execution_count": null,
   "metadata": {
    "ExecuteTime": {
     "end_time": "2018-08-01T22:23:33.017556Z",
     "start_time": "2018-08-01T22:23:32.934962Z"
    },
    "hidden": true
   },
   "outputs": [],
   "source": [
    "# isolate the metalearner model\n",
    "metalearner = h2o.get_model(h2o_model.metalearner()['name'])"
   ]
  },
  {
   "cell_type": "code",
   "execution_count": null,
   "metadata": {
    "ExecuteTime": {
     "end_time": "2018-08-01T22:23:37.382168Z",
     "start_time": "2018-08-01T22:23:37.275004Z"
    },
    "hidden": true
   },
   "outputs": [],
   "source": [
    "# model details\n",
    "metalearner"
   ]
  },
  {
   "cell_type": "code",
   "execution_count": null,
   "metadata": {
    "ExecuteTime": {
     "end_time": "2018-08-01T22:23:43.589592Z",
     "start_time": "2018-08-01T22:23:43.567761Z"
    },
    "hidden": true
   },
   "outputs": [],
   "source": [
    "# ensemble contribution\n",
    "metalearner.coef_norm()"
   ]
  },
  {
   "cell_type": "code",
   "execution_count": null,
   "metadata": {
    "ExecuteTime": {
     "end_time": "2018-08-01T22:23:48.499845Z",
     "start_time": "2018-08-01T22:23:48.207265Z"
    },
    "hidden": true
   },
   "outputs": [],
   "source": [
    "# ensemble \"weights\"\n",
    "metalearner.std_coef_plot()"
   ]
  },
  {
   "cell_type": "code",
   "execution_count": null,
   "metadata": {
    "ExecuteTime": {
     "end_time": "2018-08-01T22:36:20.658608Z",
     "start_time": "2018-08-01T22:36:20.322412Z"
    },
    "hidden": true
   },
   "outputs": [],
   "source": [
    "# predictions\n",
    "y_pred = metalearner.predict(test)\n",
    "y_pred = y_pred.as_data_frame().predict.tolist()\n",
    "y_test = test[y].as_data_frame().failure.tolist()"
   ]
  },
  {
   "cell_type": "code",
   "execution_count": null,
   "metadata": {
    "ExecuteTime": {
     "end_time": "2018-08-01T22:36:21.685078Z",
     "start_time": "2018-08-01T22:36:21.546944Z"
    },
    "hidden": true
   },
   "outputs": [],
   "source": [
    "# visualize prec-recall\n",
    "average_precision = metrics.average_precision_score(y_test, y_pred)\n",
    "precision, recall, _ = metrics.precision_recall_curve(y_test, y_pred)\n",
    "plt.step(recall, precision, color='b', alpha=0.2, where='post')\n",
    "plt.fill_between(recall, precision, step='post', alpha=0.2, color='b')\n",
    "plt.xlabel('Recall')\n",
    "plt.ylabel('Precision')\n",
    "plt.title('Binary Precision-Recall: Avg Precision={0:0.2f}'.format(average_precision))"
   ]
  },
  {
   "cell_type": "markdown",
   "metadata": {
    "hidden": true
   },
   "source": [
    "Interesting exercise, but this model requires tuning as it has no predictive power."
   ]
  },
  {
   "cell_type": "code",
   "execution_count": null,
   "metadata": {
    "ExecuteTime": {
     "end_time": "2018-08-01T22:36:40.705258Z",
     "start_time": "2018-08-01T22:36:40.571205Z"
    },
    "hidden": true
   },
   "outputs": [],
   "source": [
    "# cm\n",
    "ax = sns.heatmap(metrics.confusion_matrix(y_test, y_pred), annot=True, annot_kws={\"size\": 16});\n",
    "ax.set(title='Confusion Matrix', xlabel='Predicted', ylabel='Actual');"
   ]
  },
  {
   "cell_type": "code",
   "execution_count": null,
   "metadata": {
    "ExecuteTime": {
     "end_time": "2018-08-01T22:37:05.677713Z",
     "start_time": "2018-08-01T22:37:05.558645Z"
    },
    "hidden": true
   },
   "outputs": [],
   "source": [
    "# roc\n",
    "fpr, tpr, threshold = metrics.roc_curve(y_test, y_pred)\n",
    "roc_auc = metrics.auc(fpr, tpr)\n",
    "plt.title('Receiver Operating Characteristic')\n",
    "plt.plot(fpr, tpr, 'b', label = 'AUC = %0.2f' % roc_auc)\n",
    "plt.legend(loc = 'lower right')\n",
    "plt.plot([0, 1], [0, 1],'r--')\n",
    "plt.xlim([0, 1])\n",
    "plt.ylim([0, 1])\n",
    "plt.ylabel('True Positive Rate')\n",
    "plt.xlabel('False Positive Rate')\n",
    "plt.show()"
   ]
  },
  {
   "cell_type": "code",
   "execution_count": null,
   "metadata": {
    "ExecuteTime": {
     "end_time": "2018-08-01T22:37:09.259189Z",
     "start_time": "2018-08-01T22:37:08.864475Z"
    },
    "hidden": true
   },
   "outputs": [],
   "source": [
    "# get sys resources back\n",
    "h2o.cluster().shutdown()"
   ]
  },
  {
   "cell_type": "markdown",
   "metadata": {
    "heading_collapsed": true
   },
   "source": [
    "## Vanilla FFNN"
   ]
  },
  {
   "cell_type": "markdown",
   "metadata": {
    "hidden": true
   },
   "source": [
    "Why not? Effort, arch design, tuning, not enough data. Lots of reasons. If I were to go this route..."
   ]
  },
  {
   "cell_type": "code",
   "execution_count": null,
   "metadata": {
    "hidden": true
   },
   "outputs": [],
   "source": [
    "# define I/O\n",
    "input_size = len(featurenames)\n",
    "output_size = 2\n",
    "\n",
    "# a K.I.S.S. model\n",
    "x = Input(shape=(input_size,))\n",
    "layer1 = Dense(25, activation='relu')(x)\n",
    "layer2 = Dense(10)(layer1)\n",
    "layer3 = Dense(35)(layer2)\n",
    "layer4 = Dense(10)(layer3)\n",
    "layer5 = Dense(25, activation=None)(layer4)\n",
    "layer6 = Dense(output_size)(layer5)\n",
    "model = Model(x, layer6)\n",
    "model.compile(\n",
    "    loss='binary_crossentropy',\n",
    "    optimizer=RMSprop(0.001),\n",
    "    metrics=[sensitivity, specificity]\n",
    ")\n",
    "\n",
    "# weight the class imbalance\n",
    "trade_off = 0.5  # for f-score\n",
    "class_weight={\n",
    "    0: 1,\n",
    "    1: ratio * t\n",
    "}\n",
    "\n",
    "# run in 14 \"day\" batches\n",
    "batch_size = len(X_train) / 14\n",
    "\n",
    "# fit a model\n",
    "model.fit(X_train,\n",
    "          y_train,\n",
    "          nb_epoch=500,\n",
    "          batch_size=batch_size,\n",
    "          class_weight=class_weight)"
   ]
  },
  {
   "cell_type": "markdown",
   "metadata": {
    "heading_collapsed": true
   },
   "source": [
    "# Scratch"
   ]
  },
  {
   "cell_type": "code",
   "execution_count": null,
   "metadata": {
    "ExecuteTime": {
     "end_time": "2018-07-27T21:23:55.742383Z",
     "start_time": "2018-07-27T21:23:55.703553Z"
    },
    "hidden": true
   },
   "outputs": [],
   "source": []
  }
 ],
 "metadata": {
  "kernelspec": {
   "display_name": "Environment (conda_tensorflow_p36)",
   "language": "python",
   "name": "conda_tensorflow_p36"
  },
  "language_info": {
   "codemirror_mode": {
    "name": "ipython",
    "version": 3
   },
   "file_extension": ".py",
   "mimetype": "text/x-python",
   "name": "python",
   "nbconvert_exporter": "python",
   "pygments_lexer": "ipython3",
   "version": "3.6.6"
  },
  "toc": {
   "base_numbering": 1,
   "nav_menu": {},
   "number_sections": true,
   "sideBar": true,
   "skip_h1_title": false,
   "title_cell": "Table of Contents",
   "title_sidebar": "Contents",
   "toc_cell": true,
   "toc_position": {
    "height": "calc(100% - 180px)",
    "left": "10px",
    "top": "150px",
    "width": "257px"
   },
   "toc_section_display": true,
   "toc_window_display": false
  },
  "varInspector": {
   "cols": {
    "lenName": 16,
    "lenType": 16,
    "lenVar": 40
   },
   "kernels_config": {
    "python": {
     "delete_cmd_postfix": "",
     "delete_cmd_prefix": "del ",
     "library": "var_list.py",
     "varRefreshCmd": "print(var_dic_list())"
    },
    "r": {
     "delete_cmd_postfix": ") ",
     "delete_cmd_prefix": "rm(",
     "library": "var_list.r",
     "varRefreshCmd": "cat(var_dic_list()) "
    }
   },
   "position": {
    "height": "686px",
    "left": "638px",
    "right": "20px",
    "top": "110px",
    "width": "731px"
   },
   "types_to_exclude": [
    "module",
    "function",
    "builtin_function_or_method",
    "instance",
    "_Feature"
   ],
   "window_display": false
  }
 },
 "nbformat": 4,
 "nbformat_minor": 2
}
