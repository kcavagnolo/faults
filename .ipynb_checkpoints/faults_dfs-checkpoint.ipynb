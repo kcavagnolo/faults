{
 "cells": [
  {
   "cell_type": "markdown",
   "metadata": {
    "toc": true
   },
   "source": [
    "<h1>Table of Contents<span class=\"tocSkip\"></span></h1>\n",
    "<div class=\"toc\"><ul class=\"toc-item\"><li><span><a href=\"#Notes\" data-toc-modified-id=\"Notes-1\"><span class=\"toc-item-num\">1&nbsp;&nbsp;</span>Notes</a></span></li><li><span><a href=\"#Setup\" data-toc-modified-id=\"Setup-2\"><span class=\"toc-item-num\">2&nbsp;&nbsp;</span>Setup</a></span><ul class=\"toc-item\"><li><span><a href=\"#Imports\" data-toc-modified-id=\"Imports-2.1\"><span class=\"toc-item-num\">2.1&nbsp;&nbsp;</span>Imports</a></span></li><li><span><a href=\"#Functions\" data-toc-modified-id=\"Functions-2.2\"><span class=\"toc-item-num\">2.2&nbsp;&nbsp;</span>Functions</a></span></li></ul></li><li><span><a href=\"#Data-Ingest\" data-toc-modified-id=\"Data-Ingest-3\"><span class=\"toc-item-num\">3&nbsp;&nbsp;</span>Data Ingest</a></span></li><li><span><a href=\"#EDA\" data-toc-modified-id=\"EDA-4\"><span class=\"toc-item-num\">4&nbsp;&nbsp;</span>EDA</a></span><ul class=\"toc-item\"><li><span><a href=\"#QA/QC\" data-toc-modified-id=\"QA/QC-4.1\"><span class=\"toc-item-num\">4.1&nbsp;&nbsp;</span>QA/QC</a></span></li><li><span><a href=\"#Classes\" data-toc-modified-id=\"Classes-4.2\"><span class=\"toc-item-num\">4.2&nbsp;&nbsp;</span>Classes</a></span></li><li><span><a href=\"#Date\" data-toc-modified-id=\"Date-4.3\"><span class=\"toc-item-num\">4.3&nbsp;&nbsp;</span>Date</a></span></li><li><span><a href=\"#Device\" data-toc-modified-id=\"Device-4.4\"><span class=\"toc-item-num\">4.4&nbsp;&nbsp;</span>Device</a></span></li><li><span><a href=\"#Trends\" data-toc-modified-id=\"Trends-4.5\"><span class=\"toc-item-num\">4.5&nbsp;&nbsp;</span>Trends</a></span></li><li><span><a href=\"#Correlations\" data-toc-modified-id=\"Correlations-4.6\"><span class=\"toc-item-num\">4.6&nbsp;&nbsp;</span>Correlations</a></span></li><li><span><a href=\"#Save\" data-toc-modified-id=\"Save-4.7\"><span class=\"toc-item-num\">4.7&nbsp;&nbsp;</span>Save</a></span></li></ul></li><li><span><a href=\"#Feature-Engineering\" data-toc-modified-id=\"Feature-Engineering-5\"><span class=\"toc-item-num\">5&nbsp;&nbsp;</span>Feature Engineering</a></span><ul class=\"toc-item\"><li><span><a href=\"#Cut-off-Times\" data-toc-modified-id=\"Cut-off-Times-5.1\"><span class=\"toc-item-num\">5.1&nbsp;&nbsp;</span>Cut-off Times</a></span></li><li><span><a href=\"#Entity-Creation\" data-toc-modified-id=\"Entity-Creation-5.2\"><span class=\"toc-item-num\">5.2&nbsp;&nbsp;</span>Entity Creation</a></span></li><li><span><a href=\"#Deep-Feature-Synthesis\" data-toc-modified-id=\"Deep-Feature-Synthesis-5.3\"><span class=\"toc-item-num\">5.3&nbsp;&nbsp;</span>Deep Feature Synthesis</a></span></li><li><span><a href=\"#QA\" data-toc-modified-id=\"QA-5.4\"><span class=\"toc-item-num\">5.4&nbsp;&nbsp;</span>QA</a></span></li></ul></li><li><span><a href=\"#Training-Data\" data-toc-modified-id=\"Training-Data-6\"><span class=\"toc-item-num\">6&nbsp;&nbsp;</span>Training Data</a></span></li><li><span><a href=\"#Modeling\" data-toc-modified-id=\"Modeling-7\"><span class=\"toc-item-num\">7&nbsp;&nbsp;</span>Modeling</a></span><ul class=\"toc-item\"><li><span><a href=\"#Data-Prep\" data-toc-modified-id=\"Data-Prep-7.1\"><span class=\"toc-item-num\">7.1&nbsp;&nbsp;</span>Data Prep</a></span></li><li><span><a href=\"#xgboost\" data-toc-modified-id=\"xgboost-7.2\"><span class=\"toc-item-num\">7.2&nbsp;&nbsp;</span>xgboost</a></span><ul class=\"toc-item\"><li><span><a href=\"#Naive-Model\" data-toc-modified-id=\"Naive-Model-7.2.1\"><span class=\"toc-item-num\">7.2.1&nbsp;&nbsp;</span>Naive Model</a></span></li><li><span><a href=\"#Tuned-Model\" data-toc-modified-id=\"Tuned-Model-7.2.2\"><span class=\"toc-item-num\">7.2.2&nbsp;&nbsp;</span>Tuned Model</a></span></li></ul></li><li><span><a href=\"#AutoML\" data-toc-modified-id=\"AutoML-7.3\"><span class=\"toc-item-num\">7.3&nbsp;&nbsp;</span>AutoML</a></span></li><li><span><a href=\"#FFNN\" data-toc-modified-id=\"FFNN-7.4\"><span class=\"toc-item-num\">7.4&nbsp;&nbsp;</span>FFNN</a></span></li></ul></li><li><span><a href=\"#Scratch\" data-toc-modified-id=\"Scratch-8\"><span class=\"toc-item-num\">8&nbsp;&nbsp;</span>Scratch</a></span></li></ul></div>"
   ]
  },
  {
   "cell_type": "markdown",
   "metadata": {
    "heading_collapsed": true
   },
   "source": [
    "# Notes"
   ]
  },
  {
   "cell_type": "markdown",
   "metadata": {
    "hidden": true
   },
   "source": [
    "* Problem statment does not suggest device independence: these could be networked or interdependent systems, e.g. ordering.\n",
    "* Failure class is HEAVILY imbalanced; modeling is prone to finding local optima that explain the majority class.\n",
    "* [During failure, attributes 2, 4, 7, and 8 report much higher values than normal. This is not true of 1, 3, 5, 6, and 9](#failhard)\n",
    "* [a1 and a6 are very unique](#uniqueness)\n",
    "* [No duplicate data and no missing values](#missing)\n",
    "* [Events may have natural ordering that needs to be preserved](#ordered)\n",
    "* [Devices appear to come in types/classes](#deviceclasses)\n",
    "* Attributes look to be aggregates except for a1\n",
    "* [a2 & a4 ramp-up before failure, and looks like a7 spikes quickly too](#correlation)\n",
    "* Some devices go through \"servicing\" where aggregate value drops\n",
    "* [a3 & a9 are weakly positively correlated](#correlation)\n",
    "* [a7 & a8 are perfectly positively correlated... because they are identical](#a7a8)\n",
    "* [a7 appears to be critical in predicting failure in a naive model](#naivemodel)"
   ]
  },
  {
   "cell_type": "markdown",
   "metadata": {
    "heading_collapsed": true
   },
   "source": [
    "# Setup"
   ]
  },
  {
   "cell_type": "markdown",
   "metadata": {
    "heading_collapsed": true,
    "hidden": true
   },
   "source": [
    "## Imports"
   ]
  },
  {
   "cell_type": "code",
   "execution_count": 1,
   "metadata": {
    "ExecuteTime": {
     "end_time": "2018-08-01T12:53:38.425584Z",
     "start_time": "2018-08-01T12:53:37.704781Z"
    },
    "hidden": true
   },
   "outputs": [],
   "source": [
    "# mute warnings\n",
    "import warnings\n",
    "warnings.filterwarnings('ignore')\n",
    "\n",
    "# science\n",
    "import scipy as sp\n",
    "import numpy as np\n",
    "import pandas as pd\n",
    "import featuretools as ft\n",
    "import xgboost as xgb\n",
    "from sklearn import model_selection\n",
    "from sklearn import preprocessing\n",
    "from sklearn import metrics\n",
    "from sklearn.model_selection import StratifiedKFold\n",
    "import h2o\n",
    "from h2o.automl import H2OAutoML\n",
    "\n",
    "# system\n",
    "import random\n",
    "import hashlib\n",
    "import pickle\n",
    "import tempfile\n",
    "import time\n",
    "\n",
    "# visuals\n",
    "import seaborn as sns\n",
    "import matplotlib as mpl\n",
    "import matplotlib.pyplot as plt\n",
    "from matplotlib.pylab import rcParams\n",
    "from IPython import display\n",
    "\n",
    "# options\n",
    "%matplotlib inline\n",
    "rcParams['figure.figsize'] = 15, 6\n",
    "sns.set_style('whitegrid')\n",
    "sns.set_context('notebook')\n",
    "sns_cmap = sns.diverging_palette(10, 220, sep=80, n=5)\n",
    "pd.set_option('display.max_colwidth', -1)\n",
    "\n",
    "# in case nb needs to be re-run\n",
    "try:\n",
    "    %load_ext autoreload\n",
    "except:\n",
    "    %reload_ext autoreload\n",
    "%autoreload 2"
   ]
  },
  {
   "cell_type": "markdown",
   "metadata": {
    "heading_collapsed": true,
    "hidden": true
   },
   "source": [
    "## Functions"
   ]
  },
  {
   "cell_type": "code",
   "execution_count": 2,
   "metadata": {
    "ExecuteTime": {
     "end_time": "2018-08-01T12:53:38.440834Z",
     "start_time": "2018-08-01T12:53:38.426995Z"
    },
    "hidden": true
   },
   "outputs": [],
   "source": [
    "def load_data(filename):\n",
    "    '''\n",
    "    Load a generic CSV file into a pandas dataframe\n",
    "    '''\n",
    "    df = pd.read_csv(filename, escapechar='\\\\', encoding='utf-8')\n",
    "    df['uuid'] = df.apply(lambda x: hashlib.md5(str(x.values).encode('utf-8')).hexdigest(), axis=1)\n",
    "    assert sum(df.set_index('uuid').index.duplicated()) == 0, 'Error loading data: Hash collision; duplicate data'\n",
    "    return df"
   ]
  },
  {
   "cell_type": "code",
   "execution_count": 3,
   "metadata": {
    "ExecuteTime": {
     "end_time": "2018-08-01T12:53:38.455353Z",
     "start_time": "2018-08-01T12:53:38.442127Z"
    },
    "hidden": true
   },
   "outputs": [],
   "source": [
    "def calculate_nan_values(orig_df):\n",
    "    df = orig_df.copy()\n",
    "    df = df.isna().sum(axis=0).reset_index()\n",
    "    df.columns = ['column_name', 'na_count']\n",
    "    df['na_ratio'] = df['na_count'] / orig_df.shape[0]\n",
    "    df = df.loc[df['na_ratio'] > 0]\n",
    "    df = df.sort_values(by='na_ratio')\n",
    "    return df"
   ]
  },
  {
   "cell_type": "code",
   "execution_count": 4,
   "metadata": {
    "ExecuteTime": {
     "end_time": "2018-08-01T12:53:38.470310Z",
     "start_time": "2018-08-01T12:53:38.456666Z"
    },
    "hidden": true
   },
   "outputs": [],
   "source": [
    "def calculate_null_values(orig_df):\n",
    "    df = orig_df.copy()\n",
    "    df = df.isnull().sum(axis=0).reset_index()\n",
    "    df.columns = ['column_name', 'null_count']\n",
    "    df['null_ratio'] = df['null_count'] / orig_df.shape[0]\n",
    "    df = df.loc[df['null_ratio'] > 0]\n",
    "    df = df.sort_values(by='null_ratio')\n",
    "    return df"
   ]
  },
  {
   "cell_type": "code",
   "execution_count": 5,
   "metadata": {
    "ExecuteTime": {
     "end_time": "2018-08-01T12:53:38.827354Z",
     "start_time": "2018-08-01T12:53:38.809930Z"
    },
    "hidden": true
   },
   "outputs": [],
   "source": [
    "def value_limits(df, field, upper_bound=99, lower_bound=1):\n",
    "    upper_limit = np.percentile(df[field].values, upper_bound)\n",
    "    lower_limit = np.percentile(df[field].values, lower_bound)\n",
    "    return upper_limit, lower_limit"
   ]
  },
  {
   "cell_type": "code",
   "execution_count": 6,
   "metadata": {
    "ExecuteTime": {
     "end_time": "2018-08-01T12:53:39.000747Z",
     "start_time": "2018-08-01T12:53:38.982048Z"
    },
    "hidden": true
   },
   "outputs": [],
   "source": [
    "def visualize_correlations(df, fields):\n",
    "\n",
    "    # keep a copy\n",
    "    df = df.copy()\n",
    "\n",
    "    # correlation coefficient of each column\n",
    "    for field in fields:\n",
    "        x_cols = [col for col in df.columns\n",
    "                  if col != field and (df[col].dtype=='float64' or df[col].dtype=='int64')]\n",
    "        labels = []\n",
    "        values = []\n",
    "        for col in x_cols:\n",
    "            labels.append(col)\n",
    "            values.append(\n",
    "                np.corrcoef(df[col].values, df[field].values)[0, 1])\n",
    "\n",
    "        # create dataframe for corr coeffs\n",
    "        corr_df = pd.DataFrame({'col_labels': labels, 'corr_values': values})\n",
    "        corr_df = corr_df.sort_values(by='corr_values')\n",
    "\n",
    "        ind = np.arange(len(labels))\n",
    "        fig, ax = plt.subplots(figsize=(12, 4))\n",
    "        rects = ax.barh(ind, np.array(corr_df.corr_values.values), color='y')\n",
    "        ax.set_yticks(ind)\n",
    "        ax.set_yticklabels(corr_df.col_labels.values, rotation='horizontal')\n",
    "        ax.set_xlabel('correlation coefficient')\n",
    "        ax.set_title('Correlations with {}'.format(field))\n",
    "        ax.set_xlim(-1, 1)\n",
    "        plt.show()"
   ]
  },
  {
   "cell_type": "code",
   "execution_count": 7,
   "metadata": {
    "ExecuteTime": {
     "end_time": "2018-08-01T12:53:39.156967Z",
     "start_time": "2018-08-01T12:53:39.139348Z"
    },
    "hidden": true
   },
   "outputs": [],
   "source": [
    "def visualize_values(df, fields):\n",
    "    \n",
    "    # keep a copy\n",
    "    df = df.copy()\n",
    "\n",
    "    # iterate over fields\n",
    "    for field in fields:\n",
    "\n",
    "        # get limits of data\n",
    "        ulimit, llimit = value_limits(df, field)\n",
    "        print('###################')\n",
    "        print('Working on field {}'.format(field))\n",
    "        print('Upper limit: {:.3f}'.format(ulimit))\n",
    "        print('Lower limit: {:.3f}'.format(llimit))\n",
    "\n",
    "        # plot the ordered values for field\n",
    "        plt.figure(figsize=(12, 8))\n",
    "        plt.scatter(range(df.shape[0]), np.sort(df[field].values))\n",
    "        plt.xlabel('index', fontsize=12)\n",
    "        plt.ylabel(field, fontsize=12)\n",
    "        plt.show()\n",
    "\n",
    "        # plot histo of values\n",
    "        sns.distplot(df[field].values, bins=50, kde=True, norm_hist=True)\n",
    "        plt.xlabel(field, fontsize=12)\n",
    "        plt.show()"
   ]
  },
  {
   "cell_type": "code",
   "execution_count": 8,
   "metadata": {
    "ExecuteTime": {
     "end_time": "2018-08-01T12:53:39.305286Z",
     "start_time": "2018-08-01T12:53:39.291837Z"
    },
    "hidden": true
   },
   "outputs": [],
   "source": [
    "def save_hdf5(df, hdf_file, table_name, format=None):\n",
    "    if format is not None:\n",
    "        df.to_hdf(\n",
    "            hdf_file,\n",
    "            table_name,\n",
    "            mode='w',\n",
    "            format=format,\n",
    "            data_columns=True,\n",
    "            complevel=9,\n",
    "            complib='blosc:lz4')\n",
    "    else:\n",
    "        df.to_hdf(\n",
    "            hdf_file,\n",
    "            table_name,\n",
    "            mode='w',\n",
    "            data_columns=True,\n",
    "            complevel=9,\n",
    "            complib='blosc:lz4')"
   ]
  },
  {
   "cell_type": "code",
   "execution_count": 56,
   "metadata": {
    "ExecuteTime": {
     "end_time": "2018-08-01T13:53:27.005967Z",
     "start_time": "2018-08-01T13:53:26.990080Z"
    },
    "hidden": true
   },
   "outputs": [],
   "source": [
    "def train_xgb_model(X_train, y_train, params, kfolds=10, random_seed=7):\n",
    "\n",
    "    # setup\n",
    "    random.seed(random_seed)\n",
    "    np.random.seed(random_seed)\n",
    "\n",
    "    # isolate train features\n",
    "    X_train = X_train.values\n",
    "    y_train = y_train.astype(int).values\n",
    "    \n",
    "    # stratified k-fold\n",
    "    skf = StratifiedKFold(n_splits=kfolds, random_state=42, shuffle=False)\n",
    "    best_score = 0\n",
    "    best_model = None\n",
    "    for i, (train_index, cv_index) in enumerate(skf.split(X_train, y_train)):\n",
    "        print('Working on k-fold {}...'.format(i))\n",
    "        \n",
    "        # split data\n",
    "        print('Splitting data')\n",
    "        X_ktrain, X_kcv = X_train[train_index], X_train[cv_index]\n",
    "        y_ktrain, y_kcv = y_train[train_index], y_train[cv_index]\n",
    "        \n",
    "        # Convert our data into XGBoost format\n",
    "        print('Converting data to xgb format')        \n",
    "        d_train = xgb.DMatrix(X_ktrain, label=y_ktrain, feature_names=feature_names)\n",
    "        d_cv    = xgb.DMatrix(X_kcv, label=y_kcv, feature_names=feature_names)\n",
    "        watchlist = [(d_train, 'train'), (d_cv, 'cv')]\n",
    "\n",
    "        # train the model\n",
    "        print('Modeling')\n",
    "        model = xgb.train(params, d_train, num_boost_round=3000,\n",
    "                          evals=watchlist, #feval=cohen_kappa_scorer,\n",
    "                          early_stopping_rounds=300, verbose_eval=200)\n",
    "        if model.best_score > best_score:\n",
    "            best_score = model.best_score\n",
    "            best_model = model\n",
    "            model.save_model('xgboost_tuned.model')\n",
    "        print('Done.')\n",
    "    \n",
    "    # testing\n",
    "    return best_model"
   ]
  },
  {
   "cell_type": "code",
   "execution_count": null,
   "metadata": {
    "hidden": true
   },
   "outputs": [],
   "source": [
    "def cohen_kappa_scorer(preds, dmatrix):\n",
    "    y = dmatrix.get_label()\n",
    "    cohen_kappa_score(preds, y)\n",
    "    return 'kappa', score"
   ]
  },
  {
   "cell_type": "code",
   "execution_count": 11,
   "metadata": {
    "ExecuteTime": {
     "end_time": "2018-08-01T12:53:40.739426Z",
     "start_time": "2018-08-01T12:53:40.722111Z"
    },
    "hidden": true
   },
   "outputs": [],
   "source": [
    "def sensitivity(y_test, y_pred):\n",
    "    true_positives = K.sum(K.round(K.clip(y_test * y_pred, 0, 1)))\n",
    "    possible_positives = K.sum(K.round(K.clip(y_test, 0, 1)))\n",
    "    return true_positives / (possible_positives + K.epsilon())"
   ]
  },
  {
   "cell_type": "code",
   "execution_count": 12,
   "metadata": {
    "ExecuteTime": {
     "end_time": "2018-08-01T12:53:40.907194Z",
     "start_time": "2018-08-01T12:53:40.893183Z"
    },
    "hidden": true
   },
   "outputs": [],
   "source": [
    "def specificity(y_test, y_pred):\n",
    "    true_negatives = K.sum(K.round(K.clip((1-y_test) * (1-y_pred), 0, 1)))\n",
    "    possible_negatives = K.sum(K.round(K.clip(1-y_test, 0, 1)))\n",
    "    return true_negatives / (possible_negatives + K.epsilon())"
   ]
  },
  {
   "cell_type": "markdown",
   "metadata": {
    "heading_collapsed": true
   },
   "source": [
    "# Data Ingest"
   ]
  },
  {
   "cell_type": "code",
   "execution_count": 13,
   "metadata": {
    "ExecuteTime": {
     "end_time": "2018-08-01T11:27:50.545295Z",
     "start_time": "2018-08-01T11:27:45.836775Z"
    },
    "hidden": true
   },
   "outputs": [],
   "source": [
    "# load data\n",
    "faults_df = load_data(\"device_failure.csv\")"
   ]
  },
  {
   "cell_type": "code",
   "execution_count": 14,
   "metadata": {
    "ExecuteTime": {
     "end_time": "2018-08-01T11:27:50.571847Z",
     "start_time": "2018-08-01T11:27:50.546862Z"
    },
    "hidden": true,
    "scrolled": true
   },
   "outputs": [
    {
     "data": {
      "text/html": [
       "<div>\n",
       "<style scoped>\n",
       "    .dataframe tbody tr th:only-of-type {\n",
       "        vertical-align: middle;\n",
       "    }\n",
       "\n",
       "    .dataframe tbody tr th {\n",
       "        vertical-align: top;\n",
       "    }\n",
       "\n",
       "    .dataframe thead th {\n",
       "        text-align: right;\n",
       "    }\n",
       "</style>\n",
       "<table border=\"1\" class=\"dataframe\">\n",
       "  <thead>\n",
       "    <tr style=\"text-align: right;\">\n",
       "      <th></th>\n",
       "      <th>date</th>\n",
       "      <th>device</th>\n",
       "      <th>attribute1</th>\n",
       "      <th>attribute2</th>\n",
       "      <th>attribute3</th>\n",
       "      <th>attribute4</th>\n",
       "      <th>attribute5</th>\n",
       "      <th>attribute6</th>\n",
       "      <th>attribute7</th>\n",
       "      <th>attribute8</th>\n",
       "      <th>attribute9</th>\n",
       "      <th>failure</th>\n",
       "      <th>uuid</th>\n",
       "    </tr>\n",
       "  </thead>\n",
       "  <tbody>\n",
       "    <tr>\n",
       "      <th>0</th>\n",
       "      <td>15001</td>\n",
       "      <td>S1F01085</td>\n",
       "      <td>215630672</td>\n",
       "      <td>56</td>\n",
       "      <td>0</td>\n",
       "      <td>52</td>\n",
       "      <td>6</td>\n",
       "      <td>407438</td>\n",
       "      <td>0</td>\n",
       "      <td>0</td>\n",
       "      <td>7</td>\n",
       "      <td>0</td>\n",
       "      <td>5646eb712abba53b99fd8b8152c8f503</td>\n",
       "    </tr>\n",
       "    <tr>\n",
       "      <th>1</th>\n",
       "      <td>15001</td>\n",
       "      <td>S1F0166B</td>\n",
       "      <td>61370680</td>\n",
       "      <td>0</td>\n",
       "      <td>3</td>\n",
       "      <td>0</td>\n",
       "      <td>6</td>\n",
       "      <td>403174</td>\n",
       "      <td>0</td>\n",
       "      <td>0</td>\n",
       "      <td>0</td>\n",
       "      <td>0</td>\n",
       "      <td>4eff5953a2d3610d43197ada2ea8002d</td>\n",
       "    </tr>\n",
       "    <tr>\n",
       "      <th>2</th>\n",
       "      <td>15001</td>\n",
       "      <td>S1F01E6Y</td>\n",
       "      <td>173295968</td>\n",
       "      <td>0</td>\n",
       "      <td>0</td>\n",
       "      <td>0</td>\n",
       "      <td>12</td>\n",
       "      <td>237394</td>\n",
       "      <td>0</td>\n",
       "      <td>0</td>\n",
       "      <td>0</td>\n",
       "      <td>0</td>\n",
       "      <td>f9b3e1204591b513e0f1aa53abd65dd9</td>\n",
       "    </tr>\n",
       "    <tr>\n",
       "      <th>3</th>\n",
       "      <td>15001</td>\n",
       "      <td>S1F01JE0</td>\n",
       "      <td>79694024</td>\n",
       "      <td>0</td>\n",
       "      <td>0</td>\n",
       "      <td>0</td>\n",
       "      <td>6</td>\n",
       "      <td>410186</td>\n",
       "      <td>0</td>\n",
       "      <td>0</td>\n",
       "      <td>0</td>\n",
       "      <td>0</td>\n",
       "      <td>4c5c11b2f5e33fc3626c669b3ecb45d3</td>\n",
       "    </tr>\n",
       "    <tr>\n",
       "      <th>4</th>\n",
       "      <td>15001</td>\n",
       "      <td>S1F01R2B</td>\n",
       "      <td>135970480</td>\n",
       "      <td>0</td>\n",
       "      <td>0</td>\n",
       "      <td>0</td>\n",
       "      <td>15</td>\n",
       "      <td>313173</td>\n",
       "      <td>0</td>\n",
       "      <td>0</td>\n",
       "      <td>3</td>\n",
       "      <td>0</td>\n",
       "      <td>a742b325beb173c3827e77ade95c157d</td>\n",
       "    </tr>\n",
       "  </tbody>\n",
       "</table>\n",
       "</div>"
      ],
      "text/plain": [
       "    date    device  attribute1  attribute2  attribute3  attribute4  \\\n",
       "0  15001  S1F01085  215630672   56          0           52           \n",
       "1  15001  S1F0166B  61370680    0           3           0            \n",
       "2  15001  S1F01E6Y  173295968   0           0           0            \n",
       "3  15001  S1F01JE0  79694024    0           0           0            \n",
       "4  15001  S1F01R2B  135970480   0           0           0            \n",
       "\n",
       "   attribute5  attribute6  attribute7  attribute8  attribute9  failure  \\\n",
       "0  6           407438      0           0           7           0         \n",
       "1  6           403174      0           0           0           0         \n",
       "2  12          237394      0           0           0           0         \n",
       "3  6           410186      0           0           0           0         \n",
       "4  15          313173      0           0           3           0         \n",
       "\n",
       "                               uuid  \n",
       "0  5646eb712abba53b99fd8b8152c8f503  \n",
       "1  4eff5953a2d3610d43197ada2ea8002d  \n",
       "2  f9b3e1204591b513e0f1aa53abd65dd9  \n",
       "3  4c5c11b2f5e33fc3626c669b3ecb45d3  \n",
       "4  a742b325beb173c3827e77ade95c157d  "
      ]
     },
     "execution_count": 14,
     "metadata": {},
     "output_type": "execute_result"
    }
   ],
   "source": [
    "# see a sample\n",
    "faults_df.head()"
   ]
  },
  {
   "cell_type": "code",
   "execution_count": 15,
   "metadata": {
    "ExecuteTime": {
     "end_time": "2018-08-01T11:27:50.586059Z",
     "start_time": "2018-08-01T11:27:50.573185Z"
    },
    "hidden": true
   },
   "outputs": [],
   "source": [
    "# rename columns for less typing\n",
    "faults_df.columns = faults_df.columns.str.replace(\"attribute\", \"a\")"
   ]
  },
  {
   "cell_type": "code",
   "execution_count": 16,
   "metadata": {
    "ExecuteTime": {
     "end_time": "2018-08-01T11:27:50.711940Z",
     "start_time": "2018-08-01T11:27:50.587375Z"
    },
    "hidden": true
   },
   "outputs": [
    {
     "name": "stdout",
     "output_type": "stream",
     "text": [
      "date,device,attribute1,attribute2,attribute3,attribute4,attribute5,attribute6,attribute7,attribute8,attribute9,failure\r",
      "\r\n",
      "15001,S1F01085,215630672,56,0,52,6,407438,0,0,7,0\r",
      "\r\n",
      "15001,S1F0166B,61370680,0,3,0,6,403174,0,0,0,0\r",
      "\r\n",
      "15001,S1F01E6Y,173295968,0,0,0,12,237394,0,0,0,0\r",
      "\r\n",
      "15001,S1F01JE0,79694024,0,0,0,6,410186,0,0,0,0\r",
      "\r\n",
      "15001,S1F01R2B,135970480,0,0,0,15,313173,0,0,3,0\r",
      "\r\n",
      "15001,S1F01TD5,68837488,0,0,41,6,413535,0,0,1,0\r",
      "\r\n",
      "15001,S1F01XDJ,227721632,0,0,0,8,402525,0,0,0,0\r",
      "\r\n",
      "15001,S1F023H2,141503600,0,0,1,19,494462,16,16,3,0\r",
      "\r\n",
      "15001,S1F02A0J,8217840,0,1,0,14,311869,0,0,0,0\r",
      "\r\n"
     ]
    }
   ],
   "source": [
    "# odd date format, did load reformat?\n",
    "!head device_failure.csv"
   ]
  },
  {
   "cell_type": "code",
   "execution_count": 17,
   "metadata": {
    "ExecuteTime": {
     "end_time": "2018-08-01T11:27:50.833451Z",
     "start_time": "2018-08-01T11:27:50.713517Z"
    },
    "hidden": true
   },
   "outputs": [
    {
     "data": {
      "text/html": [
       "<div>\n",
       "<style scoped>\n",
       "    .dataframe tbody tr th:only-of-type {\n",
       "        vertical-align: middle;\n",
       "    }\n",
       "\n",
       "    .dataframe tbody tr th {\n",
       "        vertical-align: top;\n",
       "    }\n",
       "\n",
       "    .dataframe thead th {\n",
       "        text-align: right;\n",
       "    }\n",
       "</style>\n",
       "<table border=\"1\" class=\"dataframe\">\n",
       "  <thead>\n",
       "    <tr style=\"text-align: right;\">\n",
       "      <th></th>\n",
       "      <th>date</th>\n",
       "      <th>a1</th>\n",
       "      <th>a2</th>\n",
       "      <th>a3</th>\n",
       "      <th>a4</th>\n",
       "      <th>a5</th>\n",
       "      <th>a6</th>\n",
       "      <th>a7</th>\n",
       "      <th>a8</th>\n",
       "      <th>a9</th>\n",
       "      <th>failure</th>\n",
       "    </tr>\n",
       "  </thead>\n",
       "  <tbody>\n",
       "    <tr>\n",
       "      <th>count</th>\n",
       "      <td>124494.000000</td>\n",
       "      <td>1.244940e+05</td>\n",
       "      <td>124494.000000</td>\n",
       "      <td>124494.000000</td>\n",
       "      <td>124494.000000</td>\n",
       "      <td>124494.000000</td>\n",
       "      <td>124494.000000</td>\n",
       "      <td>124494.000000</td>\n",
       "      <td>124494.000000</td>\n",
       "      <td>124494.000000</td>\n",
       "      <td>124494.000000</td>\n",
       "    </tr>\n",
       "    <tr>\n",
       "      <th>mean</th>\n",
       "      <td>15106.222798</td>\n",
       "      <td>1.223868e+08</td>\n",
       "      <td>159.484762</td>\n",
       "      <td>9.940455</td>\n",
       "      <td>1.741120</td>\n",
       "      <td>14.222693</td>\n",
       "      <td>260172.858025</td>\n",
       "      <td>0.292528</td>\n",
       "      <td>0.292528</td>\n",
       "      <td>12.451524</td>\n",
       "      <td>0.000851</td>\n",
       "    </tr>\n",
       "    <tr>\n",
       "      <th>std</th>\n",
       "      <td>78.412061</td>\n",
       "      <td>7.045960e+07</td>\n",
       "      <td>2179.657730</td>\n",
       "      <td>185.747321</td>\n",
       "      <td>22.908507</td>\n",
       "      <td>15.943021</td>\n",
       "      <td>99151.009852</td>\n",
       "      <td>7.436924</td>\n",
       "      <td>7.436924</td>\n",
       "      <td>191.425623</td>\n",
       "      <td>0.029167</td>\n",
       "    </tr>\n",
       "    <tr>\n",
       "      <th>min</th>\n",
       "      <td>15001.000000</td>\n",
       "      <td>0.000000e+00</td>\n",
       "      <td>0.000000</td>\n",
       "      <td>0.000000</td>\n",
       "      <td>0.000000</td>\n",
       "      <td>1.000000</td>\n",
       "      <td>8.000000</td>\n",
       "      <td>0.000000</td>\n",
       "      <td>0.000000</td>\n",
       "      <td>0.000000</td>\n",
       "      <td>0.000000</td>\n",
       "    </tr>\n",
       "    <tr>\n",
       "      <th>25%</th>\n",
       "      <td>15040.000000</td>\n",
       "      <td>6.127675e+07</td>\n",
       "      <td>0.000000</td>\n",
       "      <td>0.000000</td>\n",
       "      <td>0.000000</td>\n",
       "      <td>8.000000</td>\n",
       "      <td>221452.000000</td>\n",
       "      <td>0.000000</td>\n",
       "      <td>0.000000</td>\n",
       "      <td>0.000000</td>\n",
       "      <td>0.000000</td>\n",
       "    </tr>\n",
       "    <tr>\n",
       "      <th>50%</th>\n",
       "      <td>15086.000000</td>\n",
       "      <td>1.227957e+08</td>\n",
       "      <td>0.000000</td>\n",
       "      <td>0.000000</td>\n",
       "      <td>0.000000</td>\n",
       "      <td>10.000000</td>\n",
       "      <td>249799.500000</td>\n",
       "      <td>0.000000</td>\n",
       "      <td>0.000000</td>\n",
       "      <td>0.000000</td>\n",
       "      <td>0.000000</td>\n",
       "    </tr>\n",
       "    <tr>\n",
       "      <th>75%</th>\n",
       "      <td>15168.000000</td>\n",
       "      <td>1.833084e+08</td>\n",
       "      <td>0.000000</td>\n",
       "      <td>0.000000</td>\n",
       "      <td>0.000000</td>\n",
       "      <td>12.000000</td>\n",
       "      <td>310266.000000</td>\n",
       "      <td>0.000000</td>\n",
       "      <td>0.000000</td>\n",
       "      <td>0.000000</td>\n",
       "      <td>0.000000</td>\n",
       "    </tr>\n",
       "    <tr>\n",
       "      <th>max</th>\n",
       "      <td>15306.000000</td>\n",
       "      <td>2.441405e+08</td>\n",
       "      <td>64968.000000</td>\n",
       "      <td>24929.000000</td>\n",
       "      <td>1666.000000</td>\n",
       "      <td>98.000000</td>\n",
       "      <td>689161.000000</td>\n",
       "      <td>832.000000</td>\n",
       "      <td>832.000000</td>\n",
       "      <td>18701.000000</td>\n",
       "      <td>1.000000</td>\n",
       "    </tr>\n",
       "  </tbody>\n",
       "</table>\n",
       "</div>"
      ],
      "text/plain": [
       "                date            a1             a2             a3  \\\n",
       "count  124494.000000  1.244940e+05  124494.000000  124494.000000   \n",
       "mean   15106.222798   1.223868e+08  159.484762     9.940455        \n",
       "std    78.412061      7.045960e+07  2179.657730    185.747321      \n",
       "min    15001.000000   0.000000e+00  0.000000       0.000000        \n",
       "25%    15040.000000   6.127675e+07  0.000000       0.000000        \n",
       "50%    15086.000000   1.227957e+08  0.000000       0.000000        \n",
       "75%    15168.000000   1.833084e+08  0.000000       0.000000        \n",
       "max    15306.000000   2.441405e+08  64968.000000   24929.000000    \n",
       "\n",
       "                  a4             a5             a6             a7  \\\n",
       "count  124494.000000  124494.000000  124494.000000  124494.000000   \n",
       "mean   1.741120       14.222693      260172.858025  0.292528        \n",
       "std    22.908507      15.943021      99151.009852   7.436924        \n",
       "min    0.000000       1.000000       8.000000       0.000000        \n",
       "25%    0.000000       8.000000       221452.000000  0.000000        \n",
       "50%    0.000000       10.000000      249799.500000  0.000000        \n",
       "75%    0.000000       12.000000      310266.000000  0.000000        \n",
       "max    1666.000000    98.000000      689161.000000  832.000000      \n",
       "\n",
       "                  a8             a9        failure  \n",
       "count  124494.000000  124494.000000  124494.000000  \n",
       "mean   0.292528       12.451524      0.000851       \n",
       "std    7.436924       191.425623     0.029167       \n",
       "min    0.000000       0.000000       0.000000       \n",
       "25%    0.000000       0.000000       0.000000       \n",
       "50%    0.000000       0.000000       0.000000       \n",
       "75%    0.000000       0.000000       0.000000       \n",
       "max    832.000000     18701.000000   1.000000       "
      ]
     },
     "execution_count": 17,
     "metadata": {},
     "output_type": "execute_result"
    }
   ],
   "source": [
    "# basic summary for any obvious weirdness\n",
    "faults_df.describe()"
   ]
  },
  {
   "cell_type": "markdown",
   "metadata": {
    "hidden": true
   },
   "source": [
    "This data set appears to have attributes that are either \"codes\" or aggregates. The min/max and stddev for each is large, so there's a spread. If these are codes, one-hot encoding will be... tough."
   ]
  },
  {
   "cell_type": "markdown",
   "metadata": {
    "heading_collapsed": true
   },
   "source": [
    "# EDA"
   ]
  },
  {
   "cell_type": "markdown",
   "metadata": {
    "heading_collapsed": true,
    "hidden": true
   },
   "source": [
    "## QA/QC"
   ]
  },
  {
   "cell_type": "code",
   "execution_count": 18,
   "metadata": {
    "ExecuteTime": {
     "end_time": "2018-08-01T11:27:53.478725Z",
     "start_time": "2018-08-01T11:27:53.363224Z"
    },
    "hidden": true
   },
   "outputs": [],
   "source": [
    "# double-check problem statement, one device per day?\n",
    "check = faults_df.date.astype(str) + faults_df.device.astype(str)\n",
    "assert len(check) == len(check.drop_duplicates()), 'More than one device per day'"
   ]
  },
  {
   "cell_type": "code",
   "execution_count": 19,
   "metadata": {
    "ExecuteTime": {
     "end_time": "2018-08-01T11:27:53.597371Z",
     "start_time": "2018-08-01T11:27:53.574542Z"
    },
    "hidden": true,
    "scrolled": false
   },
   "outputs": [
    {
     "data": {
      "text/html": [
       "<div>\n",
       "<style scoped>\n",
       "    .dataframe tbody tr th:only-of-type {\n",
       "        vertical-align: middle;\n",
       "    }\n",
       "\n",
       "    .dataframe tbody tr th {\n",
       "        vertical-align: top;\n",
       "    }\n",
       "\n",
       "    .dataframe thead th {\n",
       "        text-align: right;\n",
       "    }\n",
       "</style>\n",
       "<table border=\"1\" class=\"dataframe\">\n",
       "  <thead>\n",
       "    <tr style=\"text-align: right;\">\n",
       "      <th></th>\n",
       "      <th>Count</th>\n",
       "      <th>Column Type</th>\n",
       "    </tr>\n",
       "  </thead>\n",
       "  <tbody>\n",
       "    <tr>\n",
       "      <th>0</th>\n",
       "      <td>date</td>\n",
       "      <td>int64</td>\n",
       "    </tr>\n",
       "    <tr>\n",
       "      <th>1</th>\n",
       "      <td>device</td>\n",
       "      <td>object</td>\n",
       "    </tr>\n",
       "    <tr>\n",
       "      <th>2</th>\n",
       "      <td>a1</td>\n",
       "      <td>int64</td>\n",
       "    </tr>\n",
       "    <tr>\n",
       "      <th>3</th>\n",
       "      <td>a2</td>\n",
       "      <td>int64</td>\n",
       "    </tr>\n",
       "    <tr>\n",
       "      <th>4</th>\n",
       "      <td>a3</td>\n",
       "      <td>int64</td>\n",
       "    </tr>\n",
       "    <tr>\n",
       "      <th>5</th>\n",
       "      <td>a4</td>\n",
       "      <td>int64</td>\n",
       "    </tr>\n",
       "    <tr>\n",
       "      <th>6</th>\n",
       "      <td>a5</td>\n",
       "      <td>int64</td>\n",
       "    </tr>\n",
       "    <tr>\n",
       "      <th>7</th>\n",
       "      <td>a6</td>\n",
       "      <td>int64</td>\n",
       "    </tr>\n",
       "    <tr>\n",
       "      <th>8</th>\n",
       "      <td>a7</td>\n",
       "      <td>int64</td>\n",
       "    </tr>\n",
       "    <tr>\n",
       "      <th>9</th>\n",
       "      <td>a8</td>\n",
       "      <td>int64</td>\n",
       "    </tr>\n",
       "    <tr>\n",
       "      <th>10</th>\n",
       "      <td>a9</td>\n",
       "      <td>int64</td>\n",
       "    </tr>\n",
       "    <tr>\n",
       "      <th>11</th>\n",
       "      <td>failure</td>\n",
       "      <td>int64</td>\n",
       "    </tr>\n",
       "    <tr>\n",
       "      <th>12</th>\n",
       "      <td>uuid</td>\n",
       "      <td>object</td>\n",
       "    </tr>\n",
       "  </tbody>\n",
       "</table>\n",
       "</div>"
      ],
      "text/plain": [
       "      Count Column Type\n",
       "0   date     int64     \n",
       "1   device   object    \n",
       "2   a1       int64     \n",
       "3   a2       int64     \n",
       "4   a3       int64     \n",
       "5   a4       int64     \n",
       "6   a5       int64     \n",
       "7   a6       int64     \n",
       "8   a7       int64     \n",
       "9   a8       int64     \n",
       "10  a9       int64     \n",
       "11  failure  int64     \n",
       "12  uuid     object    "
      ]
     },
     "execution_count": 19,
     "metadata": {},
     "output_type": "execute_result"
    }
   ],
   "source": [
    "# inspect data types\n",
    "dtype_df = faults_df.dtypes.reset_index()\n",
    "dtype_df.columns = [\"Count\", \"Column Type\"]\n",
    "dtype_df"
   ]
  },
  {
   "cell_type": "code",
   "execution_count": 20,
   "metadata": {
    "ExecuteTime": {
     "end_time": "2018-08-01T11:27:55.220643Z",
     "start_time": "2018-08-01T11:27:55.012770Z"
    },
    "hidden": true
   },
   "outputs": [
    {
     "data": {
      "text/html": [
       "<div>\n",
       "<style scoped>\n",
       "    .dataframe tbody tr th:only-of-type {\n",
       "        vertical-align: middle;\n",
       "    }\n",
       "\n",
       "    .dataframe tbody tr th {\n",
       "        vertical-align: top;\n",
       "    }\n",
       "\n",
       "    .dataframe thead th {\n",
       "        text-align: right;\n",
       "    }\n",
       "</style>\n",
       "<table border=\"1\" class=\"dataframe\">\n",
       "  <thead>\n",
       "    <tr style=\"text-align: right;\">\n",
       "      <th></th>\n",
       "      <th>column</th>\n",
       "      <th>num_unique</th>\n",
       "      <th>perc_unique</th>\n",
       "    </tr>\n",
       "  </thead>\n",
       "  <tbody>\n",
       "    <tr>\n",
       "      <th>0</th>\n",
       "      <td>date</td>\n",
       "      <td>304</td>\n",
       "      <td>0.002442</td>\n",
       "    </tr>\n",
       "    <tr>\n",
       "      <th>1</th>\n",
       "      <td>device</td>\n",
       "      <td>1168</td>\n",
       "      <td>0.009382</td>\n",
       "    </tr>\n",
       "    <tr>\n",
       "      <th>2</th>\n",
       "      <td>a1</td>\n",
       "      <td>123878</td>\n",
       "      <td>0.995052</td>\n",
       "    </tr>\n",
       "    <tr>\n",
       "      <th>3</th>\n",
       "      <td>a2</td>\n",
       "      <td>558</td>\n",
       "      <td>0.004482</td>\n",
       "    </tr>\n",
       "    <tr>\n",
       "      <th>4</th>\n",
       "      <td>a3</td>\n",
       "      <td>47</td>\n",
       "      <td>0.000378</td>\n",
       "    </tr>\n",
       "    <tr>\n",
       "      <th>5</th>\n",
       "      <td>a4</td>\n",
       "      <td>115</td>\n",
       "      <td>0.000924</td>\n",
       "    </tr>\n",
       "    <tr>\n",
       "      <th>6</th>\n",
       "      <td>a5</td>\n",
       "      <td>60</td>\n",
       "      <td>0.000482</td>\n",
       "    </tr>\n",
       "    <tr>\n",
       "      <th>7</th>\n",
       "      <td>a6</td>\n",
       "      <td>44838</td>\n",
       "      <td>0.360162</td>\n",
       "    </tr>\n",
       "    <tr>\n",
       "      <th>8</th>\n",
       "      <td>a7</td>\n",
       "      <td>28</td>\n",
       "      <td>0.000225</td>\n",
       "    </tr>\n",
       "    <tr>\n",
       "      <th>9</th>\n",
       "      <td>a8</td>\n",
       "      <td>28</td>\n",
       "      <td>0.000225</td>\n",
       "    </tr>\n",
       "    <tr>\n",
       "      <th>10</th>\n",
       "      <td>a9</td>\n",
       "      <td>65</td>\n",
       "      <td>0.000522</td>\n",
       "    </tr>\n",
       "    <tr>\n",
       "      <th>11</th>\n",
       "      <td>failure</td>\n",
       "      <td>2</td>\n",
       "      <td>0.000016</td>\n",
       "    </tr>\n",
       "    <tr>\n",
       "      <th>12</th>\n",
       "      <td>uuid</td>\n",
       "      <td>124494</td>\n",
       "      <td>1.000000</td>\n",
       "    </tr>\n",
       "  </tbody>\n",
       "</table>\n",
       "</div>"
      ],
      "text/plain": [
       "     column  num_unique  perc_unique\n",
       "0   date     304         0.002442   \n",
       "1   device   1168        0.009382   \n",
       "2   a1       123878      0.995052   \n",
       "3   a2       558         0.004482   \n",
       "4   a3       47          0.000378   \n",
       "5   a4       115         0.000924   \n",
       "6   a5       60          0.000482   \n",
       "7   a6       44838       0.360162   \n",
       "8   a7       28          0.000225   \n",
       "9   a8       28          0.000225   \n",
       "10  a9       65          0.000522   \n",
       "11  failure  2           0.000016   \n",
       "12  uuid     124494      1.000000   "
      ]
     },
     "execution_count": 20,
     "metadata": {},
     "output_type": "execute_result"
    }
   ],
   "source": [
    "# inspect uniqueness\n",
    "uniqueness_df = pd.DataFrame(faults_df.nunique()).reset_index()\n",
    "uniqueness_df.columns = [\"column\", \"num_unique\"]\n",
    "uniqueness_df['perc_unique'] = uniqueness_df.num_unique.apply(lambda x: x/len(faults_df))\n",
    "uniqueness_df"
   ]
  },
  {
   "cell_type": "markdown",
   "metadata": {
    "hidden": true
   },
   "source": [
    "A1 is very unique: device identifier? Can't be. Must be a daily value. <a id=\"uniqueness\"></a>"
   ]
  },
  {
   "cell_type": "code",
   "execution_count": 21,
   "metadata": {
    "ExecuteTime": {
     "end_time": "2018-08-01T11:27:57.210065Z",
     "start_time": "2018-08-01T11:27:57.150793Z"
    },
    "hidden": true
   },
   "outputs": [
    {
     "data": {
      "text/html": [
       "<div>\n",
       "<style scoped>\n",
       "    .dataframe tbody tr th:only-of-type {\n",
       "        vertical-align: middle;\n",
       "    }\n",
       "\n",
       "    .dataframe tbody tr th {\n",
       "        vertical-align: top;\n",
       "    }\n",
       "\n",
       "    .dataframe thead th {\n",
       "        text-align: right;\n",
       "    }\n",
       "</style>\n",
       "<table border=\"1\" class=\"dataframe\">\n",
       "  <thead>\n",
       "    <tr style=\"text-align: right;\">\n",
       "      <th></th>\n",
       "      <th>column_name</th>\n",
       "      <th>null_count</th>\n",
       "      <th>null_ratio</th>\n",
       "    </tr>\n",
       "  </thead>\n",
       "  <tbody>\n",
       "  </tbody>\n",
       "</table>\n",
       "</div>"
      ],
      "text/plain": [
       "Empty DataFrame\n",
       "Columns: [column_name, null_count, null_ratio]\n",
       "Index: []"
      ]
     },
     "execution_count": 21,
     "metadata": {},
     "output_type": "execute_result"
    }
   ],
   "source": [
    "# nulls\n",
    "calculate_null_values(faults_df)"
   ]
  },
  {
   "cell_type": "code",
   "execution_count": 22,
   "metadata": {
    "ExecuteTime": {
     "end_time": "2018-08-01T11:27:57.410792Z",
     "start_time": "2018-08-01T11:27:57.358558Z"
    },
    "hidden": true
   },
   "outputs": [
    {
     "data": {
      "text/html": [
       "<div>\n",
       "<style scoped>\n",
       "    .dataframe tbody tr th:only-of-type {\n",
       "        vertical-align: middle;\n",
       "    }\n",
       "\n",
       "    .dataframe tbody tr th {\n",
       "        vertical-align: top;\n",
       "    }\n",
       "\n",
       "    .dataframe thead th {\n",
       "        text-align: right;\n",
       "    }\n",
       "</style>\n",
       "<table border=\"1\" class=\"dataframe\">\n",
       "  <thead>\n",
       "    <tr style=\"text-align: right;\">\n",
       "      <th></th>\n",
       "      <th>column_name</th>\n",
       "      <th>na_count</th>\n",
       "      <th>na_ratio</th>\n",
       "    </tr>\n",
       "  </thead>\n",
       "  <tbody>\n",
       "  </tbody>\n",
       "</table>\n",
       "</div>"
      ],
      "text/plain": [
       "Empty DataFrame\n",
       "Columns: [column_name, na_count, na_ratio]\n",
       "Index: []"
      ]
     },
     "execution_count": 22,
     "metadata": {},
     "output_type": "execute_result"
    }
   ],
   "source": [
    "# nan's (just to be sure)\n",
    "calculate_nan_values(faults_df)"
   ]
  },
  {
   "cell_type": "code",
   "execution_count": null,
   "metadata": {
    "ExecuteTime": {
     "end_time": "2018-08-01T11:28:12.181446Z",
     "start_time": "2018-08-01T11:27:57.526823Z"
    },
    "hidden": true,
    "scrolled": true
   },
   "outputs": [],
   "source": [
    "# visualize column values\n",
    "fields = [c for c in faults_df.columns if faults_df[c].dtype == 'int64']\n",
    "visualize_values(faults_df, fields)"
   ]
  },
  {
   "cell_type": "markdown",
   "metadata": {
    "hidden": true
   },
   "source": [
    "Some attributes have orders of magnitude higher values than others within same category. Must have units of measure."
   ]
  },
  {
   "cell_type": "code",
   "execution_count": 25,
   "metadata": {
    "ExecuteTime": {
     "end_time": "2018-07-31T11:23:03.774106Z",
     "start_time": "2018-07-31T11:23:03.751407Z"
    },
    "hidden": true
   },
   "outputs": [],
   "source": [
    "cols = faults_df.filter(regex='^a').columns.tolist()\n",
    "temp = faults_df[cols]"
   ]
  },
  {
   "cell_type": "code",
   "execution_count": 26,
   "metadata": {
    "ExecuteTime": {
     "end_time": "2018-07-31T11:10:06.052630Z",
     "start_time": "2018-07-31T11:08:56.299516Z"
    },
    "hidden": true
   },
   "outputs": [
    {
     "data": {
      "image/png": "[encoded data removed]",
      "text/plain": [
       "<Figure size 1620x1620 with 90 Axes>"
      ]
     },
     "metadata": {},
     "output_type": "display_data"
    }
   ],
   "source": [
    "sns.pairplot(temp);"
   ]
  },
  {
   "cell_type": "code",
   "execution_count": 27,
   "metadata": {
    "ExecuteTime": {
     "end_time": "2018-07-31T11:10:06.151005Z",
     "start_time": "2018-07-31T11:10:06.054084Z"
    },
    "hidden": true
   },
   "outputs": [
    {
     "data": {
      "text/plain": [
       "<matplotlib.axes._subplots.AxesSubplot at 0x7fb366ccd8d0>"
      ]
     },
     "execution_count": 27,
     "metadata": {},
     "output_type": "execute_result"
    },
    {
     "data": {
      "image/png": "[encoded data removed]",
      "text/plain": [
       "<Figure size 432x288 with 1 Axes>"
      ]
     },
     "metadata": {},
     "output_type": "display_data"
    }
   ],
   "source": [
    "sns.countplot(x=\"failure\", data=faults_df)"
   ]
  },
  {
   "cell_type": "markdown",
   "metadata": {
    "hidden": true
   },
   "source": [
    "Yikes, this is an extreme example of imbalanced classes."
   ]
  },
  {
   "cell_type": "markdown",
   "metadata": {
    "heading_collapsed": true,
    "hidden": true
   },
   "source": [
    "## Classes"
   ]
  },
  {
   "cell_type": "code",
   "execution_count": 24,
   "metadata": {
    "ExecuteTime": {
     "end_time": "2018-08-01T11:28:51.423562Z",
     "start_time": "2018-08-01T11:28:51.401473Z"
    },
    "hidden": true
   },
   "outputs": [
    {
     "data": {
      "text/plain": [
       "failure\n",
       "0    99.914855\n",
       "1    0.085145 \n",
       "Name: failure, dtype: float64"
      ]
     },
     "execution_count": 24,
     "metadata": {},
     "output_type": "execute_result"
    }
   ],
   "source": [
    "# summary count of classes\n",
    "100.*faults_df.groupby('failure').failure.count()/len(faults_df)"
   ]
  },
  {
   "cell_type": "markdown",
   "metadata": {
    "hidden": true
   },
   "source": [
    "\"Extreme\" is putting it lightly: 99.91% of the time, the data indicates non-failure. **Model #1**: Always predict 'non-failure', you'll be right most of the time :)"
   ]
  },
  {
   "cell_type": "code",
   "execution_count": 26,
   "metadata": {
    "ExecuteTime": {
     "end_time": "2018-08-01T10:35:01.332016Z",
     "start_time": "2018-08-01T10:35:01.144795Z"
    },
    "hidden": true
   },
   "outputs": [],
   "source": [
    "# summarize by class\n",
    "temp = faults_df.filter(regex='^a|failure')\n",
    "scaler = preprocessing.MinMaxScaler()\n",
    "scaled_values = scaler.fit_transform(temp) \n",
    "temp.loc[:,:] = scaled_values\n",
    "temp_melt = pd.melt(temp, \"failure\", var_name=\"measurement\")"
   ]
  },
  {
   "cell_type": "code",
   "execution_count": 27,
   "metadata": {
    "ExecuteTime": {
     "end_time": "2018-08-01T10:35:11.506280Z",
     "start_time": "2018-08-01T10:35:01.894561Z"
    },
    "hidden": true
   },
   "outputs": [
    {
     "data": {
      "image/png": "[encoded data removed]",
      "text/plain": [
       "<Figure size 416.975x360 with 1 Axes>"
      ]
     },
     "metadata": {},
     "output_type": "display_data"
    }
   ],
   "source": [
    "sns.catplot(x=\"measurement\", y=\"value\", hue=\"failure\", kind=\"bar\", data=temp_melt);"
   ]
  },
  {
   "cell_type": "markdown",
   "metadata": {
    "hidden": true
   },
   "source": [
    "Do some attributes have values ONLY when a failure occurs: a2, a4, a7, a8?"
   ]
  },
  {
   "cell_type": "code",
   "execution_count": 28,
   "metadata": {
    "ExecuteTime": {
     "end_time": "2018-08-01T10:35:11.600091Z",
     "start_time": "2018-08-01T10:35:11.507727Z"
    },
    "hidden": true
   },
   "outputs": [
    {
     "data": {
      "text/html": [
       "<div>\n",
       "<style scoped>\n",
       "    .dataframe tbody tr th:only-of-type {\n",
       "        vertical-align: middle;\n",
       "    }\n",
       "\n",
       "    .dataframe tbody tr th {\n",
       "        vertical-align: top;\n",
       "    }\n",
       "\n",
       "    .dataframe thead th {\n",
       "        text-align: right;\n",
       "    }\n",
       "</style>\n",
       "<table border=\"1\" class=\"dataframe\">\n",
       "  <thead>\n",
       "    <tr style=\"text-align: right;\">\n",
       "      <th></th>\n",
       "      <th></th>\n",
       "      <th>value</th>\n",
       "    </tr>\n",
       "    <tr>\n",
       "      <th>measurement</th>\n",
       "      <th>failure</th>\n",
       "      <th></th>\n",
       "    </tr>\n",
       "  </thead>\n",
       "  <tbody>\n",
       "    <tr>\n",
       "      <th rowspan=\"2\" valign=\"top\">a2</th>\n",
       "      <th>0.0</th>\n",
       "      <td>6336.0</td>\n",
       "    </tr>\n",
       "    <tr>\n",
       "      <th>1.0</th>\n",
       "      <td>48.0</td>\n",
       "    </tr>\n",
       "    <tr>\n",
       "      <th rowspan=\"2\" valign=\"top\">a3</th>\n",
       "      <th>0.0</th>\n",
       "      <td>9124.0</td>\n",
       "    </tr>\n",
       "    <tr>\n",
       "      <th>1.0</th>\n",
       "      <td>11.0</td>\n",
       "    </tr>\n",
       "    <tr>\n",
       "      <th rowspan=\"2\" valign=\"top\">a4</th>\n",
       "      <th>0.0</th>\n",
       "      <td>9276.0</td>\n",
       "    </tr>\n",
       "    <tr>\n",
       "      <th>1.0</th>\n",
       "      <td>62.0</td>\n",
       "    </tr>\n",
       "    <tr>\n",
       "      <th rowspan=\"2\" valign=\"top\">a7</th>\n",
       "      <th>0.0</th>\n",
       "      <td>1419.0</td>\n",
       "    </tr>\n",
       "    <tr>\n",
       "      <th>1.0</th>\n",
       "      <td>39.0</td>\n",
       "    </tr>\n",
       "    <tr>\n",
       "      <th rowspan=\"2\" valign=\"top\">a8</th>\n",
       "      <th>0.0</th>\n",
       "      <td>1419.0</td>\n",
       "    </tr>\n",
       "    <tr>\n",
       "      <th>1.0</th>\n",
       "      <td>39.0</td>\n",
       "    </tr>\n",
       "    <tr>\n",
       "      <th rowspan=\"2\" valign=\"top\">a9</th>\n",
       "      <th>0.0</th>\n",
       "      <td>27106.0</td>\n",
       "    </tr>\n",
       "    <tr>\n",
       "      <th>1.0</th>\n",
       "      <td>30.0</td>\n",
       "    </tr>\n",
       "  </tbody>\n",
       "</table>\n",
       "</div>"
      ],
      "text/plain": [
       "                       value\n",
       "measurement failure         \n",
       "a2          0.0      6336.0 \n",
       "            1.0      48.0   \n",
       "a3          0.0      9124.0 \n",
       "            1.0      11.0   \n",
       "a4          0.0      9276.0 \n",
       "            1.0      62.0   \n",
       "a7          0.0      1419.0 \n",
       "            1.0      39.0   \n",
       "a8          0.0      1419.0 \n",
       "            1.0      39.0   \n",
       "a9          0.0      27106.0\n",
       "            1.0      30.0   "
      ]
     },
     "execution_count": 28,
     "metadata": {},
     "output_type": "execute_result"
    }
   ],
   "source": [
    "# check this^^^ question\n",
    "subtemp = temp.filter(regex='a2|a3|a9|a4|a7|a8|failure')\n",
    "for c in subtemp.columns:\n",
    "    subtemp.loc[subtemp[c] > 0, c] = 1\n",
    "subtemp_melt = pd.melt(subtemp, \"failure\", var_name=\"measurement\")\n",
    "grouped = subtemp_melt.groupby(['measurement', 'failure']).sum()\n",
    "grouped"
   ]
  },
  {
   "cell_type": "markdown",
   "metadata": {
    "hidden": true
   },
   "source": [
    "Far more values present when not failing, so there must be a slant toward large values when there is a failure?"
   ]
  },
  {
   "cell_type": "code",
   "execution_count": 29,
   "metadata": {
    "ExecuteTime": {
     "end_time": "2018-08-01T10:35:22.974369Z",
     "start_time": "2018-08-01T10:35:16.558993Z"
    },
    "hidden": true
   },
   "outputs": [
    {
     "data": {
      "image/png": "[encoded data removed]",
      "text/plain": [
       "<Figure size 416.975x360 with 1 Axes>"
      ]
     },
     "metadata": {},
     "output_type": "display_data"
    }
   ],
   "source": [
    "sns.catplot(x=\"measurement\", y=\"value\", hue=\"failure\", kind=\"bar\", data=subtemp_melt);"
   ]
  },
  {
   "cell_type": "markdown",
   "metadata": {
    "hidden": true
   },
   "source": [
    "<a id=\"failhard\"></a>\n",
    "Looks to be true. When there is a failure, attributes 2, 4, 7, and 8 report much higher values than normal. This is not true of 1, 3, 5, 6, and 9. They should be correlated with failure then..."
   ]
  },
  {
   "cell_type": "code",
   "execution_count": 30,
   "metadata": {
    "ExecuteTime": {
     "end_time": "2018-08-01T10:36:02.929141Z",
     "start_time": "2018-08-01T10:36:02.647923Z"
    },
    "hidden": true
   },
   "outputs": [
    {
     "data": {
      "text/plain": [
       "<matplotlib.axes._subplots.AxesSubplot at 0x7f1cb0efd4e0>"
      ]
     },
     "execution_count": 30,
     "metadata": {},
     "output_type": "execute_result"
    },
    {
     "data": {
      "image/png": "[encoded data removed]",
      "text/plain": [
       "<Figure size 1080x432 with 2 Axes>"
      ]
     },
     "metadata": {},
     "output_type": "display_data"
    }
   ],
   "source": [
    "# Draw the heatmap with the mask and correct aspect ratio\n",
    "corr = temp.corr()\n",
    "\n",
    "# Generate a mask for the upper triangle\n",
    "mask = np.zeros_like(corr, dtype=np.bool)\n",
    "mask[np.triu_indices_from(mask)] = True\n",
    "\n",
    "# Generate a custom diverging colormap\n",
    "cmap = sns.diverging_palette(220, 10, as_cmap=True)\n",
    "\n",
    "# heatmap\n",
    "sns.heatmap(corr, mask=mask, cmap=cmap, center=0,\n",
    "            square=True, linewidths=.5, cbar_kws={\"shrink\": .5})"
   ]
  },
  {
   "cell_type": "markdown",
   "metadata": {
    "hidden": true
   },
   "source": [
    "That is confidence building: a2, a4, a7, and a8 are weakly correlated with failure. Dig on A7==A8 in EDA."
   ]
  },
  {
   "cell_type": "markdown",
   "metadata": {
    "heading_collapsed": true,
    "hidden": true
   },
   "source": [
    "## Date"
   ]
  },
  {
   "cell_type": "code",
   "execution_count": 25,
   "metadata": {
    "ExecuteTime": {
     "end_time": "2018-08-01T11:29:07.692701Z",
     "start_time": "2018-08-01T11:29:07.673307Z"
    },
    "hidden": true,
    "scrolled": true
   },
   "outputs": [
    {
     "data": {
      "text/plain": [
       "array([15001, 15002, 15003, 15004, 15005, 15006, 15007, 15008, 15009,\n",
       "       15010, 15011, 15012, 15013, 15014, 15015, 15016, 15017, 15018,\n",
       "       15019, 15020, 15021, 15022, 15023, 15024, 15025, 15026, 15027,\n",
       "       15028, 15029, 15030, 15031, 15032, 15033, 15034, 15035, 15036,\n",
       "       15037, 15038, 15039, 15040, 15041, 15042, 15043, 15044, 15045,\n",
       "       15046, 15047, 15048, 15049, 15050, 15051, 15052, 15053, 15054,\n",
       "       15055, 15056, 15057, 15058, 15059, 15060, 15061, 15062, 15063,\n",
       "       15064, 15065, 15066, 15067, 15068, 15069, 15070, 15071, 15072,\n",
       "       15073, 15074, 15075, 15076, 15077, 15078, 15079, 15080, 15081,\n",
       "       15082, 15083, 15084, 15085, 15086, 15087, 15088, 15089, 15090,\n",
       "       15091, 15092, 15093, 15094, 15095, 15096, 15097, 15098, 15099,\n",
       "       15100, 15101, 15102, 15103, 15104, 15105, 15106, 15107, 15108,\n",
       "       15109, 15110, 15111, 15112, 15113, 15114, 15115, 15116, 15117,\n",
       "       15118, 15119, 15120, 15121, 15122, 15123, 15124, 15125, 15126,\n",
       "       15127, 15128, 15129, 15130, 15131, 15132, 15133, 15134, 15135,\n",
       "       15136, 15137, 15138, 15139, 15140, 15141, 15142, 15143, 15144,\n",
       "       15145, 15146, 15147, 15148, 15149, 15150, 15151, 15152, 15153,\n",
       "       15154, 15155, 15156, 15157, 15158, 15159, 15160, 15161, 15162,\n",
       "       15163, 15164, 15165, 15166, 15167, 15168, 15169, 15170, 15171,\n",
       "       15172, 15173, 15174, 15175, 15176, 15177, 15178, 15179, 15180,\n",
       "       15181, 15182, 15183, 15184, 15185, 15186, 15187, 15188, 15189,\n",
       "       15190, 15191, 15192, 15193, 15194, 15195, 15196, 15197, 15198,\n",
       "       15199, 15200, 15201, 15202, 15203, 15204, 15205, 15206, 15207,\n",
       "       15208, 15209, 15210, 15211, 15212, 15213, 15214, 15215, 15216,\n",
       "       15217, 15218, 15219, 15220, 15221, 15222, 15223, 15224, 15225,\n",
       "       15226, 15227, 15228, 15229, 15230, 15231, 15232, 15233, 15234,\n",
       "       15235, 15236, 15237, 15238, 15239, 15240, 15241, 15242, 15243,\n",
       "       15244, 15245, 15246, 15247, 15248, 15249, 15250, 15251, 15252,\n",
       "       15253, 15254, 15255, 15256, 15257, 15258, 15259, 15260, 15261,\n",
       "       15262, 15263, 15264, 15265, 15266, 15267, 15268, 15269, 15270,\n",
       "       15271, 15272, 15273, 15274, 15275, 15276, 15277, 15278, 15279,\n",
       "       15280, 15281, 15282, 15283, 15284, 15285, 15286, 15287, 15288,\n",
       "       15289, 15290, 15291, 15292, 15293, 15294, 15295, 15296, 15297,\n",
       "       15298, 15299, 15300, 15302, 15303, 15304, 15306])"
      ]
     },
     "execution_count": 25,
     "metadata": {},
     "output_type": "execute_result"
    }
   ],
   "source": [
    "# what are the dates representing?\n",
    "dates = faults_df.date\n",
    "dates.unique()"
   ]
  },
  {
   "cell_type": "markdown",
   "metadata": {
    "hidden": true
   },
   "source": [
    "Dates look like an arbitrary sequence <a id=\"ordered\"></a>"
   ]
  },
  {
   "cell_type": "code",
   "execution_count": 26,
   "metadata": {
    "ExecuteTime": {
     "end_time": "2018-08-01T11:29:10.599172Z",
     "start_time": "2018-08-01T11:29:08.891356Z"
    },
    "hidden": true
   },
   "outputs": [
    {
     "data": {
      "text/plain": [
       "True"
      ]
     },
     "execution_count": 26,
     "metadata": {},
     "output_type": "execute_result"
    }
   ],
   "source": [
    "# is it sorted?\n",
    "all(dates[i] <= dates[i+1] for i in range(len(dates)-1))"
   ]
  },
  {
   "cell_type": "code",
   "execution_count": 27,
   "metadata": {
    "ExecuteTime": {
     "end_time": "2018-08-01T11:29:10.619328Z",
     "start_time": "2018-08-01T11:29:10.600593Z"
    },
    "hidden": true
   },
   "outputs": [
    {
     "data": {
      "text/plain": [
       "array([nan,  1.,  2.])"
      ]
     },
     "execution_count": 27,
     "metadata": {},
     "output_type": "execute_result"
    }
   ],
   "source": [
    "# so these are ordered, arbitrarily assigned date representations spaced by...\n",
    "pd.Series(dates.unique()).diff().unique()"
   ]
  },
  {
   "cell_type": "markdown",
   "metadata": {
    "ExecuteTime": {
     "end_time": "2018-07-23T21:13:21.452630Z",
     "start_time": "2018-07-23T21:12:10.360788Z"
    },
    "hidden": true
   },
   "source": [
    " Can't create datetime augmentations: the day of week, time of month, etc. may be important, but I don't know the baseline date, so cannot hardcode unknown information."
   ]
  },
  {
   "cell_type": "code",
   "execution_count": 28,
   "metadata": {
    "ExecuteTime": {
     "end_time": "2018-08-01T11:29:13.326960Z",
     "start_time": "2018-08-01T11:29:13.305241Z"
    },
    "hidden": true
   },
   "outputs": [],
   "source": [
    "# add order val in case its useful\n",
    "faults_df.insert(0, 'order', range(0, len(faults_df)))"
   ]
  },
  {
   "cell_type": "markdown",
   "metadata": {
    "hidden": true
   },
   "source": [
    "As long as a date transformation is applied uniformly such that relative information is preserved, creating a datetime object with an arbitrary reference is okay."
   ]
  },
  {
   "cell_type": "code",
   "execution_count": 29,
   "metadata": {
    "ExecuteTime": {
     "end_time": "2018-08-01T11:29:21.415260Z",
     "start_time": "2018-08-01T11:29:14.097285Z"
    },
    "hidden": true
   },
   "outputs": [],
   "source": [
    "faults_df['datetime'] = faults_df['date'].apply(lambda x: pd.to_datetime(x, unit='d'))"
   ]
  },
  {
   "cell_type": "markdown",
   "metadata": {
    "heading_collapsed": true,
    "hidden": true
   },
   "source": [
    "## Device"
   ]
  },
  {
   "cell_type": "code",
   "execution_count": 30,
   "metadata": {
    "ExecuteTime": {
     "end_time": "2018-08-01T11:29:23.649375Z",
     "start_time": "2018-08-01T11:29:23.627489Z"
    },
    "hidden": true
   },
   "outputs": [
    {
     "data": {
      "text/plain": [
       "array(['S1F01085', 'S1F0166B', 'S1F01E6Y', ..., 'S1F02W1L', 'S1F02XLX',\n",
       "       'S1F03499'], dtype=object)"
      ]
     },
     "execution_count": 30,
     "metadata": {},
     "output_type": "execute_result"
    }
   ],
   "source": [
    "# isolate devices\n",
    "devices = faults_df.device\n",
    "devices.unique()"
   ]
  },
  {
   "cell_type": "code",
   "execution_count": 31,
   "metadata": {
    "ExecuteTime": {
     "end_time": "2018-08-01T11:29:24.200968Z",
     "start_time": "2018-08-01T11:29:24.179634Z"
    },
    "hidden": true
   },
   "outputs": [
    {
     "data": {
      "text/plain": [
       "1168"
      ]
     },
     "execution_count": 31,
     "metadata": {},
     "output_type": "execute_result"
    }
   ],
   "source": [
    "# num of devices\n",
    "len(devices.unique())"
   ]
  },
  {
   "cell_type": "code",
   "execution_count": 32,
   "metadata": {
    "ExecuteTime": {
     "end_time": "2018-08-01T11:29:24.561333Z",
     "start_time": "2018-08-01T11:29:24.365080Z"
    },
    "hidden": true
   },
   "outputs": [
    {
     "name": "stdout",
     "output_type": "stream",
     "text": [
      "Char position 0 :: num unique 3\n",
      "Char position 1 :: num unique 1\n",
      "Char position 2 :: num unique 1\n",
      "Char position 3 :: num unique 3\n",
      "Char position 4 :: num unique 33\n",
      "Char position 5 :: num unique 33\n",
      "Char position 6 :: num unique 33\n",
      "Char position 7 :: num unique 33\n"
     ]
    }
   ],
   "source": [
    "# how many unique chars in each field of device name?\n",
    "maxchars = max(devices.apply(lambda x: len(x)))\n",
    "for nchar in range(0, maxchars):\n",
    "    print('Char position {} :: num unique {}'.format(nchar,\n",
    "                                                     len(devices.apply(lambda x: x[nchar]).unique())))"
   ]
  },
  {
   "cell_type": "markdown",
   "metadata": {
    "hidden": true
   },
   "source": [
    "First four chars don't vary much; are there flavors of naming conventions, e.g. device classes?"
   ]
  },
  {
   "cell_type": "code",
   "execution_count": 33,
   "metadata": {
    "ExecuteTime": {
     "end_time": "2018-08-01T11:29:24.925600Z",
     "start_time": "2018-08-01T11:29:24.693165Z"
    },
    "hidden": true
   },
   "outputs": [
    {
     "name": "stdout",
     "output_type": "stream",
     "text": [
      "num chars 1 :: num unique 3\n",
      "num chars 2 :: num unique 3\n",
      "num chars 3 :: num unique 3\n",
      "num chars 4 :: num unique 7\n",
      "num chars 5 :: num unique 121\n",
      "num chars 6 :: num unique 608\n",
      "num chars 7 :: num unique 1104\n"
     ]
    }
   ],
   "source": [
    "# group chars and calc uniqueness\n",
    "maxchars = max(devices.apply(lambda x: len(x)))\n",
    "for nchars in range(1, maxchars):\n",
    "    print('num chars {} :: num unique {}'.format(nchars,\n",
    "                                              len(devices.apply(lambda x: x[:nchars]).unique())))"
   ]
  },
  {
   "cell_type": "markdown",
   "metadata": {
    "hidden": true
   },
   "source": [
    "There appear to be types of devices <a id=\"deviceclasses\"></a>"
   ]
  },
  {
   "cell_type": "code",
   "execution_count": 34,
   "metadata": {
    "ExecuteTime": {
     "end_time": "2018-08-01T11:29:25.416662Z",
     "start_time": "2018-08-01T11:29:25.377732Z"
    },
    "hidden": true
   },
   "outputs": [],
   "source": [
    "# save the class1\n",
    "faults_df['device_class1'] = faults_df.device.apply(lambda x: x[:3])"
   ]
  },
  {
   "cell_type": "code",
   "execution_count": 35,
   "metadata": {
    "ExecuteTime": {
     "end_time": "2018-08-01T11:29:26.136353Z",
     "start_time": "2018-08-01T11:29:26.114739Z"
    },
    "hidden": true
   },
   "outputs": [
    {
     "data": {
      "text/plain": [
       "array(['S1F', 'W1F', 'Z1F'], dtype=object)"
      ]
     },
     "execution_count": 35,
     "metadata": {},
     "output_type": "execute_result"
    }
   ],
   "source": [
    "faults_df.device_class1.unique()"
   ]
  },
  {
   "cell_type": "code",
   "execution_count": 36,
   "metadata": {
    "ExecuteTime": {
     "end_time": "2018-08-01T11:29:26.478495Z",
     "start_time": "2018-08-01T11:29:26.287278Z"
    },
    "hidden": true
   },
   "outputs": [
    {
     "name": "stdout",
     "output_type": "stream",
     "text": [
      "num chars 1 :: num unique 3\n",
      "num chars 2 :: num unique 59\n",
      "num chars 3 :: num unique 550\n",
      "num chars 4 :: num unique 1101\n"
     ]
    }
   ],
   "source": [
    "# remove class1 and look for more\n",
    "sub_devices = devices.apply(lambda x: x[3:])\n",
    "maxchars = max(sub_devices.apply(lambda x: len(x)))\n",
    "for nchars in range(1, maxchars):\n",
    "    print('num chars {} :: num unique {}'.format(nchars,\n",
    "                                              len(sub_devices.apply(lambda x: x[:nchars]).unique())))"
   ]
  },
  {
   "cell_type": "code",
   "execution_count": 37,
   "metadata": {
    "ExecuteTime": {
     "end_time": "2018-08-01T11:29:26.521457Z",
     "start_time": "2018-08-01T11:29:26.489161Z"
    },
    "hidden": true
   },
   "outputs": [],
   "source": [
    "# maybe 4th char is a submodel, generation...? small enough to encode\n",
    "faults_df['device_class2'] = faults_df.device.apply(lambda x: x[3])"
   ]
  },
  {
   "cell_type": "code",
   "execution_count": 38,
   "metadata": {
    "ExecuteTime": {
     "end_time": "2018-08-01T11:29:26.894037Z",
     "start_time": "2018-08-01T11:29:26.873556Z"
    },
    "hidden": true
   },
   "outputs": [
    {
     "data": {
      "text/plain": [
       "array(['0', '1', '2'], dtype=object)"
      ]
     },
     "execution_count": 38,
     "metadata": {},
     "output_type": "execute_result"
    }
   ],
   "source": [
    "faults_df.device_class2.unique()"
   ]
  },
  {
   "cell_type": "code",
   "execution_count": 39,
   "metadata": {
    "ExecuteTime": {
     "end_time": "2018-08-01T11:29:27.591455Z",
     "start_time": "2018-08-01T11:29:27.436026Z"
    },
    "hidden": true
   },
   "outputs": [
    {
     "name": "stdout",
     "output_type": "stream",
     "text": [
      "num chars 1 :: num unique 33\n",
      "num chars 2 :: num unique 514\n",
      "num chars 3 :: num unique 1094\n"
     ]
    }
   ],
   "source": [
    "# remove class1 and class2 and look for more\n",
    "sub_devices = devices.apply(lambda x: x[4:])\n",
    "maxchars = max(sub_devices.apply(lambda x: len(x)))\n",
    "for nchars in range(1, maxchars):\n",
    "    print('num chars {} :: num unique {}'.format(nchars,\n",
    "                                              len(sub_devices.apply(lambda x: x[:nchars]).unique())))"
   ]
  },
  {
   "cell_type": "code",
   "execution_count": 40,
   "metadata": {
    "ExecuteTime": {
     "end_time": "2018-08-01T11:29:28.090282Z",
     "start_time": "2018-08-01T11:29:28.049348Z"
    },
    "hidden": true
   },
   "outputs": [],
   "source": [
    "# lump remainder together\n",
    "faults_df['device_class3'] = faults_df.device.apply(lambda x: x[4:])"
   ]
  },
  {
   "cell_type": "code",
   "execution_count": 41,
   "metadata": {
    "ExecuteTime": {
     "end_time": "2018-08-01T11:29:28.861835Z",
     "start_time": "2018-08-01T11:29:28.839602Z"
    },
    "hidden": true
   },
   "outputs": [
    {
     "data": {
      "text/plain": [
       "array(['1085', '166B', '1E6Y', ..., '2W1L', '2XLX', '3499'], dtype=object)"
      ]
     },
     "execution_count": 41,
     "metadata": {},
     "output_type": "execute_result"
    }
   ],
   "source": [
    "faults_df.device_class3.unique()"
   ]
  },
  {
   "cell_type": "code",
   "execution_count": 42,
   "metadata": {
    "ExecuteTime": {
     "end_time": "2018-08-01T11:29:29.343372Z",
     "start_time": "2018-08-01T11:29:29.297264Z"
    },
    "hidden": true
   },
   "outputs": [],
   "source": [
    "# check that original device == device clases\n",
    "assert sum(faults_df.device != faults_df.device_class1 + faults_df.device_class2 + faults_df.device_class3) == 0, \"Device classification failed\""
   ]
  },
  {
   "cell_type": "markdown",
   "metadata": {
    "heading_collapsed": true,
    "hidden": true
   },
   "source": [
    "## Trends"
   ]
  },
  {
   "cell_type": "code",
   "execution_count": null,
   "metadata": {
    "ExecuteTime": {
     "end_time": "2018-08-01T11:02:29.348096Z",
     "start_time": "2018-08-01T11:00:49.219853Z"
    },
    "hidden": true
   },
   "outputs": [],
   "source": [
    "# Rohrshach approach: \"interactively\" pick random device that had a failure and look at attribute trends in time\n",
    "while True:\n",
    "    try:\n",
    "        temp = faults_df[(faults_df.failure == 1)]\n",
    "        rand_device = temp.sample(1).device.values[0]\n",
    "        temp = faults_df[(faults_df.device == rand_device)]\n",
    "        temp = temp.filter(regex='^a|date$')\n",
    "        temp['a1cs'] = temp.a1.cumsum()\n",
    "        scaler = preprocessing.MinMaxScaler()\n",
    "        scaled_values = scaler.fit_transform(temp)\n",
    "        temp.loc[:,:] = scaled_values\n",
    "        temp.plot(x='date', style='.-')\n",
    "        display.display(plt.gcf())\n",
    "        display.clear_output(wait=True)\n",
    "        time.sleep(3)\n",
    "    except KeyboardInterrupt:\n",
    "        break"
   ]
  },
  {
   "cell_type": "markdown",
   "metadata": {
    "hidden": true
   },
   "source": [
    "+ a1 looks unaggregated, a daily value possibly -- need to add a1 cumulative sum feature\n",
    "+ All other attributes **_appear_** to be aggregates -- verify below\n",
    "+ a2 and a4 stand-out as ramping up before failure -- need to add linear trend feature at each time step\n",
    "+ A few attributes appear to be correlated -- verify below <a id=\"correlation\"></a>"
   ]
  },
  {
   "cell_type": "code",
   "execution_count": 43,
   "metadata": {
    "ExecuteTime": {
     "end_time": "2018-08-01T11:29:40.797308Z",
     "start_time": "2018-08-01T11:29:40.687436Z"
    },
    "hidden": true
   },
   "outputs": [],
   "source": [
    "# add a1 cumulative sum feature\n",
    "faults_df['a1_cumsum'] = faults_df.sort_values(by=['device','order']).groupby('device').a1.cumsum()"
   ]
  },
  {
   "cell_type": "markdown",
   "metadata": {
    "ExecuteTime": {
     "end_time": "2018-08-01T11:25:54.008439Z",
     "start_time": "2018-08-01T11:25:53.990440Z"
    },
    "hidden": true
   },
   "source": [
    "Do any values besides a1 go down?"
   ]
  },
  {
   "cell_type": "code",
   "execution_count": 44,
   "metadata": {
    "ExecuteTime": {
     "end_time": "2018-08-01T11:29:42.463537Z",
     "start_time": "2018-08-01T11:29:42.015891Z"
    },
    "hidden": true
   },
   "outputs": [
    {
     "data": {
      "text/plain": [
       "a2         6 \n",
       "a3         0 \n",
       "a4         0 \n",
       "a5         24\n",
       "a6         0 \n",
       "a7         18\n",
       "a8         18\n",
       "a9         0 \n",
       "failure    5 \n",
       "dtype: int64"
      ]
     },
     "execution_count": 44,
     "metadata": {},
     "output_type": "execute_result"
    }
   ],
   "source": [
    "# sort, diff, and count\n",
    "cols = ['a2', 'a3', 'a4', 'a5', 'a6', 'a7', 'a8', 'a9', 'failure']\n",
    "temp = faults_df.sort_values(by=['device','order']).groupby('device')[cols].diff()\n",
    "temp.lt(0).sum()"
   ]
  },
  {
   "cell_type": "markdown",
   "metadata": {
    "hidden": true
   },
   "source": [
    "There are a choice few: a2, a5, a7, a8, failure. The failures in particular mean they've been cleared/reset. If these are aggregate attributes as they appear, then values that drop, even if rarely, are experiencing some kind of remediation/service."
   ]
  },
  {
   "cell_type": "code",
   "execution_count": 50,
   "metadata": {
    "ExecuteTime": {
     "end_time": "2018-08-01T11:31:00.054271Z",
     "start_time": "2018-08-01T11:30:59.997954Z"
    },
    "hidden": true,
    "scrolled": false
   },
   "outputs": [
    {
     "name": "stdout",
     "output_type": "stream",
     "text": [
      "a2         0.0  \n",
      "a3         0.0  \n",
      "a4         6.0  \n",
      "a5         0.0  \n",
      "a6         940.0\n",
      "a7        -8.0  \n",
      "a8        -8.0  \n",
      "a9         0.0  \n",
      "failure    1.0  \n",
      "Name: 20817, dtype: float64\n",
      "\n",
      "*********************\n",
      "\n",
      "Look at index 20817\n"
     ]
    },
    {
     "data": {
      "text/html": [
       "<div>\n",
       "<style scoped>\n",
       "    .dataframe tbody tr th:only-of-type {\n",
       "        vertical-align: middle;\n",
       "    }\n",
       "\n",
       "    .dataframe tbody tr th {\n",
       "        vertical-align: top;\n",
       "    }\n",
       "\n",
       "    .dataframe thead th {\n",
       "        text-align: right;\n",
       "    }\n",
       "</style>\n",
       "<table border=\"1\" class=\"dataframe\">\n",
       "  <thead>\n",
       "    <tr style=\"text-align: right;\">\n",
       "      <th></th>\n",
       "      <th>order</th>\n",
       "      <th>date</th>\n",
       "      <th>device</th>\n",
       "      <th>a1</th>\n",
       "      <th>a2</th>\n",
       "      <th>a3</th>\n",
       "      <th>a4</th>\n",
       "      <th>a5</th>\n",
       "      <th>a6</th>\n",
       "      <th>a7</th>\n",
       "      <th>a8</th>\n",
       "      <th>a9</th>\n",
       "      <th>failure</th>\n",
       "      <th>uuid</th>\n",
       "      <th>datetime</th>\n",
       "      <th>device_class1</th>\n",
       "      <th>device_class2</th>\n",
       "      <th>device_class3</th>\n",
       "      <th>a1_cumsum</th>\n",
       "    </tr>\n",
       "  </thead>\n",
       "  <tbody>\n",
       "    <tr>\n",
       "      <th>123</th>\n",
       "      <td>123</td>\n",
       "      <td>15001</td>\n",
       "      <td>S1F0LCTV</td>\n",
       "      <td>215846224</td>\n",
       "      <td>0</td>\n",
       "      <td>0</td>\n",
       "      <td>1</td>\n",
       "      <td>11</td>\n",
       "      <td>447025</td>\n",
       "      <td>0</td>\n",
       "      <td>0</td>\n",
       "      <td>0</td>\n",
       "      <td>0</td>\n",
       "      <td>84c0d7fcd448516f366aef58bb8ab36e</td>\n",
       "      <td>2011-01-27</td>\n",
       "      <td>S1F</td>\n",
       "      <td>0</td>\n",
       "      <td>LCTV</td>\n",
       "      <td>215846224</td>\n",
       "    </tr>\n",
       "    <tr>\n",
       "      <th>1286</th>\n",
       "      <td>1286</td>\n",
       "      <td>15002</td>\n",
       "      <td>S1F0LCTV</td>\n",
       "      <td>238613336</td>\n",
       "      <td>0</td>\n",
       "      <td>0</td>\n",
       "      <td>1</td>\n",
       "      <td>11</td>\n",
       "      <td>448353</td>\n",
       "      <td>0</td>\n",
       "      <td>0</td>\n",
       "      <td>0</td>\n",
       "      <td>0</td>\n",
       "      <td>3a22cb401b1a433db4b286d2655dd62e</td>\n",
       "      <td>2011-01-28</td>\n",
       "      <td>S1F</td>\n",
       "      <td>0</td>\n",
       "      <td>LCTV</td>\n",
       "      <td>454459560</td>\n",
       "    </tr>\n",
       "    <tr>\n",
       "      <th>2449</th>\n",
       "      <td>2449</td>\n",
       "      <td>15003</td>\n",
       "      <td>S1F0LCTV</td>\n",
       "      <td>14044072</td>\n",
       "      <td>0</td>\n",
       "      <td>0</td>\n",
       "      <td>1</td>\n",
       "      <td>11</td>\n",
       "      <td>449697</td>\n",
       "      <td>0</td>\n",
       "      <td>0</td>\n",
       "      <td>0</td>\n",
       "      <td>0</td>\n",
       "      <td>a40138ecf825a103823340d72ed2bf4c</td>\n",
       "      <td>2011-01-29</td>\n",
       "      <td>S1F</td>\n",
       "      <td>0</td>\n",
       "      <td>LCTV</td>\n",
       "      <td>468503632</td>\n",
       "    </tr>\n",
       "    <tr>\n",
       "      <th>3612</th>\n",
       "      <td>3612</td>\n",
       "      <td>15004</td>\n",
       "      <td>S1F0LCTV</td>\n",
       "      <td>36990704</td>\n",
       "      <td>0</td>\n",
       "      <td>0</td>\n",
       "      <td>1</td>\n",
       "      <td>11</td>\n",
       "      <td>451081</td>\n",
       "      <td>0</td>\n",
       "      <td>0</td>\n",
       "      <td>0</td>\n",
       "      <td>0</td>\n",
       "      <td>04846191411e4e0d904e53ae4ce1d47d</td>\n",
       "      <td>2011-01-30</td>\n",
       "      <td>S1F</td>\n",
       "      <td>0</td>\n",
       "      <td>LCTV</td>\n",
       "      <td>505494336</td>\n",
       "    </tr>\n",
       "    <tr>\n",
       "      <th>4773</th>\n",
       "      <td>4773</td>\n",
       "      <td>15005</td>\n",
       "      <td>S1F0LCTV</td>\n",
       "      <td>61513296</td>\n",
       "      <td>0</td>\n",
       "      <td>0</td>\n",
       "      <td>1</td>\n",
       "      <td>11</td>\n",
       "      <td>452406</td>\n",
       "      <td>0</td>\n",
       "      <td>0</td>\n",
       "      <td>0</td>\n",
       "      <td>0</td>\n",
       "      <td>3c3796641912ec4e28a0131608f5f4dd</td>\n",
       "      <td>2011-01-31</td>\n",
       "      <td>S1F</td>\n",
       "      <td>0</td>\n",
       "      <td>LCTV</td>\n",
       "      <td>567007632</td>\n",
       "    </tr>\n",
       "    <tr>\n",
       "      <th>5905</th>\n",
       "      <td>5905</td>\n",
       "      <td>15006</td>\n",
       "      <td>S1F0LCTV</td>\n",
       "      <td>87350048</td>\n",
       "      <td>0</td>\n",
       "      <td>0</td>\n",
       "      <td>1</td>\n",
       "      <td>11</td>\n",
       "      <td>453736</td>\n",
       "      <td>0</td>\n",
       "      <td>0</td>\n",
       "      <td>0</td>\n",
       "      <td>0</td>\n",
       "      <td>c02a606a87cfda7aeee4420036f7a7c5</td>\n",
       "      <td>2011-02-01</td>\n",
       "      <td>S1F</td>\n",
       "      <td>0</td>\n",
       "      <td>LCTV</td>\n",
       "      <td>654357680</td>\n",
       "    </tr>\n",
       "    <tr>\n",
       "      <th>6926</th>\n",
       "      <td>6926</td>\n",
       "      <td>15007</td>\n",
       "      <td>S1F0LCTV</td>\n",
       "      <td>117246408</td>\n",
       "      <td>0</td>\n",
       "      <td>0</td>\n",
       "      <td>1</td>\n",
       "      <td>11</td>\n",
       "      <td>455096</td>\n",
       "      <td>0</td>\n",
       "      <td>0</td>\n",
       "      <td>0</td>\n",
       "      <td>0</td>\n",
       "      <td>724900b6635bd86b9a56671e9f57c292</td>\n",
       "      <td>2011-02-02</td>\n",
       "      <td>S1F</td>\n",
       "      <td>0</td>\n",
       "      <td>LCTV</td>\n",
       "      <td>771604088</td>\n",
       "    </tr>\n",
       "    <tr>\n",
       "      <th>7723</th>\n",
       "      <td>7723</td>\n",
       "      <td>15008</td>\n",
       "      <td>S1F0LCTV</td>\n",
       "      <td>138173592</td>\n",
       "      <td>0</td>\n",
       "      <td>0</td>\n",
       "      <td>1</td>\n",
       "      <td>11</td>\n",
       "      <td>456424</td>\n",
       "      <td>0</td>\n",
       "      <td>0</td>\n",
       "      <td>0</td>\n",
       "      <td>0</td>\n",
       "      <td>ecb424e251ddd7ecd25d4d82eaa96d4f</td>\n",
       "      <td>2011-02-03</td>\n",
       "      <td>S1F</td>\n",
       "      <td>0</td>\n",
       "      <td>LCTV</td>\n",
       "      <td>909777680</td>\n",
       "    </tr>\n",
       "    <tr>\n",
       "      <th>8479</th>\n",
       "      <td>8479</td>\n",
       "      <td>15009</td>\n",
       "      <td>S1F0LCTV</td>\n",
       "      <td>163744768</td>\n",
       "      <td>0</td>\n",
       "      <td>0</td>\n",
       "      <td>1</td>\n",
       "      <td>11</td>\n",
       "      <td>457721</td>\n",
       "      <td>0</td>\n",
       "      <td>0</td>\n",
       "      <td>0</td>\n",
       "      <td>0</td>\n",
       "      <td>9d9cb0c606709ffdd4a7ab9a444a0da9</td>\n",
       "      <td>2011-02-04</td>\n",
       "      <td>S1F</td>\n",
       "      <td>0</td>\n",
       "      <td>LCTV</td>\n",
       "      <td>1073522448</td>\n",
       "    </tr>\n",
       "    <tr>\n",
       "      <th>9235</th>\n",
       "      <td>9235</td>\n",
       "      <td>15010</td>\n",
       "      <td>S1F0LCTV</td>\n",
       "      <td>183323688</td>\n",
       "      <td>0</td>\n",
       "      <td>0</td>\n",
       "      <td>1</td>\n",
       "      <td>11</td>\n",
       "      <td>459054</td>\n",
       "      <td>0</td>\n",
       "      <td>0</td>\n",
       "      <td>0</td>\n",
       "      <td>0</td>\n",
       "      <td>6ddb88307d70314c0c09efd250b9f352</td>\n",
       "      <td>2011-02-05</td>\n",
       "      <td>S1F</td>\n",
       "      <td>0</td>\n",
       "      <td>LCTV</td>\n",
       "      <td>1256846136</td>\n",
       "    </tr>\n",
       "    <tr>\n",
       "      <th>9990</th>\n",
       "      <td>9990</td>\n",
       "      <td>15011</td>\n",
       "      <td>S1F0LCTV</td>\n",
       "      <td>204859216</td>\n",
       "      <td>0</td>\n",
       "      <td>0</td>\n",
       "      <td>1</td>\n",
       "      <td>11</td>\n",
       "      <td>460426</td>\n",
       "      <td>0</td>\n",
       "      <td>0</td>\n",
       "      <td>0</td>\n",
       "      <td>0</td>\n",
       "      <td>043a4961f46814d78fc286a4d52fc061</td>\n",
       "      <td>2011-02-06</td>\n",
       "      <td>S1F</td>\n",
       "      <td>0</td>\n",
       "      <td>LCTV</td>\n",
       "      <td>1461705352</td>\n",
       "    </tr>\n",
       "    <tr>\n",
       "      <th>10745</th>\n",
       "      <td>10745</td>\n",
       "      <td>15012</td>\n",
       "      <td>S1F0LCTV</td>\n",
       "      <td>224240872</td>\n",
       "      <td>0</td>\n",
       "      <td>0</td>\n",
       "      <td>1</td>\n",
       "      <td>11</td>\n",
       "      <td>461757</td>\n",
       "      <td>0</td>\n",
       "      <td>0</td>\n",
       "      <td>0</td>\n",
       "      <td>0</td>\n",
       "      <td>dc1367c116db637c4d6b9c67e28abcfc</td>\n",
       "      <td>2011-02-07</td>\n",
       "      <td>S1F</td>\n",
       "      <td>0</td>\n",
       "      <td>LCTV</td>\n",
       "      <td>1685946224</td>\n",
       "    </tr>\n",
       "    <tr>\n",
       "      <th>11500</th>\n",
       "      <td>11500</td>\n",
       "      <td>15013</td>\n",
       "      <td>S1F0LCTV</td>\n",
       "      <td>1444904</td>\n",
       "      <td>0</td>\n",
       "      <td>0</td>\n",
       "      <td>1</td>\n",
       "      <td>11</td>\n",
       "      <td>463085</td>\n",
       "      <td>0</td>\n",
       "      <td>0</td>\n",
       "      <td>0</td>\n",
       "      <td>0</td>\n",
       "      <td>8f272156f4a53fce93249f87ad5821b5</td>\n",
       "      <td>2011-02-08</td>\n",
       "      <td>S1F</td>\n",
       "      <td>0</td>\n",
       "      <td>LCTV</td>\n",
       "      <td>1687391128</td>\n",
       "    </tr>\n",
       "    <tr>\n",
       "      <th>12255</th>\n",
       "      <td>12255</td>\n",
       "      <td>15014</td>\n",
       "      <td>S1F0LCTV</td>\n",
       "      <td>22934864</td>\n",
       "      <td>0</td>\n",
       "      <td>0</td>\n",
       "      <td>1</td>\n",
       "      <td>11</td>\n",
       "      <td>464448</td>\n",
       "      <td>0</td>\n",
       "      <td>0</td>\n",
       "      <td>0</td>\n",
       "      <td>0</td>\n",
       "      <td>e24778ddf8427942a8b23c348d79cc43</td>\n",
       "      <td>2011-02-09</td>\n",
       "      <td>S1F</td>\n",
       "      <td>0</td>\n",
       "      <td>LCTV</td>\n",
       "      <td>1710325992</td>\n",
       "    </tr>\n",
       "    <tr>\n",
       "      <th>12971</th>\n",
       "      <td>12971</td>\n",
       "      <td>15015</td>\n",
       "      <td>S1F0LCTV</td>\n",
       "      <td>48491624</td>\n",
       "      <td>0</td>\n",
       "      <td>0</td>\n",
       "      <td>1</td>\n",
       "      <td>11</td>\n",
       "      <td>465751</td>\n",
       "      <td>0</td>\n",
       "      <td>0</td>\n",
       "      <td>0</td>\n",
       "      <td>0</td>\n",
       "      <td>21f139bba54e7af2567a01bd063ec0b6</td>\n",
       "      <td>2011-02-10</td>\n",
       "      <td>S1F</td>\n",
       "      <td>0</td>\n",
       "      <td>LCTV</td>\n",
       "      <td>1758817616</td>\n",
       "    </tr>\n",
       "    <tr>\n",
       "      <th>13686</th>\n",
       "      <td>13686</td>\n",
       "      <td>15016</td>\n",
       "      <td>S1F0LCTV</td>\n",
       "      <td>67446832</td>\n",
       "      <td>0</td>\n",
       "      <td>0</td>\n",
       "      <td>1</td>\n",
       "      <td>11</td>\n",
       "      <td>467077</td>\n",
       "      <td>0</td>\n",
       "      <td>0</td>\n",
       "      <td>0</td>\n",
       "      <td>0</td>\n",
       "      <td>da9a24cf92fb6e00bcecedede5bc923c</td>\n",
       "      <td>2011-02-11</td>\n",
       "      <td>S1F</td>\n",
       "      <td>0</td>\n",
       "      <td>LCTV</td>\n",
       "      <td>1826264448</td>\n",
       "    </tr>\n",
       "    <tr>\n",
       "      <th>14401</th>\n",
       "      <td>14401</td>\n",
       "      <td>15017</td>\n",
       "      <td>S1F0LCTV</td>\n",
       "      <td>38251232</td>\n",
       "      <td>0</td>\n",
       "      <td>0</td>\n",
       "      <td>1</td>\n",
       "      <td>11</td>\n",
       "      <td>467167</td>\n",
       "      <td>8</td>\n",
       "      <td>8</td>\n",
       "      <td>0</td>\n",
       "      <td>0</td>\n",
       "      <td>ae57f6a34a02108ff7d044d84975193e</td>\n",
       "      <td>2011-02-12</td>\n",
       "      <td>S1F</td>\n",
       "      <td>0</td>\n",
       "      <td>LCTV</td>\n",
       "      <td>1864515680</td>\n",
       "    </tr>\n",
       "    <tr>\n",
       "      <th>15116</th>\n",
       "      <td>15116</td>\n",
       "      <td>15018</td>\n",
       "      <td>S1F0LCTV</td>\n",
       "      <td>12645576</td>\n",
       "      <td>0</td>\n",
       "      <td>0</td>\n",
       "      <td>1</td>\n",
       "      <td>11</td>\n",
       "      <td>467167</td>\n",
       "      <td>8</td>\n",
       "      <td>8</td>\n",
       "      <td>0</td>\n",
       "      <td>0</td>\n",
       "      <td>f7abeee7d698743beb382bb8f32ce65e</td>\n",
       "      <td>2011-02-13</td>\n",
       "      <td>S1F</td>\n",
       "      <td>0</td>\n",
       "      <td>LCTV</td>\n",
       "      <td>1877161256</td>\n",
       "    </tr>\n",
       "    <tr>\n",
       "      <th>15829</th>\n",
       "      <td>15829</td>\n",
       "      <td>15019</td>\n",
       "      <td>S1F0LCTV</td>\n",
       "      <td>195660512</td>\n",
       "      <td>0</td>\n",
       "      <td>0</td>\n",
       "      <td>1</td>\n",
       "      <td>11</td>\n",
       "      <td>467167</td>\n",
       "      <td>8</td>\n",
       "      <td>8</td>\n",
       "      <td>0</td>\n",
       "      <td>0</td>\n",
       "      <td>93282c993314db2232e8d3ded8417533</td>\n",
       "      <td>2011-02-14</td>\n",
       "      <td>S1F</td>\n",
       "      <td>0</td>\n",
       "      <td>LCTV</td>\n",
       "      <td>2072821768</td>\n",
       "    </tr>\n",
       "    <tr>\n",
       "      <th>16544</th>\n",
       "      <td>16544</td>\n",
       "      <td>15020</td>\n",
       "      <td>S1F0LCTV</td>\n",
       "      <td>175656336</td>\n",
       "      <td>0</td>\n",
       "      <td>0</td>\n",
       "      <td>1</td>\n",
       "      <td>11</td>\n",
       "      <td>467167</td>\n",
       "      <td>8</td>\n",
       "      <td>8</td>\n",
       "      <td>0</td>\n",
       "      <td>0</td>\n",
       "      <td>2bcd8d8be33d10efa4ba9773d3dde99e</td>\n",
       "      <td>2011-02-15</td>\n",
       "      <td>S1F</td>\n",
       "      <td>0</td>\n",
       "      <td>LCTV</td>\n",
       "      <td>2248478104</td>\n",
       "    </tr>\n",
       "    <tr>\n",
       "      <th>17257</th>\n",
       "      <td>17257</td>\n",
       "      <td>15021</td>\n",
       "      <td>S1F0LCTV</td>\n",
       "      <td>211143520</td>\n",
       "      <td>0</td>\n",
       "      <td>0</td>\n",
       "      <td>1</td>\n",
       "      <td>11</td>\n",
       "      <td>467167</td>\n",
       "      <td>8</td>\n",
       "      <td>8</td>\n",
       "      <td>0</td>\n",
       "      <td>0</td>\n",
       "      <td>4fee0a3ee96e49a7df203e5b49b9a8ce</td>\n",
       "      <td>2011-02-16</td>\n",
       "      <td>S1F</td>\n",
       "      <td>0</td>\n",
       "      <td>LCTV</td>\n",
       "      <td>2459621624</td>\n",
       "    </tr>\n",
       "    <tr>\n",
       "      <th>17969</th>\n",
       "      <td>17969</td>\n",
       "      <td>15022</td>\n",
       "      <td>S1F0LCTV</td>\n",
       "      <td>17208072</td>\n",
       "      <td>0</td>\n",
       "      <td>0</td>\n",
       "      <td>1</td>\n",
       "      <td>12</td>\n",
       "      <td>467339</td>\n",
       "      <td>8</td>\n",
       "      <td>8</td>\n",
       "      <td>0</td>\n",
       "      <td>0</td>\n",
       "      <td>bc99d0cf47a1fa1c02eb61cc8c9ad4d6</td>\n",
       "      <td>2011-02-17</td>\n",
       "      <td>S1F</td>\n",
       "      <td>0</td>\n",
       "      <td>LCTV</td>\n",
       "      <td>2476829696</td>\n",
       "    </tr>\n",
       "    <tr>\n",
       "      <th>18681</th>\n",
       "      <td>18681</td>\n",
       "      <td>15023</td>\n",
       "      <td>S1F0LCTV</td>\n",
       "      <td>142442528</td>\n",
       "      <td>0</td>\n",
       "      <td>0</td>\n",
       "      <td>1</td>\n",
       "      <td>12</td>\n",
       "      <td>467947</td>\n",
       "      <td>8</td>\n",
       "      <td>8</td>\n",
       "      <td>0</td>\n",
       "      <td>0</td>\n",
       "      <td>e7fde4281f8876edd36583b6159e472f</td>\n",
       "      <td>2011-02-18</td>\n",
       "      <td>S1F</td>\n",
       "      <td>0</td>\n",
       "      <td>LCTV</td>\n",
       "      <td>2619272224</td>\n",
       "    </tr>\n",
       "    <tr>\n",
       "      <th>19393</th>\n",
       "      <td>19393</td>\n",
       "      <td>15024</td>\n",
       "      <td>S1F0LCTV</td>\n",
       "      <td>83337864</td>\n",
       "      <td>0</td>\n",
       "      <td>0</td>\n",
       "      <td>1</td>\n",
       "      <td>12</td>\n",
       "      <td>467947</td>\n",
       "      <td>8</td>\n",
       "      <td>8</td>\n",
       "      <td>0</td>\n",
       "      <td>0</td>\n",
       "      <td>864dfe48a88055c69454cb170d5bcb05</td>\n",
       "      <td>2011-02-19</td>\n",
       "      <td>S1F</td>\n",
       "      <td>0</td>\n",
       "      <td>LCTV</td>\n",
       "      <td>2702610088</td>\n",
       "    </tr>\n",
       "    <tr>\n",
       "      <th>20105</th>\n",
       "      <td>20105</td>\n",
       "      <td>15025</td>\n",
       "      <td>S1F0LCTV</td>\n",
       "      <td>92586704</td>\n",
       "      <td>0</td>\n",
       "      <td>0</td>\n",
       "      <td>1</td>\n",
       "      <td>12</td>\n",
       "      <td>467947</td>\n",
       "      <td>8</td>\n",
       "      <td>8</td>\n",
       "      <td>0</td>\n",
       "      <td>0</td>\n",
       "      <td>dcf28d0cfdd4389affd4ce3ec09fa455</td>\n",
       "      <td>2011-02-20</td>\n",
       "      <td>S1F</td>\n",
       "      <td>0</td>\n",
       "      <td>LCTV</td>\n",
       "      <td>2795196792</td>\n",
       "    </tr>\n",
       "    <tr>\n",
       "      <th>20817</th>\n",
       "      <td>20817</td>\n",
       "      <td>15026</td>\n",
       "      <td>S1F0LCTV</td>\n",
       "      <td>47001646</td>\n",
       "      <td>0</td>\n",
       "      <td>0</td>\n",
       "      <td>7</td>\n",
       "      <td>12</td>\n",
       "      <td>468887</td>\n",
       "      <td>0</td>\n",
       "      <td>0</td>\n",
       "      <td>0</td>\n",
       "      <td>1</td>\n",
       "      <td>0193361ad7981adee9edd48dafd9682a</td>\n",
       "      <td>2011-02-21</td>\n",
       "      <td>S1F</td>\n",
       "      <td>0</td>\n",
       "      <td>LCTV</td>\n",
       "      <td>2842198438</td>\n",
       "    </tr>\n",
       "  </tbody>\n",
       "</table>\n",
       "</div>"
      ],
      "text/plain": [
       "       order   date    device         a1  a2  a3  a4  a5      a6  a7  a8  a9  \\\n",
       "123    123    15001  S1F0LCTV  215846224  0   0   1   11  447025  0   0   0    \n",
       "1286   1286   15002  S1F0LCTV  238613336  0   0   1   11  448353  0   0   0    \n",
       "2449   2449   15003  S1F0LCTV  14044072   0   0   1   11  449697  0   0   0    \n",
       "3612   3612   15004  S1F0LCTV  36990704   0   0   1   11  451081  0   0   0    \n",
       "4773   4773   15005  S1F0LCTV  61513296   0   0   1   11  452406  0   0   0    \n",
       "5905   5905   15006  S1F0LCTV  87350048   0   0   1   11  453736  0   0   0    \n",
       "6926   6926   15007  S1F0LCTV  117246408  0   0   1   11  455096  0   0   0    \n",
       "7723   7723   15008  S1F0LCTV  138173592  0   0   1   11  456424  0   0   0    \n",
       "8479   8479   15009  S1F0LCTV  163744768  0   0   1   11  457721  0   0   0    \n",
       "9235   9235   15010  S1F0LCTV  183323688  0   0   1   11  459054  0   0   0    \n",
       "9990   9990   15011  S1F0LCTV  204859216  0   0   1   11  460426  0   0   0    \n",
       "10745  10745  15012  S1F0LCTV  224240872  0   0   1   11  461757  0   0   0    \n",
       "11500  11500  15013  S1F0LCTV  1444904    0   0   1   11  463085  0   0   0    \n",
       "12255  12255  15014  S1F0LCTV  22934864   0   0   1   11  464448  0   0   0    \n",
       "12971  12971  15015  S1F0LCTV  48491624   0   0   1   11  465751  0   0   0    \n",
       "13686  13686  15016  S1F0LCTV  67446832   0   0   1   11  467077  0   0   0    \n",
       "14401  14401  15017  S1F0LCTV  38251232   0   0   1   11  467167  8   8   0    \n",
       "15116  15116  15018  S1F0LCTV  12645576   0   0   1   11  467167  8   8   0    \n",
       "15829  15829  15019  S1F0LCTV  195660512  0   0   1   11  467167  8   8   0    \n",
       "16544  16544  15020  S1F0LCTV  175656336  0   0   1   11  467167  8   8   0    \n",
       "17257  17257  15021  S1F0LCTV  211143520  0   0   1   11  467167  8   8   0    \n",
       "17969  17969  15022  S1F0LCTV  17208072   0   0   1   12  467339  8   8   0    \n",
       "18681  18681  15023  S1F0LCTV  142442528  0   0   1   12  467947  8   8   0    \n",
       "19393  19393  15024  S1F0LCTV  83337864   0   0   1   12  467947  8   8   0    \n",
       "20105  20105  15025  S1F0LCTV  92586704   0   0   1   12  467947  8   8   0    \n",
       "20817  20817  15026  S1F0LCTV  47001646   0   0   7   12  468887  0   0   0    \n",
       "\n",
       "       failure                              uuid   datetime device_class1  \\\n",
       "123    0        84c0d7fcd448516f366aef58bb8ab36e 2011-01-27  S1F            \n",
       "1286   0        3a22cb401b1a433db4b286d2655dd62e 2011-01-28  S1F            \n",
       "2449   0        a40138ecf825a103823340d72ed2bf4c 2011-01-29  S1F            \n",
       "3612   0        04846191411e4e0d904e53ae4ce1d47d 2011-01-30  S1F            \n",
       "4773   0        3c3796641912ec4e28a0131608f5f4dd 2011-01-31  S1F            \n",
       "5905   0        c02a606a87cfda7aeee4420036f7a7c5 2011-02-01  S1F            \n",
       "6926   0        724900b6635bd86b9a56671e9f57c292 2011-02-02  S1F            \n",
       "7723   0        ecb424e251ddd7ecd25d4d82eaa96d4f 2011-02-03  S1F            \n",
       "8479   0        9d9cb0c606709ffdd4a7ab9a444a0da9 2011-02-04  S1F            \n",
       "9235   0        6ddb88307d70314c0c09efd250b9f352 2011-02-05  S1F            \n",
       "9990   0        043a4961f46814d78fc286a4d52fc061 2011-02-06  S1F            \n",
       "10745  0        dc1367c116db637c4d6b9c67e28abcfc 2011-02-07  S1F            \n",
       "11500  0        8f272156f4a53fce93249f87ad5821b5 2011-02-08  S1F            \n",
       "12255  0        e24778ddf8427942a8b23c348d79cc43 2011-02-09  S1F            \n",
       "12971  0        21f139bba54e7af2567a01bd063ec0b6 2011-02-10  S1F            \n",
       "13686  0        da9a24cf92fb6e00bcecedede5bc923c 2011-02-11  S1F            \n",
       "14401  0        ae57f6a34a02108ff7d044d84975193e 2011-02-12  S1F            \n",
       "15116  0        f7abeee7d698743beb382bb8f32ce65e 2011-02-13  S1F            \n",
       "15829  0        93282c993314db2232e8d3ded8417533 2011-02-14  S1F            \n",
       "16544  0        2bcd8d8be33d10efa4ba9773d3dde99e 2011-02-15  S1F            \n",
       "17257  0        4fee0a3ee96e49a7df203e5b49b9a8ce 2011-02-16  S1F            \n",
       "17969  0        bc99d0cf47a1fa1c02eb61cc8c9ad4d6 2011-02-17  S1F            \n",
       "18681  0        e7fde4281f8876edd36583b6159e472f 2011-02-18  S1F            \n",
       "19393  0        864dfe48a88055c69454cb170d5bcb05 2011-02-19  S1F            \n",
       "20105  0        dcf28d0cfdd4389affd4ce3ec09fa455 2011-02-20  S1F            \n",
       "20817  1        0193361ad7981adee9edd48dafd9682a 2011-02-21  S1F            \n",
       "\n",
       "      device_class2 device_class3   a1_cumsum  \n",
       "123    0             LCTV          215846224   \n",
       "1286   0             LCTV          454459560   \n",
       "2449   0             LCTV          468503632   \n",
       "3612   0             LCTV          505494336   \n",
       "4773   0             LCTV          567007632   \n",
       "5905   0             LCTV          654357680   \n",
       "6926   0             LCTV          771604088   \n",
       "7723   0             LCTV          909777680   \n",
       "8479   0             LCTV          1073522448  \n",
       "9235   0             LCTV          1256846136  \n",
       "9990   0             LCTV          1461705352  \n",
       "10745  0             LCTV          1685946224  \n",
       "11500  0             LCTV          1687391128  \n",
       "12255  0             LCTV          1710325992  \n",
       "12971  0             LCTV          1758817616  \n",
       "13686  0             LCTV          1826264448  \n",
       "14401  0             LCTV          1864515680  \n",
       "15116  0             LCTV          1877161256  \n",
       "15829  0             LCTV          2072821768  \n",
       "16544  0             LCTV          2248478104  \n",
       "17257  0             LCTV          2459621624  \n",
       "17969  0             LCTV          2476829696  \n",
       "18681  0             LCTV          2619272224  \n",
       "19393  0             LCTV          2702610088  \n",
       "20105  0             LCTV          2795196792  \n",
       "20817  0             LCTV          2842198438  "
      ]
     },
     "execution_count": 50,
     "metadata": {},
     "output_type": "execute_result"
    }
   ],
   "source": [
    "# look at random example\n",
    "a = random.choice(temp[(temp < 0).any(1)].index.tolist())\n",
    "print(temp.loc[a])\n",
    "print('\\n*********************\\n')\n",
    "print('Look at index {}'.format(a))\n",
    "b = faults_df[(faults_df.order == a)].device.values[0]\n",
    "faults_df[(faults_df.device == b)]"
   ]
  },
  {
   "cell_type": "markdown",
   "metadata": {
    "hidden": true
   },
   "source": [
    "Need to manually add feature to capture service history:\n",
    "+ Cumulative sum of a* service count\n",
    "+ Cumulative sum of a* service magnitude"
   ]
  },
  {
   "cell_type": "code",
   "execution_count": 74,
   "metadata": {
    "ExecuteTime": {
     "end_time": "2018-08-01T12:09:51.841356Z",
     "start_time": "2018-08-01T12:09:50.362300Z"
    },
    "hidden": true
   },
   "outputs": [],
   "source": [
    "# service features\n",
    "cols = ['a2', 'a5', 'a7', 'a8']\n",
    "for col in cols:\n",
    "    \n",
    "    # create columns and init\n",
    "    service_mag = col+'_service_mag'\n",
    "    service_count = col+'_service_count'\n",
    "    faults_df[service_mag] = 0\n",
    "    faults_df[service_count] = 0\n",
    "    \n",
    "    # fill with diff and remove natural agg\n",
    "    faults_df[service_mag] = faults_df.sort_values(by=['device', 'order']).groupby('device')[col].diff().fillna(0)\n",
    "    faults_df.loc[faults_df[service_mag] > 0, service_mag] = 0\n",
    "    \n",
    "    # denote service count and cumsum\n",
    "    faults_df.loc[faults_df[service_mag] < 0, service_count] = 1\n",
    "    faults_df[service_count] = faults_df.sort_values(by=['device','order']).groupby('device')[service_count].cumsum()\n",
    "    faults_df[service_mag] = faults_df.sort_values(by=['device','order']).groupby('device')[service_mag].cumsum()"
   ]
  },
  {
   "cell_type": "code",
   "execution_count": 76,
   "metadata": {
    "ExecuteTime": {
     "end_time": "2018-08-01T12:13:42.384880Z",
     "start_time": "2018-08-01T12:13:41.994748Z"
    },
    "hidden": true
   },
   "outputs": [],
   "source": [
    "# handle failure manually to deal with naming convention change   \n",
    "col = 'failure'\n",
    "service_mag = 'f_clear_mag'\n",
    "service_count = 'f_clear_count'\n",
    "faults_df[service_mag] = 0\n",
    "faults_df[service_count] = 0\n",
    "\n",
    "# fill with diff and remove natural agg\n",
    "faults_df[service_mag] = faults_df.sort_values(by=['device', 'order']).groupby('device')[col].diff().fillna(0)\n",
    "faults_df.loc[faults_df[service_mag] > 0, service_mag] = 0\n",
    "\n",
    "# denote service count and cumsum\n",
    "faults_df.loc[faults_df[service_mag] < 0, service_count] = 1\n",
    "faults_df[service_count] = faults_df.sort_values(by=['device','order']).groupby('device')[service_count].cumsum()\n",
    "faults_df[service_mag] = faults_df.sort_values(by=['device','order']).groupby('device')[service_mag].cumsum()"
   ]
  },
  {
   "cell_type": "markdown",
   "metadata": {
    "heading_collapsed": true,
    "hidden": true
   },
   "source": [
    "## Correlations"
   ]
  },
  {
   "cell_type": "code",
   "execution_count": null,
   "metadata": {
    "ExecuteTime": {
     "end_time": "2018-08-01T12:17:52.243531Z",
     "start_time": "2018-08-01T12:17:48.709503Z"
    },
    "hidden": true,
    "scrolled": true
   },
   "outputs": [],
   "source": [
    "# look for correlations in numerical values\n",
    "fields = [c for c in faults_df.columns if faults_df[c].dtype == 'int64']\n",
    "visualize_correlations(faults_df, fields)"
   ]
  },
  {
   "cell_type": "markdown",
   "metadata": {
    "hidden": true
   },
   "source": [
    "Indeed, some attributes are correlated, but A7 and A8 identical? <a id=\"a7a8\"></a>"
   ]
  },
  {
   "cell_type": "code",
   "execution_count": 87,
   "metadata": {
    "ExecuteTime": {
     "end_time": "2018-08-01T12:18:47.153990Z",
     "start_time": "2018-08-01T12:18:47.020218Z"
    },
    "hidden": true
   },
   "outputs": [
    {
     "data": {
      "text/plain": [
       "True"
      ]
     },
     "execution_count": 87,
     "metadata": {},
     "output_type": "execute_result"
    }
   ],
   "source": [
    "# are attribute 7 and 8 identical?\n",
    "a7_str = ''.join(faults_df.a7.astype(str).values)\n",
    "a7_hash = hashlib.md5(a7_str.encode('utf-8')).hexdigest()\n",
    "a8_str = ''.join(faults_df.a8.astype(str).values)\n",
    "a8_hash = hashlib.md5(a8_str.encode('utf-8')).hexdigest()\n",
    "a7_hash == a8_hash"
   ]
  },
  {
   "cell_type": "markdown",
   "metadata": {
    "hidden": true
   },
   "source": [
    "This is telemetry data, so maybe A7 and A8 are the same measurement with different units, e.g. imperial and metric"
   ]
  },
  {
   "cell_type": "code",
   "execution_count": 91,
   "metadata": {
    "ExecuteTime": {
     "end_time": "2018-08-01T12:19:44.445802Z",
     "start_time": "2018-08-01T12:19:44.416950Z"
    },
    "hidden": true
   },
   "outputs": [],
   "source": [
    "# 7 was my fav num as a kid (Boomer Esiason wore it for the Bengals)\n",
    "# drop attr8\n",
    "drop_cols = faults_df.filter(regex='^a8').columns.tolist()\n",
    "faults_df.drop(drop_cols, inplace=True, axis=1)"
   ]
  },
  {
   "cell_type": "code",
   "execution_count": 96,
   "metadata": {
    "ExecuteTime": {
     "end_time": "2018-08-01T12:20:55.524346Z",
     "start_time": "2018-08-01T12:20:51.280545Z"
    },
    "hidden": true,
    "scrolled": false
   },
   "outputs": [
    {
     "data": {
      "image/png": "[encoded data removed]",
      "text/plain": [
       "<Figure size 720x720 with 4 Axes>"
      ]
     },
     "metadata": {},
     "output_type": "display_data"
    }
   ],
   "source": [
    "# correlation matrix\n",
    "corrmat = faults_df.corr(method='spearman')\n",
    "\n",
    "# Draw the heatmap using seaborn\n",
    "sns.clustermap(corrmat, vmax=0.6, vmin=-0.6, square=True, cmap=sns_cmap);"
   ]
  },
  {
   "cell_type": "markdown",
   "metadata": {
    "hidden": true
   },
   "source": [
    "Weak similarities, but nothing so glaring we should break attributes apart."
   ]
  },
  {
   "cell_type": "markdown",
   "metadata": {
    "heading_collapsed": true,
    "hidden": true
   },
   "source": [
    "## Save"
   ]
  },
  {
   "cell_type": "code",
   "execution_count": 97,
   "metadata": {
    "ExecuteTime": {
     "end_time": "2018-08-01T12:21:39.460407Z",
     "start_time": "2018-08-01T12:21:39.269936Z"
    },
    "hidden": true
   },
   "outputs": [],
   "source": [
    "faults_df.to_pickle('faults_df.pkl')"
   ]
  },
  {
   "cell_type": "markdown",
   "metadata": {
    "heading_collapsed": true
   },
   "source": [
    "# Feature Engineering"
   ]
  },
  {
   "cell_type": "markdown",
   "metadata": {
    "hidden": true
   },
   "source": [
    "Normally, we would put in a great deal of effort and time with SME's to build even more features. For example, cumulative sums of aggregated values over time should be important, and we can engineer such a set of features with:\n",
    "```python\n",
    "for col in ['a'+str(i) for i in range(1,10)]:\n",
    "    newcol = col+'_cumsum'\n",
    "    try:\n",
    "        faults_df.drop([newcol], axis=1, inplace=True)\n",
    "    except:\n",
    "        pass\n",
    "    try:\n",
    "        faults_df[newcol] = faults_df.groupby(['device'])[col].cumsum()\n",
    "    except:\n",
    "        continue\n",
    "```\n",
    "\n",
    "However, what about all the other stats terms that may have embeded info (count, max, min, mean, stddev, etc.). This is laborious to construct all those features. Alternatively, we could use a carefully tuned NN architecture to find those features via the model. This is also laborious. Another option: create an ensemble of models that extract predictive information from features it creates.\n",
    "\n",
    "As a start, let's instead try deep feature synthesis and drive the problem to the left (data) rather than to the right (model). This can be accomplished with time series using [tensor deep feature synthesis][tdfs].\n",
    "\n",
    "[tdfs]: https://docs.featuretools.com/automated_feature_engineering/handling_time.html#creating-a-3-dimensional-feature-tensor-using-multiple-cutoff-times-from-make-temporal-cutoffs"
   ]
  },
  {
   "cell_type": "markdown",
   "metadata": {
    "heading_collapsed": true,
    "hidden": true
   },
   "source": [
    "## Cut-off Times"
   ]
  },
  {
   "cell_type": "code",
   "execution_count": 98,
   "metadata": {
    "ExecuteTime": {
     "end_time": "2018-08-01T12:23:32.252141Z",
     "start_time": "2018-08-01T12:23:32.003413Z"
    },
    "hidden": true,
    "scrolled": true
   },
   "outputs": [],
   "source": [
    "# list of unique devices\n",
    "unique_devices = faults_df.filter(regex='device').drop_duplicates()\n",
    "instance_ids = sorted(unique_devices.device.tolist())\n",
    "\n",
    "# capture start dates per device -- ORDER MATTERS\n",
    "device_start_dates = faults_df.sort_values(by=['device']).groupby('device')['datetime'].min().tolist()\n",
    "\n",
    "# capture end dates per device -- ORDER MATTERS\n",
    "device_end_dates = faults_df.sort_values(by=['device']).groupby('device')['datetime'].max().tolist()\n",
    "\n",
    "# create reference data frame\n",
    "cutoffs = pd.DataFrame(\n",
    "    {\n",
    "        'device': instance_ids,\n",
    "        'start': device_start_dates,\n",
    "        'end': device_end_dates,\n",
    "    }\n",
    ")"
   ]
  },
  {
   "cell_type": "code",
   "execution_count": 99,
   "metadata": {
    "ExecuteTime": {
     "end_time": "2018-08-01T12:23:36.395874Z",
     "start_time": "2018-08-01T12:23:34.577087Z"
    },
    "hidden": true
   },
   "outputs": [],
   "source": [
    "# gut check on 100 random entries that reassembly of dates and devices match\n",
    "for n in range(0, 100):\n",
    "    \n",
    "    # pick random device\n",
    "    rand_device = faults_df.sample(1).device.values[0]\n",
    "    \n",
    "    # get original min/max dates in np datetime\n",
    "    min_test = faults_df[(faults_df.device == rand_device)]['datetime'].min().to_datetime64()\n",
    "    max_test = faults_df[(faults_df.device == rand_device)]['datetime'].max().to_datetime64()\n",
    "    \n",
    "    # get cutoff values\n",
    "    rand_min = cutoffs[(cutoffs.device == rand_device)].start.values[0]\n",
    "    rand_max = cutoffs[(cutoffs.device == rand_device)].end.values[0]\n",
    "    \n",
    "    # compare\n",
    "    assert rand_min == min_test, 'Date mismatch'\n",
    "    assert rand_max == max_test, 'Date mismatch'"
   ]
  },
  {
   "cell_type": "code",
   "execution_count": 100,
   "metadata": {
    "ExecuteTime": {
     "end_time": "2018-08-01T12:23:38.604935Z",
     "start_time": "2018-08-01T12:23:36.968531Z"
    },
    "hidden": true
   },
   "outputs": [],
   "source": [
    "# for each device, begin at start and increment by 1-day until the end\n",
    "temporal_cutoffs = ft.make_temporal_cutoffs(\n",
    "    instance_ids=cutoffs['device'],\n",
    "    start=cutoffs['start'],\n",
    "    cutoffs=cutoffs['end'],\n",
    "    window_size='1d')"
   ]
  },
  {
   "cell_type": "code",
   "execution_count": 101,
   "metadata": {
    "ExecuteTime": {
     "end_time": "2018-08-01T12:23:39.524144Z",
     "start_time": "2018-08-01T12:23:39.500884Z"
    },
    "hidden": true
   },
   "outputs": [],
   "source": [
    "# save\n",
    "temporal_cutoffs.to_pickle('temporal_cutoffs.pkl')"
   ]
  },
  {
   "cell_type": "markdown",
   "metadata": {
    "heading_collapsed": true,
    "hidden": true
   },
   "source": [
    "## Entity Creation"
   ]
  },
  {
   "cell_type": "code",
   "execution_count": 107,
   "metadata": {
    "ExecuteTime": {
     "end_time": "2018-08-01T12:33:20.561155Z",
     "start_time": "2018-08-01T12:33:20.548153Z"
    },
    "hidden": true
   },
   "outputs": [],
   "source": [
    "# Create new entityset\n",
    "es = ft.EntitySet(id='timeseries')"
   ]
  },
  {
   "cell_type": "code",
   "execution_count": 108,
   "metadata": {
    "ExecuteTime": {
     "end_time": "2018-08-01T12:33:21.141240Z",
     "start_time": "2018-08-01T12:33:20.747775Z"
    },
    "hidden": true
   },
   "outputs": [],
   "source": [
    "# create entity for faults\n",
    "es = es.entity_from_dataframe(\n",
    "    entity_id='faults',\n",
    "    dataframe=faults_df,\n",
    "    index='uuid',\n",
    "    time_index='datetime')"
   ]
  },
  {
   "cell_type": "code",
   "execution_count": 109,
   "metadata": {
    "ExecuteTime": {
     "end_time": "2018-08-01T12:33:28.069555Z",
     "start_time": "2018-08-01T12:33:27.778424Z"
    },
    "hidden": true
   },
   "outputs": [
    {
     "data": {
      "text/plain": [
       "Entityset: timeseries\n",
       "  Entities:\n",
       "    faults [Rows: 124494, Columns: 23]\n",
       "    unique_devices [Rows: 1168, Columns: 5]\n",
       "  Relationships:\n",
       "    faults.device -> unique_devices.device"
      ]
     },
     "execution_count": 109,
     "metadata": {},
     "output_type": "execute_result"
    }
   ],
   "source": [
    "es.normalize_entity(base_entity_id='faults',\n",
    "                    new_entity_id='unique_devices',\n",
    "                    index='device',\n",
    "                    make_time_index=True,\n",
    "                    additional_variables=[\"device_class1\", \"device_class2\", \"device_class3\"])"
   ]
  },
  {
   "cell_type": "code",
   "execution_count": 110,
   "metadata": {
    "ExecuteTime": {
     "end_time": "2018-08-01T12:33:42.229636Z",
     "start_time": "2018-08-01T12:33:42.214459Z"
    },
    "hidden": true
   },
   "outputs": [
    {
     "data": {
      "text/plain": [
       "[Entity: faults\n",
       "   Variables:\n",
       "     uuid (dtype: index)\n",
       "     order (dtype: numeric)\n",
       "     date (dtype: numeric)\n",
       "     device (dtype: id)\n",
       "     a1 (dtype: numeric)\n",
       "     a2 (dtype: numeric)\n",
       "     a3 (dtype: numeric)\n",
       "     a4 (dtype: numeric)\n",
       "     a5 (dtype: numeric)\n",
       "     a6 (dtype: numeric)\n",
       "     a7 (dtype: numeric)\n",
       "     a9 (dtype: numeric)\n",
       "     failure (dtype: numeric)\n",
       "     datetime (dtype: datetime_time_index)\n",
       "     a1_cumsum (dtype: numeric)\n",
       "     a2_service_mag (dtype: numeric)\n",
       "     a2_service_count (dtype: numeric)\n",
       "     a5_service_mag (dtype: numeric)\n",
       "     a5_service_count (dtype: numeric)\n",
       "     a7_service_mag (dtype: numeric)\n",
       "     a7_service_count (dtype: numeric)\n",
       "     f_clear_mag (dtype: numeric)\n",
       "     f_clear_count (dtype: numeric)\n",
       "   Shape:\n",
       "     (Rows: 124494, Columns: 23), Entity: unique_devices\n",
       "   Variables:\n",
       "     device (dtype: index)\n",
       "     device_class1 (dtype: categorical)\n",
       "     device_class2 (dtype: categorical)\n",
       "     device_class3 (dtype: categorical)\n",
       "     first_faults_time (dtype: datetime_time_index)\n",
       "   Shape:\n",
       "     (Rows: 1168, Columns: 5)]"
      ]
     },
     "execution_count": 110,
     "metadata": {},
     "output_type": "execute_result"
    }
   ],
   "source": [
    "es.entities"
   ]
  },
  {
   "cell_type": "code",
   "execution_count": 111,
   "metadata": {
    "ExecuteTime": {
     "end_time": "2018-08-01T12:33:46.316289Z",
     "start_time": "2018-08-01T12:33:43.082807Z"
    },
    "hidden": true
   },
   "outputs": [
    {
     "data": {
      "text/plain": [
       "Entityset: timeseries\n",
       "  Entities:\n",
       "    faults [Rows: 124494, Columns: 23]\n",
       "    unique_devices [Rows: 1168, Columns: 5]\n",
       "  Relationships:\n",
       "    faults.device -> unique_devices.device"
      ]
     },
     "execution_count": 111,
     "metadata": {},
     "output_type": "execute_result"
    }
   ],
   "source": [
    "# save results\n",
    "es.to_parquet('device_faults_entity_set')"
   ]
  },
  {
   "cell_type": "markdown",
   "metadata": {
    "heading_collapsed": true,
    "hidden": true
   },
   "source": [
    "## Deep Feature Synthesis"
   ]
  },
  {
   "cell_type": "code",
   "execution_count": 13,
   "metadata": {
    "ExecuteTime": {
     "end_time": "2018-08-01T12:53:51.982351Z",
     "start_time": "2018-08-01T12:53:51.399990Z"
    },
    "hidden": true
   },
   "outputs": [],
   "source": [
    "# reload data\n",
    "es = ft.read_parquet('device_faults_entity_set')\n",
    "temporal_cutoffs = pd.read_pickle('temporal_cutoffs.pkl')\n",
    "faults_df = pd.read_pickle('faults_df.pkl')"
   ]
  },
  {
   "cell_type": "markdown",
   "metadata": {
    "hidden": true
   },
   "source": [
    "The below step can be parallelized using Dask (`n_jobs=-1`) since it's an embarassingly parallel problem due to independence:\n",
    "\n",
    "$device_i \\perp cutoff_j \\perp feature matrix_j$"
   ]
  },
  {
   "cell_type": "code",
   "execution_count": 14,
   "metadata": {
    "ExecuteTime": {
     "end_time": "2018-08-01T12:53:54.184967Z",
     "start_time": "2018-08-01T12:53:54.151396Z"
    },
    "hidden": true,
    "scrolled": true
   },
   "outputs": [
    {
     "data": {
      "text/html": [
       "<div>\n",
       "<style scoped>\n",
       "    .dataframe tbody tr th:only-of-type {\n",
       "        vertical-align: middle;\n",
       "    }\n",
       "\n",
       "    .dataframe tbody tr th {\n",
       "        vertical-align: top;\n",
       "    }\n",
       "\n",
       "    .dataframe thead th {\n",
       "        text-align: right;\n",
       "    }\n",
       "</style>\n",
       "<table border=\"1\" class=\"dataframe\">\n",
       "  <thead>\n",
       "    <tr style=\"text-align: right;\">\n",
       "      <th></th>\n",
       "      <th>name</th>\n",
       "      <th>type</th>\n",
       "      <th>description</th>\n",
       "    </tr>\n",
       "  </thead>\n",
       "  <tbody>\n",
       "    <tr>\n",
       "      <th>0</th>\n",
       "      <td>num_true</td>\n",
       "      <td>aggregation</td>\n",
       "      <td>Finds the number of 'True' values in a boolean.</td>\n",
       "    </tr>\n",
       "    <tr>\n",
       "      <th>1</th>\n",
       "      <td>last</td>\n",
       "      <td>aggregation</td>\n",
       "      <td>Returns the last value.</td>\n",
       "    </tr>\n",
       "    <tr>\n",
       "      <th>2</th>\n",
       "      <td>mode</td>\n",
       "      <td>aggregation</td>\n",
       "      <td>Finds the most common element in a categorical feature.</td>\n",
       "    </tr>\n",
       "    <tr>\n",
       "      <th>3</th>\n",
       "      <td>num_unique</td>\n",
       "      <td>aggregation</td>\n",
       "      <td>Returns the number of unique categorical variables.</td>\n",
       "    </tr>\n",
       "    <tr>\n",
       "      <th>4</th>\n",
       "      <td>std</td>\n",
       "      <td>aggregation</td>\n",
       "      <td>Finds the standard deviation of a numeric feature ignoring null values.</td>\n",
       "    </tr>\n",
       "    <tr>\n",
       "      <th>5</th>\n",
       "      <td>min</td>\n",
       "      <td>aggregation</td>\n",
       "      <td>Finds the minimum non-null value of a numeric feature.</td>\n",
       "    </tr>\n",
       "    <tr>\n",
       "      <th>6</th>\n",
       "      <td>mean</td>\n",
       "      <td>aggregation</td>\n",
       "      <td>Computes the average value of a numeric feature.</td>\n",
       "    </tr>\n",
       "    <tr>\n",
       "      <th>7</th>\n",
       "      <td>max</td>\n",
       "      <td>aggregation</td>\n",
       "      <td>Finds the maximum non-null value of a numeric feature.</td>\n",
       "    </tr>\n",
       "    <tr>\n",
       "      <th>8</th>\n",
       "      <td>skew</td>\n",
       "      <td>aggregation</td>\n",
       "      <td>Computes the skewness of a data set.</td>\n",
       "    </tr>\n",
       "    <tr>\n",
       "      <th>9</th>\n",
       "      <td>trend</td>\n",
       "      <td>aggregation</td>\n",
       "      <td>Calculates the slope of the linear trend of variable overtime.</td>\n",
       "    </tr>\n",
       "    <tr>\n",
       "      <th>10</th>\n",
       "      <td>median</td>\n",
       "      <td>aggregation</td>\n",
       "      <td>Finds the median value of any feature with well-ordered values.</td>\n",
       "    </tr>\n",
       "    <tr>\n",
       "      <th>11</th>\n",
       "      <td>percent_true</td>\n",
       "      <td>aggregation</td>\n",
       "      <td>Finds the percent of 'True' values in a boolean feature.</td>\n",
       "    </tr>\n",
       "    <tr>\n",
       "      <th>12</th>\n",
       "      <td>time_since_last</td>\n",
       "      <td>aggregation</td>\n",
       "      <td>Time since last related instance.</td>\n",
       "    </tr>\n",
       "    <tr>\n",
       "      <th>13</th>\n",
       "      <td>avg_time_between</td>\n",
       "      <td>aggregation</td>\n",
       "      <td>Computes the average time between consecutive events.</td>\n",
       "    </tr>\n",
       "    <tr>\n",
       "      <th>14</th>\n",
       "      <td>all</td>\n",
       "      <td>aggregation</td>\n",
       "      <td>Test if all values are 'True'.</td>\n",
       "    </tr>\n",
       "    <tr>\n",
       "      <th>15</th>\n",
       "      <td>sum</td>\n",
       "      <td>aggregation</td>\n",
       "      <td>Counts the number of elements of a numeric or boolean feature.</td>\n",
       "    </tr>\n",
       "    <tr>\n",
       "      <th>16</th>\n",
       "      <td>n_most_common</td>\n",
       "      <td>aggregation</td>\n",
       "      <td>Finds the N most common elements in a categorical feature.</td>\n",
       "    </tr>\n",
       "    <tr>\n",
       "      <th>17</th>\n",
       "      <td>any</td>\n",
       "      <td>aggregation</td>\n",
       "      <td>Test if any value is 'True'.</td>\n",
       "    </tr>\n",
       "    <tr>\n",
       "      <th>18</th>\n",
       "      <td>count</td>\n",
       "      <td>aggregation</td>\n",
       "      <td>Counts the number of non null values.</td>\n",
       "    </tr>\n",
       "    <tr>\n",
       "      <th>19</th>\n",
       "      <td>day</td>\n",
       "      <td>transform</td>\n",
       "      <td>Transform a Datetime feature into the day.</td>\n",
       "    </tr>\n",
       "    <tr>\n",
       "      <th>20</th>\n",
       "      <td>characters</td>\n",
       "      <td>transform</td>\n",
       "      <td>Return the characters in a given string.</td>\n",
       "    </tr>\n",
       "    <tr>\n",
       "      <th>21</th>\n",
       "      <td>divide</td>\n",
       "      <td>transform</td>\n",
       "      <td>Creates a transform feature that divides two features.</td>\n",
       "    </tr>\n",
       "    <tr>\n",
       "      <th>22</th>\n",
       "      <td>not</td>\n",
       "      <td>transform</td>\n",
       "      <td>For each value of the base feature, negates the boolean value.</td>\n",
       "    </tr>\n",
       "    <tr>\n",
       "      <th>23</th>\n",
       "      <td>weekend</td>\n",
       "      <td>transform</td>\n",
       "      <td>Transform Datetime feature into the boolean of Weekend.</td>\n",
       "    </tr>\n",
       "    <tr>\n",
       "      <th>24</th>\n",
       "      <td>subtract</td>\n",
       "      <td>transform</td>\n",
       "      <td>Creates a transform feature that subtracts two features.</td>\n",
       "    </tr>\n",
       "    <tr>\n",
       "      <th>25</th>\n",
       "      <td>isin</td>\n",
       "      <td>transform</td>\n",
       "      <td>For each value of the base feature, checks whether it is in a provided list.</td>\n",
       "    </tr>\n",
       "    <tr>\n",
       "      <th>26</th>\n",
       "      <td>or</td>\n",
       "      <td>transform</td>\n",
       "      <td>For two boolean values, determine if one value is 'True'.</td>\n",
       "    </tr>\n",
       "    <tr>\n",
       "      <th>27</th>\n",
       "      <td>absolute</td>\n",
       "      <td>transform</td>\n",
       "      <td>Absolute value of base feature.</td>\n",
       "    </tr>\n",
       "    <tr>\n",
       "      <th>28</th>\n",
       "      <td>year</td>\n",
       "      <td>transform</td>\n",
       "      <td>Transform a Datetime feature into the year.</td>\n",
       "    </tr>\n",
       "    <tr>\n",
       "      <th>29</th>\n",
       "      <td>time_since</td>\n",
       "      <td>transform</td>\n",
       "      <td>Calculates time since the cutoff time.</td>\n",
       "    </tr>\n",
       "    <tr>\n",
       "      <th>...</th>\n",
       "      <td>...</td>\n",
       "      <td>...</td>\n",
       "      <td>...</td>\n",
       "    </tr>\n",
       "    <tr>\n",
       "      <th>32</th>\n",
       "      <td>add</td>\n",
       "      <td>transform</td>\n",
       "      <td>Creates a transform feature that adds two features.</td>\n",
       "    </tr>\n",
       "    <tr>\n",
       "      <th>33</th>\n",
       "      <td>week</td>\n",
       "      <td>transform</td>\n",
       "      <td>Transform a Datetime feature into the week.</td>\n",
       "    </tr>\n",
       "    <tr>\n",
       "      <th>34</th>\n",
       "      <td>cum_count</td>\n",
       "      <td>transform</td>\n",
       "      <td>Calculates the number of previous values of an instance for each value in a time-dependent entity.</td>\n",
       "    </tr>\n",
       "    <tr>\n",
       "      <th>35</th>\n",
       "      <td>hours</td>\n",
       "      <td>transform</td>\n",
       "      <td>Transform a Timedelta feature into the number of hours.</td>\n",
       "    </tr>\n",
       "    <tr>\n",
       "      <th>36</th>\n",
       "      <td>minute</td>\n",
       "      <td>transform</td>\n",
       "      <td>Transform a Datetime feature into the minute.</td>\n",
       "    </tr>\n",
       "    <tr>\n",
       "      <th>37</th>\n",
       "      <td>cum_sum</td>\n",
       "      <td>transform</td>\n",
       "      <td>Calculates the sum of previous values of an instance for each value in a time-dependent entity.</td>\n",
       "    </tr>\n",
       "    <tr>\n",
       "      <th>38</th>\n",
       "      <td>longitude</td>\n",
       "      <td>transform</td>\n",
       "      <td>Returns the second value on the tuple base feature.</td>\n",
       "    </tr>\n",
       "    <tr>\n",
       "      <th>39</th>\n",
       "      <td>days</td>\n",
       "      <td>transform</td>\n",
       "      <td>Transform a Timedelta feature into the number of days.</td>\n",
       "    </tr>\n",
       "    <tr>\n",
       "      <th>40</th>\n",
       "      <td>numwords</td>\n",
       "      <td>transform</td>\n",
       "      <td>Returns the words in a given string by counting the spaces.</td>\n",
       "    </tr>\n",
       "    <tr>\n",
       "      <th>41</th>\n",
       "      <td>and</td>\n",
       "      <td>transform</td>\n",
       "      <td>For two boolean values, determine if both values are 'True'.</td>\n",
       "    </tr>\n",
       "    <tr>\n",
       "      <th>42</th>\n",
       "      <td>mod</td>\n",
       "      <td>transform</td>\n",
       "      <td>Creates a transform feature that divides two features.</td>\n",
       "    </tr>\n",
       "    <tr>\n",
       "      <th>43</th>\n",
       "      <td>percentile</td>\n",
       "      <td>transform</td>\n",
       "      <td>For each value of the base feature, determines the percentile in relation</td>\n",
       "    </tr>\n",
       "    <tr>\n",
       "      <th>44</th>\n",
       "      <td>weekday</td>\n",
       "      <td>transform</td>\n",
       "      <td>Transform Datetime feature into the boolean of Weekday.</td>\n",
       "    </tr>\n",
       "    <tr>\n",
       "      <th>45</th>\n",
       "      <td>multiply</td>\n",
       "      <td>transform</td>\n",
       "      <td>Creates a transform feature that multplies two features.</td>\n",
       "    </tr>\n",
       "    <tr>\n",
       "      <th>46</th>\n",
       "      <td>seconds</td>\n",
       "      <td>transform</td>\n",
       "      <td>Transform a Timedelta feature into the number of seconds.</td>\n",
       "    </tr>\n",
       "    <tr>\n",
       "      <th>47</th>\n",
       "      <td>diff</td>\n",
       "      <td>transform</td>\n",
       "      <td>Compute the difference between the value of a base feature and the previous value.</td>\n",
       "    </tr>\n",
       "    <tr>\n",
       "      <th>48</th>\n",
       "      <td>time_since_previous</td>\n",
       "      <td>transform</td>\n",
       "      <td>Compute the time since the previous instance.</td>\n",
       "    </tr>\n",
       "    <tr>\n",
       "      <th>49</th>\n",
       "      <td>years</td>\n",
       "      <td>transform</td>\n",
       "      <td>Transform a Timedelta feature into the number of years.</td>\n",
       "    </tr>\n",
       "    <tr>\n",
       "      <th>50</th>\n",
       "      <td>days_since</td>\n",
       "      <td>transform</td>\n",
       "      <td>For each value of the base feature, compute the number of days between it</td>\n",
       "    </tr>\n",
       "    <tr>\n",
       "      <th>51</th>\n",
       "      <td>is_null</td>\n",
       "      <td>transform</td>\n",
       "      <td>For each value of base feature, return 'True' if value is null.</td>\n",
       "    </tr>\n",
       "    <tr>\n",
       "      <th>52</th>\n",
       "      <td>months</td>\n",
       "      <td>transform</td>\n",
       "      <td>Transform a Timedelta feature into the number of months.</td>\n",
       "    </tr>\n",
       "    <tr>\n",
       "      <th>53</th>\n",
       "      <td>weeks</td>\n",
       "      <td>transform</td>\n",
       "      <td>Transform a Timedelta feature into the number of weeks.</td>\n",
       "    </tr>\n",
       "    <tr>\n",
       "      <th>54</th>\n",
       "      <td>cum_max</td>\n",
       "      <td>transform</td>\n",
       "      <td>Calculates the max of previous values of an instance for each value in a time-dependent entity.</td>\n",
       "    </tr>\n",
       "    <tr>\n",
       "      <th>55</th>\n",
       "      <td>second</td>\n",
       "      <td>transform</td>\n",
       "      <td>Transform a Datetime feature into the second.</td>\n",
       "    </tr>\n",
       "    <tr>\n",
       "      <th>56</th>\n",
       "      <td>minutes</td>\n",
       "      <td>transform</td>\n",
       "      <td>Transform a Timedelta feature into the number of minutes.</td>\n",
       "    </tr>\n",
       "    <tr>\n",
       "      <th>57</th>\n",
       "      <td>cum_mean</td>\n",
       "      <td>transform</td>\n",
       "      <td>Calculates the mean of previous values of an instance for each value in a time-dependent entity.</td>\n",
       "    </tr>\n",
       "    <tr>\n",
       "      <th>58</th>\n",
       "      <td>haversine</td>\n",
       "      <td>transform</td>\n",
       "      <td>Calculate the approximate haversine distance in miles between two LatLong variable types.</td>\n",
       "    </tr>\n",
       "    <tr>\n",
       "      <th>59</th>\n",
       "      <td>hour</td>\n",
       "      <td>transform</td>\n",
       "      <td>Transform a Datetime feature into the hour.</td>\n",
       "    </tr>\n",
       "    <tr>\n",
       "      <th>60</th>\n",
       "      <td>negate</td>\n",
       "      <td>transform</td>\n",
       "      <td>Creates a transform feature that negates a feature.</td>\n",
       "    </tr>\n",
       "    <tr>\n",
       "      <th>61</th>\n",
       "      <td>latitude</td>\n",
       "      <td>transform</td>\n",
       "      <td>Returns the first value of the tuple base feature.</td>\n",
       "    </tr>\n",
       "  </tbody>\n",
       "</table>\n",
       "<p>62 rows × 3 columns</p>\n",
       "</div>"
      ],
      "text/plain": [
       "                   name         type  \\\n",
       "0   num_true             aggregation   \n",
       "1   last                 aggregation   \n",
       "2   mode                 aggregation   \n",
       "3   num_unique           aggregation   \n",
       "4   std                  aggregation   \n",
       "5   min                  aggregation   \n",
       "6   mean                 aggregation   \n",
       "7   max                  aggregation   \n",
       "8   skew                 aggregation   \n",
       "9   trend                aggregation   \n",
       "10  median               aggregation   \n",
       "11  percent_true         aggregation   \n",
       "12  time_since_last      aggregation   \n",
       "13  avg_time_between     aggregation   \n",
       "14  all                  aggregation   \n",
       "15  sum                  aggregation   \n",
       "16  n_most_common        aggregation   \n",
       "17  any                  aggregation   \n",
       "18  count                aggregation   \n",
       "19  day                  transform     \n",
       "20  characters           transform     \n",
       "21  divide               transform     \n",
       "22  not                  transform     \n",
       "23  weekend              transform     \n",
       "24  subtract             transform     \n",
       "25  isin                 transform     \n",
       "26  or                   transform     \n",
       "27  absolute             transform     \n",
       "28  year                 transform     \n",
       "29  time_since           transform     \n",
       "..         ...                 ...     \n",
       "32  add                  transform     \n",
       "33  week                 transform     \n",
       "34  cum_count            transform     \n",
       "35  hours                transform     \n",
       "36  minute               transform     \n",
       "37  cum_sum              transform     \n",
       "38  longitude            transform     \n",
       "39  days                 transform     \n",
       "40  numwords             transform     \n",
       "41  and                  transform     \n",
       "42  mod                  transform     \n",
       "43  percentile           transform     \n",
       "44  weekday              transform     \n",
       "45  multiply             transform     \n",
       "46  seconds              transform     \n",
       "47  diff                 transform     \n",
       "48  time_since_previous  transform     \n",
       "49  years                transform     \n",
       "50  days_since           transform     \n",
       "51  is_null              transform     \n",
       "52  months               transform     \n",
       "53  weeks                transform     \n",
       "54  cum_max              transform     \n",
       "55  second               transform     \n",
       "56  minutes              transform     \n",
       "57  cum_mean             transform     \n",
       "58  haversine            transform     \n",
       "59  hour                 transform     \n",
       "60  negate               transform     \n",
       "61  latitude             transform     \n",
       "\n",
       "                                                                                           description  \n",
       "0   Finds the number of 'True' values in a boolean.                                                     \n",
       "1   Returns the last value.                                                                             \n",
       "2   Finds the most common element in a categorical feature.                                             \n",
       "3   Returns the number of unique categorical variables.                                                 \n",
       "4   Finds the standard deviation of a numeric feature ignoring null values.                             \n",
       "5   Finds the minimum non-null value of a numeric feature.                                              \n",
       "6   Computes the average value of a numeric feature.                                                    \n",
       "7   Finds the maximum non-null value of a numeric feature.                                              \n",
       "8   Computes the skewness of a data set.                                                                \n",
       "9   Calculates the slope of the linear trend of variable overtime.                                      \n",
       "10  Finds the median value of any feature with well-ordered values.                                     \n",
       "11  Finds the percent of 'True' values in a boolean feature.                                            \n",
       "12  Time since last related instance.                                                                   \n",
       "13  Computes the average time between consecutive events.                                               \n",
       "14  Test if all values are 'True'.                                                                      \n",
       "15  Counts the number of elements of a numeric or boolean feature.                                      \n",
       "16  Finds the N most common elements in a categorical feature.                                          \n",
       "17  Test if any value is 'True'.                                                                        \n",
       "18  Counts the number of non null values.                                                               \n",
       "19  Transform a Datetime feature into the day.                                                          \n",
       "20  Return the characters in a given string.                                                            \n",
       "21  Creates a transform feature that divides two features.                                              \n",
       "22  For each value of the base feature, negates the boolean value.                                      \n",
       "23  Transform Datetime feature into the boolean of Weekend.                                             \n",
       "24  Creates a transform feature that subtracts two features.                                            \n",
       "25  For each value of the base feature, checks whether it is in a provided list.                        \n",
       "26  For two boolean values, determine if one value is 'True'.                                           \n",
       "27  Absolute value of base feature.                                                                     \n",
       "28  Transform a Datetime feature into the year.                                                         \n",
       "29  Calculates time since the cutoff time.                                                              \n",
       "..                                     ...                                                              \n",
       "32  Creates a transform feature that adds two features.                                                 \n",
       "33  Transform a Datetime feature into the week.                                                         \n",
       "34  Calculates the number of previous values of an instance for each value in a time-dependent entity.  \n",
       "35  Transform a Timedelta feature into the number of hours.                                             \n",
       "36  Transform a Datetime feature into the minute.                                                       \n",
       "37  Calculates the sum of previous values of an instance for each value in a time-dependent entity.     \n",
       "38  Returns the second value on the tuple base feature.                                                 \n",
       "39  Transform a Timedelta feature into the number of days.                                              \n",
       "40  Returns the words in a given string by counting the spaces.                                         \n",
       "41  For two boolean values, determine if both values are 'True'.                                        \n",
       "42  Creates a transform feature that divides two features.                                              \n",
       "43  For each value of the base feature, determines the percentile in relation                           \n",
       "44  Transform Datetime feature into the boolean of Weekday.                                             \n",
       "45  Creates a transform feature that multplies two features.                                            \n",
       "46  Transform a Timedelta feature into the number of seconds.                                           \n",
       "47  Compute the difference between the value of a base feature and the previous value.                  \n",
       "48  Compute the time since the previous instance.                                                       \n",
       "49  Transform a Timedelta feature into the number of years.                                             \n",
       "50  For each value of the base feature, compute the number of days between it                           \n",
       "51  For each value of base feature, return 'True' if value is null.                                     \n",
       "52  Transform a Timedelta feature into the number of months.                                            \n",
       "53  Transform a Timedelta feature into the number of weeks.                                             \n",
       "54  Calculates the max of previous values of an instance for each value in a time-dependent entity.     \n",
       "55  Transform a Datetime feature into the second.                                                       \n",
       "56  Transform a Timedelta feature into the number of minutes.                                           \n",
       "57  Calculates the mean of previous values of an instance for each value in a time-dependent entity.    \n",
       "58  Calculate the approximate haversine distance in miles between two LatLong variable types.           \n",
       "59  Transform a Datetime feature into the hour.                                                         \n",
       "60  Creates a transform feature that negates a feature.                                                 \n",
       "61  Returns the first value of the tuple base feature.                                                  \n",
       "\n",
       "[62 rows x 3 columns]"
      ]
     },
     "execution_count": 14,
     "metadata": {},
     "output_type": "execute_result"
    }
   ],
   "source": [
    "# reminder of the dfs primitives\n",
    "ft.primitives.list_primitives()"
   ]
  },
  {
   "cell_type": "code",
   "execution_count": 15,
   "metadata": {
    "ExecuteTime": {
     "end_time": "2018-08-01T12:54:19.839228Z",
     "start_time": "2018-08-01T12:54:19.824302Z"
    },
    "hidden": true
   },
   "outputs": [],
   "source": [
    "# primitive selections\n",
    "agg_primitives=[\"mean\", \"median\", \"mode\",\n",
    "                \"max\", \"min\", \"std\", \"skew\",\n",
    "                \"count\", \"trend\",\n",
    "                \"last\", \"time_since_last\", \"avg_time_between\"]\n",
    "\n",
    "# not obvious that transforms needed\n",
    "# options, if so: \"percentile\", \"time_since_previous\", \"multiply\", \"mod\", \"add\", \"subtract\", \"diff\", \"divide\"\n",
    "trans_primitives=[]"
   ]
  },
  {
   "cell_type": "code",
   "execution_count": 16,
   "metadata": {
    "ExecuteTime": {
     "end_time": "2018-08-01T12:54:33.966668Z",
     "start_time": "2018-08-01T12:54:33.949988Z"
    },
    "hidden": true
   },
   "outputs": [],
   "source": [
    "# don't waste time on data that isn't relevant\n",
    "ignore_variables = {'faults': ['uuid',\n",
    "                               'order',\n",
    "                               'date',\n",
    "                               'device_class1',\n",
    "                               'device_class2',\n",
    "                               'device_class3',\n",
    "                               'failure']\n",
    "                   }"
   ]
  },
  {
   "cell_type": "code",
   "execution_count": 17,
   "metadata": {
    "ExecuteTime": {
     "end_time": "2018-08-01T13:04:27.351889Z",
     "start_time": "2018-08-01T12:55:18.622434Z"
    },
    "hidden": true,
    "scrolled": true
   },
   "outputs": [
    {
     "name": "stdout",
     "output_type": "stream",
     "text": [
      "Built 141 features\n",
      "EntitySet scattered to workers in 4.347 seconds\n",
      "Elapsed: 08:59 | Remaining: 00:00 | Progress: 100%|██████████| Calculated: 306/306 chunks\n"
     ]
    },
    {
     "name": "stderr",
     "output_type": "stream",
     "text": [
      "Exception ignored in: <generator object add_client at 0x7fd184c3a8e0>\n",
      "RuntimeError: generator ignored GeneratorExit\n",
      "Future exception was never retrieved\n",
      "future: <Future finished exception=StreamClosedError('Stream is closed',)>\n",
      "Traceback (most recent call last):\n",
      "  File \"/home/ubuntu/anaconda3/envs/tensorflow_p36/lib/python3.6/site-packages/tornado/tcpclient.py\", line 112, in on_connect_done\n",
      "    stream = future.result()\n",
      "tornado.iostream.StreamClosedError: Stream is closed\n",
      "Future exception was never retrieved\n",
      "future: <Future finished exception=StreamClosedError('Stream is closed',)>\n",
      "Traceback (most recent call last):\n",
      "  File \"/home/ubuntu/anaconda3/envs/tensorflow_p36/lib/python3.6/site-packages/tornado/tcpclient.py\", line 112, in on_connect_done\n",
      "    stream = future.result()\n",
      "tornado.iostream.StreamClosedError: Stream is closed\n",
      "Future exception was never retrieved\n",
      "future: <Future finished exception=StreamClosedError('Stream is closed',)>\n",
      "Traceback (most recent call last):\n",
      "  File \"/home/ubuntu/anaconda3/envs/tensorflow_p36/lib/python3.6/site-packages/tornado/tcpclient.py\", line 112, in on_connect_done\n",
      "    stream = future.result()\n",
      "tornado.iostream.StreamClosedError: Stream is closed\n",
      "Future exception was never retrieved\n",
      "future: <Future finished exception=StreamClosedError('Stream is closed',)>\n",
      "Traceback (most recent call last):\n",
      "  File \"/home/ubuntu/anaconda3/envs/tensorflow_p36/lib/python3.6/site-packages/tornado/tcpclient.py\", line 112, in on_connect_done\n",
      "    stream = future.result()\n",
      "tornado.iostream.StreamClosedError: Stream is closed\n",
      "Future exception was never retrieved\n",
      "future: <Future finished exception=StreamClosedError('Stream is closed',)>\n",
      "Traceback (most recent call last):\n",
      "  File \"/home/ubuntu/anaconda3/envs/tensorflow_p36/lib/python3.6/site-packages/tornado/tcpclient.py\", line 112, in on_connect_done\n",
      "    stream = future.result()\n",
      "tornado.iostream.StreamClosedError: Stream is closed\n",
      "Future exception was never retrieved\n",
      "future: <Future finished exception=StreamClosedError('Stream is closed',)>\n",
      "Traceback (most recent call last):\n",
      "  File \"/home/ubuntu/anaconda3/envs/tensorflow_p36/lib/python3.6/site-packages/tornado/tcpclient.py\", line 112, in on_connect_done\n",
      "    stream = future.result()\n",
      "tornado.iostream.StreamClosedError: Stream is closed\n"
     ]
    }
   ],
   "source": [
    "# create the feature tensor\n",
    "feature_tensor, feature_defs = ft.dfs(\n",
    "    entityset=es,\n",
    "    target_entity='unique_devices',\n",
    "    cutoff_time=temporal_cutoffs,\n",
    "    cutoff_time_in_index=True,\n",
    "    agg_primitives=agg_primitives,\n",
    "    trans_primitives=trans_primitives,\n",
    "    ignore_variables=ignore_variables,\n",
    "    max_depth=1,\n",
    "    max_features=-1,\n",
    "    chunk_size=\"cutoff time\",\n",
    "    n_jobs=-1,\n",
    "    verbose=True)"
   ]
  },
  {
   "cell_type": "code",
   "execution_count": 19,
   "metadata": {
    "ExecuteTime": {
     "end_time": "2018-08-01T13:13:17.801055Z",
     "start_time": "2018-08-01T13:13:17.159390Z"
    },
    "hidden": true
   },
   "outputs": [],
   "source": [
    "# save intermediate output\n",
    "hdf_file = 'raw_dfs_feature_tensor.h5'\n",
    "table_name = 'feature_tensor'\n",
    "save_hdf5(feature_tensor, hdf_file, table_name)"
   ]
  },
  {
   "cell_type": "markdown",
   "metadata": {
    "heading_collapsed": true,
    "hidden": true
   },
   "source": [
    "## QA"
   ]
  },
  {
   "cell_type": "code",
   "execution_count": 20,
   "metadata": {
    "ExecuteTime": {
     "end_time": "2018-08-01T13:13:23.286008Z",
     "start_time": "2018-08-01T13:13:23.023537Z"
    },
    "hidden": true
   },
   "outputs": [],
   "source": [
    "# clean-up data and don't disturb original\n",
    "dfs_qa = feature_tensor.copy().reset_index()\n",
    "dfs_qa.rename(columns={'time':'datetime'}, inplace=True)"
   ]
  },
  {
   "cell_type": "code",
   "execution_count": 21,
   "metadata": {
    "ExecuteTime": {
     "end_time": "2018-08-01T13:13:24.147061Z",
     "start_time": "2018-08-01T13:13:24.129031Z"
    },
    "hidden": true
   },
   "outputs": [],
   "source": [
    "# data in == data out\n",
    "orig_len = len(dfs_qa)\n",
    "new_len = len(feature_tensor)\n",
    "assert orig_len == new_len, 'There is new or missing data'"
   ]
  },
  {
   "cell_type": "markdown",
   "metadata": {
    "hidden": true
   },
   "source": [
    "The '1d' time windows in DFS automatically create steps in time where there may not be data, e.g.:\n",
    "* original: [1 2 3 4 8 9]\n",
    "* dfs: [1 2 3 4 **_5 6 7_** 8 9]\n",
    "\n",
    "There are added values. Simply joing back against original dataframe (need to do anyways) fixes this."
   ]
  },
  {
   "cell_type": "code",
   "execution_count": 22,
   "metadata": {
    "ExecuteTime": {
     "end_time": "2018-08-01T13:13:28.666766Z",
     "start_time": "2018-08-01T13:13:28.229096Z"
    },
    "hidden": true
   },
   "outputs": [],
   "source": [
    "# per problem statement, one device per day?\n",
    "check = dfs_qa.datetime.astype(str) + dfs_qa.device.astype(str)\n",
    "assert len(check) == len(check.drop_duplicates()), 'More than one device per day'"
   ]
  },
  {
   "cell_type": "code",
   "execution_count": 23,
   "metadata": {
    "ExecuteTime": {
     "end_time": "2018-08-01T13:13:32.053171Z",
     "start_time": "2018-08-01T13:13:29.737484Z"
    },
    "hidden": true
   },
   "outputs": [
    {
     "data": {
      "text/plain": [
       "['MIN(faults.f_clear_count)',\n",
       " 'MIN(faults.a5_service_count)',\n",
       " 'MIN(faults.a7_service_count)',\n",
       " 'MAX(faults.a5_service_mag)',\n",
       " 'MIN(faults.a2_service_count)',\n",
       " 'MAX(faults.a7_service_mag)',\n",
       " 'MAX(faults.f_clear_mag)',\n",
       " 'MAX(faults.a2_service_mag)',\n",
       " 'MEDIAN(faults.f_clear_count)',\n",
       " 'MEDIAN(faults.f_clear_mag)']"
      ]
     },
     "execution_count": 23,
     "metadata": {},
     "output_type": "execute_result"
    }
   ],
   "source": [
    "# rid ourselves of the junk datetime features due to arbitrary date assignment\n",
    "dropcols = dfs_qa.filter(regex='DAY|MONTH|WEEKDAY|YEAR').columns.tolist()\n",
    "nunique = dfs_qa.apply(pd.Series.nunique)\n",
    "dropcols.extend(nunique[nunique == 1].index.tolist())\n",
    "list(set(dropcols))"
   ]
  },
  {
   "cell_type": "code",
   "execution_count": 24,
   "metadata": {
    "ExecuteTime": {
     "end_time": "2018-08-01T13:13:51.283047Z",
     "start_time": "2018-08-01T13:13:51.215422Z"
    },
    "hidden": true
   },
   "outputs": [],
   "source": [
    "# drop them\n",
    "dfs_qa.drop(dropcols, axis=1, inplace=True)"
   ]
  },
  {
   "cell_type": "code",
   "execution_count": 25,
   "metadata": {
    "ExecuteTime": {
     "end_time": "2018-08-01T13:14:00.301799Z",
     "start_time": "2018-08-01T13:13:59.592896Z"
    },
    "hidden": true
   },
   "outputs": [],
   "source": [
    "# merge dfs with original faults\n",
    "faults_dfs_df = pd.merge(faults_df, dfs_qa, on=['device','datetime'], suffixes=('', '_y'))\n",
    "assert len(faults_dfs_df) == len(faults_df), 'Something went wrong in merge'"
   ]
  },
  {
   "cell_type": "code",
   "execution_count": 26,
   "metadata": {
    "ExecuteTime": {
     "end_time": "2018-08-01T13:14:01.805749Z",
     "start_time": "2018-08-01T13:14:01.583863Z"
    },
    "hidden": true
   },
   "outputs": [],
   "source": [
    "# some duplicate columns in join\n",
    "dropcols = faults_dfs_df.filter(regex='_y')\n",
    "faults_dfs_df.drop(dropcols, axis=1, inplace=True)"
   ]
  },
  {
   "cell_type": "code",
   "execution_count": 27,
   "metadata": {
    "ExecuteTime": {
     "end_time": "2018-08-01T13:14:22.359482Z",
     "start_time": "2018-08-01T13:14:03.294914Z"
    },
    "hidden": true
   },
   "outputs": [],
   "source": [
    "# 10 min runtime for above on laptop, save output just in case\n",
    "hdf_file = 'qa_dfs_feature_tensor.h5'\n",
    "table_name = 'feature_tensor'\n",
    "save_hdf5(faults_dfs_df, hdf_file, table_name, format='table')"
   ]
  },
  {
   "cell_type": "markdown",
   "metadata": {
    "heading_collapsed": true
   },
   "source": [
    "# Training Data"
   ]
  },
  {
   "cell_type": "code",
   "execution_count": 28,
   "metadata": {
    "ExecuteTime": {
     "end_time": "2018-08-01T13:14:59.648572Z",
     "start_time": "2018-08-01T13:14:58.618964Z"
    },
    "hidden": true
   },
   "outputs": [],
   "source": [
    "# reload data\n",
    "hdf_file = 'qa_dfs_feature_tensor.h5'\n",
    "table_name = 'feature_tensor'\n",
    "Xy = pd.read_hdf(hdf_file, table_name)\n",
    "feature_names = Xy.columns.tolist()"
   ]
  },
  {
   "cell_type": "code",
   "execution_count": 29,
   "metadata": {
    "ExecuteTime": {
     "end_time": "2018-08-01T13:15:03.532326Z",
     "start_time": "2018-08-01T13:15:00.850664Z"
    },
    "hidden": true
   },
   "outputs": [
    {
     "data": {
      "text/plain": [
       "[]"
      ]
     },
     "execution_count": 29,
     "metadata": {},
     "output_type": "execute_result"
    }
   ],
   "source": [
    "# some dfs are uniform\n",
    "nunique = Xy.apply(pd.Series.nunique)\n",
    "dropcols = nunique[nunique == 1].index.tolist()\n",
    "sorted(dropcols)"
   ]
  },
  {
   "cell_type": "code",
   "execution_count": 30,
   "metadata": {
    "ExecuteTime": {
     "end_time": "2018-08-01T13:15:04.267059Z",
     "start_time": "2018-08-01T13:15:04.251497Z"
    },
    "hidden": true
   },
   "outputs": [],
   "source": [
    "# remove uniform cols\n",
    "if len(dropcols) > 0:\n",
    "    Xy.drop(dropcols, axis=1, inplace=True)"
   ]
  },
  {
   "cell_type": "code",
   "execution_count": 31,
   "metadata": {
    "ExecuteTime": {
     "end_time": "2018-08-01T13:15:05.659364Z",
     "start_time": "2018-08-01T13:15:05.626792Z"
    },
    "hidden": true
   },
   "outputs": [
    {
     "data": {
      "text/html": [
       "<div>\n",
       "<style scoped>\n",
       "    .dataframe tbody tr th:only-of-type {\n",
       "        vertical-align: middle;\n",
       "    }\n",
       "\n",
       "    .dataframe tbody tr th {\n",
       "        vertical-align: top;\n",
       "    }\n",
       "\n",
       "    .dataframe thead th {\n",
       "        text-align: right;\n",
       "    }\n",
       "</style>\n",
       "<table border=\"1\" class=\"dataframe\">\n",
       "  <thead>\n",
       "    <tr style=\"text-align: right;\">\n",
       "      <th></th>\n",
       "      <th>order</th>\n",
       "      <th>date</th>\n",
       "      <th>device</th>\n",
       "      <th>a1</th>\n",
       "      <th>a2</th>\n",
       "      <th>a3</th>\n",
       "      <th>a4</th>\n",
       "      <th>a5</th>\n",
       "      <th>a6</th>\n",
       "      <th>a7</th>\n",
       "      <th>...</th>\n",
       "      <th>LAST(faults.a2_service_mag)</th>\n",
       "      <th>LAST(faults.a2_service_count)</th>\n",
       "      <th>LAST(faults.a5_service_mag)</th>\n",
       "      <th>LAST(faults.a5_service_count)</th>\n",
       "      <th>LAST(faults.a7_service_mag)</th>\n",
       "      <th>LAST(faults.a7_service_count)</th>\n",
       "      <th>LAST(faults.f_clear_mag)</th>\n",
       "      <th>LAST(faults.f_clear_count)</th>\n",
       "      <th>TIME_SINCE_LAST(faults.datetime)</th>\n",
       "      <th>AVG_TIME_BETWEEN(faults.datetime)</th>\n",
       "    </tr>\n",
       "  </thead>\n",
       "  <tbody>\n",
       "    <tr>\n",
       "      <th>0</th>\n",
       "      <td>0</td>\n",
       "      <td>15001</td>\n",
       "      <td>S1F01085</td>\n",
       "      <td>215630672</td>\n",
       "      <td>56</td>\n",
       "      <td>0</td>\n",
       "      <td>52</td>\n",
       "      <td>6</td>\n",
       "      <td>407438</td>\n",
       "      <td>0</td>\n",
       "      <td>...</td>\n",
       "      <td>0.0</td>\n",
       "      <td>0</td>\n",
       "      <td>0.0</td>\n",
       "      <td>0</td>\n",
       "      <td>0.0</td>\n",
       "      <td>0</td>\n",
       "      <td>0.0</td>\n",
       "      <td>0</td>\n",
       "      <td>0.0</td>\n",
       "      <td>NaN</td>\n",
       "    </tr>\n",
       "    <tr>\n",
       "      <th>1</th>\n",
       "      <td>1</td>\n",
       "      <td>15001</td>\n",
       "      <td>S1F0166B</td>\n",
       "      <td>61370680</td>\n",
       "      <td>0</td>\n",
       "      <td>3</td>\n",
       "      <td>0</td>\n",
       "      <td>6</td>\n",
       "      <td>403174</td>\n",
       "      <td>0</td>\n",
       "      <td>...</td>\n",
       "      <td>0.0</td>\n",
       "      <td>0</td>\n",
       "      <td>0.0</td>\n",
       "      <td>0</td>\n",
       "      <td>0.0</td>\n",
       "      <td>0</td>\n",
       "      <td>0.0</td>\n",
       "      <td>0</td>\n",
       "      <td>0.0</td>\n",
       "      <td>NaN</td>\n",
       "    </tr>\n",
       "    <tr>\n",
       "      <th>2</th>\n",
       "      <td>2</td>\n",
       "      <td>15001</td>\n",
       "      <td>S1F01E6Y</td>\n",
       "      <td>173295968</td>\n",
       "      <td>0</td>\n",
       "      <td>0</td>\n",
       "      <td>0</td>\n",
       "      <td>12</td>\n",
       "      <td>237394</td>\n",
       "      <td>0</td>\n",
       "      <td>...</td>\n",
       "      <td>0.0</td>\n",
       "      <td>0</td>\n",
       "      <td>0.0</td>\n",
       "      <td>0</td>\n",
       "      <td>0.0</td>\n",
       "      <td>0</td>\n",
       "      <td>0.0</td>\n",
       "      <td>0</td>\n",
       "      <td>0.0</td>\n",
       "      <td>NaN</td>\n",
       "    </tr>\n",
       "    <tr>\n",
       "      <th>3</th>\n",
       "      <td>3</td>\n",
       "      <td>15001</td>\n",
       "      <td>S1F01JE0</td>\n",
       "      <td>79694024</td>\n",
       "      <td>0</td>\n",
       "      <td>0</td>\n",
       "      <td>0</td>\n",
       "      <td>6</td>\n",
       "      <td>410186</td>\n",
       "      <td>0</td>\n",
       "      <td>...</td>\n",
       "      <td>0.0</td>\n",
       "      <td>0</td>\n",
       "      <td>0.0</td>\n",
       "      <td>0</td>\n",
       "      <td>0.0</td>\n",
       "      <td>0</td>\n",
       "      <td>0.0</td>\n",
       "      <td>0</td>\n",
       "      <td>0.0</td>\n",
       "      <td>NaN</td>\n",
       "    </tr>\n",
       "    <tr>\n",
       "      <th>4</th>\n",
       "      <td>4</td>\n",
       "      <td>15001</td>\n",
       "      <td>S1F01R2B</td>\n",
       "      <td>135970480</td>\n",
       "      <td>0</td>\n",
       "      <td>0</td>\n",
       "      <td>0</td>\n",
       "      <td>15</td>\n",
       "      <td>313173</td>\n",
       "      <td>0</td>\n",
       "      <td>...</td>\n",
       "      <td>0.0</td>\n",
       "      <td>0</td>\n",
       "      <td>0.0</td>\n",
       "      <td>0</td>\n",
       "      <td>0.0</td>\n",
       "      <td>0</td>\n",
       "      <td>0.0</td>\n",
       "      <td>0</td>\n",
       "      <td>0.0</td>\n",
       "      <td>NaN</td>\n",
       "    </tr>\n",
       "  </tbody>\n",
       "</table>\n",
       "<p>5 rows × 154 columns</p>\n",
       "</div>"
      ],
      "text/plain": [
       "   order   date    device         a1  a2  a3  a4  a5      a6  a7  \\\n",
       "0  0      15001  S1F01085  215630672  56  0   52  6   407438  0    \n",
       "1  1      15001  S1F0166B  61370680   0   3   0   6   403174  0    \n",
       "2  2      15001  S1F01E6Y  173295968  0   0   0   12  237394  0    \n",
       "3  3      15001  S1F01JE0  79694024   0   0   0   6   410186  0    \n",
       "4  4      15001  S1F01R2B  135970480  0   0   0   15  313173  0    \n",
       "\n",
       "                 ...                  LAST(faults.a2_service_mag)  \\\n",
       "0                ...                  0.0                           \n",
       "1                ...                  0.0                           \n",
       "2                ...                  0.0                           \n",
       "3                ...                  0.0                           \n",
       "4                ...                  0.0                           \n",
       "\n",
       "   LAST(faults.a2_service_count) LAST(faults.a5_service_mag)  \\\n",
       "0  0                              0.0                          \n",
       "1  0                              0.0                          \n",
       "2  0                              0.0                          \n",
       "3  0                              0.0                          \n",
       "4  0                              0.0                          \n",
       "\n",
       "  LAST(faults.a5_service_count) LAST(faults.a7_service_mag)  \\\n",
       "0  0                             0.0                          \n",
       "1  0                             0.0                          \n",
       "2  0                             0.0                          \n",
       "3  0                             0.0                          \n",
       "4  0                             0.0                          \n",
       "\n",
       "  LAST(faults.a7_service_count) LAST(faults.f_clear_mag)  \\\n",
       "0  0                             0.0                       \n",
       "1  0                             0.0                       \n",
       "2  0                             0.0                       \n",
       "3  0                             0.0                       \n",
       "4  0                             0.0                       \n",
       "\n",
       "   LAST(faults.f_clear_count)  TIME_SINCE_LAST(faults.datetime)  \\\n",
       "0  0                           0.0                                \n",
       "1  0                           0.0                                \n",
       "2  0                           0.0                                \n",
       "3  0                           0.0                                \n",
       "4  0                           0.0                                \n",
       "\n",
       "   AVG_TIME_BETWEEN(faults.datetime)  \n",
       "0 NaN                                 \n",
       "1 NaN                                 \n",
       "2 NaN                                 \n",
       "3 NaN                                 \n",
       "4 NaN                                 \n",
       "\n",
       "[5 rows x 154 columns]"
      ]
     },
     "execution_count": 31,
     "metadata": {},
     "output_type": "execute_result"
    }
   ],
   "source": [
    "Xy.head()"
   ]
  },
  {
   "cell_type": "code",
   "execution_count": 32,
   "metadata": {
    "ExecuteTime": {
     "end_time": "2018-08-01T13:15:13.336614Z",
     "start_time": "2018-08-01T13:15:13.316852Z"
    },
    "hidden": true,
    "scrolled": true
   },
   "outputs": [
    {
     "data": {
      "text/plain": [
       "['order',\n",
       " 'date',\n",
       " 'device',\n",
       " 'a1',\n",
       " 'a2',\n",
       " 'a3',\n",
       " 'a4',\n",
       " 'a5',\n",
       " 'a6',\n",
       " 'a7',\n",
       " 'a9',\n",
       " 'failure',\n",
       " 'uuid',\n",
       " 'datetime',\n",
       " 'device_class1',\n",
       " 'device_class2',\n",
       " 'device_class3',\n",
       " 'a1_cumsum',\n",
       " 'a2_service_mag',\n",
       " 'a2_service_count',\n",
       " 'a5_service_mag',\n",
       " 'a5_service_count',\n",
       " 'a7_service_mag',\n",
       " 'a7_service_count',\n",
       " 'f_clear_mag',\n",
       " 'f_clear_count',\n",
       " 'MEAN(faults.a1)',\n",
       " 'MEAN(faults.a2)',\n",
       " 'MEAN(faults.a3)',\n",
       " 'MEAN(faults.a4)',\n",
       " 'MEAN(faults.a5)',\n",
       " 'MEAN(faults.a6)',\n",
       " 'MEAN(faults.a7)',\n",
       " 'MEAN(faults.a9)',\n",
       " 'MEAN(faults.a1_cumsum)',\n",
       " 'MEAN(faults.a2_service_mag)',\n",
       " 'MEAN(faults.a2_service_count)',\n",
       " 'MEAN(faults.a5_service_mag)',\n",
       " 'MEAN(faults.a5_service_count)',\n",
       " 'MEAN(faults.a7_service_mag)',\n",
       " 'MEAN(faults.a7_service_count)',\n",
       " 'MEAN(faults.f_clear_mag)',\n",
       " 'MEAN(faults.f_clear_count)',\n",
       " 'MEDIAN(faults.a1)',\n",
       " 'MEDIAN(faults.a2)',\n",
       " 'MEDIAN(faults.a3)',\n",
       " 'MEDIAN(faults.a4)',\n",
       " 'MEDIAN(faults.a5)',\n",
       " 'MEDIAN(faults.a6)',\n",
       " 'MEDIAN(faults.a7)',\n",
       " 'MEDIAN(faults.a9)',\n",
       " 'MEDIAN(faults.a1_cumsum)',\n",
       " 'MEDIAN(faults.a2_service_mag)',\n",
       " 'MEDIAN(faults.a2_service_count)',\n",
       " 'MEDIAN(faults.a5_service_mag)',\n",
       " 'MEDIAN(faults.a5_service_count)',\n",
       " 'MEDIAN(faults.a7_service_mag)',\n",
       " 'MEDIAN(faults.a7_service_count)',\n",
       " 'MAX(faults.a1)',\n",
       " 'MAX(faults.a2)',\n",
       " 'MAX(faults.a3)',\n",
       " 'MAX(faults.a4)',\n",
       " 'MAX(faults.a5)',\n",
       " 'MAX(faults.a6)',\n",
       " 'MAX(faults.a7)',\n",
       " 'MAX(faults.a9)',\n",
       " 'MAX(faults.a1_cumsum)',\n",
       " 'MAX(faults.a2_service_count)',\n",
       " 'MAX(faults.a5_service_count)',\n",
       " 'MAX(faults.a7_service_count)',\n",
       " 'MAX(faults.f_clear_count)',\n",
       " 'MIN(faults.a1)',\n",
       " 'MIN(faults.a2)',\n",
       " 'MIN(faults.a3)',\n",
       " 'MIN(faults.a4)',\n",
       " 'MIN(faults.a5)',\n",
       " 'MIN(faults.a6)',\n",
       " 'MIN(faults.a7)',\n",
       " 'MIN(faults.a9)',\n",
       " 'MIN(faults.a1_cumsum)',\n",
       " 'MIN(faults.a2_service_mag)',\n",
       " 'MIN(faults.a5_service_mag)',\n",
       " 'MIN(faults.a7_service_mag)',\n",
       " 'MIN(faults.f_clear_mag)',\n",
       " 'STD(faults.a1)',\n",
       " 'STD(faults.a2)',\n",
       " 'STD(faults.a3)',\n",
       " 'STD(faults.a4)',\n",
       " 'STD(faults.a5)',\n",
       " 'STD(faults.a6)',\n",
       " 'STD(faults.a7)',\n",
       " 'STD(faults.a9)',\n",
       " 'STD(faults.a1_cumsum)',\n",
       " 'STD(faults.a2_service_mag)',\n",
       " 'STD(faults.a2_service_count)',\n",
       " 'STD(faults.a5_service_mag)',\n",
       " 'STD(faults.a5_service_count)',\n",
       " 'STD(faults.a7_service_mag)',\n",
       " 'STD(faults.a7_service_count)',\n",
       " 'STD(faults.f_clear_mag)',\n",
       " 'STD(faults.f_clear_count)',\n",
       " 'SKEW(faults.a1)',\n",
       " 'SKEW(faults.a2)',\n",
       " 'SKEW(faults.a3)',\n",
       " 'SKEW(faults.a4)',\n",
       " 'SKEW(faults.a5)',\n",
       " 'SKEW(faults.a6)',\n",
       " 'SKEW(faults.a7)',\n",
       " 'SKEW(faults.a9)',\n",
       " 'SKEW(faults.a1_cumsum)',\n",
       " 'SKEW(faults.a2_service_mag)',\n",
       " 'SKEW(faults.a2_service_count)',\n",
       " 'SKEW(faults.a5_service_mag)',\n",
       " 'SKEW(faults.a5_service_count)',\n",
       " 'SKEW(faults.a7_service_mag)',\n",
       " 'SKEW(faults.a7_service_count)',\n",
       " 'SKEW(faults.f_clear_mag)',\n",
       " 'SKEW(faults.f_clear_count)',\n",
       " 'TREND(faults.a7_service_mag, datetime)',\n",
       " 'TREND(faults.f_clear_count, datetime)',\n",
       " 'TREND(faults.a4, datetime)',\n",
       " 'TREND(faults.a2_service_mag, datetime)',\n",
       " 'TREND(faults.a7, datetime)',\n",
       " 'TREND(faults.a2_service_count, datetime)',\n",
       " 'TREND(faults.a1, datetime)',\n",
       " 'TREND(faults.a6, datetime)',\n",
       " 'TREND(faults.a3, datetime)',\n",
       " 'TREND(faults.a1_cumsum, datetime)',\n",
       " 'TREND(faults.a2, datetime)',\n",
       " 'TREND(faults.a9, datetime)',\n",
       " 'TREND(faults.a5_service_count, datetime)',\n",
       " 'TREND(faults.f_clear_mag, datetime)',\n",
       " 'TREND(faults.a5_service_mag, datetime)',\n",
       " 'TREND(faults.a7_service_count, datetime)',\n",
       " 'TREND(faults.a5, datetime)',\n",
       " 'LAST(faults.a1)',\n",
       " 'LAST(faults.a2)',\n",
       " 'LAST(faults.a3)',\n",
       " 'LAST(faults.a4)',\n",
       " 'LAST(faults.a5)',\n",
       " 'LAST(faults.a6)',\n",
       " 'LAST(faults.a7)',\n",
       " 'LAST(faults.a9)',\n",
       " 'LAST(faults.a1_cumsum)',\n",
       " 'LAST(faults.a2_service_mag)',\n",
       " 'LAST(faults.a2_service_count)',\n",
       " 'LAST(faults.a5_service_mag)',\n",
       " 'LAST(faults.a5_service_count)',\n",
       " 'LAST(faults.a7_service_mag)',\n",
       " 'LAST(faults.a7_service_count)',\n",
       " 'LAST(faults.f_clear_mag)',\n",
       " 'LAST(faults.f_clear_count)',\n",
       " 'TIME_SINCE_LAST(faults.datetime)',\n",
       " 'AVG_TIME_BETWEEN(faults.datetime)']"
      ]
     },
     "execution_count": 32,
     "metadata": {},
     "output_type": "execute_result"
    }
   ],
   "source": [
    "feature_names"
   ]
  },
  {
   "cell_type": "code",
   "execution_count": 33,
   "metadata": {
    "ExecuteTime": {
     "end_time": "2018-08-01T13:15:26.351144Z",
     "start_time": "2018-08-01T13:15:26.332906Z"
    },
    "hidden": true
   },
   "outputs": [],
   "source": [
    "# columns to encode\n",
    "encode_cols = [\n",
    "    'device_class1',\n",
    "    'device_class2',\n",
    "    'device_class3'\n",
    "]"
   ]
  },
  {
   "cell_type": "code",
   "execution_count": 34,
   "metadata": {
    "ExecuteTime": {
     "end_time": "2018-08-01T13:15:28.769830Z",
     "start_time": "2018-08-01T13:15:27.605154Z"
    },
    "hidden": true
   },
   "outputs": [],
   "source": [
    "# one-hot encode the categoricals\n",
    "Xy = pd.concat([Xy, pd.get_dummies(Xy[encode_cols])], axis=1)\n",
    "Xy.drop(encode_cols, axis=1, inplace=True)"
   ]
  },
  {
   "cell_type": "code",
   "execution_count": 35,
   "metadata": {
    "ExecuteTime": {
     "end_time": "2018-08-01T13:15:29.664466Z",
     "start_time": "2018-08-01T13:15:29.492894Z"
    },
    "hidden": true,
    "scrolled": true
   },
   "outputs": [],
   "source": [
    "# junk features\n",
    "dropcols = Xy.filter(regex='MODE\\(faults.device_class')\n",
    "Xy.drop(dropcols, axis=1, inplace=True)"
   ]
  },
  {
   "cell_type": "code",
   "execution_count": 36,
   "metadata": {
    "ExecuteTime": {
     "end_time": "2018-08-01T13:15:33.340007Z",
     "start_time": "2018-08-01T13:15:32.444776Z"
    },
    "hidden": true
   },
   "outputs": [],
   "source": [
    "# save intermediate output\n",
    "hdf_file = 'model_dfs_feature_tensor.h5'\n",
    "table_name = 'feature_tensor'\n",
    "save_hdf5(Xy, hdf_file, table_name)"
   ]
  },
  {
   "cell_type": "markdown",
   "metadata": {},
   "source": [
    "# Modeling"
   ]
  },
  {
   "cell_type": "markdown",
   "metadata": {},
   "source": [
    "This is a gnarly imbalanced class problem. Traditional options:\n",
    "* Under-sample majority class: viable option since time-dependent values are encoded at every time step.\n",
    "* Stratified resampling: viable option via xgboost.\n",
    "* Over-sample minority class: this is time series data, so arbitrarily throwing out samples potentially removes valuable information about aggregations or leading indicators to failure.\n",
    "* Synthesis: No. I intensely dislike manufacturing data unless there are strong underlying laws/principles, e.g. in physics, which constrain the fake data.\n",
    "\n",
    "[imblearn][imb] is a good library to automate many of the methods needed and simplify the modeling exercise. Rather than go the route of \"black box,\" I prefer to focus on the data at-hand and drive the problem toward features and not toward models.\n",
    "\n",
    "[imb]:http://contrib.scikit-learn.org/imbalanced-learn/stable/index.html"
   ]
  },
  {
   "cell_type": "markdown",
   "metadata": {
    "heading_collapsed": true
   },
   "source": [
    "## Data Prep"
   ]
  },
  {
   "cell_type": "code",
   "execution_count": 37,
   "metadata": {
    "ExecuteTime": {
     "end_time": "2018-08-01T13:15:42.007661Z",
     "start_time": "2018-08-01T13:15:41.653536Z"
    },
    "hidden": true
   },
   "outputs": [],
   "source": [
    "# reload data from prior run as a quick start\n",
    "faults_df = pd.read_pickle('faults_df.pkl')\n",
    "hdf_file = 'model_dfs_feature_tensor.h5'\n",
    "table_name = 'feature_tensor'\n",
    "Xy = pd.read_hdf(hdf_file, table_name)"
   ]
  },
  {
   "cell_type": "code",
   "execution_count": 38,
   "metadata": {
    "ExecuteTime": {
     "end_time": "2018-08-01T13:15:44.820587Z",
     "start_time": "2018-08-01T13:15:43.792013Z"
    },
    "hidden": true
   },
   "outputs": [],
   "source": [
    "# ID cols to use in modeling\n",
    "ignore = ['date', 'device', 'datetime']\n",
    "ignore.extend(Xy.filter(regex='failure').columns)  # anything with failure info\n",
    "predicting = 'failure'\n",
    "predictors = [c for c in Xy.columns if (c != predicting and c not in ignore)]\n",
    "\n",
    "# isolate y from X\n",
    "y = Xy[predicting]\n",
    "X = Xy[predictors]\n",
    "\n",
    "# split data into train and test sets\n",
    "X_train, X_test, y_train, y_test = model_selection.train_test_split(X, y, test_size=0.33, random_state=7)\n",
    "\n",
    "# remove uuid and track as index\n",
    "idx_train = X_train.uuid.values\n",
    "idx_test = X_test.uuid.values\n",
    "X_train.drop('uuid', axis=1, inplace=True)\n",
    "X_test.drop('uuid', axis=1, inplace=True)\n",
    "feature_names = X_train.columns.values\n",
    "assert set(feature_names) == set(X_test.columns.values), 'Train/Test feature name mismatch'"
   ]
  },
  {
   "cell_type": "markdown",
   "metadata": {
    "heading_collapsed": true
   },
   "source": [
    "## xgboost"
   ]
  },
  {
   "cell_type": "code",
   "execution_count": 39,
   "metadata": {
    "ExecuteTime": {
     "end_time": "2018-08-01T13:15:51.571420Z",
     "start_time": "2018-08-01T13:15:48.627667Z"
    },
    "hidden": true
   },
   "outputs": [],
   "source": [
    "# make the train test vers for xgb\n",
    "dtrain = xgb.DMatrix(X_train, y_train, feature_names=feature_names, nthread=-1)\n",
    "dtest = xgb.DMatrix(X_test, y_test, feature_names=feature_names, nthread=-1)"
   ]
  },
  {
   "cell_type": "markdown",
   "metadata": {
    "heading_collapsed": true,
    "hidden": true
   },
   "source": [
    "### Naive Model"
   ]
  },
  {
   "cell_type": "code",
   "execution_count": 41,
   "metadata": {
    "ExecuteTime": {
     "end_time": "2018-08-01T13:16:18.165774Z",
     "start_time": "2018-08-01T13:16:14.140053Z"
    },
    "hidden": true
   },
   "outputs": [],
   "source": [
    "# define a naive model\n",
    "xgb_params = {\n",
    "    'eta': 0.05,\n",
    "    'max_depth': 8,\n",
    "    'max_bin': 1024,\n",
    "    'max_leaves': 255,\n",
    "    'subsample': 0.7,\n",
    "    'colsample_bytree': 0.7,\n",
    "    'num_boost_round': 500,\n",
    "    'objective': 'binary:logistic',\n",
    "    'silent': 1,\n",
    "    'seed': 0,\n",
    "    'grow_policy': 'depthwise',\n",
    "    'n_gpus': 1\n",
    "}\n",
    "model = xgb.train(xgb_params, dtrain)"
   ]
  },
  {
   "cell_type": "code",
   "execution_count": 42,
   "metadata": {
    "ExecuteTime": {
     "end_time": "2018-08-01T13:16:25.486719Z",
     "start_time": "2018-08-01T13:16:24.897942Z"
    },
    "hidden": true,
    "scrolled": false
   },
   "outputs": [
    {
     "data": {
      "image/png": "[encoded data removed]",
      "text/plain": [
       "<Figure size 720x1296 with 1 Axes>"
      ]
     },
     "metadata": {},
     "output_type": "display_data"
    }
   ],
   "source": [
    "# plot the important features #\n",
    "fig, ax = plt.subplots(figsize=(10, 18))\n",
    "xgb.plot_importance(model, height=0.6, ax=ax, max_num_features=10)\n",
    "fig.savefig('feature_importance.png', bbox_inches='tight', pad_inches=1)\n",
    "plt.show()"
   ]
  },
  {
   "cell_type": "markdown",
   "metadata": {
    "ExecuteTime": {
     "end_time": "2018-08-01T13:16:30.961174Z",
     "start_time": "2018-08-01T13:16:30.943498Z"
    },
    "hidden": true
   },
   "source": [
    "<a id=\"#naivemodel\"></a>\n",
    "Is a7 really that important?"
   ]
  },
  {
   "cell_type": "code",
   "execution_count": 44,
   "metadata": {
    "ExecuteTime": {
     "end_time": "2018-08-01T13:17:01.758428Z",
     "start_time": "2018-08-01T13:17:01.729946Z"
    },
    "hidden": true
   },
   "outputs": [],
   "source": [
    "# prediction on test set\n",
    "y_pred = model.predict(dtest)"
   ]
  },
  {
   "cell_type": "code",
   "execution_count": 49,
   "metadata": {
    "ExecuteTime": {
     "end_time": "2018-08-01T13:20:01.797362Z",
     "start_time": "2018-08-01T13:20:01.576916Z"
    },
    "hidden": true
   },
   "outputs": [
    {
     "data": {
      "text/html": [
       "<div>\n",
       "<style scoped>\n",
       "    .dataframe tbody tr th:only-of-type {\n",
       "        vertical-align: middle;\n",
       "    }\n",
       "\n",
       "    .dataframe tbody tr th {\n",
       "        vertical-align: top;\n",
       "    }\n",
       "\n",
       "    .dataframe thead th {\n",
       "        text-align: right;\n",
       "    }\n",
       "</style>\n",
       "<table border=\"1\" class=\"dataframe\">\n",
       "  <thead>\n",
       "    <tr style=\"text-align: right;\">\n",
       "      <th></th>\n",
       "      <th></th>\n",
       "      <th>value</th>\n",
       "    </tr>\n",
       "    <tr>\n",
       "      <th>measurement</th>\n",
       "      <th>failure</th>\n",
       "      <th></th>\n",
       "    </tr>\n",
       "  </thead>\n",
       "  <tbody>\n",
       "    <tr>\n",
       "      <th rowspan=\"2\" valign=\"top\">a1</th>\n",
       "      <th>0.0</th>\n",
       "      <td>0.288607</td>\n",
       "    </tr>\n",
       "    <tr>\n",
       "      <th>1.0</th>\n",
       "      <td>0.284269</td>\n",
       "    </tr>\n",
       "    <tr>\n",
       "      <th rowspan=\"2\" valign=\"top\">a2</th>\n",
       "      <th>0.0</th>\n",
       "      <td>0.033024</td>\n",
       "    </tr>\n",
       "    <tr>\n",
       "      <th>1.0</th>\n",
       "      <td>0.197078</td>\n",
       "    </tr>\n",
       "    <tr>\n",
       "      <th rowspan=\"2\" valign=\"top\">a3</th>\n",
       "      <th>0.0</th>\n",
       "      <td>0.007454</td>\n",
       "    </tr>\n",
       "    <tr>\n",
       "      <th>1.0</th>\n",
       "      <td>0.001266</td>\n",
       "    </tr>\n",
       "    <tr>\n",
       "      <th rowspan=\"2\" valign=\"top\">a4</th>\n",
       "      <th>0.0</th>\n",
       "      <td>0.013304</td>\n",
       "    </tr>\n",
       "    <tr>\n",
       "      <th>1.0</th>\n",
       "      <td>0.116142</td>\n",
       "    </tr>\n",
       "    <tr>\n",
       "      <th rowspan=\"2\" valign=\"top\">a5</th>\n",
       "      <th>0.0</th>\n",
       "      <td>0.164365</td>\n",
       "    </tr>\n",
       "    <tr>\n",
       "      <th>1.0</th>\n",
       "      <td>0.160281</td>\n",
       "    </tr>\n",
       "    <tr>\n",
       "      <th rowspan=\"2\" valign=\"top\">a6</th>\n",
       "      <th>0.0</th>\n",
       "      <td>0.143869</td>\n",
       "    </tr>\n",
       "    <tr>\n",
       "      <th>1.0</th>\n",
       "      <td>0.149966</td>\n",
       "    </tr>\n",
       "    <tr>\n",
       "      <th rowspan=\"2\" valign=\"top\">a7</th>\n",
       "      <th>0.0</th>\n",
       "      <td>0.007882</td>\n",
       "    </tr>\n",
       "    <tr>\n",
       "      <th>1.0</th>\n",
       "      <td>0.140665</td>\n",
       "    </tr>\n",
       "    <tr>\n",
       "      <th rowspan=\"2\" valign=\"top\">a9</th>\n",
       "      <th>0.0</th>\n",
       "      <td>0.010238</td>\n",
       "    </tr>\n",
       "    <tr>\n",
       "      <th>1.0</th>\n",
       "      <td>0.008205</td>\n",
       "    </tr>\n",
       "  </tbody>\n",
       "</table>\n",
       "</div>"
      ],
      "text/plain": [
       "                        value\n",
       "measurement failure          \n",
       "a1          0.0      0.288607\n",
       "            1.0      0.284269\n",
       "a2          0.0      0.033024\n",
       "            1.0      0.197078\n",
       "a3          0.0      0.007454\n",
       "            1.0      0.001266\n",
       "a4          0.0      0.013304\n",
       "            1.0      0.116142\n",
       "a5          0.0      0.164365\n",
       "            1.0      0.160281\n",
       "a6          0.0      0.143869\n",
       "            1.0      0.149966\n",
       "a7          0.0      0.007882\n",
       "            1.0      0.140665\n",
       "a9          0.0      0.010238\n",
       "            1.0      0.008205"
      ]
     },
     "execution_count": 49,
     "metadata": {},
     "output_type": "execute_result"
    }
   ],
   "source": [
    "# let's see if this makes sense\n",
    "temp = faults_df.filter(regex='^a.$|failure')\n",
    "scaler = preprocessing.MinMaxScaler()\n",
    "scaled_values = scaler.fit_transform(temp)\n",
    "temp.loc[:,:] = scaled_values\n",
    "temp_melt = pd.melt(temp, \"failure\", var_name=\"measurement\")\n",
    "temp_melt.groupby(['measurement', 'failure']).std()"
   ]
  },
  {
   "cell_type": "markdown",
   "metadata": {
    "hidden": true
   },
   "source": [
    "Standard deviation for a7 is unusually larger when there's a failure."
   ]
  },
  {
   "cell_type": "markdown",
   "metadata": {
    "heading_collapsed": true,
    "hidden": true
   },
   "source": [
    "### Tuned Model"
   ]
  },
  {
   "cell_type": "code",
   "execution_count": 57,
   "metadata": {
    "ExecuteTime": {
     "end_time": "2018-08-01T14:15:33.801117Z",
     "start_time": "2018-08-01T13:53:44.752019Z"
    },
    "hidden": true,
    "scrolled": true
   },
   "outputs": [
    {
     "name": "stdout",
     "output_type": "stream",
     "text": [
      "Working on k-fold 0...\n",
      "Splitting data\n",
      "Converting data to xgb format\n",
      "Modeling\n",
      "[0]\ttrain-auc:0.963634\tcv-auc:0.706736\n",
      "Multiple eval metrics have been passed: 'cv-auc' will be used for early stopping.\n",
      "\n",
      "Will train until cv-auc hasn't improved in 300 rounds.\n",
      "[200]\ttrain-auc:0.999639\tcv-auc:0.741863\n",
      "[400]\ttrain-auc:0.999787\tcv-auc:0.826566\n",
      "[600]\ttrain-auc:0.999855\tcv-auc:0.806941\n",
      "Stopping. Best iteration:\n",
      "[397]\ttrain-auc:0.999784\tcv-auc:0.828143\n",
      "\n",
      "Done.\n",
      "Working on k-fold 1...\n",
      "Splitting data\n",
      "Converting data to xgb format\n",
      "Modeling\n",
      "[0]\ttrain-auc:0.953478\tcv-auc:0.745394\n",
      "Multiple eval metrics have been passed: 'cv-auc' will be used for early stopping.\n",
      "\n",
      "Will train until cv-auc hasn't improved in 300 rounds.\n",
      "[200]\ttrain-auc:0.999738\tcv-auc:0.868661\n",
      "Stopping. Best iteration:\n",
      "[2]\ttrain-auc:0.997548\tcv-auc:0.91282\n",
      "\n",
      "Done.\n",
      "Working on k-fold 2...\n",
      "Splitting data\n",
      "Converting data to xgb format\n",
      "Modeling\n",
      "[0]\ttrain-auc:0.97916\tcv-auc:0.823065\n",
      "Multiple eval metrics have been passed: 'cv-auc' will be used for early stopping.\n",
      "\n",
      "Will train until cv-auc hasn't improved in 300 rounds.\n",
      "[200]\ttrain-auc:0.999694\tcv-auc:0.911798\n",
      "Stopping. Best iteration:\n",
      "[11]\ttrain-auc:0.998525\tcv-auc:0.928014\n",
      "\n",
      "Done.\n",
      "Working on k-fold 3...\n",
      "Splitting data\n",
      "Converting data to xgb format\n",
      "Modeling\n",
      "[0]\ttrain-auc:0.977234\tcv-auc:0.824285\n",
      "Multiple eval metrics have been passed: 'cv-auc' will be used for early stopping.\n",
      "\n",
      "Will train until cv-auc hasn't improved in 300 rounds.\n",
      "[200]\ttrain-auc:0.99972\tcv-auc:0.906019\n",
      "Stopping. Best iteration:\n",
      "[24]\ttrain-auc:0.998653\tcv-auc:0.941212\n",
      "\n",
      "Done.\n",
      "Working on k-fold 4...\n",
      "Splitting data\n",
      "Converting data to xgb format\n",
      "Modeling\n",
      "[0]\ttrain-auc:0.980849\tcv-auc:0.727045\n",
      "Multiple eval metrics have been passed: 'cv-auc' will be used for early stopping.\n",
      "\n",
      "Will train until cv-auc hasn't improved in 300 rounds.\n",
      "[200]\ttrain-auc:0.99967\tcv-auc:0.804739\n",
      "Stopping. Best iteration:\n",
      "[34]\ttrain-auc:0.999126\tcv-auc:0.829714\n",
      "\n",
      "Done.\n",
      "Working on k-fold 5...\n",
      "Splitting data\n",
      "Converting data to xgb format\n",
      "Modeling\n",
      "[0]\ttrain-auc:0.981123\tcv-auc:0.75205\n",
      "Multiple eval metrics have been passed: 'cv-auc' will be used for early stopping.\n",
      "\n",
      "Will train until cv-auc hasn't improved in 300 rounds.\n",
      "[200]\ttrain-auc:0.999715\tcv-auc:0.883113\n",
      "[400]\ttrain-auc:0.999847\tcv-auc:0.883043\n",
      "[600]\ttrain-auc:0.999881\tcv-auc:0.842791\n",
      "Stopping. Best iteration:\n",
      "[320]\ttrain-auc:0.999813\tcv-auc:0.895561\n",
      "\n",
      "Done.\n",
      "Working on k-fold 6...\n",
      "Splitting data\n",
      "Converting data to xgb format\n",
      "Modeling\n",
      "[0]\ttrain-auc:0.940108\tcv-auc:0.50177\n",
      "Multiple eval metrics have been passed: 'cv-auc' will be used for early stopping.\n",
      "\n",
      "Will train until cv-auc hasn't improved in 300 rounds.\n",
      "[200]\ttrain-auc:0.999698\tcv-auc:0.896641\n",
      "[400]\ttrain-auc:0.999815\tcv-auc:0.857968\n",
      "Stopping. Best iteration:\n",
      "[174]\ttrain-auc:0.999659\tcv-auc:0.905459\n",
      "\n",
      "Done.\n",
      "Working on k-fold 7...\n",
      "Splitting data\n",
      "Converting data to xgb format\n",
      "Modeling\n",
      "[0]\ttrain-auc:0.9695\tcv-auc:0.560608\n",
      "Multiple eval metrics have been passed: 'cv-auc' will be used for early stopping.\n",
      "\n",
      "Will train until cv-auc hasn't improved in 300 rounds.\n",
      "[200]\ttrain-auc:0.999639\tcv-auc:0.69752\n",
      "[400]\ttrain-auc:0.999796\tcv-auc:0.724175\n",
      "[600]\ttrain-auc:0.999866\tcv-auc:0.702979\n",
      "Stopping. Best iteration:\n",
      "[458]\ttrain-auc:0.999826\tcv-auc:0.728214\n",
      "\n",
      "Done.\n",
      "Working on k-fold 8...\n",
      "Splitting data\n",
      "Converting data to xgb format\n",
      "Modeling\n",
      "[0]\ttrain-auc:0.979459\tcv-auc:0.855902\n",
      "Multiple eval metrics have been passed: 'cv-auc' will be used for early stopping.\n",
      "\n",
      "Will train until cv-auc hasn't improved in 300 rounds.\n",
      "[200]\ttrain-auc:0.999729\tcv-auc:0.955424\n",
      "Stopping. Best iteration:\n",
      "[4]\ttrain-auc:0.997729\tcv-auc:0.985791\n",
      "\n",
      "Done.\n",
      "Working on k-fold 9...\n",
      "Splitting data\n",
      "Converting data to xgb format\n",
      "Modeling\n",
      "[0]\ttrain-auc:0.969392\tcv-auc:0.938865\n",
      "Multiple eval metrics have been passed: 'cv-auc' will be used for early stopping.\n",
      "\n",
      "Will train until cv-auc hasn't improved in 300 rounds.\n",
      "[200]\ttrain-auc:0.999689\tcv-auc:0.86903\n",
      "Stopping. Best iteration:\n",
      "[0]\ttrain-auc:0.969392\tcv-auc:0.938865\n",
      "\n",
      "Done.\n"
     ]
    }
   ],
   "source": [
    "# control for class imbalance\n",
    "ratio = float(np.sum(y == 0)) / np.sum(y == 1)\n",
    "\n",
    "# model params\n",
    "params = {\n",
    "    'max_depth': 9,\n",
    "    'min_child_weight': 100,\n",
    "    'subsample': 0.9,  # random sample %\n",
    "    'colsample_bytree': 0.4,  # random col %\n",
    "    'eta': 0.01,  # learning rate\n",
    "    'reg_alpha': 0.5,  # L1 reg\n",
    "    'lambda': 0.95,  # L2 reg\n",
    "    'gamma': 0.1,  # loss split\n",
    "    'seed': 6,\n",
    "    'n_estimators': 1000,\n",
    "    'scale_pos_weight': ratio,  # VERY IMPORTANT FOR THIS PARTICULAR PROBLEM\n",
    "    'objective': 'binary:logistic',\n",
    "    'eval_metric': 'auc',\n",
    "    'grow_policy': 'depthwise'\n",
    "}\n",
    "\n",
    "# train the model\n",
    "model = train_xgb_model(X_train, y_train, params, kfolds=10)"
   ]
  },
  {
   "cell_type": "code",
   "execution_count": 59,
   "metadata": {
    "ExecuteTime": {
     "end_time": "2018-08-01T14:16:06.201964Z",
     "start_time": "2018-08-01T14:16:05.546140Z"
    },
    "hidden": true
   },
   "outputs": [
    {
     "data": {
      "image/png": "[encoded data removed]",
      "text/plain": [
       "<Figure size 720x1296 with 1 Axes>"
      ]
     },
     "metadata": {},
     "output_type": "display_data"
    }
   ],
   "source": [
    "# feature importance plot\n",
    "fig, ax = plt.subplots(figsize=(10, 18))\n",
    "xgb.plot_importance(model, height=0.6, ax=ax, max_num_features=10)\n",
    "fig.savefig('feature_importance.png', bbox_inches='tight', pad_inches=1)"
   ]
  },
  {
   "cell_type": "code",
   "execution_count": 60,
   "metadata": {
    "ExecuteTime": {
     "end_time": "2018-08-01T14:16:32.485161Z",
     "start_time": "2018-08-01T14:16:32.453216Z"
    },
    "hidden": true
   },
   "outputs": [],
   "source": [
    "# predict\n",
    "y_pred = model.predict(dtest, ntree_limit=model.best_ntree_limit)"
   ]
  },
  {
   "cell_type": "code",
   "execution_count": null,
   "metadata": {
    "ExecuteTime": {
     "end_time": "2018-08-01T14:18:26.075055Z",
     "start_time": "2018-08-01T14:18:10.267872Z"
    },
    "hidden": true,
    "scrolled": true
   },
   "outputs": [],
   "source": [
    "# binary predictions\n",
    "target_names = ['no fail', 'fail']\n",
    "for prob_thresh in np.arange(0.48, 0.5, 0.01):\n",
    "    y_pred_binary = [1 if x > prob_thresh else 0 for x in y_pred ]\n",
    "    print(prob_thresh)\n",
    "    print(metrics.classification_report(y_test, y_pred_binary, target_names=target_names))"
   ]
  },
  {
   "cell_type": "code",
   "execution_count": 114,
   "metadata": {
    "ExecuteTime": {
     "end_time": "2018-08-01T14:23:05.823970Z",
     "start_time": "2018-08-01T14:23:05.757406Z"
    },
    "hidden": true
   },
   "outputs": [],
   "source": [
    "# arbitrarily select threshold\n",
    "y_pred_binary = [1 if x >= 0.4836 else 0 for x in y_pred ]"
   ]
  },
  {
   "cell_type": "code",
   "execution_count": 115,
   "metadata": {
    "ExecuteTime": {
     "end_time": "2018-08-01T14:23:06.381679Z",
     "start_time": "2018-08-01T14:23:06.257171Z"
    },
    "hidden": true
   },
   "outputs": [
    {
     "data": {
      "text/plain": [
       "Text(0.5,1,'Binary Precision-Recall: Avg Precision=0.04')"
      ]
     },
     "execution_count": 115,
     "metadata": {},
     "output_type": "execute_result"
    },
    {
     "data": {
      "image/png": "[encoded data removed]",
      "text/plain": [
       "<Figure size 432x288 with 1 Axes>"
      ]
     },
     "metadata": {},
     "output_type": "display_data"
    }
   ],
   "source": [
    "# visualize prec-recall\n",
    "average_precision = metrics.average_precision_score(y_test, y_pred)\n",
    "precision, recall, _ = metrics.precision_recall_curve(y_test, y_pred)\n",
    "plt.step(recall, precision, color='b', alpha=0.2, where='post')\n",
    "plt.fill_between(recall, precision, step='post', alpha=0.2, color='b')\n",
    "plt.xlabel('Recall')\n",
    "plt.ylabel('Precision')\n",
    "plt.title('Binary Precision-Recall: Avg Precision={0:0.2f}'.format(average_precision))"
   ]
  },
  {
   "cell_type": "code",
   "execution_count": 116,
   "metadata": {
    "ExecuteTime": {
     "end_time": "2018-08-01T14:23:07.908743Z",
     "start_time": "2018-08-01T14:23:07.771314Z"
    },
    "hidden": true
   },
   "outputs": [
    {
     "data": {
      "image/png": "[encoded data removed]",
      "text/plain": [
       "<Figure size 432x288 with 2 Axes>"
      ]
     },
     "metadata": {},
     "output_type": "display_data"
    }
   ],
   "source": [
    "# cm\n",
    "ax = sns.heatmap(metrics.confusion_matrix(y_test, y_pred_binary), annot=True, annot_kws={\"size\": 16});\n",
    "ax.set(title='Confusion Matrix', xlabel='Predicted', ylabel='Actual');"
   ]
  },
  {
   "cell_type": "code",
   "execution_count": 117,
   "metadata": {
    "ExecuteTime": {
     "end_time": "2018-08-01T14:23:08.589051Z",
     "start_time": "2018-08-01T14:23:08.473662Z"
    },
    "hidden": true
   },
   "outputs": [
    {
     "data": {
      "image/png": "[encoded data removed]",
      "text/plain": [
       "<Figure size 432x288 with 1 Axes>"
      ]
     },
     "metadata": {},
     "output_type": "display_data"
    }
   ],
   "source": [
    "# roc\n",
    "fpr, tpr, threshold = metrics.roc_curve(y_test, y_pred)\n",
    "roc_auc = metrics.auc(fpr, tpr)\n",
    "plt.title('Receiver Operating Characteristic')\n",
    "plt.plot(fpr, tpr, 'b', label = 'AUC = %0.2f' % roc_auc)\n",
    "plt.legend(loc = 'lower right')\n",
    "plt.plot([0, 1], [0, 1],'r--')\n",
    "plt.xlim([0, 1])\n",
    "plt.ylim([0, 1])\n",
    "plt.ylabel('True Positive Rate')\n",
    "plt.xlabel('False Positive Rate')\n",
    "plt.show()"
   ]
  },
  {
   "cell_type": "markdown",
   "metadata": {},
   "source": [
    "## AutoML"
   ]
  },
  {
   "cell_type": "markdown",
   "metadata": {},
   "source": [
    "I'm curious what features AutoML's stacked ensemble models suggest are important versus the tuned xgboost."
   ]
  },
  {
   "cell_type": "code",
   "execution_count": 121,
   "metadata": {
    "ExecuteTime": {
     "end_time": "2018-08-01T14:23:47.025609Z",
     "start_time": "2018-08-01T14:23:43.625524Z"
    },
    "scrolled": true
   },
   "outputs": [
    {
     "name": "stdout",
     "output_type": "stream",
     "text": [
      "Checking whether there is an H2O instance running at http://localhost:54321..... not found.\n",
      "Attempting to start a local H2O server...\n",
      "  Java Version: openjdk version \"1.8.0_121\"; OpenJDK Runtime Environment (Zulu 8.20.0.5-linux64) (build 1.8.0_121-b15); OpenJDK 64-Bit Server VM (Zulu 8.20.0.5-linux64) (build 25.121-b15, mixed mode)\n",
      "  Starting server from /home/ubuntu/anaconda3/envs/tensorflow_p36/lib/python3.6/site-packages/h2o/backend/bin/h2o.jar\n",
      "  Ice root: /tmp/tmpec07vqpa\n",
      "  JVM stdout: /tmp/tmpec07vqpa/h2o_ubuntu_started_from_python.out\n",
      "  JVM stderr: /tmp/tmpec07vqpa/h2o_ubuntu_started_from_python.err\n",
      "  Server is running at http://127.0.0.1:54321\n",
      "Connecting to H2O server at http://127.0.0.1:54321... successful.\n"
     ]
    },
    {
     "data": {
      "text/html": [
       "<div style=\"overflow:auto\"><table style=\"width:50%\"><tr><td>H2O cluster uptime:</td>\n",
       "<td>01 secs</td></tr>\n",
       "<tr><td>H2O cluster timezone:</td>\n",
       "<td>Etc/UTC</td></tr>\n",
       "<tr><td>H2O data parsing timezone:</td>\n",
       "<td>UTC</td></tr>\n",
       "<tr><td>H2O cluster version:</td>\n",
       "<td>3.20.0.4</td></tr>\n",
       "<tr><td>H2O cluster version age:</td>\n",
       "<td>15 hours and 12 minutes </td></tr>\n",
       "<tr><td>H2O cluster name:</td>\n",
       "<td>H2O_from_python_ubuntu_k9p34y</td></tr>\n",
       "<tr><td>H2O cluster total nodes:</td>\n",
       "<td>1</td></tr>\n",
       "<tr><td>H2O cluster free memory:</td>\n",
       "<td>6.761 Gb</td></tr>\n",
       "<tr><td>H2O cluster total cores:</td>\n",
       "<td>16</td></tr>\n",
       "<tr><td>H2O cluster allowed cores:</td>\n",
       "<td>16</td></tr>\n",
       "<tr><td>H2O cluster status:</td>\n",
       "<td>accepting new members, healthy</td></tr>\n",
       "<tr><td>H2O connection url:</td>\n",
       "<td>http://127.0.0.1:54321</td></tr>\n",
       "<tr><td>H2O connection proxy:</td>\n",
       "<td>None</td></tr>\n",
       "<tr><td>H2O internal security:</td>\n",
       "<td>False</td></tr>\n",
       "<tr><td>H2O API Extensions:</td>\n",
       "<td>XGBoost, Algos, AutoML, Core V3, Core V4</td></tr>\n",
       "<tr><td>Python version:</td>\n",
       "<td>3.6.6 final</td></tr></table></div>"
      ],
      "text/plain": [
       "--------------------------  ----------------------------------------\n",
       "H2O cluster uptime:         01 secs\n",
       "H2O cluster timezone:       Etc/UTC\n",
       "H2O data parsing timezone:  UTC\n",
       "H2O cluster version:        3.20.0.4\n",
       "H2O cluster version age:    15 hours and 12 minutes\n",
       "H2O cluster name:           H2O_from_python_ubuntu_k9p34y\n",
       "H2O cluster total nodes:    1\n",
       "H2O cluster free memory:    6.761 Gb\n",
       "H2O cluster total cores:    16\n",
       "H2O cluster allowed cores:  16\n",
       "H2O cluster status:         accepting new members, healthy\n",
       "H2O connection url:         http://127.0.0.1:54321\n",
       "H2O connection proxy:\n",
       "H2O internal security:      False\n",
       "H2O API Extensions:         XGBoost, Algos, AutoML, Core V3, Core V4\n",
       "Python version:             3.6.6 final\n",
       "--------------------------  ----------------------------------------"
      ]
     },
     "metadata": {},
     "output_type": "display_data"
    },
    {
     "data": {
      "text/html": [
       "<div style=\"overflow:auto\"><table style=\"width:50%\"><tr><td>H2O cluster uptime:</td>\n",
       "<td>01 secs</td></tr>\n",
       "<tr><td>H2O cluster timezone:</td>\n",
       "<td>Etc/UTC</td></tr>\n",
       "<tr><td>H2O data parsing timezone:</td>\n",
       "<td>UTC</td></tr>\n",
       "<tr><td>H2O cluster version:</td>\n",
       "<td>3.20.0.4</td></tr>\n",
       "<tr><td>H2O cluster version age:</td>\n",
       "<td>15 hours and 12 minutes </td></tr>\n",
       "<tr><td>H2O cluster name:</td>\n",
       "<td>H2O_from_python_ubuntu_k9p34y</td></tr>\n",
       "<tr><td>H2O cluster total nodes:</td>\n",
       "<td>1</td></tr>\n",
       "<tr><td>H2O cluster free memory:</td>\n",
       "<td>6.761 Gb</td></tr>\n",
       "<tr><td>H2O cluster total cores:</td>\n",
       "<td>16</td></tr>\n",
       "<tr><td>H2O cluster allowed cores:</td>\n",
       "<td>16</td></tr>\n",
       "<tr><td>H2O cluster status:</td>\n",
       "<td>accepting new members, healthy</td></tr>\n",
       "<tr><td>H2O connection url:</td>\n",
       "<td>http://127.0.0.1:54321</td></tr>\n",
       "<tr><td>H2O connection proxy:</td>\n",
       "<td>None</td></tr>\n",
       "<tr><td>H2O internal security:</td>\n",
       "<td>False</td></tr>\n",
       "<tr><td>H2O API Extensions:</td>\n",
       "<td>XGBoost, Algos, AutoML, Core V3, Core V4</td></tr>\n",
       "<tr><td>Python version:</td>\n",
       "<td>3.6.6 final</td></tr></table></div>"
      ],
      "text/plain": [
       "--------------------------  ----------------------------------------\n",
       "H2O cluster uptime:         01 secs\n",
       "H2O cluster timezone:       Etc/UTC\n",
       "H2O data parsing timezone:  UTC\n",
       "H2O cluster version:        3.20.0.4\n",
       "H2O cluster version age:    15 hours and 12 minutes\n",
       "H2O cluster name:           H2O_from_python_ubuntu_k9p34y\n",
       "H2O cluster total nodes:    1\n",
       "H2O cluster free memory:    6.761 Gb\n",
       "H2O cluster total cores:    16\n",
       "H2O cluster allowed cores:  16\n",
       "H2O cluster status:         accepting new members, healthy\n",
       "H2O connection url:         http://127.0.0.1:54321\n",
       "H2O connection proxy:\n",
       "H2O internal security:      False\n",
       "H2O API Extensions:         XGBoost, Algos, AutoML, Core V3, Core V4\n",
       "Python version:             3.6.6 final\n",
       "--------------------------  ----------------------------------------"
      ]
     },
     "metadata": {},
     "output_type": "display_data"
    }
   ],
   "source": [
    "# init the machine\n",
    "h2o.init()\n",
    "h2o.cluster().show_status()"
   ]
  },
  {
   "cell_type": "code",
   "execution_count": 123,
   "metadata": {
    "ExecuteTime": {
     "end_time": "2018-08-01T14:25:14.833949Z",
     "start_time": "2018-08-01T14:24:21.557064Z"
    }
   },
   "outputs": [
    {
     "name": "stdout",
     "output_type": "stream",
     "text": [
      "Parse progress: |█████████████████████████████████████████████████████████| 100%\n"
     ]
    }
   ],
   "source": [
    "# create H2O's special df format\n",
    "train_df_h2o = h2o.H2OFrame(Xy)"
   ]
  },
  {
   "cell_type": "code",
   "execution_count": 124,
   "metadata": {
    "ExecuteTime": {
     "end_time": "2018-08-01T14:25:15.715806Z",
     "start_time": "2018-08-01T14:25:14.835481Z"
    }
   },
   "outputs": [],
   "source": [
    "# split data\n",
    "train, test, valid = train_df_h2o.split_frame(ratios=[0.7, 0.15])"
   ]
  },
  {
   "cell_type": "code",
   "execution_count": 146,
   "metadata": {
    "ExecuteTime": {
     "end_time": "2018-08-01T15:39:31.440888Z",
     "start_time": "2018-08-01T15:39:31.385141Z"
    }
   },
   "outputs": [],
   "source": [
    "# isolate predictors and predicting\n",
    "x = train[predictors].columns\n",
    "y = predicting\n",
    "\n",
    "# make sure we have factors\n",
    "train[y] = train[y].asfactor()\n",
    "valid[y] = valid[y].asfactor()\n",
    "test[y] = test[y].asfactor()"
   ]
  },
  {
   "cell_type": "code",
   "execution_count": null,
   "metadata": {
    "ExecuteTime": {
     "start_time": "2018-08-01T15:39:50.235Z"
    }
   },
   "outputs": [
    {
     "name": "stdout",
     "output_type": "stream",
     "text": [
      "AutoML progress: |████████████████████████████████████████████████████████"
     ]
    }
   ],
   "source": [
    "# build a model\n",
    "aml = H2OAutoML(max_runtime_secs=3600, balance_classes=True)\n",
    "aml.train(x=x,\n",
    "          y=y,\n",
    "          training_frame=train,\n",
    "          validation_frame=valid,\n",
    "          leaderboard_frame=test,\n",
    "          nfolds=10)#,\n",
    "          #class_sampling_factors=\n",
    "          #max_after_balance_size=)"
   ]
  },
  {
   "cell_type": "code",
   "execution_count": 127,
   "metadata": {
    "ExecuteTime": {
     "end_time": "2018-08-01T15:30:56.020467Z",
     "start_time": "2018-08-01T15:30:55.992681Z"
    }
   },
   "outputs": [
    {
     "ename": "H2OTypeError",
     "evalue": "Argument `model` should be a ModelBase, got H2OAutoML <h2o.automl.autoh2o.H2OAutoML object at 0x7fd10ff02cc0>",
     "output_type": "error",
     "traceback": [
      "\u001b[0;31m---------------------------------------------------------------------------\u001b[0m",
      "\u001b[0;31mH2OTypeError\u001b[0m                              Traceback (most recent call last)",
      "\u001b[0;32m<ipython-input-127-60ed51f16857>\u001b[0m in \u001b[0;36m<module>\u001b[0;34m()\u001b[0m\n\u001b[1;32m      1\u001b[0m \u001b[0;31m# save the model\u001b[0m\u001b[0;34m\u001b[0m\u001b[0;34m\u001b[0m\u001b[0m\n\u001b[0;32m----> 2\u001b[0;31m \u001b[0mmodel_path\u001b[0m \u001b[0;34m=\u001b[0m \u001b[0mh2o\u001b[0m\u001b[0;34m.\u001b[0m\u001b[0msave_model\u001b[0m\u001b[0;34m(\u001b[0m\u001b[0mmodel\u001b[0m\u001b[0;34m=\u001b[0m\u001b[0maml\u001b[0m\u001b[0;34m,\u001b[0m \u001b[0mpath\u001b[0m\u001b[0;34m=\u001b[0m\u001b[0;34m\"automl_untuned.model\"\u001b[0m\u001b[0;34m,\u001b[0m \u001b[0mforce\u001b[0m\u001b[0;34m=\u001b[0m\u001b[0;32mTrue\u001b[0m\u001b[0;34m)\u001b[0m\u001b[0;34m\u001b[0m\u001b[0m\n\u001b[0m",
      "\u001b[0;32m~/anaconda3/envs/tensorflow_p36/lib/python3.6/site-packages/h2o/h2o.py\u001b[0m in \u001b[0;36msave_model\u001b[0;34m(model, path, force)\u001b[0m\n\u001b[1;32m    967\u001b[0m         \u001b[0;34m>>\u001b[0m\u001b[0;34m>\u001b[0m \u001b[0mpath\u001b[0m \u001b[0;34m=\u001b[0m \u001b[0mh2o\u001b[0m\u001b[0;34m.\u001b[0m\u001b[0msave_model\u001b[0m\u001b[0;34m(\u001b[0m\u001b[0mmy_model\u001b[0m\u001b[0;34m,\u001b[0m \u001b[0mdir\u001b[0m\u001b[0;34m=\u001b[0m\u001b[0mmy_path\u001b[0m\u001b[0;34m)\u001b[0m\u001b[0;34m\u001b[0m\u001b[0m\n\u001b[1;32m    968\u001b[0m     \"\"\"\n\u001b[0;32m--> 969\u001b[0;31m     \u001b[0massert_is_type\u001b[0m\u001b[0;34m(\u001b[0m\u001b[0mmodel\u001b[0m\u001b[0;34m,\u001b[0m \u001b[0mModelBase\u001b[0m\u001b[0;34m)\u001b[0m\u001b[0;34m\u001b[0m\u001b[0m\n\u001b[0m\u001b[1;32m    970\u001b[0m     \u001b[0massert_is_type\u001b[0m\u001b[0;34m(\u001b[0m\u001b[0mpath\u001b[0m\u001b[0;34m,\u001b[0m \u001b[0mstr\u001b[0m\u001b[0;34m)\u001b[0m\u001b[0;34m\u001b[0m\u001b[0m\n\u001b[1;32m    971\u001b[0m     \u001b[0massert_is_type\u001b[0m\u001b[0;34m(\u001b[0m\u001b[0mforce\u001b[0m\u001b[0;34m,\u001b[0m \u001b[0mbool\u001b[0m\u001b[0;34m)\u001b[0m\u001b[0;34m\u001b[0m\u001b[0m\n",
      "\u001b[0;32m~/anaconda3/envs/tensorflow_p36/lib/python3.6/site-packages/h2o/utils/typechecks.py\u001b[0m in \u001b[0;36massert_is_type\u001b[0;34m(var, *types, **kwargs)\u001b[0m\n\u001b[1;32m    455\u001b[0m     \u001b[0mvtn\u001b[0m \u001b[0;34m=\u001b[0m \u001b[0m_get_type_name\u001b[0m\u001b[0;34m(\u001b[0m\u001b[0mtype\u001b[0m\u001b[0;34m(\u001b[0m\u001b[0mvar\u001b[0m\u001b[0;34m)\u001b[0m\u001b[0;34m)\u001b[0m\u001b[0;34m\u001b[0m\u001b[0m\n\u001b[1;32m    456\u001b[0m     raise H2OTypeError(var_name=vname, var_value=var, var_type_name=vtn, exp_type_name=etn, message=message,\n\u001b[0;32m--> 457\u001b[0;31m                        skip_frames=skip_frames)\n\u001b[0m\u001b[1;32m    458\u001b[0m \u001b[0;34m\u001b[0m\u001b[0m\n\u001b[1;32m    459\u001b[0m \u001b[0;34m\u001b[0m\u001b[0m\n",
      "\u001b[0;31mH2OTypeError\u001b[0m: Argument `model` should be a ModelBase, got H2OAutoML <h2o.automl.autoh2o.H2OAutoML object at 0x7fd10ff02cc0>"
     ]
    }
   ],
   "source": [
    "# save the model\n",
    "h2o.save_model(aml.leader, path=\"automl_leader_untuned.model\", force=True)"
   ]
  },
  {
   "cell_type": "code",
   "execution_count": 128,
   "metadata": {
    "ExecuteTime": {
     "end_time": "2018-08-01T15:31:17.627245Z",
     "start_time": "2018-08-01T15:31:16.770200Z"
    }
   },
   "outputs": [
    {
     "data": {
      "text/html": [
       "<table>\n",
       "<thead>\n",
       "<tr><th>model_id                                             </th><th style=\"text-align: right;\">  mean_residual_deviance</th><th style=\"text-align: right;\">     rmse</th><th style=\"text-align: right;\">       mse</th><th style=\"text-align: right;\">       mae</th><th style=\"text-align: right;\">    rmsle</th></tr>\n",
       "</thead>\n",
       "<tbody>\n",
       "<tr><td>GBM_grid_0_AutoML_20180801_142520_model_4            </td><td style=\"text-align: right;\">              0.00113307</td><td style=\"text-align: right;\">0.0336611</td><td style=\"text-align: right;\">0.00113307</td><td style=\"text-align: right;\">0.00196111</td><td style=\"text-align: right;\">0.023334 </td></tr>\n",
       "<tr><td>StackedEnsemble_BestOfFamily_0_AutoML_20180801_142520</td><td style=\"text-align: right;\">              0.00113432</td><td style=\"text-align: right;\">0.0336796</td><td style=\"text-align: right;\">0.00113432</td><td style=\"text-align: right;\">0.00196532</td><td style=\"text-align: right;\">0.0233251</td></tr>\n",
       "<tr><td>XRT_0_AutoML_20180801_142520                         </td><td style=\"text-align: right;\">              0.00113648</td><td style=\"text-align: right;\">0.0337117</td><td style=\"text-align: right;\">0.00113648</td><td style=\"text-align: right;\">0.00171083</td><td style=\"text-align: right;\">0.0234729</td></tr>\n",
       "<tr><td>GBM_grid_0_AutoML_20180801_142520_model_15           </td><td style=\"text-align: right;\">              0.00114091</td><td style=\"text-align: right;\">0.0337773</td><td style=\"text-align: right;\">0.00114091</td><td style=\"text-align: right;\">0.00175932</td><td style=\"text-align: right;\">0.0234466</td></tr>\n",
       "<tr><td>GBM_grid_0_AutoML_20180801_142520_model_5            </td><td style=\"text-align: right;\">              0.0011413 </td><td style=\"text-align: right;\">0.0337832</td><td style=\"text-align: right;\">0.0011413 </td><td style=\"text-align: right;\">0.00196881</td><td style=\"text-align: right;\">0.0234445</td></tr>\n",
       "<tr><td>StackedEnsemble_AllModels_0_AutoML_20180801_142520   </td><td style=\"text-align: right;\">              0.00114335</td><td style=\"text-align: right;\">0.0338135</td><td style=\"text-align: right;\">0.00114335</td><td style=\"text-align: right;\">0.00187952</td><td style=\"text-align: right;\">0.0234712</td></tr>\n",
       "<tr><td>GBM_grid_0_AutoML_20180801_142520_model_7            </td><td style=\"text-align: right;\">              0.00114392</td><td style=\"text-align: right;\">0.0338219</td><td style=\"text-align: right;\">0.00114392</td><td style=\"text-align: right;\">0.00191877</td><td style=\"text-align: right;\">0.0234249</td></tr>\n",
       "<tr><td>GBM_grid_0_AutoML_20180801_142520_model_6            </td><td style=\"text-align: right;\">              0.00115748</td><td style=\"text-align: right;\">0.0340218</td><td style=\"text-align: right;\">0.00115748</td><td style=\"text-align: right;\">0.00189119</td><td style=\"text-align: right;\">0.0235184</td></tr>\n",
       "<tr><td>GBM_grid_0_AutoML_20180801_142520_model_11           </td><td style=\"text-align: right;\">              0.00116554</td><td style=\"text-align: right;\">0.03414  </td><td style=\"text-align: right;\">0.00116554</td><td style=\"text-align: right;\">0.00186816</td><td style=\"text-align: right;\">0.0236388</td></tr>\n",
       "<tr><td>GBM_grid_0_AutoML_20180801_142520_model_2            </td><td style=\"text-align: right;\">              0.00116732</td><td style=\"text-align: right;\">0.0341661</td><td style=\"text-align: right;\">0.00116732</td><td style=\"text-align: right;\">0.00185227</td><td style=\"text-align: right;\">0.0239118</td></tr>\n",
       "</tbody>\n",
       "</table>"
      ]
     },
     "metadata": {},
     "output_type": "display_data"
    },
    {
     "data": {
      "text/plain": []
     },
     "execution_count": 128,
     "metadata": {},
     "output_type": "execute_result"
    }
   ],
   "source": [
    "# who is in lead?\n",
    "lb = aml.leaderboard\n",
    "lb.head()"
   ]
  },
  {
   "cell_type": "markdown",
   "metadata": {},
   "source": [
    "AutoML \"likes\" SKEW(a4) and STD(a7) like an earlier version of the tuned xgboost model harness did."
   ]
  },
  {
   "cell_type": "code",
   "execution_count": 131,
   "metadata": {
    "ExecuteTime": {
     "end_time": "2018-08-01T15:34:30.853102Z",
     "start_time": "2018-08-01T15:34:30.695668Z"
    }
   },
   "outputs": [
    {
     "name": "stdout",
     "output_type": "stream",
     "text": [
      "No metalearner for this model\n"
     ]
    },
    {
     "ename": "TypeError",
     "evalue": "'NoneType' object is not subscriptable",
     "output_type": "error",
     "traceback": [
      "\u001b[0;31m---------------------------------------------------------------------------\u001b[0m",
      "\u001b[0;31mTypeError\u001b[0m                                 Traceback (most recent call last)",
      "\u001b[0;32m<ipython-input-131-2fbbde78878b>\u001b[0m in \u001b[0;36m<module>\u001b[0;34m()\u001b[0m\n\u001b[1;32m      1\u001b[0m \u001b[0;31m# leader model metalearner\u001b[0m\u001b[0;34m\u001b[0m\u001b[0;34m\u001b[0m\u001b[0m\n\u001b[0;32m----> 2\u001b[0;31m \u001b[0mmetalearner\u001b[0m \u001b[0;34m=\u001b[0m \u001b[0mh2o\u001b[0m\u001b[0;34m.\u001b[0m\u001b[0mget_model\u001b[0m\u001b[0;34m(\u001b[0m\u001b[0maml\u001b[0m\u001b[0;34m.\u001b[0m\u001b[0mleader\u001b[0m\u001b[0;34m.\u001b[0m\u001b[0mmetalearner\u001b[0m\u001b[0;34m(\u001b[0m\u001b[0;34m)\u001b[0m\u001b[0;34m[\u001b[0m\u001b[0;34m'name'\u001b[0m\u001b[0;34m]\u001b[0m\u001b[0;34m)\u001b[0m\u001b[0;34m\u001b[0m\u001b[0m\n\u001b[0m",
      "\u001b[0;31mTypeError\u001b[0m: 'NoneType' object is not subscriptable"
     ]
    }
   ],
   "source": [
    "# stacked ensemble model\n",
    "metalearner = h2o.get_model([mid for mid in model_ids if \"StackedEnsemble_AllModels\" in mid][0])"
   ]
  },
  {
   "cell_type": "code",
   "execution_count": null,
   "metadata": {},
   "outputs": [],
   "source": [
    "# ensemble contribution\n",
    "metalearner.std_coef_plot()"
   ]
  },
  {
   "cell_type": "code",
   "execution_count": null,
   "metadata": {
    "ExecuteTime": {
     "end_time": "2018-07-31T00:07:12.339368Z",
     "start_time": "2018-07-31T00:07:11.545406Z"
    }
   },
   "outputs": [],
   "source": [
    "# predictions\n",
    "y_pred = aml.leader.predict(test)"
   ]
  },
  {
   "cell_type": "markdown",
   "metadata": {},
   "source": [
    "## FFNN"
   ]
  },
  {
   "cell_type": "markdown",
   "metadata": {},
   "source": [
    "Why not? Effort, arch design, tuning, not enough data. Lots of reasons. If I were to go this route..."
   ]
  },
  {
   "cell_type": "code",
   "execution_count": null,
   "metadata": {},
   "outputs": [],
   "source": [
    "# define I/O\n",
    "input_size = len(featurenames)\n",
    "output_size = 2\n",
    "\n",
    "# build model\n",
    "x = Input(shape=(input_size,))\n",
    "layer1 = Dense(25, activation='relu')(x)\n",
    "layer2 = Dense(10)(layer1)\n",
    "layer3 = Dense(35)(layer2)\n",
    "layer4 = Dense(10)(layer3)\n",
    "layer5 = Dense(25, activation=None)(layer4)\n",
    "layer6 = Dense(output_size)(layer5)\n",
    "model = Model(x, layer6)\n",
    "model.compile(\n",
    "    loss='binary_crossentropy',\n",
    "    optimizer=RMSprop(0.001),\n",
    "    metrics=[sensitivity, specificity]\n",
    ")\n",
    "\n",
    "# weight the class imbalance\n",
    "trade_off = 0.5  # for f-score\n",
    "class_weight={\n",
    "    0: 1,\n",
    "    1: ratio * t\n",
    "}\n",
    "\n",
    "# run in 14 \"day\" batches\n",
    "batch_size = len(X_train) / 14\n",
    "\n",
    "# fit a model\n",
    "model.fit(X_train,\n",
    "          y_train,\n",
    "          nb_epoch=500,\n",
    "          batch_size=batch_size,\n",
    "          class_weight=class_weight)"
   ]
  },
  {
   "cell_type": "markdown",
   "metadata": {
    "heading_collapsed": true
   },
   "source": [
    "# Scratch"
   ]
  },
  {
   "cell_type": "code",
   "execution_count": null,
   "metadata": {
    "ExecuteTime": {
     "end_time": "2018-07-27T21:23:55.742383Z",
     "start_time": "2018-07-27T21:23:55.703553Z"
    },
    "hidden": true
   },
   "outputs": [],
   "source": []
  }
 ],
 "metadata": {
  "kernelspec": {
   "display_name": "Environment (conda_tensorflow_p36)",
   "language": "python",
   "name": "conda_tensorflow_p36"
  },
  "language_info": {
   "codemirror_mode": {
    "name": "ipython",
    "version": 3
   },
   "file_extension": ".py",
   "mimetype": "text/x-python",
   "name": "python",
   "nbconvert_exporter": "python",
   "pygments_lexer": "ipython3",
   "version": "3.6.6"
  },
  "toc": {
   "base_numbering": 1,
   "nav_menu": {},
   "number_sections": true,
   "sideBar": true,
   "skip_h1_title": false,
   "title_cell": "Table of Contents",
   "title_sidebar": "Contents",
   "toc_cell": true,
   "toc_position": {
    "height": "calc(100% - 180px)",
    "left": "10px",
    "top": "150px",
    "width": "257px"
   },
   "toc_section_display": true,
   "toc_window_display": false
  },
  "varInspector": {
   "cols": {
    "lenName": 16,
    "lenType": 16,
    "lenVar": 40
   },
   "kernels_config": {
    "python": {
     "delete_cmd_postfix": "",
     "delete_cmd_prefix": "del ",
     "library": "var_list.py",
     "varRefreshCmd": "print(var_dic_list())"
    },
    "r": {
     "delete_cmd_postfix": ") ",
     "delete_cmd_prefix": "rm(",
     "library": "var_list.r",
     "varRefreshCmd": "cat(var_dic_list()) "
    }
   },
   "position": {
    "height": "686px",
    "left": "638px",
    "right": "20px",
    "top": "110px",
    "width": "731px"
   },
   "types_to_exclude": [
    "module",
    "function",
    "builtin_function_or_method",
    "instance",
    "_Feature"
   ],
   "window_display": false
  }
 },
 "nbformat": 4,
 "nbformat_minor": 2
}
