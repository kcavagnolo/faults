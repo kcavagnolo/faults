{
 "cells": [
  {
   "cell_type": "markdown",
   "metadata": {},
   "source": [
    "The model sandbox below explores the ConvLSTM2D flavor of SCoRN, aka \"vegan cheese.\"\n",
    "\n",
    "Vegan cheese? [Mmmmmmm...][vegancheese]\n",
    "\n",
    "[vegancheese]:https://stackoverflow.com/questions/49603498/convolution2d-lstm-versus-convlstm2d"
   ]
  },
  {
   "cell_type": "markdown",
   "metadata": {
    "heading_collapsed": true
   },
   "source": [
    "# Imports"
   ]
  },
  {
   "cell_type": "code",
   "execution_count": 1,
   "metadata": {
    "ExecuteTime": {
     "end_time": "2018-05-23T17:39:17.039602Z",
     "start_time": "2018-05-23T17:39:13.472362Z"
    },
    "hidden": true
   },
   "outputs": [
    {
     "name": "stderr",
     "output_type": "stream",
     "text": [
      "Using TensorFlow backend.\n"
     ]
    }
   ],
   "source": [
    "%matplotlib inline\n",
    "\n",
    "import warnings\n",
    "warnings.filterwarnings('ignore')\n",
    "\n",
    "import os\n",
    "import time\n",
    "import glob\n",
    "import random\n",
    "import numpy as np\n",
    "import pandas as pd\n",
    "import imageio\n",
    "import cv2\n",
    "from tqdm import tqdm_notebook\n",
    "\n",
    "from PIL import Image\n",
    "from IPython.display import SVG\n",
    "\n",
    "import matplotlib\n",
    "import matplotlib.pyplot as plt\n",
    "\n",
    "from keras import backend as K\n",
    "from keras.preprocessing import image as keras_image\n",
    "from keras.models import Sequential\n",
    "from keras.layers.convolutional import Conv3D\n",
    "from keras.layers.convolutional_recurrent import ConvLSTM2D\n",
    "from keras.layers import Conv2D, MaxPool2D, MaxPooling3D, BatchNormalization, Reshape\n",
    "from keras.layers import Activation, Flatten, Dropout, Input\n",
    "from keras.callbacks import TensorBoard\n",
    "from keras.callbacks import ModelCheckpoint"
   ]
  },
  {
   "cell_type": "code",
   "execution_count": 2,
   "metadata": {
    "ExecuteTime": {
     "end_time": "2018-05-23T17:39:17.094391Z",
     "start_time": "2018-05-23T17:39:17.062073Z"
    },
    "hidden": true
   },
   "outputs": [],
   "source": [
    "# clear any leftovers\n",
    "try:\n",
    "    K.clear_session()\n",
    "except:\n",
    "    print('Failed to clear Keras session')\n",
    "\n",
    "# check that image channels are set last syntactically\n",
    "if K.image_data_format() != 'channels_last':\n",
    "    print('Set channels last')\n",
    "    K.set_image_data_format('channels_last')\n",
    "\n",
    "# config keras\n",
    "if K.image_dim_ordering() != 'tf':\n",
    "    print('Set img order to tf')\n",
    "    K.set_image_dim_ordering('tf')"
   ]
  },
  {
   "cell_type": "markdown",
   "metadata": {},
   "source": [
    "# Functions"
   ]
  },
  {
   "cell_type": "code",
   "execution_count": 3,
   "metadata": {
    "ExecuteTime": {
     "end_time": "2018-05-23T17:39:19.234680Z",
     "start_time": "2018-05-23T17:39:19.229466Z"
    }
   },
   "outputs": [],
   "source": [
    "def video_to_frames(video, framesdir):\n",
    "    cmd = 'ffmpeg -i {} {}/%04d.jpg'.format(video, framesdir)\n",
    "    os.system(cmd)"
   ]
  },
  {
   "cell_type": "code",
   "execution_count": 4,
   "metadata": {
    "ExecuteTime": {
     "end_time": "2018-05-23T17:39:44.745535Z",
     "start_time": "2018-05-23T17:39:44.727094Z"
    }
   },
   "outputs": [],
   "source": [
    "def process_frame(imagefile, sizescale=None, grayscale=False, interpolation='nearest'):\n",
    "    img = cv2.imread(imagefile, 0)\n",
    "    img_height, img_width = img.shape\n",
    "    if sizescale:\n",
    "        img_width //= sizescale\n",
    "        img_height //= sizescale\n",
    "        target_size = (img_height, img_width)\n",
    "    else:\n",
    "        target_size = None\n",
    "    img = keras_image.load_img(\n",
    "        imagefile,\n",
    "        grayscale=grayscale,\n",
    "        target_size=target_size,\n",
    "        interpolation=interpolation\n",
    "    )\n",
    "    img = keras_image.img_to_array(img)\n",
    "    img /= 255\n",
    "    return img"
   ]
  },
  {
   "cell_type": "code",
   "execution_count": 5,
   "metadata": {
    "ExecuteTime": {
     "end_time": "2018-05-23T17:39:45.423867Z",
     "start_time": "2018-05-23T17:39:45.407978Z"
    }
   },
   "outputs": [],
   "source": [
    "def load_frames_data(framesfile, sigma_clip=None):\n",
    "    frames_data = np.load(framesfile)\n",
    "    frames_data = frames_data[np.newaxis, :]\n",
    "    print('Loaded {} with shape {}'.format(framesfile, frames_data.shape))\n",
    "    if sigma_clip:\n",
    "        sigma = np.sqrt(sigma_clip)\n",
    "        frames_data = np.clip(frames_data, -3 * sigma, 3 * sigma)\n",
    "        frames_data = normalize_minmax(frames_data, (-1, 1))\n",
    "    return frames_data"
   ]
  },
  {
   "cell_type": "code",
   "execution_count": 6,
   "metadata": {
    "ExecuteTime": {
     "end_time": "2018-05-23T17:39:45.930963Z",
     "start_time": "2018-05-23T17:39:45.920029Z"
    }
   },
   "outputs": [],
   "source": [
    "def frames_value_distribution(X, sigma_clip=None):\n",
    "    for x in X:\n",
    "        plt.subplot('111')\n",
    "        data = x.ravel()\n",
    "        if sigma_clip:\n",
    "            data = np.clip(data, -sigma, sigma)\n",
    "        plt.hist(data, bins=100, alpha=0.2)"
   ]
  },
  {
   "cell_type": "code",
   "execution_count": 7,
   "metadata": {
    "ExecuteTime": {
     "end_time": "2018-05-23T17:39:46.299262Z",
     "start_time": "2018-05-23T17:39:46.282815Z"
    }
   },
   "outputs": [],
   "source": [
    "def visualize_random_frame(sample_frames):\n",
    "    random_frame_num = random.randint(0, len(sample_frames) - 1)\n",
    "    sample_frame = sample_frames[0, random_frame_num, :, :, 0]\n",
    "    h, w = sample_frame.shape    \n",
    "    print('Selected frame {} from {} frames'.format(random_frame_num + 1,\n",
    "                                                    sample_frames.shape[0]))\n",
    "    print('Image hgt-wid: {} x {}'.format(h, w))\n",
    "    print('Min val: {}'.format(np.min(sample_frame)))\n",
    "    print('Max val: {}'.format(np.max(sample_frame)))\n",
    "    print('Unique values: {}'.format(np.unique(sample_frame).shape[0]))\n",
    "    plt.imshow(sample_frame[:, :], cmap='gray')"
   ]
  },
  {
   "cell_type": "code",
   "execution_count": 8,
   "metadata": {
    "ExecuteTime": {
     "end_time": "2018-05-23T17:39:46.802973Z",
     "start_time": "2018-05-23T17:39:46.658017Z"
    }
   },
   "outputs": [],
   "source": [
    "def generate_movies(n_samples=1200, n_frames=15):\n",
    "    '''\n",
    "    Artificial data generation:\n",
    "    Generate movies with 3 to 7 moving squares inside. The squares are of shape 1x1 or 2x2 pixels,\n",
    "    which move linearly over time. For convenience we first create movies with bigger width and\n",
    "    height (80x80) and at the end we select a 40x40 window.\n",
    "    '''\n",
    "    row = 80\n",
    "    col = 80\n",
    "    noisy_movies   = np.zeros((n_samples, n_frames, row, col, 1), dtype=np.float)\n",
    "    shifted_movies = np.zeros((n_samples, n_frames, row, col, 1), dtype=np.float)\n",
    "\n",
    "    for i in range(n_samples):\n",
    "        \n",
    "        # Add 3 to 7 moving squares\n",
    "        n = np.random.randint(3, 8)\n",
    "\n",
    "        for j in range(n):\n",
    "        \n",
    "            # Initial position\n",
    "            xstart = np.random.randint(20, 60)\n",
    "            ystart = np.random.randint(20, 60)\n",
    "            \n",
    "            # Direction of motion\n",
    "            directionx = np.random.randint(0, 3) - 1\n",
    "            directiony = np.random.randint(0, 3) - 1\n",
    "\n",
    "            # Size of the square\n",
    "            w = np.random.randint(2, 4)\n",
    "\n",
    "            for t in range(n_frames):\n",
    "                x_shift = xstart + directionx * t\n",
    "                y_shift = ystart + directiony * t\n",
    "                noisy_movies[i, t, x_shift - w:x_shift + w, y_shift - w:\n",
    "                             y_shift + w, 0] += 1\n",
    "\n",
    "                # Make it more robust by adding noise.\n",
    "                # The idea is that if during inference,\n",
    "                # the value of the pixel is not exactly one,\n",
    "                # we need to train the network to be robust and still\n",
    "                # consider it as a pixel belonging to a square.\n",
    "                if np.random.randint(0, 2):\n",
    "                    noise_f = (-1)**np.random.randint(0, 2)\n",
    "                    noisy_movies[i, t, x_shift - w - 1:x_shift + w + 1, y_shift\n",
    "                                 - w - 1:y_shift + w + 1, 0] += noise_f * 0.1\n",
    "\n",
    "                # Shift the ground truth by 1\n",
    "                x_shift = xstart + directionx * (t + 1)\n",
    "                y_shift = ystart + directiony * (t + 1)\n",
    "                shifted_movies[i, t, x_shift - w:x_shift + w, y_shift - w:\n",
    "                               y_shift + w, 0] += 1\n",
    "\n",
    "    # Cut to a 40x40 window\n",
    "    noisy_movies = noisy_movies[::, ::, 20:60, 20:60, ::]\n",
    "    shifted_movies = shifted_movies[::, ::, 20:60, 20:60, ::]\n",
    "    noisy_movies[noisy_movies >= 1] = 1\n",
    "    shifted_movies[shifted_movies >= 1] = 1\n",
    "\n",
    "    return noisy_movies, shifted_movies"
   ]
  },
  {
   "cell_type": "markdown",
   "metadata": {},
   "source": [
    "# Data Intake"
   ]
  },
  {
   "cell_type": "markdown",
   "metadata": {
    "heading_collapsed": true
   },
   "source": [
    "## Fake Data"
   ]
  },
  {
   "cell_type": "code",
   "execution_count": 9,
   "metadata": {
    "ExecuteTime": {
     "end_time": "2018-05-23T17:40:11.328086Z",
     "start_time": "2018-05-23T17:39:57.905740Z"
    },
    "hidden": true
   },
   "outputs": [],
   "source": [
    "# create fake data as movies\n",
    "noisy_movies, shifted_movies = generate_movies(n_samples=2000)"
   ]
  },
  {
   "cell_type": "code",
   "execution_count": 10,
   "metadata": {
    "ExecuteTime": {
     "end_time": "2018-05-23T20:09:32.968423Z",
     "start_time": "2018-05-23T20:09:21.797642Z"
    },
    "hidden": true
   },
   "outputs": [
    {
     "name": "stderr",
     "output_type": "stream",
     "text": [
      "WARNING:root:IMAGEIO FFMPEG_WRITER WARNING: input image is not divisible by macro_block_size=16, resizing from (40, 40) to (48, 48) to ensure video compatibility with most codecs and players. To prevent resizing, make your input image divisible by the macro_block_size or set the macro_block_size to None (risking incompatibility). You may also see a FFMPEG warning concerning speedloss due to data not being aligned.\n"
     ]
    }
   ],
   "source": [
    "# save movies\n",
    "output_video = '../data/noisy_movies.mp4'\n",
    "with imageio.get_writer(output_video) as writer:\n",
    "    for movie in noisy_movies:\n",
    "        for frame in movie:\n",
    "            writer.append_data(frame[:,:,0])"
   ]
  },
  {
   "cell_type": "code",
   "execution_count": 11,
   "metadata": {
    "ExecuteTime": {
     "end_time": "2018-05-23T20:09:42.435897Z",
     "start_time": "2018-05-23T20:09:33.162369Z"
    },
    "hidden": true
   },
   "outputs": [
    {
     "name": "stderr",
     "output_type": "stream",
     "text": [
      "WARNING:root:IMAGEIO FFMPEG_WRITER WARNING: input image is not divisible by macro_block_size=16, resizing from (40, 40) to (48, 48) to ensure video compatibility with most codecs and players. To prevent resizing, make your input image divisible by the macro_block_size or set the macro_block_size to None (risking incompatibility). You may also see a FFMPEG warning concerning speedloss due to data not being aligned.\n"
     ]
    }
   ],
   "source": [
    "# save movies\n",
    "output_video = '../data/shifted_movies.mp4'\n",
    "with imageio.get_writer(output_video) as writer:\n",
    "    for movie in shifted_movies:\n",
    "        for frame in movie:\n",
    "            writer.append_data(frame[:,:,0])"
   ]
  },
  {
   "cell_type": "code",
   "execution_count": 12,
   "metadata": {
    "ExecuteTime": {
     "end_time": "2018-05-23T20:10:27.570070Z",
     "start_time": "2018-05-23T20:10:27.565659Z"
    },
    "hidden": true
   },
   "outputs": [],
   "source": [
    "img_width = 40\n",
    "img_height = 40"
   ]
  },
  {
   "cell_type": "markdown",
   "metadata": {
    "heading_collapsed": true
   },
   "source": [
    "## Real Data"
   ]
  },
  {
   "cell_type": "code",
   "execution_count": 53,
   "metadata": {
    "ExecuteTime": {
     "end_time": "2018-05-17T19:51:42.495408Z",
     "start_time": "2018-05-17T19:50:47.604370Z"
    },
    "hidden": true
   },
   "outputs": [
    {
     "name": "stdout",
     "output_type": "stream",
     "text": [
      "Dir exists.\n"
     ]
    }
   ],
   "source": [
    "#video = '/mnt/hgfs/vmshare/gis-data/scrn/test/learning/prices_animation.mp4'\n",
    "video = '/mnt/hgfs/vmshare/gis-data/scrn/prod/pretty/prices_animation.mp4'\n",
    "root_name = 'scorn_frames'\n",
    "framesdir = '/tmp/scorn_frames'\n",
    "try:\n",
    "    os.mkdir(framesdir)\n",
    "except:\n",
    "    print('Dir exists.')\n",
    "video_to_frames(video, framesdir)\n",
    "frames = sorted(glob.iglob('{}/*.jpg'.format(framesdir)))\n",
    "frames_data = np.array([process_frame(frame,\n",
    "                                      sizescale=20,\n",
    "                                      grayscale=True) for frame in frames])\n",
    "frames_mean = np.sum(frames_data, axis=0) / frames_data.shape[0]\n",
    "np.save('/tmp/{}.npy'.format(root_name), frames_data)"
   ]
  },
  {
   "cell_type": "code",
   "execution_count": 54,
   "metadata": {
    "ExecuteTime": {
     "end_time": "2018-05-17T19:52:43.763542Z",
     "start_time": "2018-05-17T19:52:43.741814Z"
    },
    "hidden": true
   },
   "outputs": [
    {
     "name": "stdout",
     "output_type": "stream",
     "text": [
      "Loaded /tmp/scorn_frames.npy with shape (1, 839, 60, 150, 1)\n"
     ]
    }
   ],
   "source": [
    "# load the frames as a 4D tensor\n",
    "X = load_frames_data('/tmp/scorn_frames.npy')\n",
    "\n",
    "# TODO: create labels for all frames and save in csv\n",
    "#y = pd.read_csv('/tmp/scorn_labels.csv')"
   ]
  },
  {
   "cell_type": "code",
   "execution_count": 55,
   "metadata": {
    "ExecuteTime": {
     "end_time": "2018-05-17T19:52:48.617836Z",
     "start_time": "2018-05-17T19:52:48.612679Z"
    },
    "hidden": true
   },
   "outputs": [],
   "source": [
    "img_width = 150\n",
    "img_height = 60"
   ]
  },
  {
   "cell_type": "code",
   "execution_count": 56,
   "metadata": {
    "ExecuteTime": {
     "end_time": "2018-05-17T19:52:50.149196Z",
     "start_time": "2018-05-17T19:52:49.539502Z"
    },
    "hidden": true
   },
   "outputs": [
    {
     "data": {
      "image/png": "[encoded data removed]",
      "text/plain": [
       "<Figure size 432x288 with 1 Axes>"
      ]
     },
     "metadata": {},
     "output_type": "display_data"
    }
   ],
   "source": [
    "frames_value_distribution(X, sigma_clip=None)"
   ]
  },
  {
   "cell_type": "code",
   "execution_count": 57,
   "metadata": {
    "ExecuteTime": {
     "end_time": "2018-05-17T19:52:51.130402Z",
     "start_time": "2018-05-17T19:52:50.876003Z"
    },
    "hidden": true,
    "scrolled": true
   },
   "outputs": [
    {
     "name": "stdout",
     "output_type": "stream",
     "text": [
      "Selected frame 1 from 1 frames\n",
      "Image hgt-wid: 60 x 150\n",
      "Min val: 0.0\n",
      "Max val: 1.0\n",
      "Unique values: 105\n"
     ]
    },
    {
     "data": {
      "image/png": "[encoded data removed]",
      "text/plain": [
       "<Figure size 432x288 with 1 Axes>"
      ]
     },
     "metadata": {},
     "output_type": "display_data"
    }
   ],
   "source": [
    "visualize_random_frame(X)"
   ]
  },
  {
   "cell_type": "markdown",
   "metadata": {},
   "source": [
    "# Model"
   ]
  },
  {
   "cell_type": "markdown",
   "metadata": {},
   "source": [
    "Reference [code][code] and [paper][paper].\n",
    "\n",
    "[code]:https://github.com/keras-team/keras/tree/master/examples\n",
    "[paper]:https://arxiv.org/pdf/1506.04214v1.pdf"
   ]
  },
  {
   "cell_type": "code",
   "execution_count": 13,
   "metadata": {
    "ExecuteTime": {
     "end_time": "2018-05-23T20:10:37.753257Z",
     "start_time": "2018-05-23T20:10:34.976415Z"
    }
   },
   "outputs": [],
   "source": [
    "# We create a layer which take as input movies of shape\n",
    "# (n_frames, width, height, channels) and returns a movie\n",
    "# of identical shape.\n",
    "\n",
    "K.clear_session()\n",
    "\n",
    "scorn_model = Sequential()\n",
    "\n",
    "scorn_model.add(\n",
    "    ConvLSTM2D(\n",
    "        filters=32,\n",
    "        kernel_size=(3, 3),\n",
    "        input_shape=(None, img_height, img_width, 1),\n",
    "        padding='same',\n",
    "        dropout=0.4,\n",
    "        recurrent_dropout=0.3,\n",
    "        return_sequences=True))\n",
    "#scorn_model.add(Activation('relu'))\n",
    "#scorn_model.add(MaxPooling3D(pool_size=(1, 2, 2)))\n",
    "scorn_model.add(BatchNormalization())\n",
    "\n",
    "scorn_model.add(\n",
    "    ConvLSTM2D(\n",
    "        filters=64,\n",
    "        kernel_size=(3, 3),\n",
    "        padding='same',\n",
    "        dropout=0.4,\n",
    "        recurrent_dropout=0.3,\n",
    "        return_sequences=True))\n",
    "#scorn_model.add(MaxPooling3D(pool_size=(1, 2, 2)))\n",
    "scorn_model.add(BatchNormalization())\n",
    "\n",
    "scorn_model.add(\n",
    "    ConvLSTM2D(\n",
    "        filters=40,\n",
    "        kernel_size=(3, 3),\n",
    "        padding='same',\n",
    "        dropout=0.4,\n",
    "        recurrent_dropout=0.3,\n",
    "        return_sequences=True))\n",
    "scorn_model.add(BatchNormalization())\n",
    "\n",
    "scorn_model.add(\n",
    "    ConvLSTM2D(\n",
    "        filters=40,\n",
    "        kernel_size=(3, 3),\n",
    "        padding='same',\n",
    "        dropout=0.4,\n",
    "        recurrent_dropout=0.3,\n",
    "        return_sequences=True))\n",
    "scorn_model.add(BatchNormalization())\n",
    "\n",
    "scorn_model.add(\n",
    "    Conv3D(\n",
    "        filters=1,\n",
    "        kernel_size=(3, 3, 3),\n",
    "        activation='sigmoid',\n",
    "        padding='same',\n",
    "        data_format='channels_last'))\n",
    "\n",
    "#scorn_model.add(AveragePooling3D((1, 135, 240)))\n",
    "#scorn_model.add(Reshape((-1, 40)))\n",
    "#scorn_model.add(Dense(units=9, activation='sigmoid'))\n",
    "\n",
    "scorn_model.compile(loss='mse', optimizer='adam')"
   ]
  },
  {
   "cell_type": "code",
   "execution_count": 14,
   "metadata": {
    "ExecuteTime": {
     "end_time": "2018-05-23T20:10:37.921412Z",
     "start_time": "2018-05-23T20:10:37.908497Z"
    }
   },
   "outputs": [
    {
     "name": "stdout",
     "output_type": "stream",
     "text": [
      "___________________________________________________________________________________________________________________\n",
      "Layer (type)                                       Output Shape                                  Param #           \n",
      "===================================================================================================================\n",
      "conv_lst_m2d_1 (ConvLSTM2D)                        (None, None, 40, 40, 32)                      38144             \n",
      "___________________________________________________________________________________________________________________\n",
      "batch_normalization_1 (BatchNormalization)         (None, None, 40, 40, 32)                      128               \n",
      "___________________________________________________________________________________________________________________\n",
      "conv_lst_m2d_2 (ConvLSTM2D)                        (None, None, 40, 40, 64)                      221440            \n",
      "___________________________________________________________________________________________________________________\n",
      "batch_normalization_2 (BatchNormalization)         (None, None, 40, 40, 64)                      256               \n",
      "___________________________________________________________________________________________________________________\n",
      "conv_lst_m2d_3 (ConvLSTM2D)                        (None, None, 40, 40, 40)                      149920            \n",
      "___________________________________________________________________________________________________________________\n",
      "batch_normalization_3 (BatchNormalization)         (None, None, 40, 40, 40)                      160               \n",
      "___________________________________________________________________________________________________________________\n",
      "conv_lst_m2d_4 (ConvLSTM2D)                        (None, None, 40, 40, 40)                      115360            \n",
      "___________________________________________________________________________________________________________________\n",
      "batch_normalization_4 (BatchNormalization)         (None, None, 40, 40, 40)                      160               \n",
      "___________________________________________________________________________________________________________________\n",
      "conv3d_1 (Conv3D)                                  (None, None, 40, 40, 1)                       1081              \n",
      "===================================================================================================================\n",
      "Total params: 526,649\n",
      "Trainable params: 526,297\n",
      "Non-trainable params: 352\n",
      "___________________________________________________________________________________________________________________\n"
     ]
    }
   ],
   "source": [
    "scorn_model.summary(line_length=115)"
   ]
  },
  {
   "cell_type": "markdown",
   "metadata": {},
   "source": [
    "# Train"
   ]
  },
  {
   "cell_type": "code",
   "execution_count": 15,
   "metadata": {
    "ExecuteTime": {
     "end_time": "2018-05-23T20:10:48.569549Z",
     "start_time": "2018-05-23T20:10:41.414472Z"
    }
   },
   "outputs": [
    {
     "name": "stdout",
     "output_type": "stream",
     "text": [
      "WARNING:tensorflow:From /usr/local/lib/python3.5/dist-packages/tensorflow/contrib/learn/python/learn/datasets/base.py:198: retry (from tensorflow.contrib.learn.python.learn.datasets.base) is deprecated and will be removed in a future version.\n",
      "Instructions for updating:\n",
      "Use the retry module or similar alternatives.\n"
     ]
    },
    {
     "name": "stderr",
     "output_type": "stream",
     "text": [
      "WARNING:tensorflow:From /usr/local/lib/python3.5/dist-packages/tensorflow/contrib/learn/python/learn/datasets/base.py:198: retry (from tensorflow.contrib.learn.python.learn.datasets.base) is deprecated and will be removed in a future version.\n",
      "Instructions for updating:\n",
      "Use the retry module or similar alternatives.\n"
     ]
    }
   ],
   "source": [
    "# Setting tensorbord callback\n",
    "logdir = os.path.join(os.getcwd(), \"logs\")\n",
    "tensorboard_callback = TensorBoard(\n",
    "    log_dir=logdir,\n",
    "    histogram_freq=0,\n",
    "    write_graph=True,\n",
    "    write_images=False)"
   ]
  },
  {
   "cell_type": "code",
   "execution_count": 16,
   "metadata": {
    "ExecuteTime": {
     "end_time": "2018-05-23T20:10:48.769532Z",
     "start_time": "2018-05-23T20:10:48.763557Z"
    }
   },
   "outputs": [],
   "source": [
    "checkfile = os.path.join(os.getcwd(), \"scorn_weights.h5\")\n",
    "checkpoint = ModelCheckpoint(\n",
    "    filepath=checkfile,\n",
    "    verbose=1,\n",
    "    save_best_only=True)"
   ]
  },
  {
   "cell_type": "code",
   "execution_count": 17,
   "metadata": {
    "ExecuteTime": {
     "end_time": "2018-05-23T20:10:48.934037Z",
     "start_time": "2018-05-23T20:10:48.924825Z"
    }
   },
   "outputs": [],
   "source": [
    "callbacks_list = [checkpoint, tensorboard_callback]"
   ]
  },
  {
   "cell_type": "markdown",
   "metadata": {},
   "source": [
    "## Fake Data"
   ]
  },
  {
   "cell_type": "code",
   "execution_count": null,
   "metadata": {
    "ExecuteTime": {
     "start_time": "2018-05-23T20:10:54.049Z"
    }
   },
   "outputs": [
    {
     "name": "stdout",
     "output_type": "stream",
     "text": [
      "Train on 1600 samples, validate on 400 samples\n",
      "Epoch 1/5\n",
      "  10/1600 [..............................] - ETA: 1:37:41 - loss: 0.3169"
     ]
    }
   ],
   "source": [
    "scorn_model.fit(noisy_movies,\n",
    "                shifted_movies,\n",
    "                batch_size=10,\n",
    "                epochs=5,\n",
    "                validation_split=0.2)"
   ]
  },
  {
   "cell_type": "markdown",
   "metadata": {
    "heading_collapsed": true
   },
   "source": [
    "## Real Data"
   ]
  },
  {
   "cell_type": "code",
   "execution_count": 63,
   "metadata": {
    "ExecuteTime": {
     "end_time": "2018-05-17T19:56:29.077693Z",
     "start_time": "2018-05-17T19:56:29.067107Z"
    },
    "hidden": true
   },
   "outputs": [
    {
     "name": "stdout",
     "output_type": "stream",
     "text": [
      "Total samples: 839\n",
      "Train samples: 558\n",
      "Test samples: 281\n"
     ]
    }
   ],
   "source": [
    "length = X.shape[1]\n",
    "train_len = 2 * (length // 3)\n",
    "test_len = length - train_len\n",
    "print('Total samples: {}'.format(length))\n",
    "print('Train samples: {}'.format(train_len))\n",
    "print('Test samples: {}'.format(test_len))"
   ]
  },
  {
   "cell_type": "code",
   "execution_count": 64,
   "metadata": {
    "ExecuteTime": {
     "end_time": "2018-05-17T19:56:33.023786Z",
     "start_time": "2018-05-17T19:56:33.018262Z"
    },
    "hidden": true
   },
   "outputs": [],
   "source": [
    "X_train = X[:, :train_len, :, :, :]\n",
    "X_test = X[:, train_len:, :, :, :]"
   ]
  },
  {
   "cell_type": "code",
   "execution_count": 65,
   "metadata": {
    "ExecuteTime": {
     "end_time": "2018-05-17T19:56:33.643520Z",
     "start_time": "2018-05-17T19:56:33.636753Z"
    },
    "hidden": true
   },
   "outputs": [
    {
     "name": "stdout",
     "output_type": "stream",
     "text": [
      "(1, 839, 60, 150, 1)\n",
      "(1, 558, 60, 150, 1)\n",
      "(1, 281, 60, 150, 1)\n"
     ]
    }
   ],
   "source": [
    "print(X.shape)\n",
    "print(X_train.shape)\n",
    "print(X_test.shape)"
   ]
  },
  {
   "cell_type": "code",
   "execution_count": null,
   "metadata": {
    "ExecuteTime": {
     "start_time": "2018-05-17T19:56:43.278Z"
    },
    "hidden": true
   },
   "outputs": [
    {
     "name": "stdout",
     "output_type": "stream",
     "text": [
      "Epoch 1/1\n"
     ]
    }
   ],
   "source": [
    "scorn_model.fit(X_train,\n",
    "                X_test,\n",
    "                #X_test,\n",
    "                callbacks=callbacks_list)"
   ]
  },
  {
   "cell_type": "code",
   "execution_count": null,
   "metadata": {
    "ExecuteTime": {
     "end_time": "2018-05-16T20:31:40.235882Z",
     "start_time": "2018-05-16T20:31:39.725749Z"
    },
    "hidden": true
   },
   "outputs": [],
   "source": [
    "scorn_model.save('scorn_model.h5')"
   ]
  },
  {
   "cell_type": "markdown",
   "metadata": {},
   "source": [
    "# Evaluate"
   ]
  },
  {
   "cell_type": "markdown",
   "metadata": {
    "heading_collapsed": true
   },
   "source": [
    "## Fake Data"
   ]
  },
  {
   "cell_type": "code",
   "execution_count": 42,
   "metadata": {
    "ExecuteTime": {
     "end_time": "2018-05-17T19:30:54.925561Z",
     "start_time": "2018-05-17T19:30:45.812950Z"
    },
    "hidden": true
   },
   "outputs": [],
   "source": [
    "# Testing the network on one movie\n",
    "# feed it with the first 7 positions and then\n",
    "# predict the new positions\n",
    "which = 10\n",
    "n_frames = noisy_movies[which].shape[0]\n",
    "track = noisy_movies[which][:7, ::, ::, ::]\n",
    "for j in range(n_frames):\n",
    "    new_pos = scorn_model.predict(track[np.newaxis, ::, ::, ::, ::])\n",
    "    new = new_pos[::, -1, ::, ::, ::]\n",
    "    track = np.concatenate((track, new), axis=0)"
   ]
  },
  {
   "cell_type": "code",
   "execution_count": 45,
   "metadata": {
    "ExecuteTime": {
     "end_time": "2018-05-17T19:31:59.939532Z",
     "start_time": "2018-05-17T19:31:51.289275Z"
    },
    "hidden": true,
    "scrolled": false
   },
   "outputs": [
    {
     "data": {
      "image/png": "[encoded data removed]",
      "text/plain": [
       "<Figure size 720x360 with 2 Axes>"
      ]
     },
     "metadata": {},
     "output_type": "display_data"
    },
    {
     "data": {
      "image/png": "[encoded data removed]",
      "text/plain": [
       "<Figure size 720x360 with 2 Axes>"
      ]
     },
     "metadata": {},
     "output_type": "display_data"
    },
    {
     "data": {
      "image/png": "[encoded data removed]",
      "text/plain": [
       "<Figure size 720x360 with 2 Axes>"
      ]
     },
     "metadata": {},
     "output_type": "display_data"
    },
    {
     "data": {
      "image/png": "[encoded data removed]",
      "text/plain": [
       "<Figure size 720x360 with 2 Axes>"
      ]
     },
     "metadata": {},
     "output_type": "display_data"
    },
    {
     "data": {
      "image/png": "[encoded data removed]",
      "text/plain": [
       "<Figure size 720x360 with 2 Axes>"
      ]
     },
     "metadata": {},
     "output_type": "display_data"
    },
    {
     "data": {
      "image/png": "[encoded data removed]",
      "text/plain": [
       "<Figure size 720x360 with 2 Axes>"
      ]
     },
     "metadata": {},
     "output_type": "display_data"
    },
    {
     "data": {
      "image/png": "[encoded data removed]",
      "text/plain": [
       "<Figure size 720x360 with 2 Axes>"
      ]
     },
     "metadata": {},
     "output_type": "display_data"
    },
    {
     "data": {
      "image/png": "[encoded data removed]",
      "text/plain": [
       "<Figure size 720x360 with 2 Axes>"
      ]
     },
     "metadata": {},
     "output_type": "display_data"
    },
    {
     "data": {
      "image/png": "[encoded data removed]",
      "text/plain": [
       "<Figure size 720x360 with 2 Axes>"
      ]
     },
     "metadata": {},
     "output_type": "display_data"
    },
    {
     "data": {
      "image/png": "[encoded data removed]",
      "text/plain": [
       "<Figure size 720x360 with 2 Axes>"
      ]
     },
     "metadata": {},
     "output_type": "display_data"
    },
    {
     "data": {
      "image/png": "[encoded data removed]",
      "text/plain": [
       "<Figure size 720x360 with 2 Axes>"
      ]
     },
     "metadata": {},
     "output_type": "display_data"
    },
    {
     "data": {
      "image/png": "[encoded data removed]",
      "text/plain": [
       "<Figure size 720x360 with 2 Axes>"
      ]
     },
     "metadata": {},
     "output_type": "display_data"
    },
    {
     "data": {
      "image/png": "[encoded data removed]",
      "text/plain": [
       "<Figure size 720x360 with 2 Axes>"
      ]
     },
     "metadata": {},
     "output_type": "display_data"
    },
    {
     "data": {
      "image/png": "[encoded data removed]",
      "text/plain": [
       "<Figure size 720x360 with 2 Axes>"
      ]
     },
     "metadata": {},
     "output_type": "display_data"
    },
    {
     "data": {
      "image/png": "[encoded data removed]",
      "text/plain": [
       "<Figure size 720x360 with 2 Axes>"
      ]
     },
     "metadata": {},
     "output_type": "display_data"
    }
   ],
   "source": [
    "# And then compare the predictions\n",
    "# to the ground truth\n",
    "track2 = noisy_movies[which][::, ::, ::, ::]\n",
    "for i in range(n_frames):\n",
    "    fig = plt.figure(figsize=(10, 5))\n",
    "\n",
    "    ax = fig.add_subplot(121)\n",
    "\n",
    "    if i >= 7:\n",
    "        ax.text(1, 3, 'Predictions !', fontsize=20, color='w')\n",
    "    else:\n",
    "        ax.text(1, 3, 'Initial trajectory', fontsize=20, color='w')\n",
    "\n",
    "    toplot = track[i, ::, ::, 0]\n",
    "\n",
    "    plt.imshow(toplot, cmap='jet')\n",
    "    ax = fig.add_subplot(122)\n",
    "    plt.text(1, 3, 'Ground truth', fontsize=20, color='w')\n",
    "\n",
    "    toplot = track2[i, ::, ::, 0]\n",
    "    if i >= 2:\n",
    "        toplot = shifted_movies[which][i - 1, ::, ::, 0]\n",
    "\n",
    "    plt.imshow(toplot, cmap='jet')\n",
    "    plt.savefig('data/{:02d}_fake_animate.png'.format(i))"
   ]
  },
  {
   "cell_type": "code",
   "execution_count": 36,
   "metadata": {
    "ExecuteTime": {
     "end_time": "2018-05-17T18:29:51.919305Z",
     "start_time": "2018-05-17T18:29:51.593634Z"
    },
    "hidden": true
   },
   "outputs": [
    {
     "name": "stderr",
     "output_type": "stream",
     "text": [
      "WARNING:root:IMAGEIO FFMPEG_WRITER WARNING: input image is not divisible by macro_block_size=16, resizing from (40, 40) to (48, 48) to ensure video compatibility with most codecs and players. To prevent resizing, make your input image divisible by the macro_block_size or set the macro_block_size to None (risking incompatibility). You may also see a FFMPEG warning concerning speedloss due to data not being aligned.\n"
     ]
    }
   ],
   "source": [
    "# save movies\n",
    "output_video = 'data/fake_predictions.mp4'\n",
    "filename_pattern = os.path.join(os.curdir, 'data/', '*fake_animate*.png')\n",
    "filenames = sorted(glob.glob(filename_pattern))\n",
    "with imageio.get_writer(output_video) as writer:\n",
    "    for movie in noisy_movies:\n",
    "        for frame in movie:\n",
    "            writer.append_data(frame[:,:,0])"
   ]
  },
  {
   "cell_type": "markdown",
   "metadata": {
    "heading_collapsed": true
   },
   "source": [
    "## Real Data"
   ]
  },
  {
   "cell_type": "code",
   "execution_count": null,
   "metadata": {
    "ExecuteTime": {
     "end_time": "2018-05-16T17:32:45.226621Z",
     "start_time": "2018-05-16T17:32:13.042951Z"
    },
    "hidden": true
   },
   "outputs": [],
   "source": [
    "# Testing the network on one movie\n",
    "# feed it with the first 7 positions and then\n",
    "# predict the new positions\n",
    "which = 0\n",
    "pred_frames = 2\n",
    "n_frames = X_train[which].shape[0]\n",
    "track = X_train[which][:pred_frames, ::, ::, ::]\n",
    "for j in range(n_frames):\n",
    "    new_pos = scorn_model.predict(track[np.newaxis, ::, ::, ::, ::])\n",
    "    new = new_pos[::, -1, ::, ::, ::]\n",
    "    track = np.concatenate((track, new), axis=0)"
   ]
  },
  {
   "cell_type": "code",
   "execution_count": null,
   "metadata": {
    "ExecuteTime": {
     "end_time": "2018-05-16T17:39:45.972509Z",
     "start_time": "2018-05-16T17:39:43.379466Z"
    },
    "hidden": true,
    "scrolled": false
   },
   "outputs": [],
   "source": [
    "# And then compare the predictions\n",
    "# to the ground truth\n",
    "track2 = X_train[which][::, ::, ::, ::]\n",
    "for i in range(n_frames):\n",
    "    fig = plt.figure(figsize=(10, 5))\n",
    "\n",
    "    ax = fig.add_subplot(121)\n",
    "\n",
    "    if i >= pred_frames:\n",
    "        ax.text(1, 3, 'Predictions', fontsize=10, color='r')\n",
    "    else:\n",
    "        ax.text(1, 3, 'Initial State', fontsize=10, color='b')\n",
    "\n",
    "    toplot = track[i, ::, ::, 0]\n",
    "\n",
    "    plt.imshow(toplot, cmap='gray')\n",
    "    ax = fig.add_subplot(122)\n",
    "    plt.text(1, 3, 'Ground Truth', fontsize=10, color='g')\n",
    "\n",
    "    toplot = track2[i, ::, ::, 0]\n",
    "    if i >= 2:\n",
    "        # TODO: below should be X_test, not X_train\n",
    "        toplot = X_train[which][i - 1, ::, ::, 0]\n",
    "\n",
    "    plt.imshow(toplot, cmap='gray')\n",
    "    plt.savefig('data/{:02d}_real_animate.png'.format(i))"
   ]
  },
  {
   "cell_type": "code",
   "execution_count": null,
   "metadata": {
    "ExecuteTime": {
     "end_time": "2018-05-16T17:40:50.734795Z",
     "start_time": "2018-05-16T17:40:50.532738Z"
    },
    "hidden": true
   },
   "outputs": [],
   "source": [
    "# save movies\n",
    "output_video = 'data/real_predictions.mp4'\n",
    "filename_pattern = os.path.join(os.curdir, 'data/', '*real_animate*.png')\n",
    "filenames = sorted(glob.glob(filename_pattern))\n",
    "with imageio.get_writer(output_video) as writer:\n",
    "    for movie in X_train:\n",
    "        for frame in movie:\n",
    "            writer.append_data(frame[:,:,0])"
   ]
  },
  {
   "cell_type": "markdown",
   "metadata": {
    "heading_collapsed": true
   },
   "source": [
    "# Deprecated"
   ]
  },
  {
   "cell_type": "raw",
   "metadata": {
    "hidden": true
   },
   "source": [
    "def process_frame(image_path, scale=None):\n",
    "    img = cv2.imread(image_path, 0)\n",
    "    img_height, img_width = img.shape\n",
    "    if scale:\n",
    "        img_width //= scale\n",
    "        img_height //= scale\n",
    "    print('Final image size: {} (w) x {} (h)'.format(img_width, img_height))\n",
    "    img = cv2.resize(img, (img_width, img_height), interpolation=cv2.INTER_AREA)\n",
    "    img = img / 255\n",
    "    return img"
   ]
  },
  {
   "cell_type": "raw",
   "metadata": {
    "hidden": true
   },
   "source": [
    "scale = 2\n",
    "imgfile = os.path.join(traindir, '2018', 'scrn_sequence_2018-01-01.png')\n",
    "img = Image.open(imgfile)\n",
    "img_width, img_height = img.size\n",
    "img_width //= scale\n",
    "img_height //= scale"
   ]
  },
  {
   "cell_type": "raw",
   "metadata": {
    "hidden": true
   },
   "source": [
    "datadir = '/mnt/hgfs/vmshare/gis-data/scrn/prod/learning/'\n",
    "traindir = os.path.join(datadir, 'train/')\n",
    "cvdir = os.path.join(datadir, 'cv/')\n",
    "testdir = os.path.join(datadir, 'test/')\n",
    "\n",
    "train_datagen = ImageDataGenerator(\n",
    "    rescale=1. / 255,\n",
    "    shear_range=0.2,\n",
    "    zoom_range=0.2,\n",
    "    horizontal_flip=True)\n",
    "cv_datagen = ImageDataGenerator(\n",
    "    rescale=1. / 255,\n",
    "    shear_range=0.2,\n",
    "    zoom_range=0.2,\n",
    "    horizontal_flip=True)\n",
    "test_datagen = ImageDataGenerator(\n",
    "    rescale=1. / 255)"
   ]
  },
  {
   "cell_type": "raw",
   "metadata": {
    "hidden": true
   },
   "source": [
    "# set the batch sizes\n",
    "batch_size = 10000\n",
    "\n",
    "train_generator = train_datagen.flow_from_directory(\n",
    "    traindir,\n",
    "    target_size=(img_width, img_height),\n",
    "    class_mode='categorical',\n",
    "    shuffle=True,\n",
    "    color_mode='grayscale',\n",
    "    batch_size=batch_size)\n",
    "\n",
    "cv_generator = cv_datagen.flow_from_directory(\n",
    "    cvdir,\n",
    "    target_size=(img_width, img_height),\n",
    "    class_mode='categorical',\n",
    "    color_mode='grayscale',\n",
    "    shuffle=False,\n",
    "    batch_size=batch_size)\n",
    "\n",
    "test_generator = test_datagen.flow_from_directory(\n",
    "    testdir,\n",
    "    target_size=(img_width, img_height),\n",
    "    class_mode='categorical',\n",
    "    color_mode='grayscale',\n",
    "    shuffle=False,\n",
    "    batch_size=batch_size)"
   ]
  },
  {
   "cell_type": "markdown",
   "metadata": {
    "hidden": true
   },
   "source": [
    "Still cannot figure out adding the [num_frames dim to the generator](https://stackoverflow.com/questions/44023976/error-with-cnnrnn-expected-to-have-x-arguments-but-got-32-64-64-3)"
   ]
  },
  {
   "cell_type": "raw",
   "metadata": {
    "hidden": true
   },
   "source": [
    "nb_train_samples = len(train_generator.filenames)\n",
    "nb_cv_samples = len(cv_generator.filenames)\n",
    "epochs = 2\n",
    "\n",
    "scorn_model.fit_generator(\n",
    "    train_generator,\n",
    "    epochs=5,\n",
    "    use_multiprocessing=True,\n",
    "    validation_data=cv_generator,\n",
    "    callbacks=callbacks_list)"
   ]
  },
  {
   "cell_type": "markdown",
   "metadata": {
    "heading_collapsed": true
   },
   "source": [
    "# Technique Questions"
   ]
  },
  {
   "cell_type": "markdown",
   "metadata": {
    "hidden": true
   },
   "source": [
    "## Q: Is Keras' internal img functions the same as the manual ones above?\n",
    "\n",
    "A: Slightly, not enough to be meanginful"
   ]
  },
  {
   "cell_type": "code",
   "execution_count": null,
   "metadata": {
    "ExecuteTime": {
     "end_time": "2018-05-16T20:15:07.184281Z",
     "start_time": "2018-05-16T20:15:07.179265Z"
    },
    "hidden": true
   },
   "outputs": [],
   "source": [
    "from keras.preprocessing import image as keras_image"
   ]
  },
  {
   "cell_type": "code",
   "execution_count": null,
   "metadata": {
    "ExecuteTime": {
     "end_time": "2018-05-16T20:15:08.156280Z",
     "start_time": "2018-05-16T20:15:08.148318Z"
    },
    "hidden": true
   },
   "outputs": [],
   "source": [
    "imagefile = '/mnt/hgfs/vmshare/gis-data/scrn/prod/learning/train/2018/scrn_sequence_2018-02-21.png'"
   ]
  },
  {
   "cell_type": "code",
   "execution_count": null,
   "metadata": {
    "ExecuteTime": {
     "end_time": "2018-05-16T20:17:00.603714Z",
     "start_time": "2018-05-16T20:17:00.578132Z"
    },
    "hidden": true
   },
   "outputs": [],
   "source": [
    "a = keras_image.load_img(\n",
    "    imagefile,\n",
    "    grayscale=True,\n",
    "    target_size=None,\n",
    "    interpolation='nearest'\n",
    ")\n",
    "a = keras_image.img_to_array(a)\n",
    "a /= 255"
   ]
  },
  {
   "cell_type": "code",
   "execution_count": null,
   "metadata": {
    "ExecuteTime": {
     "end_time": "2018-05-16T20:16:55.410499Z",
     "start_time": "2018-05-16T20:16:55.393942Z"
    },
    "hidden": true
   },
   "outputs": [],
   "source": [
    "b = process_frame(imagefile)\n",
    "b = np.expand_dims(b, axis=3)"
   ]
  },
  {
   "cell_type": "code",
   "execution_count": null,
   "metadata": {
    "ExecuteTime": {
     "end_time": "2018-05-16T20:16:56.162084Z",
     "start_time": "2018-05-16T20:16:56.154042Z"
    },
    "hidden": true
   },
   "outputs": [],
   "source": [
    "print(a.shape)\n",
    "print(b.shape)"
   ]
  },
  {
   "cell_type": "code",
   "execution_count": null,
   "metadata": {
    "ExecuteTime": {
     "end_time": "2018-05-16T20:12:36.406097Z",
     "start_time": "2018-05-16T20:12:36.401235Z"
    },
    "hidden": true
   },
   "outputs": [],
   "source": [
    "diff = a - b"
   ]
  },
  {
   "cell_type": "code",
   "execution_count": null,
   "metadata": {
    "ExecuteTime": {
     "end_time": "2018-05-16T20:12:37.165567Z",
     "start_time": "2018-05-16T20:12:37.156351Z"
    },
    "hidden": true
   },
   "outputs": [],
   "source": [
    "diff.sum()"
   ]
  },
  {
   "cell_type": "code",
   "execution_count": null,
   "metadata": {
    "hidden": true
   },
   "outputs": [],
   "source": []
  },
  {
   "cell_type": "markdown",
   "metadata": {
    "heading_collapsed": true
   },
   "source": [
    "# Scratch"
   ]
  },
  {
   "cell_type": "code",
   "execution_count": null,
   "metadata": {
    "hidden": true
   },
   "outputs": [],
   "source": []
  }
 ],
 "metadata": {
  "kernelspec": {
   "display_name": "Python 3",
   "language": "python",
   "name": "python3"
  },
  "language_info": {
   "codemirror_mode": {
    "name": "ipython",
    "version": 3
   },
   "file_extension": ".py",
   "mimetype": "text/x-python",
   "name": "python",
   "nbconvert_exporter": "python",
   "pygments_lexer": "ipython3",
   "version": "3.5.2"
  },
  "toc": {
   "nav_menu": {},
   "number_sections": true,
   "sideBar": true,
   "skip_h1_title": false,
   "title_cell": "Table of Contents",
   "title_sidebar": "Contents",
   "toc_cell": false,
   "toc_position": {},
   "toc_section_display": true,
   "toc_window_display": false
  },
  "varInspector": {
   "cols": {
    "lenName": 16,
    "lenType": 16,
    "lenVar": 40
   },
   "kernels_config": {
    "python": {
     "delete_cmd_postfix": "",
     "delete_cmd_prefix": "del ",
     "library": "var_list.py",
     "varRefreshCmd": "print(var_dic_list())"
    },
    "r": {
     "delete_cmd_postfix": ") ",
     "delete_cmd_prefix": "rm(",
     "library": "var_list.r",
     "varRefreshCmd": "cat(var_dic_list()) "
    }
   },
   "types_to_exclude": [
    "module",
    "function",
    "builtin_function_or_method",
    "instance",
    "_Feature"
   ],
   "window_display": false
  }
 },
 "nbformat": 4,
 "nbformat_minor": 2
}
